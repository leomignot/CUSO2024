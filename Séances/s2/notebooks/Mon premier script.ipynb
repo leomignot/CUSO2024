{
 "cells": [
  {
   "cell_type": "markdown",
   "id": "cb98a7a4-284d-4bf1-b718-db1295ebe871",
   "metadata": {},
   "source": [
    "# Dissection d'un script"
   ]
  },
  {
   "cell_type": "code",
   "execution_count": 141,
   "id": "a54dd69a-3f70-4fe9-b5b3-283befba34c9",
   "metadata": {},
   "outputs": [
    {
     "ename": "KeyboardInterrupt",
     "evalue": "Interrupted by user",
     "output_type": "error",
     "traceback": [
      "\u001b[0;31m---------------------------------------------------------------------------\u001b[0m",
      "\u001b[0;31mKeyboardInterrupt\u001b[0m                         Traceback (most recent call last)",
      "Cell \u001b[0;32mIn[141], line 3\u001b[0m\n\u001b[1;32m      1\u001b[0m sortie_fichier \u001b[38;5;241m=\u001b[39m \u001b[38;5;28;01mFalse\u001b[39;00m \u001b[38;5;66;03m# créer une nouvelle variable booléenne (bool)\u001b[39;00m\n\u001b[1;32m      2\u001b[0m nombre_min_lettres \u001b[38;5;241m=\u001b[39m \u001b[38;5;241m5\u001b[39m \u001b[38;5;66;03m# créer une nouvelle variable entière (int)\u001b[39;00m\n\u001b[0;32m----> 3\u001b[0m phrase \u001b[38;5;241m=\u001b[39m \u001b[38;5;28minput\u001b[39m(\u001b[38;5;124m\"\u001b[39m\u001b[38;5;124mÉcrivez une phrase: \u001b[39m\u001b[38;5;124m\"\u001b[39m) \u001b[38;5;66;03m# récupère un texte de l'utilisateur et crée une variable\u001b[39;00m\n\u001b[1;32m      4\u001b[0m liste_mots \u001b[38;5;241m=\u001b[39m phrase\u001b[38;5;241m.\u001b[39msplit(\u001b[38;5;124m\"\u001b[39m\u001b[38;5;124m \u001b[39m\u001b[38;5;124m\"\u001b[39m) \u001b[38;5;66;03m# couper le texte aux espaces pour avoir une liste de mots\u001b[39;00m\n\u001b[1;32m      5\u001b[0m nombre_mots \u001b[38;5;241m=\u001b[39m \u001b[38;5;28mlen\u001b[39m(liste_mots) \u001b[38;5;66;03m# récupérer le nombre d'éléments de la liste avec len\u001b[39;00m\n",
      "File \u001b[0;32m/opt/anaconda3/lib/python3.11/site-packages/ipykernel/kernelbase.py:1262\u001b[0m, in \u001b[0;36mKernel.raw_input\u001b[0;34m(self, prompt)\u001b[0m\n\u001b[1;32m   1260\u001b[0m     msg \u001b[38;5;241m=\u001b[39m \u001b[38;5;124m\"\u001b[39m\u001b[38;5;124mraw_input was called, but this frontend does not support input requests.\u001b[39m\u001b[38;5;124m\"\u001b[39m\n\u001b[1;32m   1261\u001b[0m     \u001b[38;5;28;01mraise\u001b[39;00m StdinNotImplementedError(msg)\n\u001b[0;32m-> 1262\u001b[0m \u001b[38;5;28;01mreturn\u001b[39;00m \u001b[38;5;28mself\u001b[39m\u001b[38;5;241m.\u001b[39m_input_request(\n\u001b[1;32m   1263\u001b[0m     \u001b[38;5;28mstr\u001b[39m(prompt),\n\u001b[1;32m   1264\u001b[0m     \u001b[38;5;28mself\u001b[39m\u001b[38;5;241m.\u001b[39m_parent_ident[\u001b[38;5;124m\"\u001b[39m\u001b[38;5;124mshell\u001b[39m\u001b[38;5;124m\"\u001b[39m],\n\u001b[1;32m   1265\u001b[0m     \u001b[38;5;28mself\u001b[39m\u001b[38;5;241m.\u001b[39mget_parent(\u001b[38;5;124m\"\u001b[39m\u001b[38;5;124mshell\u001b[39m\u001b[38;5;124m\"\u001b[39m),\n\u001b[1;32m   1266\u001b[0m     password\u001b[38;5;241m=\u001b[39m\u001b[38;5;28;01mFalse\u001b[39;00m,\n\u001b[1;32m   1267\u001b[0m )\n",
      "File \u001b[0;32m/opt/anaconda3/lib/python3.11/site-packages/ipykernel/kernelbase.py:1305\u001b[0m, in \u001b[0;36mKernel._input_request\u001b[0;34m(self, prompt, ident, parent, password)\u001b[0m\n\u001b[1;32m   1302\u001b[0m \u001b[38;5;28;01mexcept\u001b[39;00m \u001b[38;5;167;01mKeyboardInterrupt\u001b[39;00m:\n\u001b[1;32m   1303\u001b[0m     \u001b[38;5;66;03m# re-raise KeyboardInterrupt, to truncate traceback\u001b[39;00m\n\u001b[1;32m   1304\u001b[0m     msg \u001b[38;5;241m=\u001b[39m \u001b[38;5;124m\"\u001b[39m\u001b[38;5;124mInterrupted by user\u001b[39m\u001b[38;5;124m\"\u001b[39m\n\u001b[0;32m-> 1305\u001b[0m     \u001b[38;5;28;01mraise\u001b[39;00m \u001b[38;5;167;01mKeyboardInterrupt\u001b[39;00m(msg) \u001b[38;5;28;01mfrom\u001b[39;00m \u001b[38;5;28;01mNone\u001b[39;00m\n\u001b[1;32m   1306\u001b[0m \u001b[38;5;28;01mexcept\u001b[39;00m \u001b[38;5;167;01mException\u001b[39;00m:\n\u001b[1;32m   1307\u001b[0m     \u001b[38;5;28mself\u001b[39m\u001b[38;5;241m.\u001b[39mlog\u001b[38;5;241m.\u001b[39mwarning(\u001b[38;5;124m\"\u001b[39m\u001b[38;5;124mInvalid Message:\u001b[39m\u001b[38;5;124m\"\u001b[39m, exc_info\u001b[38;5;241m=\u001b[39m\u001b[38;5;28;01mTrue\u001b[39;00m)\n",
      "\u001b[0;31mKeyboardInterrupt\u001b[0m: Interrupted by user"
     ]
    }
   ],
   "source": [
    "sortie_fichier = False # créer une nouvelle variable booléenne (bool)\n",
    "nombre_min_lettres = 5 # créer une nouvelle variable entière (int)\n",
    "phrase = input(\"Écrivez une phrase: \") # récupère un texte de l'utilisateur et crée une variable\n",
    "liste_mots = phrase.split(\" \") # couper le texte aux espaces pour avoir une liste de mots\n",
    "nombre_mots = len(liste_mots) # récupérer le nombre d'éléments de la liste avec len\n",
    "if len(phrase) == 0: # on teste si la longueur de la phrase est nulle\n",
    "    print(\"Vous n'avez rien écrit\") # si oui, on affiche un texte\n",
    "else: # si la valeur n'est pas nulle\n",
    "    compteur = 0 # on crée une variable compteur initialisée à 0\n",
    "    for i in liste_mots: # pour chaque élément de la liste\n",
    "        if len(i) >= nombre_min_lettres: # si la taille de l'élément est plus grand qu'un seuil\n",
    "            compteur+=1 # on augmente le compteur\n",
    "    proportion = round(100*compteur/nombre_mots,2) # on calcule la proportion\n",
    "    informations = {\"Total\":compteur,\"Proportion\":proportion, # Mise en forme des données\n",
    "                   \"Phrase\":phrase,\"Seuil\":nombre_min_lettres}\n",
    "    sortie = f\"Proportion de mots avec {nombre_min_lettres} \\\n",
    "               lettres ou plus : {proportion}\" # Mise en forme de la sortie\n",
    "    print(sortie) # Affichage de la sortie avec print\n",
    "    if sortie_fichier: # si la variable est vraie\n",
    "        with open(\"resultat.txt\",\"w\") as f: # Écrire un fichier\n",
    "            f.write(str(informations)) # Mettre le dictionnaire comme chaine de caractères"
   ]
  },
  {
   "cell_type": "markdown",
   "id": "96391dbf-3227-4a2c-89da-26734cc1eb8a",
   "metadata": {},
   "source": [
    "## Ligne 1"
   ]
  },
  {
   "cell_type": "code",
   "execution_count": 7,
   "id": "4c9e4edf-2dbf-43bd-a995-6ea64341bbce",
   "metadata": {},
   "outputs": [],
   "source": [
    "sortie_fichier = True"
   ]
  },
  {
   "cell_type": "markdown",
   "id": "dda861db-a465-469b-8dfc-8111266067dd",
   "metadata": {},
   "source": [
    "On crée une variable/objet et on donne la valeur True (vrai)"
   ]
  },
  {
   "cell_type": "code",
   "execution_count": 4,
   "id": "3706cd51-718b-4dc5-9345-527d458b4ce8",
   "metadata": {},
   "outputs": [],
   "source": [
    "Tentative_2 = False"
   ]
  },
  {
   "cell_type": "code",
   "execution_count": 5,
   "id": "c488ae9e-a3b3-48ca-a533-eb55b01e4bb3",
   "metadata": {},
   "outputs": [
    {
     "ename": "NameError",
     "evalue": "name 'tentative_2' is not defined",
     "output_type": "error",
     "traceback": [
      "\u001b[0;31m---------------------------------------------------------------------------\u001b[0m",
      "\u001b[0;31mNameError\u001b[0m                                 Traceback (most recent call last)",
      "Cell \u001b[0;32mIn[5], line 1\u001b[0m\n\u001b[0;32m----> 1\u001b[0m tentative_2\n",
      "\u001b[0;31mNameError\u001b[0m: name 'tentative_2' is not defined"
     ]
    }
   ],
   "source": [
    "tentative_2"
   ]
  },
  {
   "cell_type": "markdown",
   "id": "c692acef-a139-4421-b33e-f06041cff436",
   "metadata": {},
   "source": [
    "Comment savoir de quelle nature est un objet ?"
   ]
  },
  {
   "cell_type": "code",
   "execution_count": 8,
   "id": "1c9f06a0-fa12-4147-bb3e-02acf1c9397a",
   "metadata": {
    "scrolled": true
   },
   "outputs": [
    {
     "data": {
      "text/plain": [
       "bool"
      ]
     },
     "execution_count": 8,
     "metadata": {},
     "output_type": "execute_result"
    }
   ],
   "source": [
    "type(sortie_fichier)"
   ]
  },
  {
   "cell_type": "markdown",
   "id": "4e5c543d-2f57-41c0-943c-9b7e24a93d93",
   "metadata": {},
   "source": [
    "La fonction type qui permet de renvoyer le type d'un objet python"
   ]
  },
  {
   "cell_type": "markdown",
   "id": "df8e2ec2-58ff-437c-a600-59705d915ac6",
   "metadata": {},
   "source": [
    "## Ligne 2"
   ]
  },
  {
   "cell_type": "code",
   "execution_count": 9,
   "id": "b75c7a44-c752-4c69-9877-e2fa6dd754a6",
   "metadata": {},
   "outputs": [],
   "source": [
    "nombre_min_lettres = 4 "
   ]
  },
  {
   "cell_type": "code",
   "execution_count": 10,
   "id": "eb5700fb-24b3-48db-9751-5f75a0672bf6",
   "metadata": {},
   "outputs": [
    {
     "data": {
      "text/plain": [
       "4"
      ]
     },
     "execution_count": 10,
     "metadata": {},
     "output_type": "execute_result"
    }
   ],
   "source": [
    "nombre_min_lettres"
   ]
  },
  {
   "cell_type": "code",
   "execution_count": 12,
   "id": "5bc95705-0528-4724-bea5-32ab0aa4e505",
   "metadata": {},
   "outputs": [
    {
     "data": {
      "text/plain": [
       "int"
      ]
     },
     "execution_count": 12,
     "metadata": {},
     "output_type": "execute_result"
    }
   ],
   "source": [
    "type(nombre_min_lettres)"
   ]
  },
  {
   "cell_type": "code",
   "execution_count": 14,
   "id": "886a600d-002c-4dba-9471-a80bb40b776d",
   "metadata": {},
   "outputs": [
    {
     "data": {
      "text/plain": [
       "14"
      ]
     },
     "execution_count": 14,
     "metadata": {},
     "output_type": "execute_result"
    }
   ],
   "source": [
    "nombre_min_lettres + 10"
   ]
  },
  {
   "cell_type": "code",
   "execution_count": 15,
   "id": "c3187c2a-a70f-4c4c-8fc6-ea3642c47e34",
   "metadata": {},
   "outputs": [
    {
     "data": {
      "text/plain": [
       "11"
      ]
     },
     "execution_count": 15,
     "metadata": {},
     "output_type": "execute_result"
    }
   ],
   "source": [
    "True + 10"
   ]
  },
  {
   "cell_type": "raw",
   "id": "6841a1fb-85e2-4536-80d6-920da78e37a2",
   "metadata": {},
   "source": [
    "tr"
   ]
  },
  {
   "cell_type": "markdown",
   "id": "171ba7e0-a884-41e3-8357-76ce4ebc5d48",
   "metadata": {},
   "source": [
    "true"
   ]
  },
  {
   "cell_type": "markdown",
   "id": "eedb3b7d-d0c7-41d2-b4a8-31581f5fc813",
   "metadata": {},
   "source": [
    "## Ligne 3"
   ]
  },
  {
   "cell_type": "code",
   "execution_count": 24,
   "id": "ee29e340-70fa-41c8-bad6-7752c8a060e7",
   "metadata": {},
   "outputs": [
    {
     "name": "stdin",
     "output_type": "stream",
     "text": [
      "Écrivez une phrase:  Mon texte est là\n"
     ]
    }
   ],
   "source": [
    "phrase = input(\"Écrivez une phrase: \")"
   ]
  },
  {
   "cell_type": "markdown",
   "id": "45753ba3-685c-468c-b7a9-8e5c77297a40",
   "metadata": {},
   "source": [
    "Que fait input(\"Écrivez une phrase: \")"
   ]
  },
  {
   "cell_type": "code",
   "execution_count": 18,
   "id": "d8433ea7-4330-45d5-9574-1a4ab76e7d26",
   "metadata": {},
   "outputs": [
    {
     "data": {
      "text/plain": [
       "<bound method Kernel.raw_input of <ipykernel.ipkernel.IPythonKernel object at 0x106533dd0>>"
      ]
     },
     "execution_count": 18,
     "metadata": {},
     "output_type": "execute_result"
    }
   ],
   "source": [
    "input"
   ]
  },
  {
   "cell_type": "code",
   "execution_count": 19,
   "id": "51a4e50d-20e7-4126-86ba-19afb9b7f18f",
   "metadata": {},
   "outputs": [
    {
     "name": "stdin",
     "output_type": "stream",
     "text": [
      " Ceci est un texte\n"
     ]
    },
    {
     "data": {
      "text/plain": [
       "'Ceci est un texte'"
      ]
     },
     "execution_count": 19,
     "metadata": {},
     "output_type": "execute_result"
    }
   ],
   "source": [
    "input()"
   ]
  },
  {
   "cell_type": "code",
   "execution_count": 21,
   "id": "08d325f9-47da-4c43-8232-a0f3afb4bfa2",
   "metadata": {},
   "outputs": [
    {
     "name": "stdin",
     "output_type": "stream",
     "text": [
      "Texte avant Ceci est un texte\n"
     ]
    },
    {
     "data": {
      "text/plain": [
       "'Ceci est un texte'"
      ]
     },
     "execution_count": 21,
     "metadata": {},
     "output_type": "execute_result"
    }
   ],
   "source": [
    "input(\"Texte avant\")"
   ]
  },
  {
   "cell_type": "code",
   "execution_count": 25,
   "id": "ca4b46b4-45dd-45a0-a1aa-3cc21fb1bf4b",
   "metadata": {},
   "outputs": [
    {
     "data": {
      "text/plain": [
       "'Mon texte est là'"
      ]
     },
     "execution_count": 25,
     "metadata": {},
     "output_type": "execute_result"
    }
   ],
   "source": [
    "phrase"
   ]
  },
  {
   "cell_type": "code",
   "execution_count": 26,
   "id": "c4f64f83-5407-4d55-900e-6378b1722c8f",
   "metadata": {},
   "outputs": [
    {
     "data": {
      "text/plain": [
       "str"
      ]
     },
     "execution_count": 26,
     "metadata": {},
     "output_type": "execute_result"
    }
   ],
   "source": [
    "type(phrase)"
   ]
  },
  {
   "cell_type": "code",
   "execution_count": 36,
   "id": "b3fafb77-702f-430a-b0d2-d4a3059b7352",
   "metadata": {},
   "outputs": [
    {
     "name": "stdin",
     "output_type": "stream",
     "text": [
      " zdzdzd\n"
     ]
    }
   ],
   "source": [
    "a = input()"
   ]
  },
  {
   "cell_type": "code",
   "execution_count": 37,
   "id": "53a4efeb-85dd-4cf4-9ce0-e5b299744f0c",
   "metadata": {},
   "outputs": [
    {
     "data": {
      "text/plain": [
       "'zdzdzd'"
      ]
     },
     "execution_count": 37,
     "metadata": {},
     "output_type": "execute_result"
    }
   ],
   "source": [
    "a"
   ]
  },
  {
   "cell_type": "markdown",
   "id": "f5f11bf4-dd8f-4555-9bcc-5b0599ecf865",
   "metadata": {},
   "source": [
    "### Aparté sur les chaines de caractères"
   ]
  },
  {
   "cell_type": "code",
   "execution_count": 27,
   "id": "efa9397a-0cc9-4318-a073-100bd7773087",
   "metadata": {},
   "outputs": [
    {
     "data": {
      "text/plain": [
       "'Ceci est une chaine de caractère'"
      ]
     },
     "execution_count": 27,
     "metadata": {},
     "output_type": "execute_result"
    }
   ],
   "source": [
    "\"Ceci est une chaine de caractère\""
   ]
  },
  {
   "cell_type": "code",
   "execution_count": 28,
   "id": "15926649-7698-456d-87c3-058e873f9ef7",
   "metadata": {},
   "outputs": [
    {
     "data": {
      "text/plain": [
       "'Ceci est une chaine de caractères'"
      ]
     },
     "execution_count": 28,
     "metadata": {},
     "output_type": "execute_result"
    }
   ],
   "source": [
    "'Ceci est une chaine de caractères'"
   ]
  },
  {
   "cell_type": "code",
   "execution_count": 29,
   "id": "8e7e60de-a945-4fe3-98ea-614fef3732f0",
   "metadata": {},
   "outputs": [
    {
     "data": {
      "text/plain": [
       "'\\nCeci est une chaine de caractères\\n'"
      ]
     },
     "execution_count": 29,
     "metadata": {},
     "output_type": "execute_result"
    }
   ],
   "source": [
    "\"\"\"\n",
    "Ceci est une chaine de caractères\n",
    "\"\"\""
   ]
  },
  {
   "cell_type": "code",
   "execution_count": 30,
   "id": "730fd08e-cdbe-452f-a463-c0ac5d0ee09a",
   "metadata": {},
   "outputs": [
    {
     "data": {
      "text/plain": [
       "str"
      ]
     },
     "execution_count": 30,
     "metadata": {},
     "output_type": "execute_result"
    }
   ],
   "source": [
    "type(\"ceci\")"
   ]
  },
  {
   "cell_type": "code",
   "execution_count": 31,
   "id": "b1c3ab14-1557-466b-92c9-0b65cd8cf6cd",
   "metadata": {},
   "outputs": [
    {
     "data": {
      "text/plain": [
       "'Ceci est une chaine de caractères'"
      ]
     },
     "execution_count": 31,
     "metadata": {},
     "output_type": "execute_result"
    }
   ],
   "source": [
    "\"Ceci\" + \" est une chaine de caractères\""
   ]
  },
  {
   "cell_type": "code",
   "execution_count": 32,
   "id": "25821d2f-a80c-4dbd-b5d1-f71375930c13",
   "metadata": {},
   "outputs": [
    {
     "ename": "TypeError",
     "evalue": "can only concatenate str (not \"int\") to str",
     "output_type": "error",
     "traceback": [
      "\u001b[0;31m---------------------------------------------------------------------------\u001b[0m",
      "\u001b[0;31mTypeError\u001b[0m                                 Traceback (most recent call last)",
      "Cell \u001b[0;32mIn[32], line 1\u001b[0m\n\u001b[0;32m----> 1\u001b[0m \u001b[38;5;124m\"\u001b[39m\u001b[38;5;124mCeci\u001b[39m\u001b[38;5;124m\"\u001b[39m \u001b[38;5;241m+\u001b[39m \u001b[38;5;241m10\u001b[39m\n",
      "\u001b[0;31mTypeError\u001b[0m: can only concatenate str (not \"int\") to str"
     ]
    }
   ],
   "source": [
    "\"Ceci\" + 10"
   ]
  },
  {
   "cell_type": "code",
   "execution_count": 33,
   "id": "ea61d043-da78-41ab-b41f-e1bad36af3f4",
   "metadata": {},
   "outputs": [
    {
     "data": {
      "text/plain": [
       "'ceciceciceciceciceciceciceciceciceciceci'"
      ]
     },
     "execution_count": 33,
     "metadata": {},
     "output_type": "execute_result"
    }
   ],
   "source": [
    "\"ceci\" * 10"
   ]
  },
  {
   "cell_type": "markdown",
   "id": "f03ba8c4-3d97-4727-a42a-addc5846d8b9",
   "metadata": {},
   "source": [
    "## Ligne 4 "
   ]
  },
  {
   "cell_type": "code",
   "execution_count": 44,
   "id": "81cadcd8-19aa-47de-9fdf-8c66c054ee24",
   "metadata": {},
   "outputs": [],
   "source": [
    "liste_mots = phrase.split(\" \")"
   ]
  },
  {
   "cell_type": "code",
   "execution_count": 39,
   "id": "fdb1c40d-2883-4eac-87a8-6b13d25da000",
   "metadata": {},
   "outputs": [
    {
     "data": {
      "text/plain": [
       "'MON TEXTE EST LÀ'"
      ]
     },
     "execution_count": 39,
     "metadata": {},
     "output_type": "execute_result"
    }
   ],
   "source": [
    "phrase.upper()"
   ]
  },
  {
   "cell_type": "code",
   "execution_count": 43,
   "id": "517d665b-584d-4ff6-ad05-b150a9b41683",
   "metadata": {},
   "outputs": [
    {
     "data": {
      "text/plain": [
       "'MON TEXTE EST LÀ'"
      ]
     },
     "execution_count": 43,
     "metadata": {},
     "output_type": "execute_result"
    }
   ],
   "source": [
    "phrase = phrase.upper()\n",
    "phrase"
   ]
  },
  {
   "cell_type": "code",
   "execution_count": 40,
   "id": "4bedcce5-580d-491a-9710-6424a06e68e7",
   "metadata": {},
   "outputs": [
    {
     "data": {
      "text/plain": [
       "['Mon', 'texte', 'est', 'là']"
      ]
     },
     "execution_count": 40,
     "metadata": {},
     "output_type": "execute_result"
    }
   ],
   "source": [
    "phrase.split(\" \")"
   ]
  },
  {
   "cell_type": "markdown",
   "id": "b324d710-8b63-4722-9ff0-951f43aead1d",
   "metadata": {},
   "source": []
  },
  {
   "cell_type": "markdown",
   "id": "fb6ab354-ec05-4416-a35a-a4be07b3b060",
   "metadata": {},
   "source": [
    "Avoir l'aide"
   ]
  },
  {
   "cell_type": "code",
   "execution_count": 41,
   "id": "9d2856b5-c9b7-443a-8285-91ea503866d4",
   "metadata": {},
   "outputs": [
    {
     "name": "stdout",
     "output_type": "stream",
     "text": [
      "Help on built-in function split:\n",
      "\n",
      "split(sep=None, maxsplit=-1) method of builtins.str instance\n",
      "    Return a list of the substrings in the string, using sep as the separator string.\n",
      "    \n",
      "      sep\n",
      "        The separator used to split the string.\n",
      "    \n",
      "        When set to None (the default value), will split on any whitespace\n",
      "        character (including \\n \\r \\t \\f and spaces) and will discard\n",
      "        empty strings from the result.\n",
      "      maxsplit\n",
      "        Maximum number of splits (starting from the left).\n",
      "        -1 (the default value) means no limit.\n",
      "    \n",
      "    Note, str.split() is mainly useful for data that has been intentionally\n",
      "    delimited.  With natural text that includes punctuation, consider using\n",
      "    the regular expression module.\n",
      "\n"
     ]
    }
   ],
   "source": [
    "help(phrase.split)"
   ]
  },
  {
   "cell_type": "markdown",
   "id": "a195347f-fb00-4cbb-ab44-447a2da442f2",
   "metadata": {},
   "source": [
    "Et paf ça fait des listes"
   ]
  },
  {
   "cell_type": "code",
   "execution_count": 45,
   "id": "44bd088a-6299-4a47-a56e-ccd757d712e0",
   "metadata": {},
   "outputs": [
    {
     "data": {
      "text/plain": [
       "['MON', 'TEXTE', 'EST', 'LÀ']"
      ]
     },
     "execution_count": 45,
     "metadata": {},
     "output_type": "execute_result"
    }
   ],
   "source": [
    "liste_mots"
   ]
  },
  {
   "cell_type": "code",
   "execution_count": 46,
   "id": "e6840e4d-6621-4d34-bbae-c125113de882",
   "metadata": {},
   "outputs": [
    {
     "data": {
      "text/plain": [
       "list"
      ]
     },
     "execution_count": 46,
     "metadata": {},
     "output_type": "execute_result"
    }
   ],
   "source": [
    "type(liste_mots)"
   ]
  },
  {
   "cell_type": "markdown",
   "id": "9d36c625-f2a3-4a3b-a127-024f14e9d3be",
   "metadata": {},
   "source": [
    "Une liste est un ensemble d'éléments indexés par les entiers **partant de 0**"
   ]
  },
  {
   "cell_type": "code",
   "execution_count": 47,
   "id": "493805a9-c0f1-4abd-88b0-c0c9944d768d",
   "metadata": {},
   "outputs": [],
   "source": [
    "ma_liste = [\"dix\", 20, 30.5, \"quarante\"]"
   ]
  },
  {
   "cell_type": "code",
   "execution_count": 49,
   "id": "6af8caee-8b6e-4c26-a6dd-f4976f9b2e9d",
   "metadata": {},
   "outputs": [
    {
     "data": {
      "text/plain": [
       "list"
      ]
     },
     "execution_count": 49,
     "metadata": {},
     "output_type": "execute_result"
    }
   ],
   "source": [
    "type(ma_liste)"
   ]
  },
  {
   "cell_type": "markdown",
   "id": "d9a28fc6-de2a-46a6-8ac9-5b1cb947388d",
   "metadata": {},
   "source": [
    "Une diversité des méthodes. Par exemple, ajouter un élément :"
   ]
  },
  {
   "cell_type": "code",
   "execution_count": 52,
   "id": "fd8fb368-835e-49cc-8057-57702e7693be",
   "metadata": {},
   "outputs": [],
   "source": [
    "ma_liste.append(\"nouvel élément\")"
   ]
  },
  {
   "cell_type": "code",
   "execution_count": 56,
   "id": "0f89a255-4125-43ab-a257-49cc62d582b2",
   "metadata": {},
   "outputs": [],
   "source": [
    "#dir(int)"
   ]
  },
  {
   "cell_type": "code",
   "execution_count": 62,
   "id": "e865771e-18f2-42ab-ba15-6e5264baab70",
   "metadata": {},
   "outputs": [
    {
     "data": {
      "text/plain": [
       "'dix'"
      ]
     },
     "execution_count": 62,
     "metadata": {},
     "output_type": "execute_result"
    }
   ],
   "source": [
    "ma_liste[0]"
   ]
  },
  {
   "cell_type": "code",
   "execution_count": 63,
   "id": "ff90bef9-2d45-47d8-80d0-2ca2a4b29adb",
   "metadata": {},
   "outputs": [
    {
     "data": {
      "text/plain": [
       "20"
      ]
     },
     "execution_count": 63,
     "metadata": {},
     "output_type": "execute_result"
    }
   ],
   "source": [
    "ma_liste[1]"
   ]
  },
  {
   "cell_type": "code",
   "execution_count": 65,
   "id": "37e712ae-5311-4fd3-9527-bf863cda3a7a",
   "metadata": {},
   "outputs": [
    {
     "data": {
      "text/plain": [
       "[20, 30.5]"
      ]
     },
     "execution_count": 65,
     "metadata": {},
     "output_type": "execute_result"
    }
   ],
   "source": [
    "ma_liste[1:3]"
   ]
  },
  {
   "cell_type": "code",
   "execution_count": 66,
   "id": "035bbbcd-2e65-467f-9655-bb59bb682a2e",
   "metadata": {},
   "outputs": [
    {
     "data": {
      "text/plain": [
       "[1, 2, 'trois', 'quatre']"
      ]
     },
     "execution_count": 66,
     "metadata": {},
     "output_type": "execute_result"
    }
   ],
   "source": [
    "[1, 2] + [\"trois\", \"quatre\"]"
   ]
  },
  {
   "cell_type": "markdown",
   "id": "e5ad97b0-e7ac-49bd-89a9-61bdbc03b445",
   "metadata": {},
   "source": [
    "## Ligne 5"
   ]
  },
  {
   "cell_type": "code",
   "execution_count": 58,
   "id": "b3a638a3-5aff-4194-b770-98ffbf86bfda",
   "metadata": {},
   "outputs": [],
   "source": [
    "nombre_mots = len(liste_mots)"
   ]
  },
  {
   "cell_type": "code",
   "execution_count": 59,
   "id": "3a2ae87a-c0f8-456e-ae44-6f7200fed6b5",
   "metadata": {},
   "outputs": [
    {
     "data": {
      "text/plain": [
       "4"
      ]
     },
     "execution_count": 59,
     "metadata": {},
     "output_type": "execute_result"
    }
   ],
   "source": [
    "nombre_mots"
   ]
  },
  {
   "cell_type": "code",
   "execution_count": 57,
   "id": "45d683ab-5fb2-4468-9040-2ff666f69a67",
   "metadata": {},
   "outputs": [
    {
     "name": "stdout",
     "output_type": "stream",
     "text": [
      "Help on built-in function len in module builtins:\n",
      "\n",
      "len(obj, /)\n",
      "    Return the number of items in a container.\n",
      "\n"
     ]
    }
   ],
   "source": [
    "help(len)"
   ]
  },
  {
   "cell_type": "code",
   "execution_count": 60,
   "id": "fb43661c-90d8-4f13-a5bc-6f9fb2def4aa",
   "metadata": {},
   "outputs": [
    {
     "data": {
      "text/plain": [
       "19"
      ]
     },
     "execution_count": 60,
     "metadata": {},
     "output_type": "execute_result"
    }
   ],
   "source": [
    "len(\"Ceci est une phrase\")"
   ]
  },
  {
   "cell_type": "markdown",
   "id": "f8579a19-d95e-4e25-9ae3-2d0f80ac1a66",
   "metadata": {},
   "source": [
    "## Les types manquant"
   ]
  },
  {
   "cell_type": "markdown",
   "id": "1d820fe7-4b46-4ce7-b391-850287577811",
   "metadata": {},
   "source": [
    "Les dictionnaires"
   ]
  },
  {
   "cell_type": "code",
   "execution_count": 69,
   "id": "4b0c83dd-44dd-4ae3-8c04-1e9cd41ddfe2",
   "metadata": {},
   "outputs": [],
   "source": [
    "mon_dic = {\"clé\":\"valeur\", \n",
    "           \"clé2\":\"valeur2\"}"
   ]
  },
  {
   "cell_type": "code",
   "execution_count": 70,
   "id": "3182c454-2dca-4135-a331-14c8e0e9e703",
   "metadata": {},
   "outputs": [
    {
     "data": {
      "text/plain": [
       "dict"
      ]
     },
     "execution_count": 70,
     "metadata": {},
     "output_type": "execute_result"
    }
   ],
   "source": [
    "type(mon_dic)"
   ]
  },
  {
   "cell_type": "code",
   "execution_count": 71,
   "id": "ebe101da-4e14-41f9-ba1b-fd7541444523",
   "metadata": {},
   "outputs": [
    {
     "data": {
      "text/plain": [
       "'valeur'"
      ]
     },
     "execution_count": 71,
     "metadata": {},
     "output_type": "execute_result"
    }
   ],
   "source": [
    "mon_dic[\"clé\"]"
   ]
  },
  {
   "cell_type": "markdown",
   "id": "3bffec1f-0b32-405d-85fd-19e55b0397fe",
   "metadata": {},
   "source": [
    "Les sets et les tuple"
   ]
  },
  {
   "cell_type": "markdown",
   "id": "e81b6da3-c63c-4cd8-bcc0-3705b95fdbd9",
   "metadata": {},
   "source": [
    "## Les blocs conditionnels (6, 7 et 8)\n",
    "\n",
    "````python\n",
    "if len(phrase) == 0:\n",
    "    print(\"Vous n'avez rien écrit\")\n",
    "````"
   ]
  },
  {
   "cell_type": "markdown",
   "id": "5a980316-a5e3-44c6-ac56-6c9fe377c97b",
   "metadata": {},
   "source": [
    "- un embranchement if/else\n",
    "- l'expression d'une condition"
   ]
  },
  {
   "cell_type": "markdown",
   "id": "8d60b07d-ef5b-41f1-83ba-1d6a04fac35a",
   "metadata": {},
   "source": [
    "#### Exemple de comparaison"
   ]
  },
  {
   "cell_type": "code",
   "execution_count": 72,
   "id": "b0c3f22c-21f2-4c0b-8658-639d5cd36634",
   "metadata": {},
   "outputs": [
    {
     "data": {
      "text/plain": [
       "False"
      ]
     },
     "execution_count": 72,
     "metadata": {},
     "output_type": "execute_result"
    }
   ],
   "source": [
    "10 > 20"
   ]
  },
  {
   "cell_type": "code",
   "execution_count": 73,
   "id": "a705e654-4cad-4326-9706-c1b1e83d94e3",
   "metadata": {},
   "outputs": [
    {
     "data": {
      "text/plain": [
       "True"
      ]
     },
     "execution_count": 73,
     "metadata": {},
     "output_type": "execute_result"
    }
   ],
   "source": [
    "5 == 5"
   ]
  },
  {
   "cell_type": "code",
   "execution_count": 74,
   "id": "84a22a01-5dab-4722-bb6f-d50220f0592b",
   "metadata": {},
   "outputs": [
    {
     "data": {
      "text/plain": [
       "True"
      ]
     },
     "execution_count": 74,
     "metadata": {},
     "output_type": "execute_result"
    }
   ],
   "source": [
    "10 in [10, 20, 30]"
   ]
  },
  {
   "cell_type": "markdown",
   "id": "4818bd07-31b6-487f-8f9f-b171291551d7",
   "metadata": {},
   "source": [
    "### Exemple de condition"
   ]
  },
  {
   "cell_type": "code",
   "execution_count": 75,
   "id": "9582514a-d822-4f49-a909-9a8f2c38e625",
   "metadata": {},
   "outputs": [],
   "source": [
    "ma_valeur = 10"
   ]
  },
  {
   "cell_type": "code",
   "execution_count": 76,
   "id": "e1f9d196-43bc-4100-9de7-9c3bf7026450",
   "metadata": {},
   "outputs": [
    {
     "data": {
      "text/plain": [
       "False"
      ]
     },
     "execution_count": 76,
     "metadata": {},
     "output_type": "execute_result"
    }
   ],
   "source": [
    "ma_valeur > 20"
   ]
  },
  {
   "cell_type": "markdown",
   "id": "8e22311f-170f-4c42-b4f6-4c6c0fae6d0d",
   "metadata": {},
   "source": [
    "### Embranchement if"
   ]
  },
  {
   "cell_type": "code",
   "execution_count": 78,
   "id": "5ed2bd99-fbe8-4363-9d78-c47eafc9555e",
   "metadata": {},
   "outputs": [
    {
     "name": "stdout",
     "output_type": "stream",
     "text": [
      "Valeur inférieure à 20\n"
     ]
    }
   ],
   "source": [
    "if ma_valeur >= 20:\n",
    "    print(\"Valeur supérieure à 20\")\n",
    "else:\n",
    "    print(\"Valeur inférieure à 20\")"
   ]
  },
  {
   "cell_type": "markdown",
   "id": "3f796408-ca3e-414d-a80c-bf74697e0ba4",
   "metadata": {},
   "source": [
    "Résumer par rapport au bloc if :\n",
    "\n",
    "````python\n",
    "if CONDITION VRAIE:\n",
    "    Code 1 à exécuter\n",
    "else:\n",
    "    Code 2 à exécuter\n",
    "````"
   ]
  },
  {
   "cell_type": "markdown",
   "id": "d6b167fa-ef63-4bfc-b8cd-da9fc8ee9559",
   "metadata": {},
   "source": [
    "### Dans le bloc else"
   ]
  },
  {
   "cell_type": "code",
   "execution_count": null,
   "id": "f69014df-bb20-4e66-80e3-bcdc3cdb839f",
   "metadata": {},
   "outputs": [],
   "source": [
    "compteur = 0 #ligne A\n",
    "for i in liste_mots:\n",
    "    if len(i) >= nombre_min_lettres:\n",
    "        compteur+=1\n",
    "proportion = round(100*compteur/nombre_mots,2)\n",
    "informations = {\"Total\":compteur,\"Proportion\":proportion,\n",
    "               \"Phrase\":phrase,\"Seuil\":nombre_min_lettres}\n",
    "sortie = f\"Proportion de mots avec {nombre_min_lettres} lettres ou plus : {proportion}\"\n",
    "print(sortie)"
   ]
  },
  {
   "cell_type": "markdown",
   "id": "d3ff5d4c-be6a-47ae-8db3-80560ae81197",
   "metadata": {},
   "source": [
    "### Ligne A"
   ]
  },
  {
   "cell_type": "markdown",
   "id": "ea5d902c-7500-4f88-958f-e5627693d8f6",
   "metadata": {},
   "source": [
    "On crée une variable compteur à 0"
   ]
  },
  {
   "cell_type": "markdown",
   "id": "3a4d6908-5355-489c-8aa8-6e7da22ff1f6",
   "metadata": {},
   "source": [
    "### Ligne B : définir une boucle"
   ]
  },
  {
   "cell_type": "markdown",
   "id": "2da11823-1562-4f95-a29f-46179d18f298",
   "metadata": {},
   "source": [
    "En python on a la boucle **for** qui permet de parcourir des ensembles"
   ]
  },
  {
   "cell_type": "code",
   "execution_count": 88,
   "id": "c88adeb7-c54d-48d8-a9c8-408c07cd0891",
   "metadata": {},
   "outputs": [],
   "source": [
    "liste_mots = [\"Python\",\"Rstudio\",\"Matlab\",\"C\", \"Java\"]"
   ]
  },
  {
   "cell_type": "code",
   "execution_count": 90,
   "id": "5f90b571-0b39-4b72-bd9c-f4dabf5bb5f8",
   "metadata": {},
   "outputs": [
    {
     "name": "stdout",
     "output_type": "stream",
     "text": [
      "P\n",
      "R\n",
      "M\n",
      "C\n",
      "J\n"
     ]
    }
   ],
   "source": [
    "for prout in liste_mots:\n",
    "    print(prout[0])"
   ]
  },
  {
   "cell_type": "code",
   "execution_count": 84,
   "id": "bd276e5a-0001-433b-900f-20999f963d12",
   "metadata": {},
   "outputs": [
    {
     "name": "stdout",
     "output_type": "stream",
     "text": [
      "Python\n",
      "Rstudio\n",
      "Matlab\n"
     ]
    }
   ],
   "source": [
    "print(liste_mots[0])\n",
    "print(liste_mots[1])\n",
    "print(liste_mots[2])"
   ]
  },
  {
   "cell_type": "markdown",
   "id": "386a2327-782f-4cde-ae31-ee110ca9e7c5",
   "metadata": {},
   "source": [
    "Parenthèse : générer des listes d'entier"
   ]
  },
  {
   "cell_type": "code",
   "execution_count": 108,
   "id": "b70ca5b5-db9b-46ef-9283-221e0cec22ae",
   "metadata": {},
   "outputs": [
    {
     "name": "stdout",
     "output_type": "stream",
     "text": [
      "100\n",
      "121\n",
      "144\n",
      "169\n",
      "196\n",
      "225\n",
      "256\n",
      "289\n",
      "324\n",
      "361\n"
     ]
    }
   ],
   "source": [
    "for nombre in range(10, 20)         :\n",
    "    print(nombre ** 2)"
   ]
  },
  {
   "cell_type": "markdown",
   "id": "02c61d87-92a2-46f7-bab6-f7dc5c2d510a",
   "metadata": {},
   "source": [
    "Incrémenter un compteur"
   ]
  },
  {
   "cell_type": "code",
   "execution_count": 98,
   "id": "d549b991-02cc-4957-aae1-28066f02e17f",
   "metadata": {},
   "outputs": [],
   "source": [
    "c = 0"
   ]
  },
  {
   "cell_type": "code",
   "execution_count": 105,
   "id": "6de4c091-2d34-4278-a499-14ea4d0127bd",
   "metadata": {},
   "outputs": [],
   "source": [
    "c = c + 1"
   ]
  },
  {
   "cell_type": "code",
   "execution_count": 111,
   "id": "58f2c753-12f4-46b6-8056-52643087a11a",
   "metadata": {},
   "outputs": [],
   "source": [
    "c += 1"
   ]
  },
  {
   "cell_type": "markdown",
   "id": "6b1e1447-e5ca-446e-aa4a-b4a6b79f0ba7",
   "metadata": {},
   "source": [
    "### Ligne E"
   ]
  },
  {
   "cell_type": "code",
   "execution_count": null,
   "id": "cc089d8d-1799-4ecf-9e56-5a14ca9715e7",
   "metadata": {},
   "outputs": [],
   "source": [
    "proportion = round(100*compteur/nombre_mots,2)"
   ]
  },
  {
   "cell_type": "code",
   "execution_count": 116,
   "id": "59a9ef2e-257d-4ab2-b3e7-6ef5034d59b5",
   "metadata": {},
   "outputs": [
    {
     "data": {
      "text/plain": [
       "66.7"
      ]
     },
     "execution_count": 116,
     "metadata": {},
     "output_type": "execute_result"
    }
   ],
   "source": [
    "round(100*compteur/nombre_mots,1)"
   ]
  },
  {
   "cell_type": "code",
   "execution_count": 118,
   "id": "ba29b629-77e6-48e4-96c3-294231bb6554",
   "metadata": {},
   "outputs": [
    {
     "data": {
      "text/plain": [
       "float"
      ]
     },
     "execution_count": 118,
     "metadata": {},
     "output_type": "execute_result"
    }
   ],
   "source": [
    "type(proportion)"
   ]
  },
  {
   "cell_type": "markdown",
   "id": "30d38c52-2dac-49f3-86c3-4adc45539fef",
   "metadata": {},
   "source": [
    "### Ligne F"
   ]
  },
  {
   "cell_type": "code",
   "execution_count": 119,
   "id": "d86febfc-0a61-44af-b1d4-321b6df9ac40",
   "metadata": {},
   "outputs": [],
   "source": [
    "informations = {\n",
    "                \"Total\":compteur,\n",
    "                \"Proportion\":proportion,\n",
    "                \"Phrase\":phrase,\n",
    "                \"Seuil\":nombre_min_lettres\n",
    "            }"
   ]
  },
  {
   "cell_type": "code",
   "execution_count": 120,
   "id": "bcd5ece1-1cfe-4d65-a9cc-8fe522ec3e9f",
   "metadata": {},
   "outputs": [
    {
     "data": {
      "text/plain": [
       "{'Total': 2, 'Proportion': 66.67, 'Phrase': 'Ma nouvelle phrase', 'Seuil': 4}"
      ]
     },
     "execution_count": 120,
     "metadata": {},
     "output_type": "execute_result"
    }
   ],
   "source": [
    "informations"
   ]
  },
  {
   "cell_type": "code",
   "execution_count": 124,
   "id": "5bedce9f-9354-413a-b470-830b62f7dc98",
   "metadata": {},
   "outputs": [
    {
     "data": {
      "text/plain": [
       "2"
      ]
     },
     "execution_count": 124,
     "metadata": {},
     "output_type": "execute_result"
    }
   ],
   "source": [
    "informations[\"Total\"]"
   ]
  },
  {
   "cell_type": "code",
   "execution_count": 122,
   "id": "85a4549a-58ec-4ef7-8530-6127499fe0a8",
   "metadata": {},
   "outputs": [],
   "source": [
    "info = [[\"Total\",compteur],\n",
    "        [\"Proportion\",proportion],\n",
    "        [\"Phrase\",phrase],\n",
    "        [\"Seuil\",nombre_min_lettres]\n",
    "       ]"
   ]
  },
  {
   "cell_type": "code",
   "execution_count": 127,
   "id": "e6e5c484-7159-4638-bc27-2c87d0bee75f",
   "metadata": {},
   "outputs": [
    {
     "data": {
      "text/plain": [
       "2"
      ]
     },
     "execution_count": 127,
     "metadata": {},
     "output_type": "execute_result"
    }
   ],
   "source": [
    "info[0][1]"
   ]
  },
  {
   "cell_type": "markdown",
   "id": "b99303a1-a7db-4b3c-9df7-d417a85961cb",
   "metadata": {},
   "source": [
    "### Ligne G"
   ]
  },
  {
   "cell_type": "code",
   "execution_count": 128,
   "id": "ddfc9905-ef57-4012-b425-6d87ab048167",
   "metadata": {},
   "outputs": [
    {
     "name": "stdout",
     "output_type": "stream",
     "text": [
      "Proportion de mots avec 4 lettres ou plus : 66.67\n"
     ]
    }
   ],
   "source": [
    "sortie = f\"Proportion de mots avec {nombre_min_lettres} lettres ou plus : {proportion}\"\n",
    "print(sortie)"
   ]
  },
  {
   "cell_type": "code",
   "execution_count": 129,
   "id": "2abb52ee-ed12-4929-8d74-5c99db53a84a",
   "metadata": {},
   "outputs": [
    {
     "name": "stdout",
     "output_type": "stream",
     "text": [
      "66.67\n"
     ]
    }
   ],
   "source": [
    "print(proportion)"
   ]
  },
  {
   "cell_type": "code",
   "execution_count": 133,
   "id": "c02abcb3-3e1e-4521-beb6-f43c1d5adcf3",
   "metadata": {},
   "outputs": [
    {
     "data": {
      "text/plain": [
       "'Résultat 66.67%'"
      ]
     },
     "execution_count": 133,
     "metadata": {},
     "output_type": "execute_result"
    }
   ],
   "source": [
    "\"Résultat \" + str(proportion) + \"%\""
   ]
  },
  {
   "cell_type": "code",
   "execution_count": 135,
   "id": "026c4dfd-cb32-468c-b371-c135917e3627",
   "metadata": {},
   "outputs": [
    {
     "data": {
      "text/plain": [
       "'La valeur est de 10'"
      ]
     },
     "execution_count": 135,
     "metadata": {},
     "output_type": "execute_result"
    }
   ],
   "source": [
    "valeur = 10\n",
    "f\"La valeur est de {valeur}\""
   ]
  },
  {
   "cell_type": "markdown",
   "id": "3c8afbed-d0f0-4b8f-9c93-a110679d896d",
   "metadata": {},
   "source": [
    "## Ecriture sur le disque dur"
   ]
  },
  {
   "cell_type": "code",
   "execution_count": null,
   "id": "98c6cceb-5dba-4937-98d1-92fbddf4693e",
   "metadata": {},
   "outputs": [],
   "source": [
    "with open(\"resultat.txt\",\"w\") as f:\n",
    "    f.write(str(informations))"
   ]
  },
  {
   "cell_type": "markdown",
   "id": "98786acf-dcf2-4185-830d-890bed61003c",
   "metadata": {},
   "source": [
    "Ecriture/lecture sur disque dur :\n",
    "\n",
    "- on ouvre un canal vers un fichier\n",
    "- on fait une opération\n",
    "- on ferme le canal"
   ]
  },
  {
   "cell_type": "code",
   "execution_count": 136,
   "id": "5575d48d-d2e2-40a5-bbe8-a0dd3763c38a",
   "metadata": {},
   "outputs": [],
   "source": [
    "f = open(\"fichier.txt\",\"w\")"
   ]
  },
  {
   "cell_type": "code",
   "execution_count": 138,
   "id": "a92071c7-f02d-400a-9743-e7c3bf969fcf",
   "metadata": {},
   "outputs": [
    {
     "data": {
      "text/plain": [
       "6"
      ]
     },
     "execution_count": 138,
     "metadata": {},
     "output_type": "execute_result"
    }
   ],
   "source": [
    "f.write(\"Coucou\")"
   ]
  },
  {
   "cell_type": "code",
   "execution_count": 139,
   "id": "00cefdb5-5062-4e5b-a267-58d938b9dc6d",
   "metadata": {},
   "outputs": [],
   "source": [
    "f.close()"
   ]
  },
  {
   "cell_type": "code",
   "execution_count": null,
   "id": "8f4f8dc0-d198-4b9e-ae3d-9dd72d84397d",
   "metadata": {},
   "outputs": [],
   "source": []
  }
 ],
 "metadata": {
  "kernelspec": {
   "display_name": "Python 3 (ipykernel)",
   "language": "python",
   "name": "python3"
  },
  "language_info": {
   "codemirror_mode": {
    "name": "ipython",
    "version": 3
   },
   "file_extension": ".py",
   "mimetype": "text/x-python",
   "name": "python",
   "nbconvert_exporter": "python",
   "pygments_lexer": "ipython3",
   "version": "3.11.7"
  }
 },
 "nbformat": 4,
 "nbformat_minor": 5
}
