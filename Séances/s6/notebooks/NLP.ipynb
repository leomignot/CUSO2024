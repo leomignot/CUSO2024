{
 "cells": [
  {
   "cell_type": "markdown",
   "id": "5c11ff97-66a6-4875-b744-64b495a30b1b",
   "metadata": {},
   "source": [
    "# Différentes approches de NLP"
   ]
  },
  {
   "cell_type": "markdown",
   "id": "eeb48379-8b38-4259-b34f-fa3fa58d93ee",
   "metadata": {},
   "source": [
    "## Données"
   ]
  },
  {
   "cell_type": "code",
   "execution_count": 1,
   "id": "5e2d43d6-a965-4d5b-88ad-dae511b83a97",
   "metadata": {},
   "outputs": [],
   "source": [
    "import pandas as pd\n",
    "df = pd.read_csv(\"../data/tableau.csv\")"
   ]
  },
  {
   "cell_type": "markdown",
   "id": "bbcdd385-e3f7-4aad-9ea3-6c2b295dfc6c",
   "metadata": {},
   "source": [
    "## Mot par mot, ou dictionnaires"
   ]
  },
  {
   "cell_type": "code",
   "execution_count": 2,
   "id": "f73c9bb9-aabd-4ea0-8e98-1629afd28f61",
   "metadata": {},
   "outputs": [],
   "source": [
    "pays = [\"france\",\"allemagne\",\"suisse\"]"
   ]
  },
  {
   "cell_type": "code",
   "execution_count": 4,
   "id": "7e6124bf-e5c0-4b2e-aa23-be7529728e0d",
   "metadata": {},
   "outputs": [],
   "source": [
    "df[\"text\"] = df[\"Contenu_mod\"].str.lower()"
   ]
  },
  {
   "cell_type": "code",
   "execution_count": 8,
   "id": "a9eeb666-8390-4c59-9672-1ef6a91719b9",
   "metadata": {},
   "outputs": [
    {
     "data": {
      "text/plain": [
       "0      {'allemagne': 1, 'france': 0, 'suisse': 14}\n",
       "1       {'allemagne': 0, 'france': 1, 'suisse': 7}\n",
       "2       {'allemagne': 0, 'france': 3, 'suisse': 9}\n",
       "3       {'allemagne': 1, 'france': 2, 'suisse': 5}\n",
       "4       {'allemagne': 0, 'france': 2, 'suisse': 6}\n",
       "                          ...                     \n",
       "274     {'allemagne': 0, 'france': 3, 'suisse': 1}\n",
       "275     {'allemagne': 0, 'france': 1, 'suisse': 2}\n",
       "276     {'allemagne': 0, 'france': 1, 'suisse': 1}\n",
       "277     {'allemagne': 0, 'france': 1, 'suisse': 1}\n",
       "278     {'allemagne': 0, 'france': 0, 'suisse': 1}\n",
       "Name: text, Length: 279, dtype: object"
      ]
     },
     "execution_count": 8,
     "metadata": {},
     "output_type": "execute_result"
    }
   ],
   "source": [
    "def compter_mots(t, dictionnaire=pays):\n",
    "    return {i:t.count(i) for i in dictionnaire}\n",
    "df[\"text\"].apply(compter_mots)"
   ]
  },
  {
   "cell_type": "markdown",
   "id": "a0d84cf0-d61f-4c35-9e04-dcf5e346869c",
   "metadata": {},
   "source": [
    "## DFM"
   ]
  },
  {
   "cell_type": "code",
   "execution_count": 9,
   "id": "bbf67d61-15aa-4fa4-a4e3-91908771313c",
   "metadata": {},
   "outputs": [],
   "source": [
    "from sklearn.feature_extraction.text import CountVectorizer"
   ]
  },
  {
   "cell_type": "code",
   "execution_count": 10,
   "id": "3d6e7daf-9153-4d6a-9519-7e0c312212c9",
   "metadata": {},
   "outputs": [],
   "source": [
    "modele = CountVectorizer()"
   ]
  },
  {
   "cell_type": "code",
   "execution_count": 12,
   "id": "61bfcdac-a3a0-49f8-8a87-61d40275ec5e",
   "metadata": {},
   "outputs": [],
   "source": [
    "dtm = modele.fit_transform(df[\"text\"])"
   ]
  },
  {
   "cell_type": "code",
   "execution_count": 17,
   "id": "19901e4f-176f-4bf5-a8a0-b757ffab9c93",
   "metadata": {},
   "outputs": [
    {
     "data": {
      "text/plain": [
       "array(['00', '000', '000e', ..., 'œuvre', 'œuvrent', 'œuvres'],\n",
       "      dtype=object)"
      ]
     },
     "execution_count": 17,
     "metadata": {},
     "output_type": "execute_result"
    }
   ],
   "source": [
    "modele.get_feature_names_out()"
   ]
  },
  {
   "cell_type": "markdown",
   "id": "a1234618-9c61-43ea-ae81-ee65198c2c5e",
   "metadata": {},
   "source": [
    "Pas mal d'options"
   ]
  },
  {
   "cell_type": "code",
   "execution_count": 14,
   "id": "add4cd3a-3fe9-4193-99df-48ead779b0f3",
   "metadata": {},
   "outputs": [],
   "source": [
    "from spacy.lang.fr.stop_words import STOP_WORDS as fr_stop"
   ]
  },
  {
   "cell_type": "code",
   "execution_count": 16,
   "id": "8d56212c-3181-4587-b831-7832b8447c09",
   "metadata": {},
   "outputs": [
    {
     "data": {
      "text/plain": [
       "507"
      ]
     },
     "execution_count": 16,
     "metadata": {},
     "output_type": "execute_result"
    }
   ],
   "source": [
    "len(fr_stop)"
   ]
  },
  {
   "cell_type": "code",
   "execution_count": 21,
   "id": "7e0f6c9f-a0c1-4392-8cde-0da1c5561e3e",
   "metadata": {},
   "outputs": [
    {
     "name": "stderr",
     "output_type": "stream",
     "text": [
      "/opt/anaconda3/lib/python3.11/site-packages/sklearn/feature_extraction/text.py:409: UserWarning: Your stop_words may be inconsistent with your preprocessing. Tokenizing the stop words generated tokens ['neuf', 'qu', 'quelqu'] not in stop_words.\n",
      "  warnings.warn(\n"
     ]
    },
    {
     "data": {
      "text/plain": [
       "(279, 4012)"
      ]
     },
     "execution_count": 21,
     "metadata": {},
     "output_type": "execute_result"
    }
   ],
   "source": [
    "modele = CountVectorizer(stop_words=list(fr_stop),min_df=5)\n",
    "dtm = modele.fit_transform(df[\"text\"])\n",
    "dtm.shape"
   ]
  },
  {
   "cell_type": "markdown",
   "id": "22c2309f-183f-4993-a848-c8b8b9d27b07",
   "metadata": {},
   "source": [
    "## TF-IDF"
   ]
  },
  {
   "cell_type": "code",
   "execution_count": 24,
   "id": "985f2f6e-5e31-4f5e-8297-a3f46b25e44c",
   "metadata": {},
   "outputs": [
    {
     "name": "stderr",
     "output_type": "stream",
     "text": [
      "/opt/anaconda3/lib/python3.11/site-packages/sklearn/feature_extraction/text.py:409: UserWarning: Your stop_words may be inconsistent with your preprocessing. Tokenizing the stop words generated tokens ['neuf', 'qu', 'quelqu'] not in stop_words.\n",
      "  warnings.warn(\n"
     ]
    }
   ],
   "source": [
    "from sklearn.feature_extraction.text import TfidfVectorizer\n",
    "\n",
    "modele = TfidfVectorizer(stop_words=list(fr_stop))\n",
    "tfidf = modele.fit_transform(df[\"text\"].fillna(\"NULL\"))"
   ]
  },
  {
   "cell_type": "markdown",
   "id": "96297259-8d1c-46e6-8f0c-c19a65d6a4dc",
   "metadata": {},
   "source": [
    "Faire des clusters"
   ]
  },
  {
   "cell_type": "code",
   "execution_count": 29,
   "id": "dc08555e-026c-4317-982a-09db249a223a",
   "metadata": {},
   "outputs": [],
   "source": [
    "from sklearn.cluster import KMeans\n",
    "true_k = 4\n",
    "model = KMeans(n_clusters=true_k, \n",
    "               init='k-means++', \n",
    "               max_iter=200, \n",
    "               n_init=10)\n",
    "model.fit(tfidf)\n",
    "df[\"labels\"] = model.labels_"
   ]
  },
  {
   "cell_type": "markdown",
   "id": "b0a7041a-e9f9-4fce-821c-d2514ac3168f",
   "metadata": {},
   "source": [
    "Peut être pas la meilleure échelle : décomposer au paragraphe ?"
   ]
  },
  {
   "cell_type": "markdown",
   "id": "43cb84e3-454f-45ac-9591-3bfb877334f0",
   "metadata": {},
   "source": [
    "## Premiers pas avec SpaCy\n"
   ]
  },
  {
   "cell_type": "markdown",
   "id": "8b0b57c1-6a80-4994-a21f-06caed2a013d",
   "metadata": {},
   "source": [
    "### Télécharger et utiliser un modèle (un trained pipepeline)\n",
    "\n",
    "Se familiariser avec la structure doc/span/token"
   ]
  },
  {
   "cell_type": "code",
   "execution_count": 2,
   "id": "d3e8cf33-ceeb-46a7-b182-c305325b52ca",
   "metadata": {},
   "outputs": [],
   "source": [
    "#pip install spacy"
   ]
  },
  {
   "cell_type": "markdown",
   "id": "4d847ef3-aa25-4b38-9f97-84274a0bf54a",
   "metadata": {},
   "source": [
    "Installer le pipeline"
   ]
  },
  {
   "cell_type": "code",
   "execution_count": 3,
   "id": "0b00bc14-772a-4766-a518-257924839034",
   "metadata": {},
   "outputs": [],
   "source": [
    "#!python -m spacy download fr_core_news_lg"
   ]
  },
  {
   "cell_type": "code",
   "execution_count": null,
   "id": "52476fab-8a1d-4c51-84e9-4d01339d9588",
   "metadata": {
    "jupyter": {
     "source_hidden": true
    }
   },
   "outputs": [],
   "source": [
    "pipeline = spacy.load(\"fr_core_news_lg\")"
   ]
  },
  {
   "cell_type": "code",
   "execution_count": null,
   "id": "2692892b-01f0-4e30-a876-8fd67b2b87ff",
   "metadata": {},
   "outputs": [],
   "source": [
    "doc = pipeline(\"Nous sommes au dernier cours de Python pour les SHS\")\n",
    "for i in doc:\n",
    "    print(i.pos_, i.lemma_)\n",
    "doc.ents"
   ]
  },
  {
   "cell_type": "markdown",
   "id": "5199d6b0-1634-4ba6-914b-648fbc554ea1",
   "metadata": {},
   "source": [
    "Spacy pour des usages dictionnaires"
   ]
  },
  {
   "cell_type": "code",
   "execution_count": null,
   "id": "0bf68c38-5719-4b4f-a919-cbbbcb2e4228",
   "metadata": {},
   "outputs": [],
   "source": [
    "from spacy.matcher import Matcher\n",
    "\n",
    "matcher = Matcher(pipeline.vocab)\n",
    "\n",
    "# Add the pattern to the matcher\n",
    "pattern = [{\"LOWER\": \"python\"}]\n",
    "matcher.add(\"LANGUAGE\", [pattern])\n",
    "pattern = [{\"LOWER\": \"r\"}] \n",
    "matcher.add(\"LANGUAGE\", [pattern])\n",
    "\n",
    "# Process some text\n",
    "doc = pipeline(\"Je préfère R à Python\")\n",
    "\n",
    "# Call the matcher on the doc\n",
    "matches = matcher(doc)\n",
    "\n",
    "\n",
    "# Iterate over the matches\n",
    "for match_id, start, end in matches:\n",
    "    # Get the matched span\n",
    "    matched_span = doc[start:end]\n",
    "    print(matched_span.text)"
   ]
  },
  {
   "cell_type": "markdown",
   "id": "89aa9dd3-767b-475b-8902-19cd1aff3c80",
   "metadata": {},
   "source": [
    "Possibilité de chercher des combinaisons plus complexes"
   ]
  },
  {
   "cell_type": "code",
   "execution_count": null,
   "id": "b4313c3d-04db-4a18-b6eb-360bf438f2c9",
   "metadata": {},
   "outputs": [],
   "source": [
    "matcher = Matcher(pipeline.vocab)\n",
    "pattern = [\n",
    "    {\"LEMMA\": \"aimer\", \"POS\": \"VERB\"},\n",
    "    {\"POS\": \"NOUN\"}\n",
    "]\n",
    "matcher.add(\"LANGUAGE\", [pattern])\n",
    "doc = pipeline(\"J'aime Paython plus que R\")\n",
    "matches = matcher(doc)\n",
    "matches"
   ]
  },
  {
   "cell_type": "markdown",
   "id": "6ae32662-545e-4cc8-a384-0fea690594b5",
   "metadata": {},
   "source": [
    "Possibilité d'avoir la distance entre deux textes"
   ]
  },
  {
   "cell_type": "code",
   "execution_count": null,
   "id": "706cb734-7343-4f2f-b0cd-84f741dbaf9e",
   "metadata": {},
   "outputs": [],
   "source": [
    "# Compare two documents\n",
    "doc1 = pipeline(\"J'aime beaucoup programmer en Python\")\n",
    "doc2 = pipeline(\"J'aime beaucoup programmer en R\")\n",
    "print(doc1.similarity(doc2))"
   ]
  },
  {
   "cell_type": "markdown",
   "id": "352724a0-2e39-40a1-8238-748424a809eb",
   "metadata": {},
   "source": [
    "### Lemmatiser et garder que les noms\n",
    "\n",
    "Utiliser le POS"
   ]
  },
  {
   "cell_type": "code",
   "execution_count": 8,
   "id": "594330a1-1951-48c2-9dbb-384a1aa7543a",
   "metadata": {},
   "outputs": [],
   "source": [
    "# Partie à faire en TP"
   ]
  },
  {
   "cell_type": "markdown",
   "id": "b64cf55a-b70f-40f2-b923-b3d6af2159a1",
   "metadata": {},
   "source": [
    "### Identifier les entités nommées"
   ]
  },
  {
   "cell_type": "code",
   "execution_count": null,
   "id": "ad498540-dd25-4e1e-a297-febb7c2e8d34",
   "metadata": {},
   "outputs": [],
   "source": [
    "text = df[\"text\"].iloc[0]\n",
    "doc = pipeline(text)\n",
    "for ent in doc.ents:\n",
    "    print(ent.text, ent.label_)"
   ]
  },
  {
   "cell_type": "markdown",
   "id": "c30ab27e-7c6c-42fa-87e2-b1ceecb68b33",
   "metadata": {},
   "source": [
    "Afficher les entités nommées."
   ]
  },
  {
   "cell_type": "code",
   "execution_count": null,
   "id": "c8ead4d3-a999-4a0f-8bd0-81bab02d7176",
   "metadata": {},
   "outputs": [],
   "source": [
    "from spacy import displacy\n",
    "displacy.render(doc, style=\"ent\", \n",
    "                jupyter=True)"
   ]
  },
  {
   "cell_type": "markdown",
   "id": "44d8d9f7-078b-4a96-b615-d83d52cdd2bc",
   "metadata": {
    "jp-MarkdownHeadingCollapsed": true
   },
   "source": [
    "## GliNER\n",
    "\n",
    "Un modèle plus complexe pour l'identification d'entités"
   ]
  },
  {
   "cell_type": "code",
   "execution_count": 32,
   "id": "4034d7c5-8309-492a-89d1-a9365558c831",
   "metadata": {},
   "outputs": [],
   "source": [
    "#!pip install gliner"
   ]
  },
  {
   "cell_type": "code",
   "execution_count": 1,
   "id": "e5d2a3e6-39bb-4a81-88b4-39335a92b3ae",
   "metadata": {},
   "outputs": [
    {
     "name": "stderr",
     "output_type": "stream",
     "text": [
      "/opt/anaconda3/lib/python3.11/site-packages/transformers/convert_slow_tokenizer.py:560: UserWarning: The sentencepiece tokenizer that you are converting to a fast tokenizer uses the byte fallback option which is not implemented in the fast tokenizers. In practice this means that the fast version of the tokenizer can produce unknown tokens whereas the sentencepiece version would have converted these unknown tokens into a sequence of byte tokens matching the original piece of text.\n",
      "  warnings.warn(\n"
     ]
    },
    {
     "data": {
      "application/vnd.jupyter.widget-view+json": {
       "model_id": "41df53b09a0b46ec84ab6cc38bdd853b",
       "version_major": 2,
       "version_minor": 0
      },
      "text/plain": [
       "pytorch_model.bin:   0%|          | 0.00/1.33G [00:00<?, ?B/s]"
      ]
     },
     "metadata": {},
     "output_type": "display_data"
    },
    {
     "name": "stdout",
     "output_type": "stream",
     "text": [
      "suisse => Pays\n",
      "France => Pays\n"
     ]
    }
   ],
   "source": [
    "from gliner import GLiNER\n",
    "\n",
    "model = GLiNER.from_pretrained(\"urchade/gliner_multi\")\n",
    "\n",
    "# Sample text for entity prediction\n",
    "text = \"\"\"\n",
    "La suisse est un magnifique pays. La France aussi.\n",
    "\"\"\"\n",
    "\n",
    "# Labels for entity prediction\n",
    "labels = [\"Pays\"] # for v2.1 use capital case for better performance\n",
    "\n",
    "# Perform entity prediction\n",
    "entities = model.predict_entities(text, labels, threshold=0.5)\n",
    "\n",
    "# Display predicted entities and their labels\n",
    "for entity in entities:\n",
    "    print(entity[\"text\"], \"=>\", entity[\"label\"])"
   ]
  },
  {
   "cell_type": "markdown",
   "id": "2e49a6fe-d72b-445e-bdb2-f45bfe3bcf44",
   "metadata": {},
   "source": [
    "## Analyse de sentiment\n",
    "\n",
    "Un modèle entraîné sur la prédiction\n",
    "\n",
    "https://huggingface.co/cmarkea/distilcamembert-base-sentiment"
   ]
  },
  {
   "cell_type": "code",
   "execution_count": 2,
   "id": "0ee01f8b-94bb-4e5c-81eb-4f44a9c7e257",
   "metadata": {},
   "outputs": [
    {
     "data": {
      "application/vnd.jupyter.widget-view+json": {
       "model_id": "b194dabc464f453fbf1438dac020345e",
       "version_major": 2,
       "version_minor": 0
      },
      "text/plain": [
       "model.safetensors:   0%|          | 0.00/272M [00:00<?, ?B/s]"
      ]
     },
     "metadata": {},
     "output_type": "display_data"
    },
    {
     "data": {
      "application/vnd.jupyter.widget-view+json": {
       "model_id": "30efadf7cc3a4fccbce599127110ff45",
       "version_major": 2,
       "version_minor": 0
      },
      "text/plain": [
       "tokenizer_config.json:   0%|          | 0.00/236 [00:00<?, ?B/s]"
      ]
     },
     "metadata": {},
     "output_type": "display_data"
    },
    {
     "data": {
      "application/vnd.jupyter.widget-view+json": {
       "model_id": "5a5a07d13ae843748da988e7d0ef9107",
       "version_major": 2,
       "version_minor": 0
      },
      "text/plain": [
       "sentencepiece.bpe.model:   0%|          | 0.00/811k [00:00<?, ?B/s]"
      ]
     },
     "metadata": {},
     "output_type": "display_data"
    }
   ],
   "source": [
    "from transformers import pipeline\n",
    "\n",
    "analyzer = pipeline(\n",
    "    task='text-classification',\n",
    "    model=\"cmarkea/distilcamembert-base-sentiment\",\n",
    "    tokenizer=\"cmarkea/distilcamembert-base-sentiment\"\n",
    ")"
   ]
  },
  {
   "cell_type": "code",
   "execution_count": 3,
   "id": "105a0bce-0ce9-409d-8007-a711c58616e7",
   "metadata": {},
   "outputs": [
    {
     "data": {
      "text/plain": [
       "[{'label': '5 stars', 'score': 0.6956597566604614}]"
      ]
     },
     "execution_count": 3,
     "metadata": {},
     "output_type": "execute_result"
    }
   ],
   "source": [
    "analyzer(\"Vous êtes impressionnants d'avoir tenu ce cours jusqu'à maintenant\")"
   ]
  }
 ],
 "metadata": {
  "kernelspec": {
   "display_name": "Python 3 (ipykernel)",
   "language": "python",
   "name": "python3"
  },
  "language_info": {
   "codemirror_mode": {
    "name": "ipython",
    "version": 3
   },
   "file_extension": ".py",
   "mimetype": "text/x-python",
   "name": "python",
   "nbconvert_exporter": "python",
   "pygments_lexer": "ipython3",
   "version": "3.11.7"
  }
 },
 "nbformat": 4,
 "nbformat_minor": 5
}
