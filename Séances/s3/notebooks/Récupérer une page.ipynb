{
 "cells": [
  {
   "cell_type": "markdown",
   "id": "8bf74d77-9da7-4f67-86b8-572b85e4170c",
   "metadata": {},
   "source": [
    "# Récupérer une page wikipédia"
   ]
  },
  {
   "cell_type": "markdown",
   "id": "dd26f980-3727-4997-a347-0fcdd882a181",
   "metadata": {},
   "source": [
    "## Avec le module"
   ]
  },
  {
   "cell_type": "code",
   "execution_count": 2,
   "id": "a9001a9e-0976-4eae-9427-c4572cbaf959",
   "metadata": {},
   "outputs": [],
   "source": [
    "import urllib.request\n",
    "urllib.request.urlopen"
   ]
  },
  {
   "cell_type": "code",
   "execution_count": 7,
   "id": "bb537ceb-612d-4e27-8baf-1e56127a20b3",
   "metadata": {},
   "outputs": [],
   "source": [
    "from urllib.request import urlopen\n",
    "url = \"https://fr.wikipedia.org/wiki/Sociologie_informatique\"\n",
    "with urlopen(url) as response:\n",
    "    body = response.read()\n",
    "#body"
   ]
  },
  {
   "cell_type": "markdown",
   "id": "1009418a-404b-49f5-a5ff-648d197b5a8a",
   "metadata": {},
   "source": [
    "## Avec une bibliothèque"
   ]
  },
  {
   "cell_type": "code",
   "execution_count": 10,
   "id": "a7c925ec-47af-491d-9600-08568961ef51",
   "metadata": {},
   "outputs": [
    {
     "name": "stdout",
     "output_type": "stream",
     "text": [
      "Requirement already satisfied: requests in /opt/anaconda3/lib/python3.11/site-packages (2.31.0)\n",
      "Requirement already satisfied: charset-normalizer<4,>=2 in /opt/anaconda3/lib/python3.11/site-packages (from requests) (2.0.4)\n",
      "Requirement already satisfied: idna<4,>=2.5 in /opt/anaconda3/lib/python3.11/site-packages (from requests) (3.4)\n",
      "Requirement already satisfied: urllib3<3,>=1.21.1 in /opt/anaconda3/lib/python3.11/site-packages (from requests) (2.0.7)\n",
      "Requirement already satisfied: certifi>=2017.4.17 in /opt/anaconda3/lib/python3.11/site-packages (from requests) (2024.2.2)\n",
      "Note: you may need to restart the kernel to use updated packages.\n"
     ]
    }
   ],
   "source": [
    "pip install requests"
   ]
  },
  {
   "cell_type": "code",
   "execution_count": 8,
   "id": "a55020c8-576f-4725-a468-e75e93d034b6",
   "metadata": {},
   "outputs": [],
   "source": [
    "import requests"
   ]
  },
  {
   "cell_type": "code",
   "execution_count": 9,
   "id": "b420b30d-9018-48b7-b8fc-13476d32295d",
   "metadata": {},
   "outputs": [
    {
     "data": {
      "text/plain": [
       "module"
      ]
     },
     "execution_count": 9,
     "metadata": {},
     "output_type": "execute_result"
    }
   ],
   "source": [
    "type(requests)"
   ]
  },
  {
   "cell_type": "code",
   "execution_count": 11,
   "id": "143fe1b7-5680-4e95-b8fd-824483f18709",
   "metadata": {},
   "outputs": [],
   "source": [
    "url = \"https://fr.wikipedia.org/wiki/Sociologie_informatique\""
   ]
  },
  {
   "cell_type": "code",
   "execution_count": 12,
   "id": "4250e52b-af98-4241-a716-be60ad14c57d",
   "metadata": {},
   "outputs": [],
   "source": [
    "reponse = requests.get(url)"
   ]
  },
  {
   "cell_type": "code",
   "execution_count": 14,
   "id": "ad5a2ee2-3ca1-4564-84ca-47dbfe4a6815",
   "metadata": {},
   "outputs": [
    {
     "data": {
      "text/plain": [
       "requests.models.Response"
      ]
     },
     "execution_count": 14,
     "metadata": {},
     "output_type": "execute_result"
    }
   ],
   "source": [
    "type(reponse)"
   ]
  },
  {
   "cell_type": "code",
   "execution_count": 16,
   "id": "65ec7397-b069-43d3-b49b-a3db5503b9d4",
   "metadata": {},
   "outputs": [
    {
     "data": {
      "text/plain": [
       "'<!DOCTYPE html>\\n<html class=\"client-nojs vector-feature-language-in-header-enabled vector-feature-language-in-main-page-header-disabled vector-feature-sticky-header-disabled vector-feature-page-tools-pinned-disabled vector-feature-toc-pinned-clientpref-1 vector-feature-main-menu-pinned-disabled vector-feature-limited-width-clientpref-1 vector-feature-limited-width-content-enabled vector-feature-custom-font-size-clientpref-0 vector-feature-client-preferences-disabled vector-feature-client-prefs-pinned-disabled vector-feature-night-mode-disabled skin-theme-clientpref-day vector-toc-available\" lang=\"fr\" dir=\"ltr\">\\n<head>\\n<meta charset=\"UTF-8\">\\n<title>Sociologie informatique — Wikipédia</title>\\n<script>(function(){var className=\"client-js vector-feature-language-in-header-enabled vector-feature-language-in-main-page-header-disabled vector-feature-sticky-header-disabled vector-feature-page-tools-pinned-disabled vector-feature-toc-pinned-clientpref-1 vector-feature-main-menu-pinned-disabled '"
      ]
     },
     "execution_count": 16,
     "metadata": {},
     "output_type": "execute_result"
    }
   ],
   "source": [
    "reponse.text[0:1000]"
   ]
  },
  {
   "cell_type": "code",
   "execution_count": 18,
   "id": "0d252f59-edfa-41fd-ac3d-b27b6dcd5330",
   "metadata": {},
   "outputs": [
    {
     "data": {
      "text/plain": [
       "False"
      ]
     },
     "execution_count": 18,
     "metadata": {},
     "output_type": "execute_result"
    }
   ],
   "source": [
    "\"python\" in reponse.text.lower()"
   ]
  },
  {
   "cell_type": "code",
   "execution_count": 21,
   "id": "5dbea285-8aef-4b0f-94a6-107367801413",
   "metadata": {},
   "outputs": [
    {
     "data": {
      "text/plain": [
       "False"
      ]
     },
     "execution_count": 21,
     "metadata": {},
     "output_type": "execute_result"
    }
   ],
   "source": [
    "\"python\" in requests.get(\"https://fr.wikipedia.org/wiki/Sociologie_informatique\").text.lower()"
   ]
  },
  {
   "cell_type": "markdown",
   "id": "7ab2977c-116d-495a-b657-6381d604d288",
   "metadata": {},
   "source": [
    "Ecrire la page sur l'ordinateyr"
   ]
  },
  {
   "cell_type": "code",
   "execution_count": 22,
   "id": "eeab062e-240c-43ee-9cca-9b2dea07afe1",
   "metadata": {},
   "outputs": [],
   "source": [
    "with open(\"page_wikipedia.html\",\"w\") as f:\n",
    "    f.write(reponse.text)"
   ]
  }
 ],
 "metadata": {
  "kernelspec": {
   "display_name": "Python 3 (ipykernel)",
   "language": "python",
   "name": "python3"
  },
  "language_info": {
   "codemirror_mode": {
    "name": "ipython",
    "version": 3
   },
   "file_extension": ".py",
   "mimetype": "text/x-python",
   "name": "python",
   "nbconvert_exporter": "python",
   "pygments_lexer": "ipython3",
   "version": "3.11.7"
  }
 },
 "nbformat": 4,
 "nbformat_minor": 5
}
