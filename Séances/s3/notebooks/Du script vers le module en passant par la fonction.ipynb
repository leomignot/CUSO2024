{
 "cells": [
  {
   "cell_type": "code",
   "execution_count": null,
   "id": "dfd7e12b-fabf-46ec-b71d-bc4ac585be49",
   "metadata": {},
   "outputs": [],
   "source": [
    "# Entrées\n",
    "sortie_fichier = True\n",
    "nombre_min_lettres = 4\n",
    "phrase = input(\"Écrivez une phrase: \")\n",
    "\n",
    "# Opérations\n",
    "liste_mots = phrase.split(\" \")\n",
    "nombre_mots = len(liste_mots)\n",
    "if len(phrase) == 0:\n",
    "    print(\"Vous n'avez rien écrit\")\n",
    "else:\n",
    "    compteur = 0\n",
    "    for i in liste_mots:\n",
    "        if len(i) >= nombre_min_lettres:\n",
    "            compteur+=1\n",
    "    proportion = round(100*compteur/nombre_mots,2)\n",
    "    informations = {\"Total\":compteur,\"Proportion\":proportion,\n",
    "                   \"Phrase\":phrase,\"Seuil\":nombre_min_lettres}\n",
    "\n",
    "# Renvoie\n",
    "    sortie = f\"Proportion de mots avec {nombre_min_lettres} lettres ou plus : {proportion}\"\n",
    "    print(sortie)\n",
    "    if sortie_fichier:\n",
    "        with open(\"resultat.txt\",\"w\") as f:\n",
    "            f.write(str(informations))"
   ]
  },
  {
   "cell_type": "markdown",
   "id": "a16a6876-4775-4f99-b8d8-efacd7deae4a",
   "metadata": {},
   "source": [
    "## Déclarer une fonction"
   ]
  },
  {
   "cell_type": "markdown",
   "id": "b329c953-77c9-4842-9d4d-9b6b15e51705",
   "metadata": {},
   "source": [
    "Déclarer une fonction simple qui prend un nombre et qui ajoute 1"
   ]
  },
  {
   "cell_type": "code",
   "execution_count": 1,
   "id": "bb3a48bc-d03b-45d7-bc31-95f7291005c7",
   "metadata": {},
   "outputs": [],
   "source": [
    "def addition_de_1(nombre):\n",
    "    resultat = nombre + 1\n",
    "    return resultat"
   ]
  },
  {
   "cell_type": "code",
   "execution_count": 3,
   "id": "65a97cf2-9792-4904-aa44-60e113608946",
   "metadata": {},
   "outputs": [
    {
     "data": {
      "text/plain": [
       "function"
      ]
     },
     "execution_count": 3,
     "metadata": {},
     "output_type": "execute_result"
    }
   ],
   "source": [
    "type(addition_de_1)"
   ]
  },
  {
   "cell_type": "code",
   "execution_count": 4,
   "id": "7c0b435e-6681-4ea2-b7eb-fd8f495bc94b",
   "metadata": {},
   "outputs": [
    {
     "data": {
      "text/plain": [
       "12"
      ]
     },
     "execution_count": 4,
     "metadata": {},
     "output_type": "execute_result"
    }
   ],
   "source": [
    "addition_de_1(11)"
   ]
  },
  {
   "cell_type": "code",
   "execution_count": 5,
   "id": "f4568206-6d83-43ae-9dce-ed4e5ee471f3",
   "metadata": {},
   "outputs": [
    {
     "ename": "TypeError",
     "evalue": "can only concatenate str (not \"int\") to str",
     "output_type": "error",
     "traceback": [
      "\u001b[0;31m---------------------------------------------------------------------------\u001b[0m",
      "\u001b[0;31mTypeError\u001b[0m                                 Traceback (most recent call last)",
      "Cell \u001b[0;32mIn[5], line 1\u001b[0m\n\u001b[0;32m----> 1\u001b[0m addition_de_1(\u001b[38;5;124m\"\u001b[39m\u001b[38;5;124mchat\u001b[39m\u001b[38;5;124m\"\u001b[39m)\n",
      "Cell \u001b[0;32mIn[1], line 2\u001b[0m, in \u001b[0;36maddition_de_1\u001b[0;34m(nombre)\u001b[0m\n\u001b[1;32m      1\u001b[0m \u001b[38;5;28;01mdef\u001b[39;00m \u001b[38;5;21maddition_de_1\u001b[39m(nombre):\n\u001b[0;32m----> 2\u001b[0m     resultat \u001b[38;5;241m=\u001b[39m nombre \u001b[38;5;241m+\u001b[39m \u001b[38;5;241m1\u001b[39m\n\u001b[1;32m      3\u001b[0m     \u001b[38;5;28;01mreturn\u001b[39;00m resultat\n",
      "\u001b[0;31mTypeError\u001b[0m: can only concatenate str (not \"int\") to str"
     ]
    }
   ],
   "source": [
    "addition_de_1(\"chat\")"
   ]
  },
  {
   "cell_type": "markdown",
   "id": "e7ecdfbf-6304-4a47-b15f-a39dbe7d4f0a",
   "metadata": {},
   "source": [
    "### Améliorer la fonction"
   ]
  },
  {
   "cell_type": "code",
   "execution_count": 9,
   "id": "98b61d60-d658-4a33-b6e6-1fef65db4f8c",
   "metadata": {},
   "outputs": [],
   "source": [
    "def addition_de_1_v2(nombre):\n",
    "    \"\"\"\n",
    "    Add 1 to the number\n",
    "    Parameters:\n",
    "        nombre: a number\n",
    "    Return:\n",
    "        a number\n",
    "    \"\"\"\n",
    "    if (type(nombre)==float) or (type(nombre)==int):\n",
    "        return nombre +1\n",
    "    return \"Erreur\""
   ]
  },
  {
   "cell_type": "code",
   "execution_count": 10,
   "id": "9a5d0bc7-96e8-4b9f-8307-5d5335ba65b1",
   "metadata": {},
   "outputs": [
    {
     "data": {
      "text/plain": [
       "\u001b[0;31mSignature:\u001b[0m \u001b[0maddition_de_1_v2\u001b[0m\u001b[0;34m(\u001b[0m\u001b[0mnombre\u001b[0m\u001b[0;34m)\u001b[0m\u001b[0;34m\u001b[0m\u001b[0;34m\u001b[0m\u001b[0m\n",
       "\u001b[0;31mDocstring:\u001b[0m\n",
       "Add 1 to the number\n",
       "Parameters:\n",
       "    nombre: a number\n",
       "Return:\n",
       "    a number\n",
       "\u001b[0;31mFile:\u001b[0m      /var/folders/f9/d2d_05ws5gncmml0fx0c00kw0000gp/T/ipykernel_10771/2925542554.py\n",
       "\u001b[0;31mType:\u001b[0m      function"
      ]
     },
     "metadata": {},
     "output_type": "display_data"
    }
   ],
   "source": [
    "?addition_de_1_v2"
   ]
  },
  {
   "cell_type": "code",
   "execution_count": 7,
   "id": "56be3e3e-fbfc-44d3-9a21-5e193eb51976",
   "metadata": {},
   "outputs": [
    {
     "data": {
      "text/plain": [
       "11"
      ]
     },
     "execution_count": 7,
     "metadata": {},
     "output_type": "execute_result"
    }
   ],
   "source": [
    "addition_de_1_v2(10)"
   ]
  },
  {
   "cell_type": "code",
   "execution_count": 8,
   "id": "75093536-d7cc-4c73-9446-f1158f3840f2",
   "metadata": {},
   "outputs": [
    {
     "data": {
      "text/plain": [
       "'Erreur'"
      ]
     },
     "execution_count": 8,
     "metadata": {},
     "output_type": "execute_result"
    }
   ],
   "source": [
    "addition_de_1_v2(\"chat\")"
   ]
  },
  {
   "cell_type": "markdown",
   "id": "229c80eb-952f-4d96-b293-39870f5014cb",
   "metadata": {},
   "source": [
    "## Mettre le script en fonction"
   ]
  },
  {
   "cell_type": "code",
   "execution_count": 21,
   "id": "c604f8aa-8668-4bff-9217-b1cd6c05a0f2",
   "metadata": {},
   "outputs": [],
   "source": [
    "def compter_mots_seuil(phrase, nombre_min_lettres = 4, sortie_fichier = False):\n",
    "    \"\"\"\n",
    "    Compter les mots de plus de (seuil) lettres dans (phrase)\n",
    "    \"\"\"\n",
    "    liste_mots = phrase.split(\" \")\n",
    "    nombre_mots = len(liste_mots)\n",
    "    if len(phrase) == 0:\n",
    "        return \"Vous n'avez rien écrit\"\n",
    "    else:\n",
    "        compteur = 0\n",
    "        for i in liste_mots:\n",
    "            if len(i) >= nombre_min_lettres:\n",
    "                compteur+=1\n",
    "        proportion = round(100*compteur/nombre_mots,2)\n",
    "        informations = {\"Total\":compteur,\"Proportion\":proportion,\n",
    "                       \"Phrase\":phrase,\"Seuil\":nombre_min_lettres}\n",
    "        if sortie_fichier:\n",
    "            with open(\"resultat.txt\",\"w\") as f:\n",
    "                f.write(str(informations))\n",
    "        return informations"
   ]
  },
  {
   "cell_type": "code",
   "execution_count": 22,
   "id": "49fef469-18e5-4077-8ed5-7fe193102eb9",
   "metadata": {},
   "outputs": [
    {
     "data": {
      "text/plain": [
       "{'Total': 3, 'Proportion': 75.0, 'Phrase': 'Ceci est ma phrase', 'Seuil': 3}"
      ]
     },
     "execution_count": 22,
     "metadata": {},
     "output_type": "execute_result"
    }
   ],
   "source": [
    "compter_mots_seuil(\"Ceci est ma phrase\", 3, False)"
   ]
  },
  {
   "cell_type": "code",
   "execution_count": 23,
   "id": "3547ade0-d95e-41b4-aee1-4fca4b4a9920",
   "metadata": {},
   "outputs": [
    {
     "data": {
      "text/plain": [
       "{'Total': 2, 'Proportion': 50.0, 'Phrase': 'Ceci est ma phrase', 'Seuil': 4}"
      ]
     },
     "execution_count": 23,
     "metadata": {},
     "output_type": "execute_result"
    }
   ],
   "source": [
    "compter_mots_seuil(\"Ceci est ma phrase\", 4, False)"
   ]
  },
  {
   "cell_type": "code",
   "execution_count": 24,
   "id": "c620c6ba-8dda-4230-893f-0ef889c85c37",
   "metadata": {},
   "outputs": [
    {
     "data": {
      "text/plain": [
       "{'Total': 1, 'Proportion': 25.0, 'Phrase': 'Ceci est ma phrase', 'Seuil': 5}"
      ]
     },
     "execution_count": 24,
     "metadata": {},
     "output_type": "execute_result"
    }
   ],
   "source": [
    "compter_mots_seuil(\"Ceci est ma phrase\", 5, False)"
   ]
  },
  {
   "cell_type": "code",
   "execution_count": 25,
   "id": "b77bdf20-9329-4ab4-a933-b6256c61f5a2",
   "metadata": {},
   "outputs": [
    {
     "data": {
      "text/plain": [
       "{'Total': 6,\n",
       " 'Proportion': 85.71,\n",
       " 'Phrase': 'Ceci est une autre phrase ma phrase',\n",
       " 'Seuil': 3}"
      ]
     },
     "execution_count": 25,
     "metadata": {},
     "output_type": "execute_result"
    }
   ],
   "source": [
    "compter_mots_seuil(\"Ceci est une autre phrase ma phrase\", 3, False)"
   ]
  },
  {
   "cell_type": "markdown",
   "id": "022a9fce-b18f-4599-94f7-2f96b9d7adda",
   "metadata": {},
   "source": [
    "## Fonction de concaténation de deux chaines"
   ]
  },
  {
   "cell_type": "code",
   "execution_count": 27,
   "id": "43587567-a959-46cd-9cd8-0d2e8a1ec04f",
   "metadata": {},
   "outputs": [],
   "source": [
    "def concatener(chaine1, chaine2):\n",
    "    \"\"\"\n",
    "    Concaténer deux chaines\n",
    "    \"\"\"\n",
    "    return chaine1 +\" \"+ chaine2"
   ]
  },
  {
   "cell_type": "code",
   "execution_count": 28,
   "id": "076b8777-9c9e-44f4-a438-efe1755a4386",
   "metadata": {},
   "outputs": [
    {
     "data": {
      "text/plain": [
       "'ceci est une phrase'"
      ]
     },
     "execution_count": 28,
     "metadata": {},
     "output_type": "execute_result"
    }
   ],
   "source": [
    "concatener(\"ceci\", \"est une phrase\")"
   ]
  },
  {
   "cell_type": "markdown",
   "id": "e0bd3b0f-5c34-43e6-a47e-d7a57745a52d",
   "metadata": {},
   "source": [
    "## Module"
   ]
  },
  {
   "cell_type": "code",
   "execution_count": 29,
   "id": "c15e32eb-192b-4a32-9a85-a5c1c941bf29",
   "metadata": {},
   "outputs": [],
   "source": [
    "import mes_fonctions"
   ]
  },
  {
   "cell_type": "code",
   "execution_count": 30,
   "id": "0a1304a0-4468-4938-b7d5-b27b756a8aa4",
   "metadata": {},
   "outputs": [
    {
     "data": {
      "text/plain": [
       "module"
      ]
     },
     "execution_count": 30,
     "metadata": {},
     "output_type": "execute_result"
    }
   ],
   "source": [
    "type(mes_fonctions)"
   ]
  },
  {
   "cell_type": "code",
   "execution_count": 31,
   "id": "c9f41181-fe63-4da3-b292-d4ccc42a1510",
   "metadata": {},
   "outputs": [
    {
     "data": {
      "text/plain": [
       "{'Total': 2, 'Proportion': 50.0, 'Phrase': 'ceci est un texte', 'Seuil': 4}"
      ]
     },
     "execution_count": 31,
     "metadata": {},
     "output_type": "execute_result"
    }
   ],
   "source": [
    "mes_fonctions.compter_mots_seuil(\"ceci est un texte\", 4, False)"
   ]
  }
 ],
 "metadata": {
  "kernelspec": {
   "display_name": "Python 3 (ipykernel)",
   "language": "python",
   "name": "python3"
  },
  "language_info": {
   "codemirror_mode": {
    "name": "ipython",
    "version": 3
   },
   "file_extension": ".py",
   "mimetype": "text/x-python",
   "name": "python",
   "nbconvert_exporter": "python",
   "pygments_lexer": "ipython3",
   "version": "3.11.7"
  }
 },
 "nbformat": 4,
 "nbformat_minor": 5
}
