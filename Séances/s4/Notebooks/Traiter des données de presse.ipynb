{
 "cells": [
  {
   "cell_type": "markdown",
   "id": "38028305-f6f6-4222-8b94-5ffe020d0702",
   "metadata": {},
   "source": [
    "## Analyse de la mention de la suisser dans la presse française nationale"
   ]
  },
  {
   "cell_type": "markdown",
   "id": "7d30cb03-097c-41b5-b1ca-3c42ebab4ef6",
   "metadata": {},
   "source": [
    "### La page HTML"
   ]
  },
  {
   "cell_type": "code",
   "execution_count": 1,
   "id": "363f93f6-9f21-4783-93a3-81975ac923c5",
   "metadata": {},
   "outputs": [],
   "source": [
    "with open(\"biblioeuropresse20240422124706.HTML\",\"r\") as f:\n",
    "    page = f.read()"
   ]
  },
  {
   "cell_type": "code",
   "execution_count": 3,
   "id": "b29c65d2-e1a4-4760-a2f2-e8daf388e302",
   "metadata": {},
   "outputs": [
    {
     "data": {
      "text/plain": [
       "'<!DOCTYPE html>\\n<html>\\n    <head>\\n\\t    <meta charset=\"utf-8\"/>\\n        <title></title>\\n    <style type=\"text/css\">html,body{font-family:Arial,\\'tahoma\\';font-size:11px;background-color:#fff;margin:5px auto;width:95%}section{text-align:justify;line-height:16px}a{color:inherit;*color:#000}em{font-style:normal}mark{background-color:#fbf592;color:#000}.DocText{font-size:12px;line-height:18px;color:#333;margin-top:20px}a:hover{text-decoration:underline}li{list-style-type:none}.stubs{color:inherit;text-decoration:none}.no-transcription{color:#999;font-style:italic}.img-container{min-height:75px}.clearfix{*clear:left}pre{font-size:1em;font-family:Arial,\\'tahoma\\';white-space:pre-wrap;word-wrap:break-word}.emptyTranscript{display:none}.transcripts{margin:25px 0 60px}.transcript{position:relative;margin:0.15em}.transcript>.time{color:#036;margin-right:10px;text-decoration:underline;width:55px;position:absolute}.transcript>.value{margin:0;margin-left:70px;position:relative;display:inline-block;text-'"
      ]
     },
     "execution_count": 3,
     "metadata": {},
     "output_type": "execute_result"
    }
   ],
   "source": [
    "page[0:1000]"
   ]
  },
  {
   "cell_type": "markdown",
   "id": "44183116-3599-4b35-a39f-7a0a41d23231",
   "metadata": {},
   "source": [
    "### Passer à un tableau"
   ]
  },
  {
   "cell_type": "code",
   "execution_count": 4,
   "id": "8e116401-9c0c-4e86-a9d0-c76954a03993",
   "metadata": {},
   "outputs": [
    {
     "name": "stdout",
     "output_type": "stream",
     "text": [
      "Collecting bs4\n",
      "  Downloading bs4-0.0.2-py2.py3-none-any.whl.metadata (411 bytes)\n",
      "Requirement already satisfied: beautifulsoup4 in /opt/anaconda3/lib/python3.11/site-packages (from bs4) (4.12.2)\n",
      "Requirement already satisfied: soupsieve>1.2 in /opt/anaconda3/lib/python3.11/site-packages (from beautifulsoup4->bs4) (2.5)\n",
      "Downloading bs4-0.0.2-py2.py3-none-any.whl (1.2 kB)\n",
      "Installing collected packages: bs4\n",
      "Successfully installed bs4-0.0.2\n",
      "Note: you may need to restart the kernel to use updated packages.\n"
     ]
    }
   ],
   "source": [
    "pip install bs4"
   ]
  },
  {
   "cell_type": "code",
   "execution_count": 5,
   "id": "1a8464ad-c2a6-4bd7-bf75-7aa0e6aea2a5",
   "metadata": {},
   "outputs": [],
   "source": [
    "import bs4"
   ]
  },
  {
   "cell_type": "code",
   "execution_count": 7,
   "id": "df7de516-c243-4985-9841-baa7d254754b",
   "metadata": {},
   "outputs": [],
   "source": [
    "page_html = bs4.BeautifulSoup(page)"
   ]
  },
  {
   "cell_type": "code",
   "execution_count": 8,
   "id": "f616e5c3-152d-45d7-8936-0d5145095066",
   "metadata": {},
   "outputs": [
    {
     "data": {
      "text/plain": [
       "bs4.BeautifulSoup"
      ]
     },
     "execution_count": 8,
     "metadata": {},
     "output_type": "execute_result"
    }
   ],
   "source": [
    "type(page_html)"
   ]
  },
  {
   "cell_type": "code",
   "execution_count": 11,
   "id": "090a94a9-568f-4b6b-a290-d5bea1dfed4b",
   "metadata": {},
   "outputs": [],
   "source": [
    "liste_articles = page_html.find_all(\"article\")"
   ]
  },
  {
   "cell_type": "code",
   "execution_count": 13,
   "id": "ec0f9e57-20c4-4b08-b2e2-f7d017f28bed",
   "metadata": {},
   "outputs": [
    {
     "data": {
      "text/plain": [
       "[<div class=\"titreArticle\">\n",
       " <p class=\"sm-margin-TopNews titreArticleVisu rdp__articletitle\">\n",
       " La classe politique <mark> suisse</mark> divisée par la décision de la CEDH            \n",
       "         </p>\n",
       " <p class=\"sm-margin-TopNews rdp__subtitle\">L’Union démocratique du centre (extrême droite), le premier parti du pays, dénonce l’« ingérence effrontée de juges étrangers »</p>\n",
       " </div>]"
      ]
     },
     "execution_count": 13,
     "metadata": {},
     "output_type": "execute_result"
    }
   ],
   "source": [
    "liste_articles[0].find_all(\"div\",{\"class\":\"titreArticle\"})"
   ]
  },
  {
   "cell_type": "markdown",
   "id": "aeffb909-bd8e-44f9-bec7-02f83617f962",
   "metadata": {},
   "source": [
    "https://github.com/emilienschultz/dstool"
   ]
  },
  {
   "cell_type": "markdown",
   "id": "c0dc6be0-e3fa-4ee5-91df-6c1b9c4ef7dc",
   "metadata": {},
   "source": [
    "### Vers un tableau structuré"
   ]
  },
  {
   "cell_type": "code",
   "execution_count": 14,
   "id": "a7246b23-8eda-460f-aba7-05b0824ef526",
   "metadata": {},
   "outputs": [],
   "source": [
    "import pandas as pd"
   ]
  },
  {
   "cell_type": "code",
   "execution_count": 16,
   "id": "5f5fd42c-bb86-431e-a390-ee9d7c7dd435",
   "metadata": {},
   "outputs": [],
   "source": [
    "df = pd.read_csv(\"tableau.csv\")"
   ]
  },
  {
   "cell_type": "code",
   "execution_count": 18,
   "id": "43c36f29-9c36-4e3b-a135-ec35c9a76a03",
   "metadata": {},
   "outputs": [
    {
     "data": {
      "text/html": [
       "<div>\n",
       "<style scoped>\n",
       "    .dataframe tbody tr th:only-of-type {\n",
       "        vertical-align: middle;\n",
       "    }\n",
       "\n",
       "    .dataframe tbody tr th {\n",
       "        vertical-align: top;\n",
       "    }\n",
       "\n",
       "    .dataframe thead th {\n",
       "        text-align: right;\n",
       "    }\n",
       "</style>\n",
       "<table border=\"1\" class=\"dataframe\">\n",
       "  <thead>\n",
       "    <tr style=\"text-align: right;\">\n",
       "      <th></th>\n",
       "      <th>Date_raw</th>\n",
       "      <th>Titre_raw</th>\n",
       "      <th>Journal_raw</th>\n",
       "      <th>Contenu_raw</th>\n",
       "      <th>Auteur_raw</th>\n",
       "      <th>Date_mod</th>\n",
       "      <th>Titre_mod</th>\n",
       "      <th>Contenu_mod</th>\n",
       "      <th>Journal_mod</th>\n",
       "    </tr>\n",
       "  </thead>\n",
       "  <tbody>\n",
       "    <tr>\n",
       "      <th>0</th>\n",
       "      <td>\\nPlanète,         jeudi 11 avril 2024 754 mot...</td>\n",
       "      <td>\\n\\nLa classe politique  suisse divisée par la...</td>\n",
       "      <td>\\n        Le Monde</td>\n",
       "      <td>\\n\\nGenève - correspondance - La condamnation ...</td>\n",
       "      <td>NaN</td>\n",
       "      <td>2024-04-11</td>\n",
       "      <td>La classe politique  suisse divisée par la déc...</td>\n",
       "      <td>Genève - correspondance - La condamnation de l...</td>\n",
       "      <td>Le Monde</td>\n",
       "    </tr>\n",
       "    <tr>\n",
       "      <th>1</th>\n",
       "      <td>\\nÉco&amp;Transition,         mercredi 10 avril 20...</td>\n",
       "      <td>\\n\\nLa CEDH condamne la  Suisse pour inaction ...</td>\n",
       "      <td>\\n        La Croix, no. 42892</td>\n",
       "      <td>\\n\\nC’est une décision qui fera date dans le c...</td>\n",
       "      <td>NaN</td>\n",
       "      <td>2024-04-10</td>\n",
       "      <td>La CEDH condamne la  Suisse pour inaction clim...</td>\n",
       "      <td>C’est une décision qui fera date dans le comba...</td>\n",
       "      <td>La Croix</td>\n",
       "    </tr>\n",
       "    <tr>\n",
       "      <th>2</th>\n",
       "      <td>\\nPlanète,         jeudi 11 avril 2024 1173 mo...</td>\n",
       "      <td>\\n\\nInaction climatique : une condamnation his...</td>\n",
       "      <td>\\n        Le Monde</td>\n",
       "      <td>\\n\\nStrasbourg - envoyée spéciale - Il fallait...</td>\n",
       "      <td>NaN</td>\n",
       "      <td>2024-04-11</td>\n",
       "      <td>Inaction climatique : une condamnation histori...</td>\n",
       "      <td>Strasbourg - envoyée spéciale - Il fallait ent...</td>\n",
       "      <td>Le Monde</td>\n",
       "    </tr>\n",
       "    <tr>\n",
       "      <th>3</th>\n",
       "      <td>\\n_Faits divers,         samedi 30 mars 2024 7...</td>\n",
       "      <td>\\n\\nRazzia sur les vélos électriques aux front...</td>\n",
       "      <td>\\n        Aujourd'hui en France               ...</td>\n",
       "      <td>\\n\\nMartin Antoine Correspondantà Strasbourg (...</td>\n",
       "      <td>NaN</td>\n",
       "      <td>2024-03-30</td>\n",
       "      <td>Razzia sur les vélos électriques aux frontière...</td>\n",
       "      <td>Martin Antoine Correspondantà Strasbourg (bas-...</td>\n",
       "      <td>Aujourd'hui en France                Edition P...</td>\n",
       "    </tr>\n",
       "    <tr>\n",
       "      <th>4</th>\n",
       "      <td>\\nEconomie &amp; Entreprise,         samedi 20 avr...</td>\n",
       "      <td>\\n\\nEntre malbouffe et scandales, le  suisse N...</td>\n",
       "      <td>\\n        Le Monde</td>\n",
       "      <td>\\n\\nLausanne (Suisse) - envoyé spécial - La gr...</td>\n",
       "      <td>NaN</td>\n",
       "      <td>2024-04-20</td>\n",
       "      <td>Entre malbouffe et scandales, le  suisse Nestl...</td>\n",
       "      <td>Lausanne (Suisse) - envoyé spécial - La grand-...</td>\n",
       "      <td>Le Monde</td>\n",
       "    </tr>\n",
       "  </tbody>\n",
       "</table>\n",
       "</div>"
      ],
      "text/plain": [
       "                                            Date_raw  \\\n",
       "0  \\nPlanète,         jeudi 11 avril 2024 754 mot...   \n",
       "1  \\nÉco&Transition,         mercredi 10 avril 20...   \n",
       "2  \\nPlanète,         jeudi 11 avril 2024 1173 mo...   \n",
       "3  \\n_Faits divers,         samedi 30 mars 2024 7...   \n",
       "4  \\nEconomie & Entreprise,         samedi 20 avr...   \n",
       "\n",
       "                                           Titre_raw  \\\n",
       "0  \\n\\nLa classe politique  suisse divisée par la...   \n",
       "1  \\n\\nLa CEDH condamne la  Suisse pour inaction ...   \n",
       "2  \\n\\nInaction climatique : une condamnation his...   \n",
       "3  \\n\\nRazzia sur les vélos électriques aux front...   \n",
       "4  \\n\\nEntre malbouffe et scandales, le  suisse N...   \n",
       "\n",
       "                                         Journal_raw  \\\n",
       "0             \\n        Le Monde                       \n",
       "1  \\n        La Croix, no. 42892                       \n",
       "2             \\n        Le Monde                       \n",
       "3  \\n        Aujourd'hui en France               ...   \n",
       "4             \\n        Le Monde                       \n",
       "\n",
       "                                         Contenu_raw  Auteur_raw    Date_mod  \\\n",
       "0  \\n\\nGenève - correspondance - La condamnation ...         NaN  2024-04-11   \n",
       "1  \\n\\nC’est une décision qui fera date dans le c...         NaN  2024-04-10   \n",
       "2  \\n\\nStrasbourg - envoyée spéciale - Il fallait...         NaN  2024-04-11   \n",
       "3  \\n\\nMartin Antoine Correspondantà Strasbourg (...         NaN  2024-03-30   \n",
       "4  \\n\\nLausanne (Suisse) - envoyé spécial - La gr...         NaN  2024-04-20   \n",
       "\n",
       "                                           Titre_mod  \\\n",
       "0  La classe politique  suisse divisée par la déc...   \n",
       "1  La CEDH condamne la  Suisse pour inaction clim...   \n",
       "2  Inaction climatique : une condamnation histori...   \n",
       "3  Razzia sur les vélos électriques aux frontière...   \n",
       "4  Entre malbouffe et scandales, le  suisse Nestl...   \n",
       "\n",
       "                                         Contenu_mod  \\\n",
       "0  Genève - correspondance - La condamnation de l...   \n",
       "1  C’est une décision qui fera date dans le comba...   \n",
       "2  Strasbourg - envoyée spéciale - Il fallait ent...   \n",
       "3  Martin Antoine Correspondantà Strasbourg (bas-...   \n",
       "4  Lausanne (Suisse) - envoyé spécial - La grand-...   \n",
       "\n",
       "                                         Journal_mod  \n",
       "0                                           Le Monde  \n",
       "1                                           La Croix  \n",
       "2                                           Le Monde  \n",
       "3  Aujourd'hui en France                Edition P...  \n",
       "4                                           Le Monde  "
      ]
     },
     "execution_count": 18,
     "metadata": {},
     "output_type": "execute_result"
    }
   ],
   "source": [
    "df.head()"
   ]
  },
  {
   "cell_type": "markdown",
   "id": "8efcebe1-b199-4e30-ae25-ccf5903f0e5d",
   "metadata": {},
   "source": [
    "## Combien de mots contient chaque article"
   ]
  },
  {
   "cell_type": "code",
   "execution_count": 22,
   "id": "e316993b-e8e9-4353-85f1-c3f30fac00f5",
   "metadata": {},
   "outputs": [],
   "source": [
    "def nb_mots(texte):\n",
    "    \"\"\"\n",
    "    Fonction \"bourrine\" pour calculer le nombre de mots\n",
    "    \"\"\"\n",
    "    return len(texte.split(\" \"))"
   ]
  },
  {
   "cell_type": "code",
   "execution_count": 23,
   "id": "a7205942-99d0-4cef-a177-152616e284e8",
   "metadata": {},
   "outputs": [
    {
     "data": {
      "text/plain": [
       "704"
      ]
     },
     "execution_count": 23,
     "metadata": {},
     "output_type": "execute_result"
    }
   ],
   "source": [
    "nb_mots(df.iloc[0][\"Contenu_mod\"])"
   ]
  },
  {
   "cell_type": "code",
   "execution_count": 28,
   "id": "bed01cc4-9125-4ea2-a55b-857bc7e00ef1",
   "metadata": {},
   "outputs": [],
   "source": [
    "df[\"nb_mots\"] = df[\"Contenu_mod\"].apply(nb_mots)"
   ]
  },
  {
   "cell_type": "code",
   "execution_count": 30,
   "id": "eb25de22-8b15-4162-8900-d7bc250fa46b",
   "metadata": {},
   "outputs": [
    {
     "data": {
      "text/html": [
       "<div>\n",
       "<style scoped>\n",
       "    .dataframe tbody tr th:only-of-type {\n",
       "        vertical-align: middle;\n",
       "    }\n",
       "\n",
       "    .dataframe tbody tr th {\n",
       "        vertical-align: top;\n",
       "    }\n",
       "\n",
       "    .dataframe thead th {\n",
       "        text-align: right;\n",
       "    }\n",
       "</style>\n",
       "<table border=\"1\" class=\"dataframe\">\n",
       "  <thead>\n",
       "    <tr style=\"text-align: right;\">\n",
       "      <th></th>\n",
       "      <th>Date_raw</th>\n",
       "      <th>Titre_raw</th>\n",
       "      <th>Journal_raw</th>\n",
       "      <th>Contenu_raw</th>\n",
       "      <th>Auteur_raw</th>\n",
       "      <th>Date_mod</th>\n",
       "      <th>Titre_mod</th>\n",
       "      <th>Contenu_mod</th>\n",
       "      <th>Journal_mod</th>\n",
       "      <th>nb_mots</th>\n",
       "    </tr>\n",
       "  </thead>\n",
       "  <tbody>\n",
       "    <tr>\n",
       "      <th>0</th>\n",
       "      <td>\\nPlanète,         jeudi 11 avril 2024 754 mot...</td>\n",
       "      <td>\\n\\nLa classe politique  suisse divisée par la...</td>\n",
       "      <td>\\n        Le Monde</td>\n",
       "      <td>\\n\\nGenève - correspondance - La condamnation ...</td>\n",
       "      <td>NaN</td>\n",
       "      <td>2024-04-11</td>\n",
       "      <td>La classe politique  suisse divisée par la déc...</td>\n",
       "      <td>Genève - correspondance - La condamnation de l...</td>\n",
       "      <td>Le Monde</td>\n",
       "      <td>704</td>\n",
       "    </tr>\n",
       "    <tr>\n",
       "      <th>1</th>\n",
       "      <td>\\nÉco&amp;Transition,         mercredi 10 avril 20...</td>\n",
       "      <td>\\n\\nLa CEDH condamne la  Suisse pour inaction ...</td>\n",
       "      <td>\\n        La Croix, no. 42892</td>\n",
       "      <td>\\n\\nC’est une décision qui fera date dans le c...</td>\n",
       "      <td>NaN</td>\n",
       "      <td>2024-04-10</td>\n",
       "      <td>La CEDH condamne la  Suisse pour inaction clim...</td>\n",
       "      <td>C’est une décision qui fera date dans le comba...</td>\n",
       "      <td>La Croix</td>\n",
       "      <td>773</td>\n",
       "    </tr>\n",
       "  </tbody>\n",
       "</table>\n",
       "</div>"
      ],
      "text/plain": [
       "                                            Date_raw  \\\n",
       "0  \\nPlanète,         jeudi 11 avril 2024 754 mot...   \n",
       "1  \\nÉco&Transition,         mercredi 10 avril 20...   \n",
       "\n",
       "                                           Titre_raw  \\\n",
       "0  \\n\\nLa classe politique  suisse divisée par la...   \n",
       "1  \\n\\nLa CEDH condamne la  Suisse pour inaction ...   \n",
       "\n",
       "                                         Journal_raw  \\\n",
       "0             \\n        Le Monde                       \n",
       "1  \\n        La Croix, no. 42892                       \n",
       "\n",
       "                                         Contenu_raw  Auteur_raw    Date_mod  \\\n",
       "0  \\n\\nGenève - correspondance - La condamnation ...         NaN  2024-04-11   \n",
       "1  \\n\\nC’est une décision qui fera date dans le c...         NaN  2024-04-10   \n",
       "\n",
       "                                           Titre_mod  \\\n",
       "0  La classe politique  suisse divisée par la déc...   \n",
       "1  La CEDH condamne la  Suisse pour inaction clim...   \n",
       "\n",
       "                                         Contenu_mod Journal_mod  nb_mots  \n",
       "0  Genève - correspondance - La condamnation de l...    Le Monde      704  \n",
       "1  C’est une décision qui fera date dans le comba...    La Croix      773  "
      ]
     },
     "execution_count": 30,
     "metadata": {},
     "output_type": "execute_result"
    }
   ],
   "source": [
    "df.head(2)"
   ]
  },
  {
   "cell_type": "code",
   "execution_count": 31,
   "id": "a57dc7f3-a0ab-46fe-b304-b42fda5ba19b",
   "metadata": {},
   "outputs": [
    {
     "data": {
      "text/plain": [
       "count     279.00000\n",
       "mean      826.44086\n",
       "std       719.48234\n",
       "min        13.00000\n",
       "25%       376.00000\n",
       "50%       778.00000\n",
       "75%      1090.50000\n",
       "max      7596.00000\n",
       "Name: nb_mots, dtype: float64"
      ]
     },
     "execution_count": 31,
     "metadata": {},
     "output_type": "execute_result"
    }
   ],
   "source": [
    "df[\"nb_mots\"].describe()"
   ]
  },
  {
   "cell_type": "code",
   "execution_count": 34,
   "id": "94b2cc04-3bd6-465d-b143-ed20b0011c36",
   "metadata": {},
   "outputs": [
    {
     "data": {
      "text/html": [
       "<div>\n",
       "<style scoped>\n",
       "    .dataframe tbody tr th:only-of-type {\n",
       "        vertical-align: middle;\n",
       "    }\n",
       "\n",
       "    .dataframe tbody tr th {\n",
       "        vertical-align: top;\n",
       "    }\n",
       "\n",
       "    .dataframe thead th {\n",
       "        text-align: right;\n",
       "    }\n",
       "</style>\n",
       "<table border=\"1\" class=\"dataframe\">\n",
       "  <thead>\n",
       "    <tr style=\"text-align: right;\">\n",
       "      <th></th>\n",
       "      <th>Date_raw</th>\n",
       "      <th>Titre_raw</th>\n",
       "      <th>Journal_raw</th>\n",
       "      <th>Contenu_raw</th>\n",
       "      <th>Auteur_raw</th>\n",
       "      <th>Date_mod</th>\n",
       "      <th>Titre_mod</th>\n",
       "      <th>Contenu_mod</th>\n",
       "      <th>Journal_mod</th>\n",
       "      <th>nb_mots</th>\n",
       "    </tr>\n",
       "  </thead>\n",
       "  <tbody>\n",
       "    <tr>\n",
       "      <th>0</th>\n",
       "      <td>\\nPlanète,         jeudi 11 avril 2024 754 mot...</td>\n",
       "      <td>\\n\\nLa classe politique  suisse divisée par la...</td>\n",
       "      <td>\\n        Le Monde</td>\n",
       "      <td>\\n\\nGenève - correspondance - La condamnation ...</td>\n",
       "      <td>NaN</td>\n",
       "      <td>2024-04-11</td>\n",
       "      <td>La classe politique  suisse divisée par la déc...</td>\n",
       "      <td>Genève - correspondance - La condamnation de l...</td>\n",
       "      <td>Le Monde</td>\n",
       "      <td>704</td>\n",
       "    </tr>\n",
       "    <tr>\n",
       "      <th>1</th>\n",
       "      <td>\\nÉco&amp;Transition,         mercredi 10 avril 20...</td>\n",
       "      <td>\\n\\nLa CEDH condamne la  Suisse pour inaction ...</td>\n",
       "      <td>\\n        La Croix, no. 42892</td>\n",
       "      <td>\\n\\nC’est une décision qui fera date dans le c...</td>\n",
       "      <td>NaN</td>\n",
       "      <td>2024-04-10</td>\n",
       "      <td>La CEDH condamne la  Suisse pour inaction clim...</td>\n",
       "      <td>C’est une décision qui fera date dans le comba...</td>\n",
       "      <td>La Croix</td>\n",
       "      <td>773</td>\n",
       "    </tr>\n",
       "    <tr>\n",
       "      <th>2</th>\n",
       "      <td>\\nPlanète,         jeudi 11 avril 2024 1173 mo...</td>\n",
       "      <td>\\n\\nInaction climatique : une condamnation his...</td>\n",
       "      <td>\\n        Le Monde</td>\n",
       "      <td>\\n\\nStrasbourg - envoyée spéciale - Il fallait...</td>\n",
       "      <td>NaN</td>\n",
       "      <td>2024-04-11</td>\n",
       "      <td>Inaction climatique : une condamnation histori...</td>\n",
       "      <td>Strasbourg - envoyée spéciale - Il fallait ent...</td>\n",
       "      <td>Le Monde</td>\n",
       "      <td>1137</td>\n",
       "    </tr>\n",
       "    <tr>\n",
       "      <th>3</th>\n",
       "      <td>\\n_Faits divers,         samedi 30 mars 2024 7...</td>\n",
       "      <td>\\n\\nRazzia sur les vélos électriques aux front...</td>\n",
       "      <td>\\n        Aujourd'hui en France               ...</td>\n",
       "      <td>\\n\\nMartin Antoine Correspondantà Strasbourg (...</td>\n",
       "      <td>NaN</td>\n",
       "      <td>2024-03-30</td>\n",
       "      <td>Razzia sur les vélos électriques aux frontière...</td>\n",
       "      <td>Martin Antoine Correspondantà Strasbourg (bas-...</td>\n",
       "      <td>Aujourd'hui en France                Edition P...</td>\n",
       "      <td>706</td>\n",
       "    </tr>\n",
       "    <tr>\n",
       "      <th>4</th>\n",
       "      <td>\\nEconomie &amp; Entreprise,         samedi 20 avr...</td>\n",
       "      <td>\\n\\nEntre malbouffe et scandales, le  suisse N...</td>\n",
       "      <td>\\n        Le Monde</td>\n",
       "      <td>\\n\\nLausanne (Suisse) - envoyé spécial - La gr...</td>\n",
       "      <td>NaN</td>\n",
       "      <td>2024-04-20</td>\n",
       "      <td>Entre malbouffe et scandales, le  suisse Nestl...</td>\n",
       "      <td>Lausanne (Suisse) - envoyé spécial - La grand-...</td>\n",
       "      <td>Le Monde</td>\n",
       "      <td>904</td>\n",
       "    </tr>\n",
       "    <tr>\n",
       "      <th>...</th>\n",
       "      <td>...</td>\n",
       "      <td>...</td>\n",
       "      <td>...</td>\n",
       "      <td>...</td>\n",
       "      <td>...</td>\n",
       "      <td>...</td>\n",
       "      <td>...</td>\n",
       "      <td>...</td>\n",
       "      <td>...</td>\n",
       "      <td>...</td>\n",
       "    </tr>\n",
       "    <tr>\n",
       "      <th>274</th>\n",
       "      <td>\\nHistoire,         jeudi 11 avril 2024 99 mot...</td>\n",
       "      <td>\\nIL Y A 40 ANS DANS \"VA\"\\n\\nÀ la loupe IL Y A...</td>\n",
       "      <td>\\n        Valeurs Actuelles, no. 4559         ...</td>\n",
       "      <td>\\n\\nLa cote de la France se maintient au \"hit-...</td>\n",
       "      <td>NaN</td>\n",
       "      <td>2024-04-11</td>\n",
       "      <td>IL Y A 40 ANS DANS \"VA\"\\n\\nÀ la loupe IL Y A 4...</td>\n",
       "      <td>La cote de la France se maintient au \"hit-para...</td>\n",
       "      <td>Valeurs Actuelles</td>\n",
       "      <td>71</td>\n",
       "    </tr>\n",
       "    <tr>\n",
       "      <th>275</th>\n",
       "      <td>\\nLes Editorialistes,         jeudi 4 avril 20...</td>\n",
       "      <td>\\n\\nRencontres            \\n        \\n</td>\n",
       "      <td>\\n        Le Point, no. 2696</td>\n",
       "      <td>\\n\\nDans la même journée froide de printemps, ...</td>\n",
       "      <td>NaN</td>\n",
       "      <td>2024-04-04</td>\n",
       "      <td>Rencontres</td>\n",
       "      <td>Dans la même journée froide de printemps, je r...</td>\n",
       "      <td>Le Point</td>\n",
       "      <td>527</td>\n",
       "    </tr>\n",
       "    <tr>\n",
       "      <th>276</th>\n",
       "      <td>\\nSciences &amp; Santé,         jeudi 4 avril 2024...</td>\n",
       "      <td>\\nDÉTOURNEMENTS\\n\\nGénétique, ARN messager... ...</td>\n",
       "      <td>\\n        L'Express, no. 3796</td>\n",
       "      <td>\\n\\nImaginez un athlète médaillé aux Jeux olym...</td>\n",
       "      <td>NaN</td>\n",
       "      <td>2024-04-04</td>\n",
       "      <td>DÉTOURNEMENTS\\n\\nGénétique, ARN messager... le...</td>\n",
       "      <td>Imaginez un athlète médaillé aux Jeux olympiqu...</td>\n",
       "      <td>L'Express</td>\n",
       "      <td>1302</td>\n",
       "    </tr>\n",
       "    <tr>\n",
       "      <th>277</th>\n",
       "      <td>\\nTerritoires,         jeudi 4 avril 2024 1199...</td>\n",
       "      <td>\\nCes villes qui font bouger la France Pionniè...</td>\n",
       "      <td>\\n        L'Express, no. 3796</td>\n",
       "      <td>\\n\\nCela devient une habitude... Pionnière dep...</td>\n",
       "      <td>NaN</td>\n",
       "      <td>2024-04-04</td>\n",
       "      <td>Ces villes qui font bouger la France Pionnière...</td>\n",
       "      <td>Cela devient une habitude... Pionnière depuis ...</td>\n",
       "      <td>L'Express</td>\n",
       "      <td>1202</td>\n",
       "    </tr>\n",
       "    <tr>\n",
       "      <th>278</th>\n",
       "      <td>\\nAssurance-vie,         jeudi 11 avril 2024 1...</td>\n",
       "      <td>\\nASSURANCE-VIE - Profitez de la nouvelle donn...</td>\n",
       "      <td>\\n        L'Express, no. 3797</td>\n",
       "      <td>\\n\\nL'assurance-vie apparaît comme un couteau ...</td>\n",
       "      <td>NaN</td>\n",
       "      <td>2024-04-11</td>\n",
       "      <td>ASSURANCE-VIE - Profitez de la nouvelle donne ...</td>\n",
       "      <td>L'assurance-vie apparaît comme un couteau suis...</td>\n",
       "      <td>L'Express</td>\n",
       "      <td>1252</td>\n",
       "    </tr>\n",
       "  </tbody>\n",
       "</table>\n",
       "<p>279 rows × 10 columns</p>\n",
       "</div>"
      ],
      "text/plain": [
       "                                              Date_raw  \\\n",
       "0    \\nPlanète,         jeudi 11 avril 2024 754 mot...   \n",
       "1    \\nÉco&Transition,         mercredi 10 avril 20...   \n",
       "2    \\nPlanète,         jeudi 11 avril 2024 1173 mo...   \n",
       "3    \\n_Faits divers,         samedi 30 mars 2024 7...   \n",
       "4    \\nEconomie & Entreprise,         samedi 20 avr...   \n",
       "..                                                 ...   \n",
       "274  \\nHistoire,         jeudi 11 avril 2024 99 mot...   \n",
       "275  \\nLes Editorialistes,         jeudi 4 avril 20...   \n",
       "276  \\nSciences & Santé,         jeudi 4 avril 2024...   \n",
       "277  \\nTerritoires,         jeudi 4 avril 2024 1199...   \n",
       "278  \\nAssurance-vie,         jeudi 11 avril 2024 1...   \n",
       "\n",
       "                                             Titre_raw  \\\n",
       "0    \\n\\nLa classe politique  suisse divisée par la...   \n",
       "1    \\n\\nLa CEDH condamne la  Suisse pour inaction ...   \n",
       "2    \\n\\nInaction climatique : une condamnation his...   \n",
       "3    \\n\\nRazzia sur les vélos électriques aux front...   \n",
       "4    \\n\\nEntre malbouffe et scandales, le  suisse N...   \n",
       "..                                                 ...   \n",
       "274  \\nIL Y A 40 ANS DANS \"VA\"\\n\\nÀ la loupe IL Y A...   \n",
       "275             \\n\\nRencontres            \\n        \\n   \n",
       "276  \\nDÉTOURNEMENTS\\n\\nGénétique, ARN messager... ...   \n",
       "277  \\nCes villes qui font bouger la France Pionniè...   \n",
       "278  \\nASSURANCE-VIE - Profitez de la nouvelle donn...   \n",
       "\n",
       "                                           Journal_raw  \\\n",
       "0               \\n        Le Monde                       \n",
       "1    \\n        La Croix, no. 42892                       \n",
       "2               \\n        Le Monde                       \n",
       "3    \\n        Aujourd'hui en France               ...   \n",
       "4               \\n        Le Monde                       \n",
       "..                                                 ...   \n",
       "274  \\n        Valeurs Actuelles, no. 4559         ...   \n",
       "275   \\n        Le Point, no. 2696                       \n",
       "276  \\n        L'Express, no. 3796                       \n",
       "277  \\n        L'Express, no. 3796                       \n",
       "278  \\n        L'Express, no. 3797                       \n",
       "\n",
       "                                           Contenu_raw  Auteur_raw  \\\n",
       "0    \\n\\nGenève - correspondance - La condamnation ...         NaN   \n",
       "1    \\n\\nC’est une décision qui fera date dans le c...         NaN   \n",
       "2    \\n\\nStrasbourg - envoyée spéciale - Il fallait...         NaN   \n",
       "3    \\n\\nMartin Antoine Correspondantà Strasbourg (...         NaN   \n",
       "4    \\n\\nLausanne (Suisse) - envoyé spécial - La gr...         NaN   \n",
       "..                                                 ...         ...   \n",
       "274  \\n\\nLa cote de la France se maintient au \"hit-...         NaN   \n",
       "275  \\n\\nDans la même journée froide de printemps, ...         NaN   \n",
       "276  \\n\\nImaginez un athlète médaillé aux Jeux olym...         NaN   \n",
       "277  \\n\\nCela devient une habitude... Pionnière dep...         NaN   \n",
       "278  \\n\\nL'assurance-vie apparaît comme un couteau ...         NaN   \n",
       "\n",
       "       Date_mod                                          Titre_mod  \\\n",
       "0    2024-04-11  La classe politique  suisse divisée par la déc...   \n",
       "1    2024-04-10  La CEDH condamne la  Suisse pour inaction clim...   \n",
       "2    2024-04-11  Inaction climatique : une condamnation histori...   \n",
       "3    2024-03-30  Razzia sur les vélos électriques aux frontière...   \n",
       "4    2024-04-20  Entre malbouffe et scandales, le  suisse Nestl...   \n",
       "..          ...                                                ...   \n",
       "274  2024-04-11  IL Y A 40 ANS DANS \"VA\"\\n\\nÀ la loupe IL Y A 4...   \n",
       "275  2024-04-04                                         Rencontres   \n",
       "276  2024-04-04  DÉTOURNEMENTS\\n\\nGénétique, ARN messager... le...   \n",
       "277  2024-04-04  Ces villes qui font bouger la France Pionnière...   \n",
       "278  2024-04-11  ASSURANCE-VIE - Profitez de la nouvelle donne ...   \n",
       "\n",
       "                                           Contenu_mod  \\\n",
       "0    Genève - correspondance - La condamnation de l...   \n",
       "1    C’est une décision qui fera date dans le comba...   \n",
       "2    Strasbourg - envoyée spéciale - Il fallait ent...   \n",
       "3    Martin Antoine Correspondantà Strasbourg (bas-...   \n",
       "4    Lausanne (Suisse) - envoyé spécial - La grand-...   \n",
       "..                                                 ...   \n",
       "274  La cote de la France se maintient au \"hit-para...   \n",
       "275  Dans la même journée froide de printemps, je r...   \n",
       "276  Imaginez un athlète médaillé aux Jeux olympiqu...   \n",
       "277  Cela devient une habitude... Pionnière depuis ...   \n",
       "278  L'assurance-vie apparaît comme un couteau suis...   \n",
       "\n",
       "                                           Journal_mod  nb_mots  \n",
       "0                                             Le Monde      704  \n",
       "1                                             La Croix      773  \n",
       "2                                             Le Monde     1137  \n",
       "3    Aujourd'hui en France                Edition P...      706  \n",
       "4                                             Le Monde      904  \n",
       "..                                                 ...      ...  \n",
       "274                                  Valeurs Actuelles       71  \n",
       "275                                           Le Point      527  \n",
       "276                                          L'Express     1302  \n",
       "277                                          L'Express     1202  \n",
       "278                                          L'Express     1252  \n",
       "\n",
       "[279 rows x 10 columns]"
      ]
     },
     "execution_count": 34,
     "metadata": {},
     "output_type": "execute_result"
    }
   ],
   "source": [
    "df"
   ]
  }
 ],
 "metadata": {
  "kernelspec": {
   "display_name": "Python 3 (ipykernel)",
   "language": "python",
   "name": "python3"
  },
  "language_info": {
   "codemirror_mode": {
    "name": "ipython",
    "version": 3
   },
   "file_extension": ".py",
   "mimetype": "text/x-python",
   "name": "python",
   "nbconvert_exporter": "python",
   "pygments_lexer": "ipython3",
   "version": "3.11.7"
  }
 },
 "nbformat": 4,
 "nbformat_minor": 5
}
