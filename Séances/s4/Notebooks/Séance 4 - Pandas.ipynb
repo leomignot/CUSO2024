{
 "cells": [
  {
   "cell_type": "markdown",
   "metadata": {},
   "source": [
    "# Pandas pour l'analyse de données"
   ]
  },
  {
   "cell_type": "markdown",
   "metadata": {},
   "source": [
    "Avec des morceaux de Emilien Schultz et de [Mickael Temporão](https://mickaeltemporao.github.io/itds/resources/notebooks/) dedans.\n"
   ]
  },
  {
   "cell_type": "markdown",
   "metadata": {},
   "source": [
    "**Aujourd'hui :**  \n",
    "- Charger des données\n",
    "- Explorer les données\n",
    "- Découvrir les méthodes/fonctions de pandas\n",
    "\n",
    "Et notamment :\n",
    "- Sélectionner et filtrer des observations\n",
    "- Faire des tris à plat\n",
    "- Des tris croisés ?\n",
    "- Recoder des variables\n",
    "    - .apply() / .replace() / .cut()\n"
   ]
  },
  {
   "cell_type": "markdown",
   "metadata": {},
   "source": [
    "User guide : https://pandas.pydata.org/docs/user_guide/10min.html  \n",
    "Cheat Sheet : https://pandas.pydata.org/Pandas_Cheat_Sheet.pdf"
   ]
  },
  {
   "cell_type": "code",
   "execution_count": null,
   "metadata": {},
   "outputs": [],
   "source": []
  },
  {
   "cell_type": "code",
   "execution_count": null,
   "metadata": {},
   "outputs": [],
   "source": []
  },
  {
   "cell_type": "markdown",
   "metadata": {},
   "source": [
    "# IMPORTER PANDAS"
   ]
  },
  {
   "cell_type": "code",
   "execution_count": null,
   "metadata": {},
   "outputs": [],
   "source": [
    "import pandas as pd"
   ]
  },
  {
   "cell_type": "code",
   "execution_count": null,
   "metadata": {},
   "outputs": [],
   "source": [
    "# Si pas installé (normalement OK avec anaconda)\n",
    "\n",
    "# Installer avec conda :\n",
    "#conda install -c conda-forge pandas\n",
    "\n",
    "# Installer avec pip :\n",
    "#pip install pandas"
   ]
  },
  {
   "cell_type": "code",
   "execution_count": null,
   "metadata": {},
   "outputs": [],
   "source": []
  },
  {
   "cell_type": "markdown",
   "metadata": {},
   "source": [
    "# LE DATAFRAME"
   ]
  },
  {
   "cell_type": "markdown",
   "metadata": {},
   "source": [
    "Un dataframe = des series mises ensemble dans un tableau  \n",
    "Données tabulaires : lignes (observations) et colonnes (variables)"
   ]
  },
  {
   "cell_type": "markdown",
   "metadata": {},
   "source": [
    "![](https://storage.googleapis.com/lds-media/images/series-and-dataframe.width-1200.png)"
   ]
  },
  {
   "cell_type": "markdown",
   "metadata": {},
   "source": [
    "**On peut (si on aime souffrir) créer un dataframe à la main**  \n",
    "(ça a une vertue pédagogique)  \n",
    "(même si dans la vraie vie on va plutôt charger des données)"
   ]
  },
  {
   "cell_type": "code",
   "execution_count": null,
   "metadata": {},
   "outputs": [],
   "source": [
    "# Une façon de créer un dataframe :\n",
    "Exemple = pd.DataFrame([[\"Python\",\"Faible\"],\n",
    "              [\"R\",\"Forte\"],\n",
    "              [\"Julia\",\"Très faible\"]],\n",
    "            columns = [\"Langage\",\"Connaissance en SHS\"])\n",
    "\n",
    "# Afficher le résultat\n",
    "Exemple"
   ]
  },
  {
   "cell_type": "code",
   "execution_count": null,
   "metadata": {},
   "outputs": [],
   "source": [
    "# Une autre façon de créer un dataframe : \n",
    "langage = [\"Python\",\"R\",\"Julia\"]\n",
    "connaissance = [\"Faible\",\"Forte\",\"Très faible\"]\n",
    "\n",
    "Exemple2 = pd.DataFrame(\n",
    "    {\n",
    "        \"LANGAGE\": langage,\n",
    "        \"CONNAISSANCE EN SHS\": connaissance\n",
    "    })\n",
    "\n",
    "# Afficher le résultat\n",
    "Exemple2"
   ]
  },
  {
   "cell_type": "code",
   "execution_count": null,
   "metadata": {},
   "outputs": [],
   "source": [
    "# Vérifier le type ?\n",
    "type(Exemple)"
   ]
  },
  {
   "cell_type": "code",
   "execution_count": null,
   "metadata": {},
   "outputs": [],
   "source": []
  },
  {
   "cell_type": "code",
   "execution_count": null,
   "metadata": {},
   "outputs": [],
   "source": []
  },
  {
   "cell_type": "code",
   "execution_count": null,
   "metadata": {},
   "outputs": [],
   "source": []
  },
  {
   "cell_type": "markdown",
   "metadata": {},
   "source": [
    "# CHARGER DES DONNÉES"
   ]
  },
  {
   "cell_type": "markdown",
   "metadata": {},
   "source": [
    "### Lire directement des données depuis l'internet mondial\n",
    "`pd.read_csv(\"https://ma_super_url_qui_pointe_vers_mon_fichier.csv\")`"
   ]
  },
  {
   "cell_type": "markdown",
   "metadata": {},
   "source": [
    "Ici on va travailler avec des donnes trouvables sur ce dépot : https://zenodo.org/records/5827206"
   ]
  },
  {
   "cell_type": "code",
   "execution_count": null,
   "metadata": {},
   "outputs": [],
   "source": [
    "# Stocker l'url\n",
    "url = \"https://zenodo.org/record/5827206/files/SOSP_Export_base%20de%20donn%C3%A9es%20diffusable.csv\"\n",
    "\n",
    "# charger\n",
    "data = pd.read_csv(url)\n",
    "\n",
    "# pareil que ça:\n",
    "# data = pd.read_csv(\"https://zenodo.org/record/5827206/files/SOSP_Export_base%20de%20donn%C3%A9es%20diffusable.csv\")"
   ]
  },
  {
   "cell_type": "code",
   "execution_count": null,
   "metadata": {},
   "outputs": [],
   "source": [
    "# l'afficher\n",
    "data"
   ]
  },
  {
   "cell_type": "markdown",
   "metadata": {},
   "source": [
    "### Lire des données depuis son ordinateur\n",
    "Plus courant\n",
    "\n",
    "`pd.read_csv(\"chemin/vers/le/fichier.csv\")`"
   ]
  },
  {
   "cell_type": "code",
   "execution_count": null,
   "metadata": {},
   "outputs": [],
   "source": [
    "# un exemple avec un fichier local\n",
    "# si j'ai téléchargé le fichier disponible sur le dépot zenodo\n",
    "# et que je l'ai mis dans le même dossier que mon notebook :\n",
    "local = pd.read_csv(\"SOSP_Export_base de données diffusable.csv\")"
   ]
  },
  {
   "cell_type": "code",
   "execution_count": null,
   "metadata": {},
   "outputs": [],
   "source": [
    "# L'afficher\n",
    "local"
   ]
  },
  {
   "cell_type": "markdown",
   "metadata": {},
   "source": [
    "### On peut lire plusieurs formats\n",
    "\n",
    "- `pd.read_csv()`\n",
    "- `pd.read_excel()`\n",
    "- `pd.read_spss()` (avec pyreadstat)\n",
    "- `pd.read_sql()`\n",
    "- `pd.read_json()` \n",
    "\n",
    "\n"
   ]
  },
  {
   "cell_type": "markdown",
   "metadata": {},
   "source": [
    "# EXPLORATION DE DONNÉES"
   ]
  },
  {
   "cell_type": "markdown",
   "metadata": {},
   "source": [
    "**Quelques outils utiles :**  \n",
    "- `.info()` des infos sur notre df  \n",
    "- `.shape` sa \"forme\"  \n",
    "- `.columns` les colonnes  \n",
    "- `.dtypes` le type des données  \n",
    "- `.head()` afficher les premières observations  \n",
    "- `.tail()` afficher la fin du df  \n",
    "- `.describe()` description basique  "
   ]
  },
  {
   "cell_type": "code",
   "execution_count": null,
   "metadata": {},
   "outputs": [],
   "source": [
    "# Utiliser .info() pour obtenir des informations basiques sur notre dataframe\n",
    "data.info()"
   ]
  },
  {
   "cell_type": "code",
   "execution_count": null,
   "metadata": {},
   "outputs": [],
   "source": [
    "# voir ce que font shape ; columns ; dtypes\n",
    "data.shape"
   ]
  },
  {
   "cell_type": "code",
   "execution_count": null,
   "metadata": {},
   "outputs": [],
   "source": [
    "# utiliser head() et tail()\n",
    "\n",
    "# et si je veux afficher les x premiers ?\n",
    "data.head(10)"
   ]
  },
  {
   "cell_type": "markdown",
   "metadata": {},
   "source": [
    "# Sélectionner des colonnes (nos variables)"
   ]
  },
  {
   "cell_type": "markdown",
   "metadata": {},
   "source": [
    "Avec pandas, on peut sélectionner nos variables à l'aide des crochets :  \n",
    "[ ]  \n",
    "\n",
    "(maj+alt+5 sous mac, alt gr+5 sous pc)\n",
    "\n",
    "`mon_dataframe[\"ma_variable\"]`\n"
   ]
  },
  {
   "cell_type": "code",
   "execution_count": null,
   "metadata": {},
   "outputs": [],
   "source": [
    "# Sélectionner la variable \"sexe\"\n",
    "data[\"sexe\"]"
   ]
  },
  {
   "cell_type": "code",
   "execution_count": null,
   "metadata": {},
   "outputs": [],
   "source": [
    "# vérifier le type ?\n",
    "type(data[\"sexe\"])"
   ]
  },
  {
   "cell_type": "code",
   "execution_count": null,
   "metadata": {},
   "outputs": [],
   "source": []
  },
  {
   "cell_type": "markdown",
   "metadata": {},
   "source": [
    "#### On peut aussi sélectionner plusieurs variables :\n",
    "Lui donner une liste de variables  \n",
    "`[\"ma_variable1\", \"ma_variable2\"]`"
   ]
  },
  {
   "cell_type": "code",
   "execution_count": null,
   "metadata": {},
   "outputs": [],
   "source": [
    "mes_variables = [\n",
    "    \"sexe\",\n",
    "    \"disciplines_9niv\",\n",
    "    \"annee_de_naissance-recod10niv\"\n",
    "    ]\n",
    "\n",
    "data[mes_variables]"
   ]
  },
  {
   "cell_type": "code",
   "execution_count": null,
   "metadata": {},
   "outputs": [],
   "source": [
    "# attention : df[[\"var1\", \"var2\"]]\n",
    "data[[\"sexe\",\"disciplines_9niv\"]]"
   ]
  },
  {
   "cell_type": "code",
   "execution_count": null,
   "metadata": {},
   "outputs": [],
   "source": [
    "# renommer une variable\n",
    "data = data.rename(columns = {\"annee_de_naissance-recod10niv\":\"age\"})"
   ]
  },
  {
   "cell_type": "code",
   "execution_count": null,
   "metadata": {},
   "outputs": [],
   "source": []
  },
  {
   "cell_type": "code",
   "execution_count": null,
   "metadata": {},
   "outputs": [],
   "source": []
  },
  {
   "cell_type": "markdown",
   "metadata": {},
   "source": [
    "#### On peut aussi sélectionner des observations / lignes ou des élements particuliers\n",
    "- `.loc[]`\n",
    "- `.iloc[]`"
   ]
  },
  {
   "cell_type": "code",
   "execution_count": null,
   "metadata": {},
   "outputs": [],
   "source": [
    "# Afficher les 3 premières observations :\n",
    "data.loc[0:2]"
   ]
  },
  {
   "cell_type": "code",
   "execution_count": null,
   "metadata": {},
   "outputs": [],
   "source": [
    "# Afficher le sexe de la 3ème observation (donc avec 2, ouais ouais):\n",
    "data.loc[2, \"sexe\"]"
   ]
  },
  {
   "cell_type": "markdown",
   "metadata": {},
   "source": [
    "# FAIRE DES TRUCS SUR NOS VARIABLES !\n",
    "C'est mignon de les selectionner, mais on en fait quoi ?"
   ]
  },
  {
   "cell_type": "markdown",
   "metadata": {},
   "source": [
    "### Les trucs utiles\n",
    "Quelques outils utiles pour décrire les données :\n",
    "\n",
    "- `mean()`\n",
    "- `std()`\n",
    "- `min()`\n",
    "- `max()`\n",
    "- `count()`\n",
    "- `describe()`\n",
    "- `unique()` (et `nunique()`)\n",
    "- `value_counts()`"
   ]
  },
  {
   "cell_type": "markdown",
   "metadata": {},
   "source": [
    "**Essayer avec le \"sexe\"**"
   ]
  },
  {
   "cell_type": "code",
   "execution_count": null,
   "metadata": {},
   "outputs": [],
   "source": [
    "# quelles sont les modalités de la variable sexe ? unique()\n",
    "data[\"sexe\"].unique()"
   ]
  },
  {
   "cell_type": "code",
   "execution_count": null,
   "metadata": {},
   "outputs": [],
   "source": [
    "# combien il y en a ? nunique()\n",
    "data[\"sexe\"].nunique()"
   ]
  },
  {
   "cell_type": "code",
   "execution_count": null,
   "metadata": {},
   "outputs": [],
   "source": [
    "# pareil que de demander la longeur de unique\n",
    "len(data[\"sexe\"].unique())"
   ]
  },
  {
   "cell_type": "code",
   "execution_count": null,
   "metadata": {},
   "outputs": [],
   "source": [
    "# est-ce que j'ai des valeurs manquantes ? isna() et sum()\n",
    "data[\"sexe\"].isna().sum()"
   ]
  },
  {
   "cell_type": "code",
   "execution_count": null,
   "metadata": {},
   "outputs": [],
   "source": [
    "# et quelle est la répartition ? value_counts()\n",
    "data[\"sexe\"].value_counts()"
   ]
  },
  {
   "cell_type": "code",
   "execution_count": null,
   "metadata": {},
   "outputs": [],
   "source": [
    "# et en proportion / pourcentage ? normalize=True\n",
    "data[\"sexe\"].value_counts(normalize=True)\n",
    "\n",
    "# Ce qui revient à faire diviser par la longueur de la serie :\n",
    "#data[\"sexe\"].value_counts()/len(data[\"sexe\"])"
   ]
  },
  {
   "cell_type": "code",
   "execution_count": null,
   "metadata": {},
   "outputs": [],
   "source": [
    "# On multiplie par 100 pour des pourcentages ?\n",
    "data[\"sexe\"].value_counts(normalize=True)*100"
   ]
  },
  {
   "cell_type": "code",
   "execution_count": null,
   "metadata": {},
   "outputs": [],
   "source": [
    "# On arrondit ? avec 2 chiffres après la virgule ?\n",
    "(data[\"sexe\"].value_counts(normalize=True)*100).round(2)\n",
    "\n",
    "# pareil que : \n",
    "# round(data[\"sexe\"].value_counts(normalize=True)*100, 2)"
   ]
  },
  {
   "cell_type": "code",
   "execution_count": null,
   "metadata": {},
   "outputs": [],
   "source": [
    "# et un mini graphique ? .plot() et sans doute kind=\"bar\"\n",
    "data[\"sexe\"].value_counts().plot(kind =\"bar\")"
   ]
  },
  {
   "cell_type": "markdown",
   "metadata": {},
   "source": [
    "### Et avec une variable quanti ?\n",
    "\n",
    "L'année de la première publication\n",
    "\n",
    "\"annee_premiere_publi\""
   ]
  },
  {
   "cell_type": "code",
   "execution_count": null,
   "metadata": {},
   "outputs": [],
   "source": [
    "# Quelle est l'année moyenne de la première publi ? mean()\n",
    "data[\"annee_premiere_publi\"].mean()"
   ]
  },
  {
   "cell_type": "code",
   "execution_count": null,
   "metadata": {},
   "outputs": [],
   "source": [
    "# Quel est l'écart type ? .std()\n",
    "data[\"annee_premiere_publi\"].std()"
   ]
  },
  {
   "cell_type": "code",
   "execution_count": null,
   "metadata": {},
   "outputs": [],
   "source": [
    "# Une petite description toute prête ? describe()\n",
    "data[\"annee_premiere_publi\"].describe()"
   ]
  },
  {
   "cell_type": "markdown",
   "metadata": {},
   "source": [
    "## Créer une variable ?\n",
    "\n",
    "Mettons que je veux savoir si mes individus ont publié plus tôt ou plus tard que la moyenne…"
   ]
  },
  {
   "cell_type": "code",
   "execution_count": null,
   "metadata": {},
   "outputs": [],
   "source": [
    "# Calculer l'écart entre les observations et la moyenne\n",
    "data[\"annee_premiere_publi\"] - data[\"annee_premiere_publi\"].mean()"
   ]
  },
  {
   "cell_type": "code",
   "execution_count": null,
   "metadata": {},
   "outputs": [],
   "source": [
    "# Et si je veux créer une nouvelle variable avec ça ?\n",
    "data[\"écart\"] = data[\"annee_premiere_publi\"] - data[\"annee_premiere_publi\"].mean()"
   ]
  },
  {
   "cell_type": "code",
   "execution_count": null,
   "metadata": {},
   "outputs": [],
   "source": [
    "data"
   ]
  },
  {
   "cell_type": "markdown",
   "metadata": {},
   "source": [
    "## Grouper nos données ? GROUPBY"
   ]
  },
  {
   "cell_type": "markdown",
   "metadata": {},
   "source": [
    "`df.groupby(\"ma_var_groupe\")[\"la_variable_intérêt\"].mon_operation()`"
   ]
  },
  {
   "cell_type": "markdown",
   "metadata": {},
   "source": [
    "Mais est-ce que les femmes et les hommes ont des profils différents ?  \n",
    "Je veux savoir qu'elle est la date moyenne de publi pour les femmes et pour les hommes"
   ]
  },
  {
   "cell_type": "code",
   "execution_count": null,
   "metadata": {},
   "outputs": [],
   "source": [
    "# EXEMPLE AVEC LA MOYENNE POUR LES HOMMES /LES FEMMES."
   ]
  },
  {
   "cell_type": "code",
   "execution_count": null,
   "metadata": {},
   "outputs": [],
   "source": [
    "data.groupby(\"sexe\")[\"annee_premiere_publi\"].mean()"
   ]
  },
  {
   "cell_type": "code",
   "execution_count": null,
   "metadata": {},
   "outputs": [],
   "source": [
    "# on peut grouper plusieurs opération dans groupby avec agg([]) ex : .agg([\"min\", \"max\", \"mean\"])\n",
    "data.groupby(\"sexe\")[\"annee_premiere_publi\"].agg([\"min\", \"max\", \"mean\"])"
   ]
  },
  {
   "cell_type": "code",
   "execution_count": null,
   "metadata": {},
   "outputs": [],
   "source": []
  },
  {
   "cell_type": "code",
   "execution_count": null,
   "metadata": {},
   "outputs": [],
   "source": []
  },
  {
   "cell_type": "code",
   "execution_count": null,
   "metadata": {},
   "outputs": [],
   "source": []
  },
  {
   "cell_type": "markdown",
   "metadata": {},
   "source": [
    "# FILTRER ET SÉLECTIONNER DES DONNÉES"
   ]
  },
  {
   "cell_type": "markdown",
   "metadata": {},
   "source": [
    "Pandas permet également de filtrer nos données selon des conditions"
   ]
  },
  {
   "cell_type": "markdown",
   "metadata": {},
   "source": [
    "**Exemple 1 : ne garder que les femmes**"
   ]
  },
  {
   "cell_type": "code",
   "execution_count": null,
   "metadata": {},
   "outputs": [],
   "source": [
    "filtre_femme = (data[\"sexe\"] == \"une femme\")"
   ]
  },
  {
   "cell_type": "code",
   "execution_count": null,
   "metadata": {},
   "outputs": [],
   "source": [
    "data[filtre_femme].shape"
   ]
  },
  {
   "cell_type": "code",
   "execution_count": null,
   "metadata": {},
   "outputs": [],
   "source": [
    "data[filtre_femme]"
   ]
  },
  {
   "cell_type": "code",
   "execution_count": null,
   "metadata": {},
   "outputs": [],
   "source": [
    "# pour le stocker dans un nouveau df:\n",
    "data_femme = data[data[\"sexe\"] == \"une femme\"]"
   ]
  },
  {
   "cell_type": "code",
   "execution_count": null,
   "metadata": {},
   "outputs": [],
   "source": [
    "data_femme.shape"
   ]
  },
  {
   "cell_type": "code",
   "execution_count": null,
   "metadata": {},
   "outputs": [],
   "source": [
    "data_femme[\"annee_premiere_publi\"].mean()"
   ]
  },
  {
   "cell_type": "code",
   "execution_count": null,
   "metadata": {},
   "outputs": [],
   "source": []
  },
  {
   "cell_type": "code",
   "execution_count": null,
   "metadata": {},
   "outputs": [],
   "source": []
  },
  {
   "cell_type": "markdown",
   "metadata": {},
   "source": [
    "**Exemple 2 : ne garder que les gens ayant eu leur première publi après 2010**"
   ]
  },
  {
   "cell_type": "code",
   "execution_count": null,
   "metadata": {},
   "outputs": [],
   "source": [
    "filtre_2010 = (data[\"annee_premiere_publi\"] > 2010)"
   ]
  },
  {
   "cell_type": "code",
   "execution_count": null,
   "metadata": {},
   "outputs": [],
   "source": [
    "data[filtre_2010].shape"
   ]
  },
  {
   "cell_type": "code",
   "execution_count": null,
   "metadata": {},
   "outputs": [],
   "source": [
    "# et pour créer un nouveau df :\n",
    "data_sup_2010 = data[\"annee_premiere_publi\"] > 2010"
   ]
  },
  {
   "cell_type": "markdown",
   "metadata": {},
   "source": [
    "**On peut les combiner !**  \n",
    "& : et  \n",
    "| : ou"
   ]
  },
  {
   "cell_type": "code",
   "execution_count": null,
   "metadata": {},
   "outputs": [],
   "source": [
    "data[filtre_femme & filtre_2010].shape"
   ]
  },
  {
   "cell_type": "code",
   "execution_count": null,
   "metadata": {},
   "outputs": [],
   "source": [
    "# ou tout en une ligne :\n",
    "# Sélectionner les femmes qui ont leur premiere publi après 2010\n",
    "femmes_sup2010 = data[(data[\"sexe\"] == \"une femme\") & (data[\"annee_premiere_publi\"] > 2010)]"
   ]
  },
  {
   "cell_type": "code",
   "execution_count": null,
   "metadata": {},
   "outputs": [],
   "source": [
    "femmes_sup2010.shape"
   ]
  },
  {
   "cell_type": "code",
   "execution_count": null,
   "metadata": {},
   "outputs": [],
   "source": [
    "# on aurait pu prendre l'une OU l'autre des conditions\n",
    "# donc soit des femmes, soit des gens qui ont leur première publi après 2010\n",
    "# (pas super utile dans les faits…)\n",
    "data[filtre_femme | filtre_2010].shape"
   ]
  },
  {
   "cell_type": "markdown",
   "metadata": {},
   "source": [
    "# RECODER DES DONNÉES"
   ]
  },
  {
   "cell_type": "markdown",
   "metadata": {},
   "source": [
    "#### Utiliser .replace()\n"
   ]
  },
  {
   "cell_type": "code",
   "execution_count": null,
   "metadata": {},
   "outputs": [],
   "source": [
    "# Tout passer directement : on donne un dico avec clés/valeurs\n",
    "data[\"sexe_recod\"] = data[\"sexe\"].replace({\n",
    "                                        \"un homme\" : \"homme\",\n",
    "                                        \"une femme\" : \"femme\",\n",
    "                                        \"je ne souhaite pas répondre\" : \"na\"\n",
    "                                        })"
   ]
  },
  {
   "cell_type": "code",
   "execution_count": null,
   "metadata": {},
   "outputs": [],
   "source": [
    "data[\"sexe_recod\"].value_counts()"
   ]
  },
  {
   "cell_type": "code",
   "execution_count": null,
   "metadata": {},
   "outputs": [],
   "source": [
    "#data[\"sexe_recod\"]"
   ]
  },
  {
   "cell_type": "code",
   "execution_count": null,
   "metadata": {},
   "outputs": [],
   "source": [
    "# Équivalent à créer un dictionnaire :\n",
    "dico_labels = {\"un homme\":\"homme\"}\n",
    "                #\"une femme\":\"femme\",\n",
    "                #\"je ne souhaite pas répondre\":\"na\"}\n",
    "\n",
    "# Puis l'utiliser avec replace :\n",
    "data[\"sexe\"].replace(dico_labels).value_counts()"
   ]
  },
  {
   "cell_type": "code",
   "execution_count": null,
   "metadata": {},
   "outputs": [],
   "source": [
    "# ou encore faire une liste des anciennes et nouvelles valeurs\n",
    "anciens_labels = [\"un homme\", \"une femme\", \"je ne souhaite pas répondre\"]\n",
    "nouveaux_labels = [\"homme\", \"femme\", \"na\"]\n",
    "\n",
    "# puis les passer dans replace :\n",
    "data[\"sexe\"].replace(anciens_labels, nouveaux_labels).value_counts()"
   ]
  },
  {
   "cell_type": "markdown",
   "metadata": {},
   "source": [
    "### Créer une fonction et l'appliquer avec apply()"
   ]
  },
  {
   "cell_type": "markdown",
   "metadata": {},
   "source": [
    "Une méthode générique pour appliquer des opératoins sur chaque cellule / ligne"
   ]
  },
  {
   "cell_type": "code",
   "execution_count": null,
   "metadata": {},
   "outputs": [],
   "source": [
    "# définir ma fonction\n",
    "def recodage(code):\n",
    "    if code  == \"un homme\":\n",
    "        return \"Homme\"\n",
    "    if code == \"une femme\":\n",
    "        return \"Femme\"\n",
    "    if code == \"je ne souhaite pas répondre\":\n",
    "        return \"NA\"\n",
    "    return \"Problème\""
   ]
  },
  {
   "cell_type": "code",
   "execution_count": null,
   "metadata": {},
   "outputs": [],
   "source": [
    "# L'appliquer à mon tableau avec .apply()\n",
    "data[\"sexe_recod1\"] = data[\"sexe\"].apply(recodage)"
   ]
  },
  {
   "cell_type": "code",
   "execution_count": null,
   "metadata": {},
   "outputs": [],
   "source": [
    "data[\"sexe_recod1\"].value_counts()"
   ]
  },
  {
   "cell_type": "markdown",
   "metadata": {},
   "source": [
    "#### Utiliser pd.cut() pour discrétiser des variables numériques"
   ]
  },
  {
   "cell_type": "markdown",
   "metadata": {},
   "source": [
    "```\n",
    "pd.cut(\n",
    "    x,\n",
    "    bins,\n",
    "    right: bool = True,\n",
    "    labels=None,\n",
    "    retbins: bool = False,\n",
    "    precision: int = 3,\n",
    "    include_lowest: bool = False,\n",
    "    duplicates: str = 'raise',\n",
    "    ordered: bool = True,\n",
    ")\n",
    "\n",
    "Docstring:\n",
    "Bin values into discrete intervals.\n",
    "\n",
    "Use `cut` when you need to segment and sort data values into bins. This\n",
    "function is also useful for going from a continuous variable to a\n",
    "categorical variable. For example, `cut` could convert ages to groups of\n",
    "age ranges. Supports binning into an equal number of bins, or a\n",
    "pre-specified array of bins.\n",
    "```\n"
   ]
  },
  {
   "cell_type": "code",
   "execution_count": null,
   "metadata": {},
   "outputs": [],
   "source": [
    "# faire attention aux valeurs inclues/exclues lors de la déclaration\n",
    "# ou alors en précisant le comportement souhaité dans les paramètres de pd.cut\n",
    "# de base : right=True / include_lowest=False"
   ]
  },
  {
   "cell_type": "code",
   "execution_count": null,
   "metadata": {},
   "outputs": [],
   "source": [
    "# Exemple : recoder l'année de première publi en catégories"
   ]
  },
  {
   "cell_type": "code",
   "execution_count": null,
   "metadata": {},
   "outputs": [],
   "source": [
    "data[\"annee_premiere_publi\"].describe()"
   ]
  },
  {
   "cell_type": "code",
   "execution_count": null,
   "metadata": {},
   "outputs": [],
   "source": [
    "data[\"publi_recod\"] = pd.cut(data[\"annee_premiere_publi\"],\n",
    "                        bins=[1968,1996,2005,2014, 2020],\n",
    "                        #labels=[\"Avant1996\", \"1997-2005\", \"2005-2014\", \"2015 et +\"]\n",
    "                        #right=True,\n",
    "                        #include_lowest=False\n",
    "                        )\n",
    "data[\"publi_recod\"].value_counts().sort_index()"
   ]
  },
  {
   "cell_type": "code",
   "execution_count": null,
   "metadata": {},
   "outputs": [],
   "source": []
  },
  {
   "cell_type": "code",
   "execution_count": null,
   "metadata": {},
   "outputs": [],
   "source": []
  },
  {
   "cell_type": "code",
   "execution_count": null,
   "metadata": {},
   "outputs": [],
   "source": []
  },
  {
   "cell_type": "markdown",
   "metadata": {},
   "source": [
    "# Tableau Croisé"
   ]
  },
  {
   "cell_type": "code",
   "execution_count": null,
   "metadata": {},
   "outputs": [],
   "source": [
    "# Croiser genre et discipline\n",
    "tableau = pd.crosstab(data[\"sexe_recod\"], data[\"disciplines_9niv\"])\n",
    "tableau"
   ]
  },
  {
   "cell_type": "code",
   "execution_count": null,
   "metadata": {},
   "outputs": [],
   "source": [
    "# Ajouter des marges et des %\n",
    "tableau_mieux = pd.crosstab(data[\"sexe_recod\"], data[\"disciplines_9niv\"],\n",
    "                            normalize=\"index\", margins=True)*100\n",
    "tableau_mieux"
   ]
  },
  {
   "cell_type": "code",
   "execution_count": null,
   "metadata": {},
   "outputs": [],
   "source": [
    "# Arrondir ?\n",
    "tableau_arrondi = tableau_mieux.round(2)\n",
    "tableau_arrondi"
   ]
  },
  {
   "cell_type": "code",
   "execution_count": null,
   "metadata": {},
   "outputs": [],
   "source": [
    "# en faire un graphique\n",
    "# (moche en l'état, il faudrait le retravailler, cf. semaine prochaine)\n",
    "\n",
    "tableau_arrondi.plot(kind=\"bar\")"
   ]
  },
  {
   "cell_type": "markdown",
   "metadata": {},
   "source": [
    "# Sauvegarder nos fichiers et les écrire sur notre ordinateur"
   ]
  },
  {
   "cell_type": "code",
   "execution_count": null,
   "metadata": {},
   "outputs": [],
   "source": [
    "# Écrire les fichiers"
   ]
  },
  {
   "cell_type": "code",
   "execution_count": null,
   "metadata": {},
   "outputs": [],
   "source": [
    "# utilier .to_csv()\n",
    "data.to_csv(\"mon_fichier.csv\")"
   ]
  },
  {
   "cell_type": "code",
   "execution_count": null,
   "metadata": {},
   "outputs": [],
   "source": [
    "# Ou .to_excel()\n",
    "# préciser l'extension : \"gnagnagna.xlsx\"\n",
    "data.to_excel(\"mon_fichier.xlsx\")"
   ]
  },
  {
   "cell_type": "code",
   "execution_count": null,
   "metadata": {},
   "outputs": [],
   "source": []
  }
 ],
 "metadata": {
  "kernelspec": {
   "display_name": "Python 3 (ipykernel)",
   "language": "python",
   "name": "python3"
  },
  "language_info": {
   "codemirror_mode": {
    "name": "ipython",
    "version": 3
   },
   "file_extension": ".py",
   "mimetype": "text/x-python",
   "name": "python",
   "nbconvert_exporter": "python",
   "pygments_lexer": "ipython3",
   "version": "3.9.18"
  }
 },
 "nbformat": 4,
 "nbformat_minor": 4
}
