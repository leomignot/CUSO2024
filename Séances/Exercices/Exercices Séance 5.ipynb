{
 "cells": [
  {
   "cell_type": "markdown",
   "id": "055291de-6b58-4062-8302-7a716b233c11",
   "metadata": {},
   "source": [
    "# Exercices séance 5\n",
    "\n",
    "Ces exercices utilisent les données issues du questionnaire passé en amont du cours sur les connaissances en informatique & en programmation, dans le fichier `questionnaire.csv`"
   ]
  },
  {
   "cell_type": "code",
   "execution_count": null,
   "id": "023546f3-6a2d-4649-8a83-49ed74219174",
   "metadata": {},
   "outputs": [],
   "source": [
    "import pandas as pd\n",
    "df = pd.read_csv(\"./questionnaire.csv\")"
   ]
  },
  {
   "cell_type": "markdown",
   "id": "c32a8014-10ba-4a71-b5da-0a15f4d47be6",
   "metadata": {},
   "source": [
    "## Exercice 1 : mise en forme\n",
    "\n",
    "- charger le fichier en mettant en forme correctement les colonnes (regarder les options de read_csv)\n",
    "- recoder le nom des colonnes\n",
    "- remplacer Oui par 1, et 0 par Non\n",
    "- calculer un indicateur par grande catégorie (somme des réponses divisée par le nombre de questions)\n",
    "- calculer un indicateur général (idem)"
   ]
  },
  {
   "cell_type": "markdown",
   "id": "1a2c5a32-a990-428f-addd-5b06ff055408",
   "metadata": {},
   "source": [
    "## Exercice 2 : Visualiser\n",
    "\n",
    "- Représenter l'histogramme\n",
    "  - division en 10 intervalles\n",
    "  - en orange\n",
    "  - mettre un titre, nom sur les axes des abscisses et ordonnées\n",
    "  - représenter la médiane et la moyenne sur le graphique\n",
    "\n",
    "- Représenter l'histogramme de manière interractive avec plotly\n",
    "  - (rester sur la visualisation basique)\n",
    "\n",
    "- Construire une figure qui permet de représenter l'ensemble des questions sous la forme d'un diagramme en barre pour chacune\n",
    "  - unifier l'axe des abscisses et ordonnées\n",
    "  - enlever la présence des axes"
   ]
  },
  {
   "cell_type": "markdown",
   "id": "917de122-9180-4202-aa09-eeb744385508",
   "metadata": {},
   "source": [
    "## Exercice 3 : Statistiques\n",
    "\n",
    "- Calculer la corrélation linéaire entre toutes les questions uniques (regarder du côté de .corr())\n",
    "- Calculer la corrélation linéaire entre les indicateurs des groupes de questions\n",
    "- Proposer une représentation de cette corrélation (essayer `.plot`)"
   ]
  }
 ],
 "metadata": {
  "kernelspec": {
   "display_name": "Python 3 (ipykernel)",
   "language": "python",
   "name": "python3"
  },
  "language_info": {
   "codemirror_mode": {
    "name": "ipython",
    "version": 3
   },
   "file_extension": ".py",
   "mimetype": "text/x-python",
   "name": "python",
   "nbconvert_exporter": "python",
   "pygments_lexer": "ipython3",
   "version": "3.11.7"
  }
 },
 "nbformat": 4,
 "nbformat_minor": 5
}
