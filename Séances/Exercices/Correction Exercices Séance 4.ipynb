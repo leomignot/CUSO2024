{
 "cells": [
  {
   "cell_type": "markdown",
   "id": "5beaccb8-e8f8-43d7-8860-b9751bd30397",
   "metadata": {},
   "source": [
    "## Exercice séance 4\n",
    "\n",
    "Tous les exercices sont sur les données du tableau de presse tableau.csv (dans data.zip).\n",
    "\n",
    "Ces données représentent tous les articles de presse nationale française qui mentionnent `suisse` sur le dernier mois.\n",
    "\n",
    "La question est : comment parle-t-on de la Suisse..."
   ]
  },
  {
   "cell_type": "markdown",
   "id": "9c9fe060-90d8-4da2-97b0-b4b5c3679286",
   "metadata": {},
   "source": [
    "## Exercice 1\n",
    "\n",
    "- Quelle est la distribution des journaux du dataset en pourcentages\n",
    "- Renommer la catégotie `Aujourd'hui en France                Edition Principale` pour la rendre plus courte"
   ]
  },
  {
   "cell_type": "code",
   "execution_count": 1,
   "id": "9316140a",
   "metadata": {},
   "outputs": [],
   "source": [
    "# Commencer par importer pandas\n",
    "import pandas as pd\n",
    "\n",
    "# Et lire les données\n",
    "df = pd.read_csv(\"tableau.csv\")"
   ]
  },
  {
   "cell_type": "code",
   "execution_count": 2,
   "id": "98de33e9",
   "metadata": {},
   "outputs": [
    {
     "data": {
      "text/html": [
       "<div>\n",
       "<style scoped>\n",
       "    .dataframe tbody tr th:only-of-type {\n",
       "        vertical-align: middle;\n",
       "    }\n",
       "\n",
       "    .dataframe tbody tr th {\n",
       "        vertical-align: top;\n",
       "    }\n",
       "\n",
       "    .dataframe thead th {\n",
       "        text-align: right;\n",
       "    }\n",
       "</style>\n",
       "<table border=\"1\" class=\"dataframe\">\n",
       "  <thead>\n",
       "    <tr style=\"text-align: right;\">\n",
       "      <th></th>\n",
       "      <th>Date_raw</th>\n",
       "      <th>Titre_raw</th>\n",
       "      <th>Journal_raw</th>\n",
       "      <th>Contenu_raw</th>\n",
       "      <th>Auteur_raw</th>\n",
       "      <th>Date_mod</th>\n",
       "      <th>Titre_mod</th>\n",
       "      <th>Contenu_mod</th>\n",
       "      <th>Journal_mod</th>\n",
       "    </tr>\n",
       "  </thead>\n",
       "  <tbody>\n",
       "    <tr>\n",
       "      <th>0</th>\n",
       "      <td>\\nPlanète,         jeudi 11 avril 2024 754 mot...</td>\n",
       "      <td>\\n\\nLa classe politique  suisse divisée par la...</td>\n",
       "      <td>\\n        Le Monde</td>\n",
       "      <td>\\n\\nGenève - correspondance - La condamnation ...</td>\n",
       "      <td>NaN</td>\n",
       "      <td>2024-04-11</td>\n",
       "      <td>La classe politique  suisse divisée par la déc...</td>\n",
       "      <td>Genève - correspondance - La condamnation de l...</td>\n",
       "      <td>Le Monde</td>\n",
       "    </tr>\n",
       "    <tr>\n",
       "      <th>1</th>\n",
       "      <td>\\nÉco&amp;Transition,         mercredi 10 avril 20...</td>\n",
       "      <td>\\n\\nLa CEDH condamne la  Suisse pour inaction ...</td>\n",
       "      <td>\\n        La Croix, no. 42892</td>\n",
       "      <td>\\n\\nC’est une décision qui fera date dans le c...</td>\n",
       "      <td>NaN</td>\n",
       "      <td>2024-04-10</td>\n",
       "      <td>La CEDH condamne la  Suisse pour inaction clim...</td>\n",
       "      <td>C’est une décision qui fera date dans le comba...</td>\n",
       "      <td>La Croix</td>\n",
       "    </tr>\n",
       "    <tr>\n",
       "      <th>2</th>\n",
       "      <td>\\nPlanète,         jeudi 11 avril 2024 1173 mo...</td>\n",
       "      <td>\\n\\nInaction climatique : une condamnation his...</td>\n",
       "      <td>\\n        Le Monde</td>\n",
       "      <td>\\n\\nStrasbourg - envoyée spéciale - Il fallait...</td>\n",
       "      <td>NaN</td>\n",
       "      <td>2024-04-11</td>\n",
       "      <td>Inaction climatique : une condamnation histori...</td>\n",
       "      <td>Strasbourg - envoyée spéciale - Il fallait ent...</td>\n",
       "      <td>Le Monde</td>\n",
       "    </tr>\n",
       "    <tr>\n",
       "      <th>3</th>\n",
       "      <td>\\n_Faits divers,         samedi 30 mars 2024 7...</td>\n",
       "      <td>\\n\\nRazzia sur les vélos électriques aux front...</td>\n",
       "      <td>\\n        Aujourd'hui en France               ...</td>\n",
       "      <td>\\n\\nMartin Antoine Correspondantà Strasbourg (...</td>\n",
       "      <td>NaN</td>\n",
       "      <td>2024-03-30</td>\n",
       "      <td>Razzia sur les vélos électriques aux frontière...</td>\n",
       "      <td>Martin Antoine Correspondantà Strasbourg (bas-...</td>\n",
       "      <td>Aujourd'hui en France                Edition P...</td>\n",
       "    </tr>\n",
       "    <tr>\n",
       "      <th>4</th>\n",
       "      <td>\\nEconomie &amp; Entreprise,         samedi 20 avr...</td>\n",
       "      <td>\\n\\nEntre malbouffe et scandales, le  suisse N...</td>\n",
       "      <td>\\n        Le Monde</td>\n",
       "      <td>\\n\\nLausanne (Suisse) - envoyé spécial - La gr...</td>\n",
       "      <td>NaN</td>\n",
       "      <td>2024-04-20</td>\n",
       "      <td>Entre malbouffe et scandales, le  suisse Nestl...</td>\n",
       "      <td>Lausanne (Suisse) - envoyé spécial - La grand-...</td>\n",
       "      <td>Le Monde</td>\n",
       "    </tr>\n",
       "  </tbody>\n",
       "</table>\n",
       "</div>"
      ],
      "text/plain": [
       "                                            Date_raw  \\\n",
       "0  \\nPlanète,         jeudi 11 avril 2024 754 mot...   \n",
       "1  \\nÉco&Transition,         mercredi 10 avril 20...   \n",
       "2  \\nPlanète,         jeudi 11 avril 2024 1173 mo...   \n",
       "3  \\n_Faits divers,         samedi 30 mars 2024 7...   \n",
       "4  \\nEconomie & Entreprise,         samedi 20 avr...   \n",
       "\n",
       "                                           Titre_raw  \\\n",
       "0  \\n\\nLa classe politique  suisse divisée par la...   \n",
       "1  \\n\\nLa CEDH condamne la  Suisse pour inaction ...   \n",
       "2  \\n\\nInaction climatique : une condamnation his...   \n",
       "3  \\n\\nRazzia sur les vélos électriques aux front...   \n",
       "4  \\n\\nEntre malbouffe et scandales, le  suisse N...   \n",
       "\n",
       "                                         Journal_raw  \\\n",
       "0             \\n        Le Monde                       \n",
       "1  \\n        La Croix, no. 42892                       \n",
       "2             \\n        Le Monde                       \n",
       "3  \\n        Aujourd'hui en France               ...   \n",
       "4             \\n        Le Monde                       \n",
       "\n",
       "                                         Contenu_raw  Auteur_raw    Date_mod  \\\n",
       "0  \\n\\nGenève - correspondance - La condamnation ...         NaN  2024-04-11   \n",
       "1  \\n\\nC’est une décision qui fera date dans le c...         NaN  2024-04-10   \n",
       "2  \\n\\nStrasbourg - envoyée spéciale - Il fallait...         NaN  2024-04-11   \n",
       "3  \\n\\nMartin Antoine Correspondantà Strasbourg (...         NaN  2024-03-30   \n",
       "4  \\n\\nLausanne (Suisse) - envoyé spécial - La gr...         NaN  2024-04-20   \n",
       "\n",
       "                                           Titre_mod  \\\n",
       "0  La classe politique  suisse divisée par la déc...   \n",
       "1  La CEDH condamne la  Suisse pour inaction clim...   \n",
       "2  Inaction climatique : une condamnation histori...   \n",
       "3  Razzia sur les vélos électriques aux frontière...   \n",
       "4  Entre malbouffe et scandales, le  suisse Nestl...   \n",
       "\n",
       "                                         Contenu_mod  \\\n",
       "0  Genève - correspondance - La condamnation de l...   \n",
       "1  C’est une décision qui fera date dans le comba...   \n",
       "2  Strasbourg - envoyée spéciale - Il fallait ent...   \n",
       "3  Martin Antoine Correspondantà Strasbourg (bas-...   \n",
       "4  Lausanne (Suisse) - envoyé spécial - La grand-...   \n",
       "\n",
       "                                         Journal_mod  \n",
       "0                                           Le Monde  \n",
       "1                                           La Croix  \n",
       "2                                           Le Monde  \n",
       "3  Aujourd'hui en France                Edition P...  \n",
       "4                                           Le Monde  "
      ]
     },
     "execution_count": 2,
     "metadata": {},
     "output_type": "execute_result"
    }
   ],
   "source": [
    "#Regarder le dataframe\n",
    "df.head()"
   ]
  },
  {
   "cell_type": "code",
   "execution_count": 3,
   "id": "a53d1c58",
   "metadata": {},
   "outputs": [
    {
     "data": {
      "text/plain": [
       "Index(['Date_raw', 'Titre_raw', 'Journal_raw', 'Contenu_raw', 'Auteur_raw',\n",
       "       'Date_mod', 'Titre_mod', 'Contenu_mod', 'Journal_mod'],\n",
       "      dtype='object')"
      ]
     },
     "execution_count": 3,
     "metadata": {},
     "output_type": "execute_result"
    }
   ],
   "source": [
    "#Regarder les noms des colonnes\n",
    "df.columns"
   ]
  },
  {
   "cell_type": "markdown",
   "id": "e71e4c19",
   "metadata": {},
   "source": [
    "#### 1.1 Distribution"
   ]
  },
  {
   "cell_type": "code",
   "execution_count": 4,
   "id": "4e59f77b",
   "metadata": {},
   "outputs": [
    {
     "data": {
      "text/plain": [
       "Journal_mod\n",
       "Le Figaro                                                  61\n",
       "Le Monde                                                   59\n",
       "Aujourd'hui en France                Edition Principale    57\n",
       "Libération                                                 34\n",
       "La Croix                                                   25\n",
       "l'Humanité                                                 15\n",
       "L'Express                                                  13\n",
       "Le Point                                                    9\n",
       "Valeurs Actuelles                                           6\n",
       "Name: count, dtype: int64"
      ]
     },
     "execution_count": 4,
     "metadata": {},
     "output_type": "execute_result"
    }
   ],
   "source": [
    "# Je veux donc le nombre d'articles par journal qui correspond à la colonne \"Journal_mod\"\n",
    "df[\"Journal_mod\"].value_counts()"
   ]
  },
  {
   "cell_type": "code",
   "execution_count": 5,
   "id": "bd3b34a9",
   "metadata": {},
   "outputs": [
    {
     "data": {
      "text/plain": [
       "Journal_mod\n",
       "Le Figaro                                                  0.218638\n",
       "Le Monde                                                   0.211470\n",
       "Aujourd'hui en France                Edition Principale    0.204301\n",
       "Libération                                                 0.121864\n",
       "La Croix                                                   0.089606\n",
       "l'Humanité                                                 0.053763\n",
       "L'Express                                                  0.046595\n",
       "Le Point                                                   0.032258\n",
       "Valeurs Actuelles                                          0.021505\n",
       "Name: proportion, dtype: float64"
      ]
     },
     "execution_count": 5,
     "metadata": {},
     "output_type": "execute_result"
    }
   ],
   "source": [
    "# En fait je veux les fréquences :\n",
    "# donc normaliser les valeurs : normalize=True\n",
    "df[\"Journal_mod\"].value_counts(normalize=True)"
   ]
  },
  {
   "cell_type": "code",
   "execution_count": 6,
   "id": "821c5bbe",
   "metadata": {},
   "outputs": [
    {
     "data": {
      "text/plain": [
       "Journal_mod\n",
       "Le Figaro                                                  21.863799\n",
       "Le Monde                                                   21.146953\n",
       "Aujourd'hui en France                Edition Principale    20.430108\n",
       "Libération                                                 12.186380\n",
       "La Croix                                                    8.960573\n",
       "l'Humanité                                                  5.376344\n",
       "L'Express                                                   4.659498\n",
       "Le Point                                                    3.225806\n",
       "Valeurs Actuelles                                           2.150538\n",
       "Name: proportion, dtype: float64"
      ]
     },
     "execution_count": 6,
     "metadata": {},
     "output_type": "execute_result"
    }
   ],
   "source": [
    "# Je les veux même en pourcentage ces fréquences : *100\n",
    "df[\"Journal_mod\"].value_counts(normalize=True)*100"
   ]
  },
  {
   "cell_type": "code",
   "execution_count": 7,
   "id": "a17890b9-9497-479f-ab62-9287f3e1f5a2",
   "metadata": {},
   "outputs": [
    {
     "data": {
      "text/plain": [
       "Journal_mod\n",
       "Le Figaro                                                  21.86\n",
       "Le Monde                                                   21.15\n",
       "Aujourd'hui en France                Edition Principale    20.43\n",
       "Libération                                                 12.19\n",
       "La Croix                                                    8.96\n",
       "l'Humanité                                                  5.38\n",
       "L'Express                                                   4.66\n",
       "Le Point                                                    3.23\n",
       "Valeurs Actuelles                                           2.15\n",
       "Name: proportion, dtype: float64"
      ]
     },
     "execution_count": 7,
     "metadata": {},
     "output_type": "execute_result"
    }
   ],
   "source": [
    "# Et je peux arrondir :\n",
    "round(100*df[\"Journal_mod\"].value_counts(normalize=True),2)"
   ]
  },
  {
   "cell_type": "markdown",
   "id": "91d953d1",
   "metadata": {},
   "source": [
    "#### 1.2 Recodage"
   ]
  },
  {
   "cell_type": "code",
   "execution_count": 8,
   "id": "d65012e7",
   "metadata": {},
   "outputs": [],
   "source": [
    "# Recoder en utilisant replace\n",
    "df[\"Journal_mod\"].replace({\"Aujourd'hui en France                Edition Principale\" : \"Aujourd'hui en France\"},\n",
    "                          inplace=True # je peux utiliser inplace=True pour modifier directement le dataframe\n",
    "                          )\n",
    "\n",
    "# ici j'utilise inplace=True pour que la modification soit faite directement\n",
    "# c'est une alternative à ça :\n",
    "#df[\"Journal_mod\"] = df[\"Journal_mod\"].replace({\"Aujourd'hui en France                Edition Principale\":\"Aujourd'hui en France\"})"
   ]
  },
  {
   "cell_type": "code",
   "execution_count": 9,
   "id": "4320af4c",
   "metadata": {},
   "outputs": [
    {
     "data": {
      "text/plain": [
       "Journal_mod\n",
       "Le Figaro                21.863799\n",
       "Le Monde                 21.146953\n",
       "Aujourd'hui en France    20.430108\n",
       "Libération               12.186380\n",
       "La Croix                  8.960573\n",
       "l'Humanité                5.376344\n",
       "L'Express                 4.659498\n",
       "Le Point                  3.225806\n",
       "Valeurs Actuelles         2.150538\n",
       "Name: proportion, dtype: float64"
      ]
     },
     "execution_count": 9,
     "metadata": {},
     "output_type": "execute_result"
    }
   ],
   "source": [
    "# Vérification\n",
    "df[\"Journal_mod\"].value_counts(normalize=True)*100"
   ]
  },
  {
   "cell_type": "markdown",
   "id": "32f7127a-5cc4-4768-8d54-bb94efede2bb",
   "metadata": {},
   "source": [
    "## Exercice 2\n",
    "\n",
    "- Ajouter une colonne qui correspond au nombre de mots de chaque article\n",
    "- Calculer le nombre de mots moyens et la variance par journal\n",
    "- Quel est le journal qui a le plus de mots, le moins de mots ?"
   ]
  },
  {
   "cell_type": "markdown",
   "id": "00c40dc5",
   "metadata": {},
   "source": [
    "### 2.1 Ajout colonne \"nb_mots\""
   ]
  },
  {
   "cell_type": "code",
   "execution_count": 10,
   "id": "16643b76-7fad-4895-9bd1-ab0929d47349",
   "metadata": {},
   "outputs": [],
   "source": [
    "# Créer une fonction qui calcule le nombre de mots\n",
    "def nb_mots(texte):\n",
    "    return len(texte.split(\" \"))"
   ]
  },
  {
   "cell_type": "code",
   "execution_count": 11,
   "id": "e595c6ad-0e9e-4bb8-920b-9473cbb368a3",
   "metadata": {},
   "outputs": [],
   "source": [
    "df[\"nb_mots\"] = df[\"Contenu_mod\"].apply(nb_mots)"
   ]
  },
  {
   "cell_type": "code",
   "execution_count": 12,
   "id": "481f0f99",
   "metadata": {},
   "outputs": [
    {
     "data": {
      "text/plain": [
       "0       704\n",
       "1       773\n",
       "2      1137\n",
       "3       706\n",
       "4       904\n",
       "       ... \n",
       "274      71\n",
       "275     527\n",
       "276    1302\n",
       "277    1202\n",
       "278    1252\n",
       "Name: nb_mots, Length: 279, dtype: int64"
      ]
     },
     "execution_count": 12,
     "metadata": {},
     "output_type": "execute_result"
    }
   ],
   "source": [
    "df[\"nb_mots\"]"
   ]
  },
  {
   "cell_type": "markdown",
   "id": "7980b4e2",
   "metadata": {},
   "source": [
    "### 2.2 Calculer le nombre de mots moyens et la variance par journal"
   ]
  },
  {
   "cell_type": "code",
   "execution_count": 13,
   "id": "68a18ace",
   "metadata": {},
   "outputs": [
    {
     "data": {
      "text/plain": [
       "Journal_mod\n",
       "Aujourd'hui en France     323.192982\n",
       "L'Express                1116.000000\n",
       "La Croix                  770.200000\n",
       "Le Figaro                 968.590164\n",
       "Le Monde                 1041.542373\n",
       "Le Point                  927.666667\n",
       "Libération               1056.617647\n",
       "Valeurs Actuelles         486.333333\n",
       "l'Humanité                711.000000\n",
       "Name: nb_mots, dtype: float64"
      ]
     },
     "execution_count": 13,
     "metadata": {},
     "output_type": "execute_result"
    }
   ],
   "source": [
    "# je veux donc grouper par journal\n",
    "# puis calculer la moyenne et la variance du nombre de mots\n",
    "df.groupby(\"Journal_mod\")[\"nb_mots\"].mean()"
   ]
  },
  {
   "cell_type": "code",
   "execution_count": 14,
   "id": "e6a2913a",
   "metadata": {},
   "outputs": [
    {
     "data": {
      "text/plain": [
       "Journal_mod\n",
       "Aujourd'hui en France    1.449109e+05\n",
       "L'Express                4.149342e+05\n",
       "La Croix                 2.158629e+06\n",
       "Le Figaro                1.725118e+05\n",
       "Le Monde                 4.228775e+05\n",
       "Le Point                 3.267018e+05\n",
       "Libération               4.300061e+05\n",
       "Valeurs Actuelles        2.310471e+05\n",
       "l'Humanité               2.725239e+05\n",
       "Name: nb_mots, dtype: float64"
      ]
     },
     "execution_count": 14,
     "metadata": {},
     "output_type": "execute_result"
    }
   ],
   "source": [
    "# Pour la variance\n",
    "df.groupby(\"Journal_mod\")[\"nb_mots\"].var()"
   ]
  },
  {
   "cell_type": "code",
   "execution_count": 15,
   "id": "ab140697",
   "metadata": {},
   "outputs": [
    {
     "data": {
      "text/html": [
       "<div>\n",
       "<style scoped>\n",
       "    .dataframe tbody tr th:only-of-type {\n",
       "        vertical-align: middle;\n",
       "    }\n",
       "\n",
       "    .dataframe tbody tr th {\n",
       "        vertical-align: top;\n",
       "    }\n",
       "\n",
       "    .dataframe thead th {\n",
       "        text-align: right;\n",
       "    }\n",
       "</style>\n",
       "<table border=\"1\" class=\"dataframe\">\n",
       "  <thead>\n",
       "    <tr style=\"text-align: right;\">\n",
       "      <th></th>\n",
       "      <th>mean</th>\n",
       "      <th>var</th>\n",
       "    </tr>\n",
       "    <tr>\n",
       "      <th>Journal_mod</th>\n",
       "      <th></th>\n",
       "      <th></th>\n",
       "    </tr>\n",
       "  </thead>\n",
       "  <tbody>\n",
       "    <tr>\n",
       "      <th>Aujourd'hui en France</th>\n",
       "      <td>323.192982</td>\n",
       "      <td>1.449109e+05</td>\n",
       "    </tr>\n",
       "    <tr>\n",
       "      <th>L'Express</th>\n",
       "      <td>1116.000000</td>\n",
       "      <td>4.149342e+05</td>\n",
       "    </tr>\n",
       "    <tr>\n",
       "      <th>La Croix</th>\n",
       "      <td>770.200000</td>\n",
       "      <td>2.158629e+06</td>\n",
       "    </tr>\n",
       "    <tr>\n",
       "      <th>Le Figaro</th>\n",
       "      <td>968.590164</td>\n",
       "      <td>1.725118e+05</td>\n",
       "    </tr>\n",
       "    <tr>\n",
       "      <th>Le Monde</th>\n",
       "      <td>1041.542373</td>\n",
       "      <td>4.228775e+05</td>\n",
       "    </tr>\n",
       "    <tr>\n",
       "      <th>Le Point</th>\n",
       "      <td>927.666667</td>\n",
       "      <td>3.267018e+05</td>\n",
       "    </tr>\n",
       "    <tr>\n",
       "      <th>Libération</th>\n",
       "      <td>1056.617647</td>\n",
       "      <td>4.300061e+05</td>\n",
       "    </tr>\n",
       "    <tr>\n",
       "      <th>Valeurs Actuelles</th>\n",
       "      <td>486.333333</td>\n",
       "      <td>2.310471e+05</td>\n",
       "    </tr>\n",
       "    <tr>\n",
       "      <th>l'Humanité</th>\n",
       "      <td>711.000000</td>\n",
       "      <td>2.725239e+05</td>\n",
       "    </tr>\n",
       "  </tbody>\n",
       "</table>\n",
       "</div>"
      ],
      "text/plain": [
       "                              mean           var\n",
       "Journal_mod                                     \n",
       "Aujourd'hui en France   323.192982  1.449109e+05\n",
       "L'Express              1116.000000  4.149342e+05\n",
       "La Croix                770.200000  2.158629e+06\n",
       "Le Figaro               968.590164  1.725118e+05\n",
       "Le Monde               1041.542373  4.228775e+05\n",
       "Le Point                927.666667  3.267018e+05\n",
       "Libération             1056.617647  4.300061e+05\n",
       "Valeurs Actuelles       486.333333  2.310471e+05\n",
       "l'Humanité              711.000000  2.725239e+05"
      ]
     },
     "execution_count": 15,
     "metadata": {},
     "output_type": "execute_result"
    }
   ],
   "source": [
    "# Pour les deux en même temps avec .agg()\n",
    "df.groupby(\"Journal_mod\")[\"nb_mots\"].agg([\"mean\", \"var\"])"
   ]
  },
  {
   "cell_type": "markdown",
   "id": "9baaa1bb",
   "metadata": {},
   "source": [
    "### 2.3 Quel est le journal qui a le plus de mots, le moins de mots ?"
   ]
  },
  {
   "cell_type": "code",
   "execution_count": 16,
   "id": "85bca2ae-699f-4926-aeec-55de7c208904",
   "metadata": {},
   "outputs": [
    {
     "data": {
      "text/html": [
       "<div>\n",
       "<style scoped>\n",
       "    .dataframe tbody tr th:only-of-type {\n",
       "        vertical-align: middle;\n",
       "    }\n",
       "\n",
       "    .dataframe tbody tr th {\n",
       "        vertical-align: top;\n",
       "    }\n",
       "\n",
       "    .dataframe thead th {\n",
       "        text-align: right;\n",
       "    }\n",
       "</style>\n",
       "<table border=\"1\" class=\"dataframe\">\n",
       "  <thead>\n",
       "    <tr style=\"text-align: right;\">\n",
       "      <th></th>\n",
       "      <th>Date_raw</th>\n",
       "      <th>Titre_raw</th>\n",
       "      <th>Journal_raw</th>\n",
       "      <th>Contenu_raw</th>\n",
       "      <th>Auteur_raw</th>\n",
       "      <th>Date_mod</th>\n",
       "      <th>Titre_mod</th>\n",
       "      <th>Contenu_mod</th>\n",
       "      <th>Journal_mod</th>\n",
       "      <th>nb_mots</th>\n",
       "    </tr>\n",
       "  </thead>\n",
       "  <tbody>\n",
       "    <tr>\n",
       "      <th>84</th>\n",
       "      <td>\\nDossier,         samedi 6 avril 2024 7842 mo...</td>\n",
       "      <td>\\n\\nL’énigme Agathe Habyarimana            \\n ...</td>\n",
       "      <td>\\n        La Croix, no. 227</td>\n",
       "      <td>\\n\\nardin du palais présidentiel de Kigali, le...</td>\n",
       "      <td>NaN</td>\n",
       "      <td>2024-04-06</td>\n",
       "      <td>L’énigme Agathe Habyarimana</td>\n",
       "      <td>ardin du palais présidentiel de Kigali, le 21 ...</td>\n",
       "      <td>La Croix</td>\n",
       "      <td>7596</td>\n",
       "    </tr>\n",
       "  </tbody>\n",
       "</table>\n",
       "</div>"
      ],
      "text/plain": [
       "                                             Date_raw  \\\n",
       "84  \\nDossier,         samedi 6 avril 2024 7842 mo...   \n",
       "\n",
       "                                            Titre_raw  \\\n",
       "84  \\n\\nL’énigme Agathe Habyarimana            \\n ...   \n",
       "\n",
       "                                        Journal_raw  \\\n",
       "84  \\n        La Croix, no. 227                       \n",
       "\n",
       "                                          Contenu_raw  Auteur_raw    Date_mod  \\\n",
       "84  \\n\\nardin du palais présidentiel de Kigali, le...         NaN  2024-04-06   \n",
       "\n",
       "                      Titre_mod  \\\n",
       "84  L’énigme Agathe Habyarimana   \n",
       "\n",
       "                                          Contenu_mod Journal_mod  nb_mots  \n",
       "84  ardin du palais présidentiel de Kigali, le 21 ...    La Croix     7596  "
      ]
     },
     "execution_count": 16,
     "metadata": {},
     "output_type": "execute_result"
    }
   ],
   "source": [
    "df[df[\"nb_mots\"] == df[\"nb_mots\"].max()]"
   ]
  },
  {
   "cell_type": "code",
   "execution_count": 17,
   "id": "719c4c02-051a-4fed-9c63-934c3f92d6f8",
   "metadata": {},
   "outputs": [
    {
     "data": {
      "text/html": [
       "<div>\n",
       "<style scoped>\n",
       "    .dataframe tbody tr th:only-of-type {\n",
       "        vertical-align: middle;\n",
       "    }\n",
       "\n",
       "    .dataframe tbody tr th {\n",
       "        vertical-align: top;\n",
       "    }\n",
       "\n",
       "    .dataframe thead th {\n",
       "        text-align: right;\n",
       "    }\n",
       "</style>\n",
       "<table border=\"1\" class=\"dataframe\">\n",
       "  <thead>\n",
       "    <tr style=\"text-align: right;\">\n",
       "      <th></th>\n",
       "      <th>Date_raw</th>\n",
       "      <th>Titre_raw</th>\n",
       "      <th>Journal_raw</th>\n",
       "      <th>Contenu_raw</th>\n",
       "      <th>Auteur_raw</th>\n",
       "      <th>Date_mod</th>\n",
       "      <th>Titre_mod</th>\n",
       "      <th>Contenu_mod</th>\n",
       "      <th>Journal_mod</th>\n",
       "      <th>nb_mots</th>\n",
       "    </tr>\n",
       "  </thead>\n",
       "  <tbody>\n",
       "    <tr>\n",
       "      <th>235</th>\n",
       "      <td>\\n        samedi 6 avril 2024 24 mots, p. 1</td>\n",
       "      <td>\\nEnquête\\n\\nA Davos, le poison de l’antisémit...</td>\n",
       "      <td>\\n        Le Monde</td>\n",
       "      <td>\\n\\nDans la station suisse,les tensions se mul...</td>\n",
       "      <td>NaN</td>\n",
       "      <td>2024-04-06</td>\n",
       "      <td>Enquête\\n\\nA Davos, le poison de l’antisémitisme</td>\n",
       "      <td>Dans la station suisse,les tensions se multipl...</td>\n",
       "      <td>Le Monde</td>\n",
       "      <td>13</td>\n",
       "    </tr>\n",
       "  </tbody>\n",
       "</table>\n",
       "</div>"
      ],
      "text/plain": [
       "                                        Date_raw  \\\n",
       "235  \\n        samedi 6 avril 2024 24 mots, p. 1   \n",
       "\n",
       "                                             Titre_raw  \\\n",
       "235  \\nEnquête\\n\\nA Davos, le poison de l’antisémit...   \n",
       "\n",
       "                                Journal_raw  \\\n",
       "235  \\n        Le Monde                       \n",
       "\n",
       "                                           Contenu_raw  Auteur_raw  \\\n",
       "235  \\n\\nDans la station suisse,les tensions se mul...         NaN   \n",
       "\n",
       "       Date_mod                                         Titre_mod  \\\n",
       "235  2024-04-06  Enquête\\n\\nA Davos, le poison de l’antisémitisme   \n",
       "\n",
       "                                           Contenu_mod Journal_mod  nb_mots  \n",
       "235  Dans la station suisse,les tensions se multipl...    Le Monde       13  "
      ]
     },
     "execution_count": 17,
     "metadata": {},
     "output_type": "execute_result"
    }
   ],
   "source": [
    "df[df[\"nb_mots\"] == df[\"nb_mots\"].min()]"
   ]
  },
  {
   "cell_type": "code",
   "execution_count": 18,
   "id": "e29f5805-6db9-4694-a394-785de63251dd",
   "metadata": {},
   "outputs": [
    {
     "data": {
      "text/plain": [
       "Date_raw       \\nDossier,         samedi 6 avril 2024 7842 mo...\n",
       "Titre_raw      \\n\\nL’énigme Agathe Habyarimana            \\n ...\n",
       "Journal_raw      \\n        La Croix, no. 227                    \n",
       "Contenu_raw    \\n\\nardin du palais présidentiel de Kigali, le...\n",
       "Auteur_raw                                                   NaN\n",
       "Date_mod                                              2024-04-06\n",
       "Titre_mod                            L’énigme Agathe Habyarimana\n",
       "Contenu_mod    ardin du palais présidentiel de Kigali, le 21 ...\n",
       "Journal_mod                                             La Croix\n",
       "nb_mots                                                     7596\n",
       "Name: 84, dtype: object"
      ]
     },
     "execution_count": 18,
     "metadata": {},
     "output_type": "execute_result"
    }
   ],
   "source": [
    "df.loc[df[\"nb_mots\"].idxmax()]"
   ]
  },
  {
   "cell_type": "markdown",
   "id": "abeb4e1c-3004-422f-b4e5-c14768ee4277",
   "metadata": {},
   "source": [
    "## Exercice 3\n",
    "\n",
    "- Ajouter une colonne qui correspond au nombre de fois où le mot `Suisse` est utilisé par article\n",
    "- Ajouter une colonne qui contient la densité du mot par article (occurence / nombre total de mots)\n",
    "- Représenter l'histogramme de cette distribution (utiliser `kind=\"hist\"`)"
   ]
  },
  {
   "cell_type": "markdown",
   "id": "17b16a34",
   "metadata": {},
   "source": [
    "### 3.1 Colonne nb_suisse"
   ]
  },
  {
   "cell_type": "code",
   "execution_count": 19,
   "id": "ebae8b31-c99e-40a7-a199-462f48fa864c",
   "metadata": {},
   "outputs": [],
   "source": [
    "# Ajouter une colonne qui correspond au nombre de fois où le mot `Suisse` est utilisé par article\n",
    "df[\"nb_suisse\"] = (df[\"Contenu_mod\"].str.lower()).str.count(\"suisse | suisse|suisse.\")"
   ]
  },
  {
   "cell_type": "markdown",
   "id": "74f7139f",
   "metadata": {},
   "source": [
    "### 3.2 Ajouter une colonne qui contient la densité du mot par article (occurence / nombre total de mots)"
   ]
  },
  {
   "cell_type": "code",
   "execution_count": 20,
   "id": "c2fab63c",
   "metadata": {},
   "outputs": [],
   "source": [
    "# on a déjà ce qu'il nous faut :\n",
    "# occurrence -> df[\"nb_suisse\"]\n",
    "# nb_mots -> df[\"nb_mots\"]\n",
    "\n",
    "# pour avoir la densité = nb_suisse / nb_mots\n",
    "df[\"densitée\"] = df[\"nb_suisse\"] / df[\"nb_mots\"]"
   ]
  },
  {
   "cell_type": "markdown",
   "id": "717655b6",
   "metadata": {},
   "source": [
    "### 3.3 Représenter l'histogramme de cette distribution (utiliser `kind=\"hist\"`)"
   ]
  },
  {
   "cell_type": "code",
   "execution_count": 21,
   "id": "d91db277",
   "metadata": {},
   "outputs": [
    {
     "data": {
      "text/plain": [
       "<Axes: ylabel='Frequency'>"
      ]
     },
     "execution_count": 21,
     "metadata": {},
     "output_type": "execute_result"
    },
    {
     "data": {
      "image/png": "[encoded data removed]",
      "text/plain": [
       "<Figure size 640x480 with 1 Axes>"
      ]
     },
     "metadata": {},
     "output_type": "display_data"
    }
   ],
   "source": [
    "df[\"densitée\"].plot(kind=\"hist\")"
   ]
  },
  {
   "cell_type": "markdown",
   "id": "05c27b84-43e2-4a3d-a52a-28b6c5966329",
   "metadata": {},
   "source": [
    "## Exercice 4\n",
    "\n",
    "- Découper la densité en quartiles avec la méthode `quantile`\n",
    "- Faire le tableau croisé entre les journaux et la densité en quartiles\n",
    "- Quel est l'article qui a la densité la plus forte ?"
   ]
  },
  {
   "cell_type": "markdown",
   "id": "647b1819",
   "metadata": {},
   "source": [
    "### 4.1 Découper la densité en quartiles avec la méthode `quantile`\n"
   ]
  },
  {
   "cell_type": "code",
   "execution_count": 22,
   "id": "30fc4a36-3b80-4d26-9f6d-0c700f4ac883",
   "metadata": {},
   "outputs": [
    {
     "data": {
      "text/plain": [
       "0.25    0.001010\n",
       "0.50    0.001835\n",
       "0.75    0.004928\n",
       "Name: densitée, dtype: float64"
      ]
     },
     "execution_count": 22,
     "metadata": {},
     "output_type": "execute_result"
    }
   ],
   "source": [
    "df[\"densitée\"].quantile([0.25, 0.5, 0.75])"
   ]
  },
  {
   "cell_type": "code",
   "execution_count": 23,
   "id": "d8cfb8a9-94fb-4cc7-bccc-ff4ec8e09b1e",
   "metadata": {},
   "outputs": [],
   "source": [
    "# Faire la découpe avec pd.cut en précisant les quartiles:\n",
    "df[\"quartile\"] = pd.qcut(df[\"densitée\"], [0, 0.25, 0.5, 0.75, 1], [\"Q1\", \"Q2\", \"Q3\", \"Q4\"])"
   ]
  },
  {
   "cell_type": "markdown",
   "id": "8c3c7ee8",
   "metadata": {},
   "source": [
    "### 4.2 Faire le tableau croisé entre les journaux et la densité en quartiles\n"
   ]
  },
  {
   "cell_type": "code",
   "execution_count": 24,
   "id": "82977d5b-c615-4d40-ac1d-1e23da093b58",
   "metadata": {},
   "outputs": [
    {
     "data": {
      "text/html": [
       "<div>\n",
       "<style scoped>\n",
       "    .dataframe tbody tr th:only-of-type {\n",
       "        vertical-align: middle;\n",
       "    }\n",
       "\n",
       "    .dataframe tbody tr th {\n",
       "        vertical-align: top;\n",
       "    }\n",
       "\n",
       "    .dataframe thead th {\n",
       "        text-align: right;\n",
       "    }\n",
       "</style>\n",
       "<table border=\"1\" class=\"dataframe\">\n",
       "  <thead>\n",
       "    <tr style=\"text-align: right;\">\n",
       "      <th>Journal_mod</th>\n",
       "      <th>Aujourd'hui en France</th>\n",
       "      <th>L'Express</th>\n",
       "      <th>La Croix</th>\n",
       "      <th>Le Figaro</th>\n",
       "      <th>Le Monde</th>\n",
       "      <th>Le Point</th>\n",
       "      <th>Libération</th>\n",
       "      <th>Valeurs Actuelles</th>\n",
       "      <th>l'Humanité</th>\n",
       "    </tr>\n",
       "    <tr>\n",
       "      <th>quartile</th>\n",
       "      <th></th>\n",
       "      <th></th>\n",
       "      <th></th>\n",
       "      <th></th>\n",
       "      <th></th>\n",
       "      <th></th>\n",
       "      <th></th>\n",
       "      <th></th>\n",
       "      <th></th>\n",
       "    </tr>\n",
       "  </thead>\n",
       "  <tbody>\n",
       "    <tr>\n",
       "      <th>Q1</th>\n",
       "      <td>4</td>\n",
       "      <td>7</td>\n",
       "      <td>5</td>\n",
       "      <td>21</td>\n",
       "      <td>15</td>\n",
       "      <td>4</td>\n",
       "      <td>10</td>\n",
       "      <td>1</td>\n",
       "      <td>3</td>\n",
       "    </tr>\n",
       "    <tr>\n",
       "      <th>Q2</th>\n",
       "      <td>7</td>\n",
       "      <td>2</td>\n",
       "      <td>2</td>\n",
       "      <td>25</td>\n",
       "      <td>20</td>\n",
       "      <td>1</td>\n",
       "      <td>11</td>\n",
       "      <td>0</td>\n",
       "      <td>3</td>\n",
       "    </tr>\n",
       "    <tr>\n",
       "      <th>Q3</th>\n",
       "      <td>11</td>\n",
       "      <td>3</td>\n",
       "      <td>8</td>\n",
       "      <td>13</td>\n",
       "      <td>15</td>\n",
       "      <td>4</td>\n",
       "      <td>6</td>\n",
       "      <td>3</td>\n",
       "      <td>5</td>\n",
       "    </tr>\n",
       "    <tr>\n",
       "      <th>Q4</th>\n",
       "      <td>35</td>\n",
       "      <td>1</td>\n",
       "      <td>10</td>\n",
       "      <td>2</td>\n",
       "      <td>9</td>\n",
       "      <td>0</td>\n",
       "      <td>7</td>\n",
       "      <td>2</td>\n",
       "      <td>4</td>\n",
       "    </tr>\n",
       "  </tbody>\n",
       "</table>\n",
       "</div>"
      ],
      "text/plain": [
       "Journal_mod  Aujourd'hui en France  L'Express  La Croix  Le Figaro  Le Monde  \\\n",
       "quartile                                                                       \n",
       "Q1                               4          7         5         21        15   \n",
       "Q2                               7          2         2         25        20   \n",
       "Q3                              11          3         8         13        15   \n",
       "Q4                              35          1        10          2         9   \n",
       "\n",
       "Journal_mod  Le Point  Libération  Valeurs Actuelles  l'Humanité  \n",
       "quartile                                                          \n",
       "Q1                  4          10                  1           3  \n",
       "Q2                  1          11                  0           3  \n",
       "Q3                  4           6                  3           5  \n",
       "Q4                  0           7                  2           4  "
      ]
     },
     "execution_count": 24,
     "metadata": {},
     "output_type": "execute_result"
    }
   ],
   "source": [
    "pd.crosstab(df[\"quartile\"], df[\"Journal_mod\"])"
   ]
  },
  {
   "cell_type": "markdown",
   "id": "f3872c97",
   "metadata": {},
   "source": [
    "### 4.3 Quel est l'article qui a la densité la plus forte ?"
   ]
  },
  {
   "cell_type": "code",
   "execution_count": 25,
   "id": "222e5efe",
   "metadata": {},
   "outputs": [
    {
     "data": {
      "text/plain": [
       "Date_raw             \\n        samedi 6 avril 2024 24 mots, p. 1\n",
       "Titre_raw      \\nEnquête\\n\\nA Davos, le poison de l’antisémit...\n",
       "Journal_raw               \\n        Le Monde                    \n",
       "Contenu_raw    \\n\\nDans la station suisse,les tensions se mul...\n",
       "Auteur_raw                                                   NaN\n",
       "Date_mod                                              2024-04-06\n",
       "Titre_mod       Enquête\\n\\nA Davos, le poison de l’antisémitisme\n",
       "Contenu_mod    Dans la station suisse,les tensions se multipl...\n",
       "Journal_mod                                             Le Monde\n",
       "nb_mots                                                       13\n",
       "nb_suisse                                                      1\n",
       "densitée                                                0.076923\n",
       "quartile                                                      Q4\n",
       "Name: 235, dtype: object"
      ]
     },
     "execution_count": 25,
     "metadata": {},
     "output_type": "execute_result"
    }
   ],
   "source": [
    "# idxmax ?\n",
    "df.loc[df[\"densitée\"].idxmax()]"
   ]
  },
  {
   "cell_type": "markdown",
   "id": "fb28a0cc-a6a1-4cb3-b461-d0c867a86912",
   "metadata": {},
   "source": [
    "## Exercice 5 (un peu plus dur)\n",
    "\n",
    "- Construire une nouvelle colonne qui contient uniquement les phrases des articles qui mentionnent le terme `Suisse`\n",
    "- Transformer chaque phrase en une liste de mots en ne garant que les mots de plus de 5 lettres\n",
    "- Quels sont les mots les plus fréquents dans tous les mots des phrases retenues ?"
   ]
  },
  {
   "cell_type": "markdown",
   "id": "cf36bbe0",
   "metadata": {},
   "source": [
    "### 5.1 Construire une nouvelle colonne qui contient uniquement les phrases des articles qui mentionnent le terme `Suisse`"
   ]
  },
  {
   "cell_type": "markdown",
   "id": "31091465-730f-41fc-abef-7de90d4fb62d",
   "metadata": {},
   "source": [
    "On peut décomposer les étapes (ou les faire en même temps)"
   ]
  },
  {
   "cell_type": "code",
   "execution_count": 26,
   "id": "85fd53db-d24a-44e6-b342-f4300c6e3354",
   "metadata": {},
   "outputs": [],
   "source": [
    "def couper_phrase(texte):\n",
    "    \"\"\"\n",
    "    Couper un texte en phrase\n",
    "    \"\"\"\n",
    "    phrases = texte.replace(\"?\", \".\").replace(\"!\", \".\").split(\".\")\n",
    "    return phrases\n",
    "\n",
    "df[\"phrases\"] = df[\"Contenu_mod\"].apply(couper_phrase)\n",
    "\n",
    "def selectionner_phrase(liste_phrases):\n",
    "    \"\"\"\n",
    "    Renvoyer uniquement les phrases contenant suisse\n",
    "    \"\"\"\n",
    "    echantillon = []\n",
    "    for phrase in liste_phrases:\n",
    "        if \"suisse\" in phrase.lower():\n",
    "            echantillon.append(phrase)\n",
    "    return echantillon\n",
    "\n",
    "# Avec compréhension de liste\n",
    "def selectionner_phrase(liste_phrases):\n",
    "    return [phrase for phrase in liste_phrases if \"suisse\" in phrase.lower()]\n",
    "\n",
    "df[\"phrases_suisse\"] = df[\"phrases\"].apply(selectionner_phrase)"
   ]
  },
  {
   "cell_type": "code",
   "execution_count": 27,
   "id": "588add2c-29cb-4b67-bc31-5af9eeadb648",
   "metadata": {},
   "outputs": [
    {
     "data": {
      "text/plain": [
       "['Qui parle de la suisse']"
      ]
     },
     "execution_count": 27,
     "metadata": {},
     "output_type": "execute_result"
    }
   ],
   "source": [
    "selectionner_phrase([\"Ceci est un phrase\", \"Qui parle de la suisse\"])"
   ]
  },
  {
   "cell_type": "markdown",
   "id": "2e6f1178-abb2-4e19-aab0-f7d3156875f6",
   "metadata": {},
   "source": [
    "### Parenthèse : les compréhensions de liste"
   ]
  },
  {
   "cell_type": "code",
   "execution_count": 28,
   "id": "0879f52f-a29c-4329-8e9d-761426299522",
   "metadata": {},
   "outputs": [
    {
     "data": {
      "text/plain": [
       "[9, 4, 12, 2]"
      ]
     },
     "execution_count": 28,
     "metadata": {},
     "output_type": "execute_result"
    }
   ],
   "source": [
    "ma_liste = [\"La suisse\", \"rien\", \"Deux suisses\", \"ok\"]\n",
    "longueur = []\n",
    "for element in ma_liste:\n",
    "    longueur.append(len(element))\n",
    "longueur"
   ]
  },
  {
   "cell_type": "code",
   "execution_count": 29,
   "id": "1dbd08f6-abfc-46a7-8d71-7dd75974c7ef",
   "metadata": {},
   "outputs": [
    {
     "data": {
      "text/plain": [
       "[9, 4, 12, 2]"
      ]
     },
     "execution_count": 29,
     "metadata": {},
     "output_type": "execute_result"
    }
   ],
   "source": [
    "[len(element) for element in ma_liste]"
   ]
  },
  {
   "cell_type": "markdown",
   "id": "791f5e05",
   "metadata": {},
   "source": [
    "### 5.2 Transformer chaque phrase en une liste de mots en ne gardant que les mots de plus de 5 lettres\n"
   ]
  },
  {
   "cell_type": "markdown",
   "id": "d78ab018-26c6-460e-aadb-564f517ad827",
   "metadata": {},
   "source": [
    "Ecrire une fonction qui passe d'une liste de phrases à une liste de listes de mots de plus de 5 lettres"
   ]
  },
  {
   "cell_type": "code",
   "execution_count": 30,
   "id": "c5b9b787-586d-4429-96dc-c4efd3babed0",
   "metadata": {},
   "outputs": [],
   "source": [
    "def decomposer_phrases(liste_phrases):\n",
    "    phrases_decomposees = []\n",
    "    for phrase in liste_phrases:\n",
    "        phrases_decomposees.append([mot.lower() for mot in phrase.split(\" \") if len(mot) >= 5])\n",
    "    return phrases_decomposees"
   ]
  },
  {
   "cell_type": "code",
   "execution_count": 31,
   "id": "4f0a7f16-5896-4a11-b5f6-b712358e2605",
   "metadata": {},
   "outputs": [],
   "source": [
    "df[\"phrases_decomposees\"] = df[\"phrases_suisse\"].apply(decomposer_phrases)"
   ]
  },
  {
   "cell_type": "code",
   "execution_count": 32,
   "id": "ec2422be-8555-4eb9-8ffe-fdc5d4a4ef42",
   "metadata": {},
   "outputs": [
    {
     "data": {
      "text/plain": [
       "0      [[genève, correspondance, condamnation, suisse...\n",
       "1      [[européenne, droits, l’homme, (cedh),, s’étai...\n",
       "2      [[mardi, 9 avril,, européenne, droits, l’homme...\n",
       "3      [[martin, antoine, correspondantà, strasbourg,...\n",
       "4      [[lausanne, (suisse), envoyé, spécial, grand-m...\n",
       "                             ...                        \n",
       "274    [[france, arrive, onzième, position,, derrière...\n",
       "275    [[revoir, après, suisse], [fâché, suisses, fâc...\n",
       "276    [[principe, qu'avec, dopage, classique, détour...\n",
       "277    [[déjà,, réseau, express, métropolitain, europ...\n",
       "278    [[l'assurance-vie, apparaît, comme, couteau, s...\n",
       "Name: phrases_decomposees, Length: 279, dtype: object"
      ]
     },
     "execution_count": 32,
     "metadata": {},
     "output_type": "execute_result"
    }
   ],
   "source": [
    "df[\"phrases_decomposees\"]"
   ]
  },
  {
   "cell_type": "markdown",
   "id": "f78459b4",
   "metadata": {},
   "source": [
    "### 5.3 Quels sont les mots les plus fréquents dans tous les mots des phrases retenues ?"
   ]
  },
  {
   "cell_type": "markdown",
   "id": "e44eecd9-7aec-4b1e-8a8c-ec7f9da5be31",
   "metadata": {},
   "source": [
    "Utilisation d'un objet qui permer de compter des éléments"
   ]
  },
  {
   "cell_type": "code",
   "execution_count": 33,
   "id": "1651bbd0-50a7-4cee-b019-a84fcfdd1a6c",
   "metadata": {},
   "outputs": [],
   "source": [
    "from collections import Counter"
   ]
  },
  {
   "cell_type": "code",
   "execution_count": 34,
   "id": "883fe8e1-3af3-44ea-8f12-c086d4f5f0e4",
   "metadata": {},
   "outputs": [
    {
     "data": {
      "text/plain": [
       "Counter({'a': 4, 'b': 2})"
      ]
     },
     "execution_count": 34,
     "metadata": {},
     "output_type": "execute_result"
    }
   ],
   "source": [
    "Counter([\"a\", \"a\", \"b\"]) + Counter([\"a\", \"a\", \"b\"])"
   ]
  },
  {
   "cell_type": "code",
   "execution_count": 35,
   "id": "da7a5cdf-ee9e-497e-9527-80b0336e2e14",
   "metadata": {},
   "outputs": [
    {
     "data": {
      "text/plain": [
       "[('suisse', 274),\n",
       " ('suisse,', 87),\n",
       " ('belgique', 36),\n",
       " ('portugal', 32),\n",
       " ('tunisie', 31),\n",
       " ('andorre', 30),\n",
       " ('dom-tom', 30),\n",
       " ('espagne', 30),\n",
       " ('grèce', 30),\n",
       " ('maroc', 30),\n",
       " ('suisses', 29),\n",
       " ('(suisse)', 24),\n",
       " ('france', 22),\n",
       " ('droits', 21),\n",
       " ('contre', 20),\n",
       " ('comme', 19),\n",
       " ('ainsi', 18),\n",
       " ('entre', 17),\n",
       " ('après', 16),\n",
       " ('européenne', 15)]"
      ]
     },
     "execution_count": 35,
     "metadata": {},
     "output_type": "execute_result"
    }
   ],
   "source": [
    "def transformer_en_compteur(liste_listes):\n",
    "    liste_compteurs = [Counter(liste) for liste in liste_listes]\n",
    "    c = Counter()\n",
    "    for compteur in liste_compteurs:\n",
    "        c += compteur\n",
    "    return c\n",
    "\n",
    "c = Counter()\n",
    "for compteur in list(df[\"phrases_decomposees\"].apply(transformer_en_compteur)):\n",
    "    c+=compteur\n",
    "c.most_common(20)"
   ]
  },
  {
   "cell_type": "markdown",
   "id": "bb474ffd-8078-45de-bfcd-20b9b549c818",
   "metadata": {},
   "source": [
    "Il y a un peu de nettoyage à faire"
   ]
  }
 ],
 "metadata": {
  "kernelspec": {
   "display_name": "Python 3 (ipykernel)",
   "language": "python",
   "name": "python3"
  },
  "language_info": {
   "codemirror_mode": {
    "name": "ipython",
    "version": 3
   },
   "file_extension": ".py",
   "mimetype": "text/x-python",
   "name": "python",
   "nbconvert_exporter": "python",
   "pygments_lexer": "ipython3",
   "version": "3.11.5"
  }
 },
 "nbformat": 4,
 "nbformat_minor": 5
}
