{
 "cells": [
  {
   "cell_type": "markdown",
   "id": "055291de-6b58-4062-8302-7a716b233c11",
   "metadata": {},
   "source": [
    "# Correction Exercices séance 5\n",
    "\n",
    "Ces exercices utilisent les données issues du questionnaire passé en amont du cours sur les connaissances en informatique & en programmation, dans le fichier `questionnaire.csv`"
   ]
  },
  {
   "cell_type": "code",
   "execution_count": 1,
   "id": "023546f3-6a2d-4649-8a83-49ed74219174",
   "metadata": {},
   "outputs": [],
   "source": [
    "import pandas as pd\n",
    "df_base = pd.read_csv(\"./questionnaire.csv\")"
   ]
  },
  {
   "cell_type": "markdown",
   "id": "c32a8014-10ba-4a71-b5da-0a15f4d47be6",
   "metadata": {},
   "source": [
    "## Exercice 1 : mise en forme\n",
    "\n",
    "- charger le fichier en mettant en forme correctement les colonnes (regarder les options de read_csv)\n",
    "- recoder le nom des colonnes\n",
    "- remplacer Oui par 1, et 0 par Non\n",
    "- calculer un indicateur par grande catégorie (somme des réponses divisée par le nombre de questions)\n",
    "- calculer un indicateur général (idem)"
   ]
  },
  {
   "cell_type": "markdown",
   "id": "36f9f605",
   "metadata": {},
   "source": [
    "## 1.1 charger le fichier en mettant en forme correctement les colonnes (regarder les options de read_csv)"
   ]
  },
  {
   "cell_type": "code",
   "execution_count": 2,
   "id": "efc830a5",
   "metadata": {},
   "outputs": [
    {
     "data": {
      "text/html": [
       "<div>\n",
       "<style scoped>\n",
       "    .dataframe tbody tr th:only-of-type {\n",
       "        vertical-align: middle;\n",
       "    }\n",
       "\n",
       "    .dataframe tbody tr th {\n",
       "        vertical-align: top;\n",
       "    }\n",
       "\n",
       "    .dataframe thead th {\n",
       "        text-align: right;\n",
       "    }\n",
       "</style>\n",
       "<table border=\"1\" class=\"dataframe\">\n",
       "  <thead>\n",
       "    <tr style=\"text-align: right;\">\n",
       "      <th></th>\n",
       "      <th>Unnamed: 0</th>\n",
       "      <th>Unnamed: 1</th>\n",
       "      <th>Unnamed: 2</th>\n",
       "      <th>Unnamed: 3</th>\n",
       "      <th>Unnamed: 4</th>\n",
       "      <th>Unnamed: 5</th>\n",
       "      <th>Unnamed: 6</th>\n",
       "      <th>Unnamed: 7</th>\n",
       "      <th>Unnamed: 8</th>\n",
       "      <th>Unnamed: 9</th>\n",
       "      <th>Unnamed: 10</th>\n",
       "      <th>Unnamed: 11</th>\n",
       "    </tr>\n",
       "  </thead>\n",
       "  <tbody>\n",
       "    <tr>\n",
       "      <th>0</th>\n",
       "      <td>Questions sur les bases informatiques</td>\n",
       "      <td>NaN</td>\n",
       "      <td>NaN</td>\n",
       "      <td>Questions sur les bases algorithmiques</td>\n",
       "      <td>NaN</td>\n",
       "      <td>NaN</td>\n",
       "      <td>Questions sur les bases de Python</td>\n",
       "      <td>NaN</td>\n",
       "      <td>NaN</td>\n",
       "      <td>Question sur les outils plus avancés sur Python</td>\n",
       "      <td>NaN</td>\n",
       "      <td>NaN</td>\n",
       "    </tr>\n",
       "    <tr>\n",
       "      <th>1</th>\n",
       "      <td>Sauriez-vous expliquer globalement quel est le...</td>\n",
       "      <td>Savez-vous afficher le code source d’une page ...</td>\n",
       "      <td>Savez-vous ce qu’est un fichier de format CSV ?</td>\n",
       "      <td>Avez-vous déjà appris les bases d’un langage d...</td>\n",
       "      <td>Savez-vous ce qu’est une boucle en programmati...</td>\n",
       "      <td>Avez-vous déjà eu l’occasion d’utiliser de la ...</td>\n",
       "      <td>Sauriez-vous reconnaître si un script est écri...</td>\n",
       "      <td>Avez-vous déjà ouvert une console Python pour ...</td>\n",
       "      <td>Avez-vous déjà programmé un peu en Python ?</td>\n",
       "      <td>Avez-vous déjà écrit une fonction pour réalise...</td>\n",
       "      <td>Avez-vous déjà utilisé la bibliothèque Pandas ?</td>\n",
       "      <td>Savez-vous superposer deux graphiques ensemble ?</td>\n",
       "    </tr>\n",
       "    <tr>\n",
       "      <th>2</th>\n",
       "      <td>Oui</td>\n",
       "      <td>Oui</td>\n",
       "      <td>Oui</td>\n",
       "      <td>Oui</td>\n",
       "      <td>Oui</td>\n",
       "      <td>Oui</td>\n",
       "      <td>Oui</td>\n",
       "      <td>Oui</td>\n",
       "      <td>Oui</td>\n",
       "      <td>Non</td>\n",
       "      <td>Non</td>\n",
       "      <td>Non</td>\n",
       "    </tr>\n",
       "    <tr>\n",
       "      <th>3</th>\n",
       "      <td>Non</td>\n",
       "      <td>Non</td>\n",
       "      <td>Non</td>\n",
       "      <td>Oui</td>\n",
       "      <td>Oui</td>\n",
       "      <td>Non</td>\n",
       "      <td>Non</td>\n",
       "      <td>Oui</td>\n",
       "      <td>Oui</td>\n",
       "      <td>Non</td>\n",
       "      <td>Non</td>\n",
       "      <td>Non</td>\n",
       "    </tr>\n",
       "    <tr>\n",
       "      <th>4</th>\n",
       "      <td>Non</td>\n",
       "      <td>Non</td>\n",
       "      <td>Oui</td>\n",
       "      <td>Oui</td>\n",
       "      <td>Oui</td>\n",
       "      <td>Oui</td>\n",
       "      <td>Non</td>\n",
       "      <td>Non</td>\n",
       "      <td>Non</td>\n",
       "      <td>Non</td>\n",
       "      <td>Non</td>\n",
       "      <td>Non</td>\n",
       "    </tr>\n",
       "  </tbody>\n",
       "</table>\n",
       "</div>"
      ],
      "text/plain": [
       "                                          Unnamed: 0  \\\n",
       "0              Questions sur les bases informatiques   \n",
       "1  Sauriez-vous expliquer globalement quel est le...   \n",
       "2                                                Oui   \n",
       "3                                                Non   \n",
       "4                                                Non   \n",
       "\n",
       "                                          Unnamed: 1  \\\n",
       "0                                                NaN   \n",
       "1  Savez-vous afficher le code source d’une page ...   \n",
       "2                                                Oui   \n",
       "3                                                Non   \n",
       "4                                                Non   \n",
       "\n",
       "                                        Unnamed: 2  \\\n",
       "0                                              NaN   \n",
       "1  Savez-vous ce qu’est un fichier de format CSV ?   \n",
       "2                                              Oui   \n",
       "3                                              Non   \n",
       "4                                              Oui   \n",
       "\n",
       "                                          Unnamed: 3  \\\n",
       "0             Questions sur les bases algorithmiques   \n",
       "1  Avez-vous déjà appris les bases d’un langage d...   \n",
       "2                                                Oui   \n",
       "3                                                Oui   \n",
       "4                                                Oui   \n",
       "\n",
       "                                          Unnamed: 4  \\\n",
       "0                                                NaN   \n",
       "1  Savez-vous ce qu’est une boucle en programmati...   \n",
       "2                                                Oui   \n",
       "3                                                Oui   \n",
       "4                                                Oui   \n",
       "\n",
       "                                          Unnamed: 5  \\\n",
       "0                                                NaN   \n",
       "1  Avez-vous déjà eu l’occasion d’utiliser de la ...   \n",
       "2                                                Oui   \n",
       "3                                                Non   \n",
       "4                                                Oui   \n",
       "\n",
       "                                          Unnamed: 6  \\\n",
       "0                  Questions sur les bases de Python   \n",
       "1  Sauriez-vous reconnaître si un script est écri...   \n",
       "2                                                Oui   \n",
       "3                                                Non   \n",
       "4                                                Non   \n",
       "\n",
       "                                          Unnamed: 7  \\\n",
       "0                                                NaN   \n",
       "1  Avez-vous déjà ouvert une console Python pour ...   \n",
       "2                                                Oui   \n",
       "3                                                Oui   \n",
       "4                                                Non   \n",
       "\n",
       "                                    Unnamed: 8  \\\n",
       "0                                          NaN   \n",
       "1  Avez-vous déjà programmé un peu en Python ?   \n",
       "2                                          Oui   \n",
       "3                                          Oui   \n",
       "4                                          Non   \n",
       "\n",
       "                                          Unnamed: 9  \\\n",
       "0    Question sur les outils plus avancés sur Python   \n",
       "1  Avez-vous déjà écrit une fonction pour réalise...   \n",
       "2                                                Non   \n",
       "3                                                Non   \n",
       "4                                                Non   \n",
       "\n",
       "                                       Unnamed: 10  \\\n",
       "0                                              NaN   \n",
       "1  Avez-vous déjà utilisé la bibliothèque Pandas ?   \n",
       "2                                              Non   \n",
       "3                                              Non   \n",
       "4                                              Non   \n",
       "\n",
       "                                        Unnamed: 11  \n",
       "0                                               NaN  \n",
       "1  Savez-vous superposer deux graphiques ensemble ?  \n",
       "2                                               Non  \n",
       "3                                               Non  \n",
       "4                                               Non  "
      ]
     },
     "execution_count": 2,
     "metadata": {},
     "output_type": "execute_result"
    }
   ],
   "source": [
    "# voir à quoi ressemble l'import de base sans précisions :\n",
    "df_base.head()"
   ]
  },
  {
   "cell_type": "code",
   "execution_count": 3,
   "id": "41d010fd",
   "metadata": {},
   "outputs": [],
   "source": [
    "# on a visiblement une première ligne \"vide\"\n",
    "# une dexième qui présente des groupes de questions (bases, info, bases algo, etc.) et du vide entre pour délimiter\n",
    "# ici un groupe de 0:2 ; 3:5 ; 6:8 ; 9:11\n",
    "# et celle qui est plus intéressante, avec les intitulés des questions\n",
    "# puis les réponses véritables\n"
   ]
  },
  {
   "cell_type": "code",
   "execution_count": 4,
   "id": "84b5e328",
   "metadata": {},
   "outputs": [
    {
     "name": "stdout",
     "output_type": "stream",
     "text": [
      "\u001b[0;31mSignature:\u001b[0m\n",
      "\u001b[0mpd\u001b[0m\u001b[0;34m.\u001b[0m\u001b[0mread_csv\u001b[0m\u001b[0;34m(\u001b[0m\u001b[0;34m\u001b[0m\n",
      "\u001b[0;34m\u001b[0m    \u001b[0mfilepath_or_buffer\u001b[0m\u001b[0;34m:\u001b[0m \u001b[0;34m'FilePath | ReadCsvBuffer[bytes] | ReadCsvBuffer[str]'\u001b[0m\u001b[0;34m,\u001b[0m\u001b[0;34m\u001b[0m\n",
      "\u001b[0;34m\u001b[0m    \u001b[0;34m*\u001b[0m\u001b[0;34m,\u001b[0m\u001b[0;34m\u001b[0m\n",
      "\u001b[0;34m\u001b[0m    \u001b[0msep\u001b[0m\u001b[0;34m:\u001b[0m \u001b[0;34m'str | None | lib.NoDefault'\u001b[0m \u001b[0;34m=\u001b[0m \u001b[0;34m<\u001b[0m\u001b[0mno_default\u001b[0m\u001b[0;34m>\u001b[0m\u001b[0;34m,\u001b[0m\u001b[0;34m\u001b[0m\n",
      "\u001b[0;34m\u001b[0m    \u001b[0mdelimiter\u001b[0m\u001b[0;34m:\u001b[0m \u001b[0;34m'str | None | lib.NoDefault'\u001b[0m \u001b[0;34m=\u001b[0m \u001b[0;32mNone\u001b[0m\u001b[0;34m,\u001b[0m\u001b[0;34m\u001b[0m\n",
      "\u001b[0;34m\u001b[0m    \u001b[0mheader\u001b[0m\u001b[0;34m:\u001b[0m \u001b[0;34m\"int | Sequence[int] | None | Literal['infer']\"\u001b[0m \u001b[0;34m=\u001b[0m \u001b[0;34m'infer'\u001b[0m\u001b[0;34m,\u001b[0m\u001b[0;34m\u001b[0m\n",
      "\u001b[0;34m\u001b[0m    \u001b[0mnames\u001b[0m\u001b[0;34m:\u001b[0m \u001b[0;34m'Sequence[Hashable] | None | lib.NoDefault'\u001b[0m \u001b[0;34m=\u001b[0m \u001b[0;34m<\u001b[0m\u001b[0mno_default\u001b[0m\u001b[0;34m>\u001b[0m\u001b[0;34m,\u001b[0m\u001b[0;34m\u001b[0m\n",
      "\u001b[0;34m\u001b[0m    \u001b[0mindex_col\u001b[0m\u001b[0;34m:\u001b[0m \u001b[0;34m'IndexLabel | Literal[False] | None'\u001b[0m \u001b[0;34m=\u001b[0m \u001b[0;32mNone\u001b[0m\u001b[0;34m,\u001b[0m\u001b[0;34m\u001b[0m\n",
      "\u001b[0;34m\u001b[0m    \u001b[0musecols\u001b[0m\u001b[0;34m=\u001b[0m\u001b[0;32mNone\u001b[0m\u001b[0;34m,\u001b[0m\u001b[0;34m\u001b[0m\n",
      "\u001b[0;34m\u001b[0m    \u001b[0mdtype\u001b[0m\u001b[0;34m:\u001b[0m \u001b[0;34m'DtypeArg | None'\u001b[0m \u001b[0;34m=\u001b[0m \u001b[0;32mNone\u001b[0m\u001b[0;34m,\u001b[0m\u001b[0;34m\u001b[0m\n",
      "\u001b[0;34m\u001b[0m    \u001b[0mengine\u001b[0m\u001b[0;34m:\u001b[0m \u001b[0;34m'CSVEngine | None'\u001b[0m \u001b[0;34m=\u001b[0m \u001b[0;32mNone\u001b[0m\u001b[0;34m,\u001b[0m\u001b[0;34m\u001b[0m\n",
      "\u001b[0;34m\u001b[0m    \u001b[0mconverters\u001b[0m\u001b[0;34m=\u001b[0m\u001b[0;32mNone\u001b[0m\u001b[0;34m,\u001b[0m\u001b[0;34m\u001b[0m\n",
      "\u001b[0;34m\u001b[0m    \u001b[0mtrue_values\u001b[0m\u001b[0;34m=\u001b[0m\u001b[0;32mNone\u001b[0m\u001b[0;34m,\u001b[0m\u001b[0;34m\u001b[0m\n",
      "\u001b[0;34m\u001b[0m    \u001b[0mfalse_values\u001b[0m\u001b[0;34m=\u001b[0m\u001b[0;32mNone\u001b[0m\u001b[0;34m,\u001b[0m\u001b[0;34m\u001b[0m\n",
      "\u001b[0;34m\u001b[0m    \u001b[0mskipinitialspace\u001b[0m\u001b[0;34m:\u001b[0m \u001b[0;34m'bool'\u001b[0m \u001b[0;34m=\u001b[0m \u001b[0;32mFalse\u001b[0m\u001b[0;34m,\u001b[0m\u001b[0;34m\u001b[0m\n",
      "\u001b[0;34m\u001b[0m    \u001b[0mskiprows\u001b[0m\u001b[0;34m=\u001b[0m\u001b[0;32mNone\u001b[0m\u001b[0;34m,\u001b[0m\u001b[0;34m\u001b[0m\n",
      "\u001b[0;34m\u001b[0m    \u001b[0mskipfooter\u001b[0m\u001b[0;34m:\u001b[0m \u001b[0;34m'int'\u001b[0m \u001b[0;34m=\u001b[0m \u001b[0;36m0\u001b[0m\u001b[0;34m,\u001b[0m\u001b[0;34m\u001b[0m\n",
      "\u001b[0;34m\u001b[0m    \u001b[0mnrows\u001b[0m\u001b[0;34m:\u001b[0m \u001b[0;34m'int | None'\u001b[0m \u001b[0;34m=\u001b[0m \u001b[0;32mNone\u001b[0m\u001b[0;34m,\u001b[0m\u001b[0;34m\u001b[0m\n",
      "\u001b[0;34m\u001b[0m    \u001b[0mna_values\u001b[0m\u001b[0;34m=\u001b[0m\u001b[0;32mNone\u001b[0m\u001b[0;34m,\u001b[0m\u001b[0;34m\u001b[0m\n",
      "\u001b[0;34m\u001b[0m    \u001b[0mkeep_default_na\u001b[0m\u001b[0;34m:\u001b[0m \u001b[0;34m'bool'\u001b[0m \u001b[0;34m=\u001b[0m \u001b[0;32mTrue\u001b[0m\u001b[0;34m,\u001b[0m\u001b[0;34m\u001b[0m\n",
      "\u001b[0;34m\u001b[0m    \u001b[0mna_filter\u001b[0m\u001b[0;34m:\u001b[0m \u001b[0;34m'bool'\u001b[0m \u001b[0;34m=\u001b[0m \u001b[0;32mTrue\u001b[0m\u001b[0;34m,\u001b[0m\u001b[0;34m\u001b[0m\n",
      "\u001b[0;34m\u001b[0m    \u001b[0mverbose\u001b[0m\u001b[0;34m:\u001b[0m \u001b[0;34m'bool'\u001b[0m \u001b[0;34m=\u001b[0m \u001b[0;32mFalse\u001b[0m\u001b[0;34m,\u001b[0m\u001b[0;34m\u001b[0m\n",
      "\u001b[0;34m\u001b[0m    \u001b[0mskip_blank_lines\u001b[0m\u001b[0;34m:\u001b[0m \u001b[0;34m'bool'\u001b[0m \u001b[0;34m=\u001b[0m \u001b[0;32mTrue\u001b[0m\u001b[0;34m,\u001b[0m\u001b[0;34m\u001b[0m\n",
      "\u001b[0;34m\u001b[0m    \u001b[0mparse_dates\u001b[0m\u001b[0;34m:\u001b[0m \u001b[0;34m'bool | Sequence[Hashable] | None'\u001b[0m \u001b[0;34m=\u001b[0m \u001b[0;32mNone\u001b[0m\u001b[0;34m,\u001b[0m\u001b[0;34m\u001b[0m\n",
      "\u001b[0;34m\u001b[0m    \u001b[0minfer_datetime_format\u001b[0m\u001b[0;34m:\u001b[0m \u001b[0;34m'bool | lib.NoDefault'\u001b[0m \u001b[0;34m=\u001b[0m \u001b[0;34m<\u001b[0m\u001b[0mno_default\u001b[0m\u001b[0;34m>\u001b[0m\u001b[0;34m,\u001b[0m\u001b[0;34m\u001b[0m\n",
      "\u001b[0;34m\u001b[0m    \u001b[0mkeep_date_col\u001b[0m\u001b[0;34m:\u001b[0m \u001b[0;34m'bool'\u001b[0m \u001b[0;34m=\u001b[0m \u001b[0;32mFalse\u001b[0m\u001b[0;34m,\u001b[0m\u001b[0;34m\u001b[0m\n",
      "\u001b[0;34m\u001b[0m    \u001b[0mdate_parser\u001b[0m\u001b[0;34m=\u001b[0m\u001b[0;34m<\u001b[0m\u001b[0mno_default\u001b[0m\u001b[0;34m>\u001b[0m\u001b[0;34m,\u001b[0m\u001b[0;34m\u001b[0m\n",
      "\u001b[0;34m\u001b[0m    \u001b[0mdate_format\u001b[0m\u001b[0;34m:\u001b[0m \u001b[0;34m'str | None'\u001b[0m \u001b[0;34m=\u001b[0m \u001b[0;32mNone\u001b[0m\u001b[0;34m,\u001b[0m\u001b[0;34m\u001b[0m\n",
      "\u001b[0;34m\u001b[0m    \u001b[0mdayfirst\u001b[0m\u001b[0;34m:\u001b[0m \u001b[0;34m'bool'\u001b[0m \u001b[0;34m=\u001b[0m \u001b[0;32mFalse\u001b[0m\u001b[0;34m,\u001b[0m\u001b[0;34m\u001b[0m\n",
      "\u001b[0;34m\u001b[0m    \u001b[0mcache_dates\u001b[0m\u001b[0;34m:\u001b[0m \u001b[0;34m'bool'\u001b[0m \u001b[0;34m=\u001b[0m \u001b[0;32mTrue\u001b[0m\u001b[0;34m,\u001b[0m\u001b[0;34m\u001b[0m\n",
      "\u001b[0;34m\u001b[0m    \u001b[0miterator\u001b[0m\u001b[0;34m:\u001b[0m \u001b[0;34m'bool'\u001b[0m \u001b[0;34m=\u001b[0m \u001b[0;32mFalse\u001b[0m\u001b[0;34m,\u001b[0m\u001b[0;34m\u001b[0m\n",
      "\u001b[0;34m\u001b[0m    \u001b[0mchunksize\u001b[0m\u001b[0;34m:\u001b[0m \u001b[0;34m'int | None'\u001b[0m \u001b[0;34m=\u001b[0m \u001b[0;32mNone\u001b[0m\u001b[0;34m,\u001b[0m\u001b[0;34m\u001b[0m\n",
      "\u001b[0;34m\u001b[0m    \u001b[0mcompression\u001b[0m\u001b[0;34m:\u001b[0m \u001b[0;34m'CompressionOptions'\u001b[0m \u001b[0;34m=\u001b[0m \u001b[0;34m'infer'\u001b[0m\u001b[0;34m,\u001b[0m\u001b[0;34m\u001b[0m\n",
      "\u001b[0;34m\u001b[0m    \u001b[0mthousands\u001b[0m\u001b[0;34m:\u001b[0m \u001b[0;34m'str | None'\u001b[0m \u001b[0;34m=\u001b[0m \u001b[0;32mNone\u001b[0m\u001b[0;34m,\u001b[0m\u001b[0;34m\u001b[0m\n",
      "\u001b[0;34m\u001b[0m    \u001b[0mdecimal\u001b[0m\u001b[0;34m:\u001b[0m \u001b[0;34m'str'\u001b[0m \u001b[0;34m=\u001b[0m \u001b[0;34m'.'\u001b[0m\u001b[0;34m,\u001b[0m\u001b[0;34m\u001b[0m\n",
      "\u001b[0;34m\u001b[0m    \u001b[0mlineterminator\u001b[0m\u001b[0;34m:\u001b[0m \u001b[0;34m'str | None'\u001b[0m \u001b[0;34m=\u001b[0m \u001b[0;32mNone\u001b[0m\u001b[0;34m,\u001b[0m\u001b[0;34m\u001b[0m\n",
      "\u001b[0;34m\u001b[0m    \u001b[0mquotechar\u001b[0m\u001b[0;34m:\u001b[0m \u001b[0;34m'str'\u001b[0m \u001b[0;34m=\u001b[0m \u001b[0;34m'\"'\u001b[0m\u001b[0;34m,\u001b[0m\u001b[0;34m\u001b[0m\n",
      "\u001b[0;34m\u001b[0m    \u001b[0mquoting\u001b[0m\u001b[0;34m:\u001b[0m \u001b[0;34m'int'\u001b[0m \u001b[0;34m=\u001b[0m \u001b[0;36m0\u001b[0m\u001b[0;34m,\u001b[0m\u001b[0;34m\u001b[0m\n",
      "\u001b[0;34m\u001b[0m    \u001b[0mdoublequote\u001b[0m\u001b[0;34m:\u001b[0m \u001b[0;34m'bool'\u001b[0m \u001b[0;34m=\u001b[0m \u001b[0;32mTrue\u001b[0m\u001b[0;34m,\u001b[0m\u001b[0;34m\u001b[0m\n",
      "\u001b[0;34m\u001b[0m    \u001b[0mescapechar\u001b[0m\u001b[0;34m:\u001b[0m \u001b[0;34m'str | None'\u001b[0m \u001b[0;34m=\u001b[0m \u001b[0;32mNone\u001b[0m\u001b[0;34m,\u001b[0m\u001b[0;34m\u001b[0m\n",
      "\u001b[0;34m\u001b[0m    \u001b[0mcomment\u001b[0m\u001b[0;34m:\u001b[0m \u001b[0;34m'str | None'\u001b[0m \u001b[0;34m=\u001b[0m \u001b[0;32mNone\u001b[0m\u001b[0;34m,\u001b[0m\u001b[0;34m\u001b[0m\n",
      "\u001b[0;34m\u001b[0m    \u001b[0mencoding\u001b[0m\u001b[0;34m:\u001b[0m \u001b[0;34m'str | None'\u001b[0m \u001b[0;34m=\u001b[0m \u001b[0;32mNone\u001b[0m\u001b[0;34m,\u001b[0m\u001b[0;34m\u001b[0m\n",
      "\u001b[0;34m\u001b[0m    \u001b[0mencoding_errors\u001b[0m\u001b[0;34m:\u001b[0m \u001b[0;34m'str | None'\u001b[0m \u001b[0;34m=\u001b[0m \u001b[0;34m'strict'\u001b[0m\u001b[0;34m,\u001b[0m\u001b[0;34m\u001b[0m\n",
      "\u001b[0;34m\u001b[0m    \u001b[0mdialect\u001b[0m\u001b[0;34m:\u001b[0m \u001b[0;34m'str | csv.Dialect | None'\u001b[0m \u001b[0;34m=\u001b[0m \u001b[0;32mNone\u001b[0m\u001b[0;34m,\u001b[0m\u001b[0;34m\u001b[0m\n",
      "\u001b[0;34m\u001b[0m    \u001b[0mon_bad_lines\u001b[0m\u001b[0;34m:\u001b[0m \u001b[0;34m'str'\u001b[0m \u001b[0;34m=\u001b[0m \u001b[0;34m'error'\u001b[0m\u001b[0;34m,\u001b[0m\u001b[0;34m\u001b[0m\n",
      "\u001b[0;34m\u001b[0m    \u001b[0mdelim_whitespace\u001b[0m\u001b[0;34m:\u001b[0m \u001b[0;34m'bool'\u001b[0m \u001b[0;34m=\u001b[0m \u001b[0;32mFalse\u001b[0m\u001b[0;34m,\u001b[0m\u001b[0;34m\u001b[0m\n",
      "\u001b[0;34m\u001b[0m    \u001b[0mlow_memory\u001b[0m\u001b[0;34m=\u001b[0m\u001b[0;32mTrue\u001b[0m\u001b[0;34m,\u001b[0m\u001b[0;34m\u001b[0m\n",
      "\u001b[0;34m\u001b[0m    \u001b[0mmemory_map\u001b[0m\u001b[0;34m:\u001b[0m \u001b[0;34m'bool'\u001b[0m \u001b[0;34m=\u001b[0m \u001b[0;32mFalse\u001b[0m\u001b[0;34m,\u001b[0m\u001b[0;34m\u001b[0m\n",
      "\u001b[0;34m\u001b[0m    \u001b[0mfloat_precision\u001b[0m\u001b[0;34m:\u001b[0m \u001b[0;34m\"Literal['high', 'legacy'] | None\"\u001b[0m \u001b[0;34m=\u001b[0m \u001b[0;32mNone\u001b[0m\u001b[0;34m,\u001b[0m\u001b[0;34m\u001b[0m\n",
      "\u001b[0;34m\u001b[0m    \u001b[0mstorage_options\u001b[0m\u001b[0;34m:\u001b[0m \u001b[0;34m'StorageOptions'\u001b[0m \u001b[0;34m=\u001b[0m \u001b[0;32mNone\u001b[0m\u001b[0;34m,\u001b[0m\u001b[0;34m\u001b[0m\n",
      "\u001b[0;34m\u001b[0m    \u001b[0mdtype_backend\u001b[0m\u001b[0;34m:\u001b[0m \u001b[0;34m'DtypeBackend | lib.NoDefault'\u001b[0m \u001b[0;34m=\u001b[0m \u001b[0;34m<\u001b[0m\u001b[0mno_default\u001b[0m\u001b[0;34m>\u001b[0m\u001b[0;34m,\u001b[0m\u001b[0;34m\u001b[0m\n",
      "\u001b[0;34m\u001b[0m\u001b[0;34m)\u001b[0m \u001b[0;34m->\u001b[0m \u001b[0;34m'DataFrame | TextFileReader'\u001b[0m\u001b[0;34m\u001b[0m\u001b[0;34m\u001b[0m\u001b[0m\n",
      "\u001b[0;31mDocstring:\u001b[0m\n",
      "Read a comma-separated values (csv) file into DataFrame.\n",
      "\n",
      "Also supports optionally iterating or breaking of the file\n",
      "into chunks.\n",
      "\n",
      "Additional help can be found in the online docs for\n",
      "`IO Tools <https://pandas.pydata.org/pandas-docs/stable/user_guide/io.html>`_.\n",
      "\n",
      "Parameters\n",
      "----------\n",
      "filepath_or_buffer : str, path object or file-like object\n",
      "    Any valid string path is acceptable. The string could be a URL. Valid\n",
      "    URL schemes include http, ftp, s3, gs, and file. For file URLs, a host is\n",
      "    expected. A local file could be: file://localhost/path/to/table.csv.\n",
      "\n",
      "    If you want to pass in a path object, pandas accepts any ``os.PathLike``.\n",
      "\n",
      "    By file-like object, we refer to objects with a ``read()`` method, such as\n",
      "    a file handle (e.g. via builtin ``open`` function) or ``StringIO``.\n",
      "sep : str, default ','\n",
      "    Delimiter to use. If sep is None, the C engine cannot automatically detect\n",
      "    the separator, but the Python parsing engine can, meaning the latter will\n",
      "    be used and automatically detect the separator by Python's builtin sniffer\n",
      "    tool, ``csv.Sniffer``. In addition, separators longer than 1 character and\n",
      "    different from ``'\\s+'`` will be interpreted as regular expressions and\n",
      "    will also force the use of the Python parsing engine. Note that regex\n",
      "    delimiters are prone to ignoring quoted data. Regex example: ``'\\r\\t'``.\n",
      "delimiter : str, default ``None``\n",
      "    Alias for sep.\n",
      "header : int, list of int, None, default 'infer'\n",
      "    Row number(s) to use as the column names, and the start of the\n",
      "    data.  Default behavior is to infer the column names: if no names\n",
      "    are passed the behavior is identical to ``header=0`` and column\n",
      "    names are inferred from the first line of the file, if column\n",
      "    names are passed explicitly then the behavior is identical to\n",
      "    ``header=None``. Explicitly pass ``header=0`` to be able to\n",
      "    replace existing names. The header can be a list of integers that\n",
      "    specify row locations for a multi-index on the columns\n",
      "    e.g. [0,1,3]. Intervening rows that are not specified will be\n",
      "    skipped (e.g. 2 in this example is skipped). Note that this\n",
      "    parameter ignores commented lines and empty lines if\n",
      "    ``skip_blank_lines=True``, so ``header=0`` denotes the first line of\n",
      "    data rather than the first line of the file.\n",
      "names : array-like, optional\n",
      "    List of column names to use. If the file contains a header row,\n",
      "    then you should explicitly pass ``header=0`` to override the column names.\n",
      "    Duplicates in this list are not allowed.\n",
      "index_col : int, str, sequence of int / str, or False, optional, default ``None``\n",
      "  Column(s) to use as the row labels of the ``DataFrame``, either given as\n",
      "  string name or column index. If a sequence of int / str is given, a\n",
      "  MultiIndex is used.\n",
      "\n",
      "  Note: ``index_col=False`` can be used to force pandas to *not* use the first\n",
      "  column as the index, e.g. when you have a malformed file with delimiters at\n",
      "  the end of each line.\n",
      "usecols : list-like or callable, optional\n",
      "    Return a subset of the columns. If list-like, all elements must either\n",
      "    be positional (i.e. integer indices into the document columns) or strings\n",
      "    that correspond to column names provided either by the user in `names` or\n",
      "    inferred from the document header row(s). If ``names`` are given, the document\n",
      "    header row(s) are not taken into account. For example, a valid list-like\n",
      "    `usecols` parameter would be ``[0, 1, 2]`` or ``['foo', 'bar', 'baz']``.\n",
      "    Element order is ignored, so ``usecols=[0, 1]`` is the same as ``[1, 0]``.\n",
      "    To instantiate a DataFrame from ``data`` with element order preserved use\n",
      "    ``pd.read_csv(data, usecols=['foo', 'bar'])[['foo', 'bar']]`` for columns\n",
      "    in ``['foo', 'bar']`` order or\n",
      "    ``pd.read_csv(data, usecols=['foo', 'bar'])[['bar', 'foo']]``\n",
      "    for ``['bar', 'foo']`` order.\n",
      "\n",
      "    If callable, the callable function will be evaluated against the column\n",
      "    names, returning names where the callable function evaluates to True. An\n",
      "    example of a valid callable argument would be ``lambda x: x.upper() in\n",
      "    ['AAA', 'BBB', 'DDD']``. Using this parameter results in much faster\n",
      "    parsing time and lower memory usage.\n",
      "dtype : Type name or dict of column -> type, optional\n",
      "    Data type for data or columns. E.g. {'a': np.float64, 'b': np.int32,\n",
      "    'c': 'Int64'}\n",
      "    Use `str` or `object` together with suitable `na_values` settings\n",
      "    to preserve and not interpret dtype.\n",
      "    If converters are specified, they will be applied INSTEAD\n",
      "    of dtype conversion.\n",
      "\n",
      "    .. versionadded:: 1.5.0\n",
      "\n",
      "        Support for defaultdict was added. Specify a defaultdict as input where\n",
      "        the default determines the dtype of the columns which are not explicitly\n",
      "        listed.\n",
      "engine : {'c', 'python', 'pyarrow'}, optional\n",
      "    Parser engine to use. The C and pyarrow engines are faster, while the python engine\n",
      "    is currently more feature-complete. Multithreading is currently only supported by\n",
      "    the pyarrow engine.\n",
      "\n",
      "    .. versionadded:: 1.4.0\n",
      "\n",
      "        The \"pyarrow\" engine was added as an *experimental* engine, and some features\n",
      "        are unsupported, or may not work correctly, with this engine.\n",
      "converters : dict, optional\n",
      "    Dict of functions for converting values in certain columns. Keys can either\n",
      "    be integers or column labels.\n",
      "true_values : list, optional\n",
      "    Values to consider as True in addition to case-insensitive variants of \"True\".\n",
      "false_values : list, optional\n",
      "    Values to consider as False in addition to case-insensitive variants of \"False\".\n",
      "skipinitialspace : bool, default False\n",
      "    Skip spaces after delimiter.\n",
      "skiprows : list-like, int or callable, optional\n",
      "    Line numbers to skip (0-indexed) or number of lines to skip (int)\n",
      "    at the start of the file.\n",
      "\n",
      "    If callable, the callable function will be evaluated against the row\n",
      "    indices, returning True if the row should be skipped and False otherwise.\n",
      "    An example of a valid callable argument would be ``lambda x: x in [0, 2]``.\n",
      "skipfooter : int, default 0\n",
      "    Number of lines at bottom of file to skip (Unsupported with engine='c').\n",
      "nrows : int, optional\n",
      "    Number of rows of file to read. Useful for reading pieces of large files.\n",
      "na_values : scalar, str, list-like, or dict, optional\n",
      "    Additional strings to recognize as NA/NaN. If dict passed, specific\n",
      "    per-column NA values.  By default the following values are interpreted as\n",
      "    NaN: '', '#N/A', '#N/A N/A', '#NA', '-1.#IND', '-1.#QNAN', '-NaN', '-nan',\n",
      "    '1.#IND', '1.#QNAN', '<NA>', 'N/A', 'NA', 'NULL', 'NaN', 'None',\n",
      "    'n/a', 'nan', 'null'.\n",
      "keep_default_na : bool, default True\n",
      "    Whether or not to include the default NaN values when parsing the data.\n",
      "    Depending on whether `na_values` is passed in, the behavior is as follows:\n",
      "\n",
      "    * If `keep_default_na` is True, and `na_values` are specified, `na_values`\n",
      "      is appended to the default NaN values used for parsing.\n",
      "    * If `keep_default_na` is True, and `na_values` are not specified, only\n",
      "      the default NaN values are used for parsing.\n",
      "    * If `keep_default_na` is False, and `na_values` are specified, only\n",
      "      the NaN values specified `na_values` are used for parsing.\n",
      "    * If `keep_default_na` is False, and `na_values` are not specified, no\n",
      "      strings will be parsed as NaN.\n",
      "\n",
      "    Note that if `na_filter` is passed in as False, the `keep_default_na` and\n",
      "    `na_values` parameters will be ignored.\n",
      "na_filter : bool, default True\n",
      "    Detect missing value markers (empty strings and the value of na_values). In\n",
      "    data without any NAs, passing na_filter=False can improve the performance\n",
      "    of reading a large file.\n",
      "verbose : bool, default False\n",
      "    Indicate number of NA values placed in non-numeric columns.\n",
      "skip_blank_lines : bool, default True\n",
      "    If True, skip over blank lines rather than interpreting as NaN values.\n",
      "parse_dates : bool or list of int or names or list of lists or dict, default False\n",
      "    The behavior is as follows:\n",
      "\n",
      "    * boolean. If True -> try parsing the index.\n",
      "    * list of int or names. e.g. If [1, 2, 3] -> try parsing columns 1, 2, 3\n",
      "      each as a separate date column.\n",
      "    * list of lists. e.g.  If [[1, 3]] -> combine columns 1 and 3 and parse as\n",
      "      a single date column.\n",
      "    * dict, e.g. {'foo' : [1, 3]} -> parse columns 1, 3 as date and call\n",
      "      result 'foo'\n",
      "\n",
      "    If a column or index cannot be represented as an array of datetimes,\n",
      "    say because of an unparsable value or a mixture of timezones, the column\n",
      "    or index will be returned unaltered as an object data type. For\n",
      "    non-standard datetime parsing, use ``pd.to_datetime`` after\n",
      "    ``pd.read_csv``.\n",
      "\n",
      "    Note: A fast-path exists for iso8601-formatted dates.\n",
      "infer_datetime_format : bool, default False\n",
      "    If True and `parse_dates` is enabled, pandas will attempt to infer the\n",
      "    format of the datetime strings in the columns, and if it can be inferred,\n",
      "    switch to a faster method of parsing them. In some cases this can increase\n",
      "    the parsing speed by 5-10x.\n",
      "\n",
      "    .. deprecated:: 2.0.0\n",
      "        A strict version of this argument is now the default, passing it has no effect.\n",
      "\n",
      "keep_date_col : bool, default False\n",
      "    If True and `parse_dates` specifies combining multiple columns then\n",
      "    keep the original columns.\n",
      "date_parser : function, optional\n",
      "    Function to use for converting a sequence of string columns to an array of\n",
      "    datetime instances. The default uses ``dateutil.parser.parser`` to do the\n",
      "    conversion. Pandas will try to call `date_parser` in three different ways,\n",
      "    advancing to the next if an exception occurs: 1) Pass one or more arrays\n",
      "    (as defined by `parse_dates`) as arguments; 2) concatenate (row-wise) the\n",
      "    string values from the columns defined by `parse_dates` into a single array\n",
      "    and pass that; and 3) call `date_parser` once for each row using one or\n",
      "    more strings (corresponding to the columns defined by `parse_dates`) as\n",
      "    arguments.\n",
      "\n",
      "    .. deprecated:: 2.0.0\n",
      "       Use ``date_format`` instead, or read in as ``object`` and then apply\n",
      "       :func:`to_datetime` as-needed.\n",
      "date_format : str or dict of column -> format, default ``None``\n",
      "   If used in conjunction with ``parse_dates``, will parse dates according to this\n",
      "   format. For anything more complex,\n",
      "   please read in as ``object`` and then apply :func:`to_datetime` as-needed.\n",
      "\n",
      "   .. versionadded:: 2.0.0\n",
      "dayfirst : bool, default False\n",
      "    DD/MM format dates, international and European format.\n",
      "cache_dates : bool, default True\n",
      "    If True, use a cache of unique, converted dates to apply the datetime\n",
      "    conversion. May produce significant speed-up when parsing duplicate\n",
      "    date strings, especially ones with timezone offsets.\n",
      "\n",
      "iterator : bool, default False\n",
      "    Return TextFileReader object for iteration or getting chunks with\n",
      "    ``get_chunk()``.\n",
      "\n",
      "    .. versionchanged:: 1.2\n",
      "\n",
      "       ``TextFileReader`` is a context manager.\n",
      "chunksize : int, optional\n",
      "    Return TextFileReader object for iteration.\n",
      "    See the `IO Tools docs\n",
      "    <https://pandas.pydata.org/pandas-docs/stable/io.html#io-chunking>`_\n",
      "    for more information on ``iterator`` and ``chunksize``.\n",
      "\n",
      "    .. versionchanged:: 1.2\n",
      "\n",
      "       ``TextFileReader`` is a context manager.\n",
      "compression : str or dict, default 'infer'\n",
      "    For on-the-fly decompression of on-disk data. If 'infer' and 'filepath_or_buffer' is\n",
      "    path-like, then detect compression from the following extensions: '.gz',\n",
      "    '.bz2', '.zip', '.xz', '.zst', '.tar', '.tar.gz', '.tar.xz' or '.tar.bz2'\n",
      "    (otherwise no compression).\n",
      "    If using 'zip' or 'tar', the ZIP file must contain only one data file to be read in.\n",
      "    Set to ``None`` for no decompression.\n",
      "    Can also be a dict with key ``'method'`` set\n",
      "    to one of {``'zip'``, ``'gzip'``, ``'bz2'``, ``'zstd'``, ``'tar'``} and other\n",
      "    key-value pairs are forwarded to\n",
      "    ``zipfile.ZipFile``, ``gzip.GzipFile``,\n",
      "    ``bz2.BZ2File``, ``zstandard.ZstdDecompressor`` or\n",
      "    ``tarfile.TarFile``, respectively.\n",
      "    As an example, the following could be passed for Zstandard decompression using a\n",
      "    custom compression dictionary:\n",
      "    ``compression={'method': 'zstd', 'dict_data': my_compression_dict}``.\n",
      "\n",
      "    .. versionadded:: 1.5.0\n",
      "        Added support for `.tar` files.\n",
      "\n",
      "    .. versionchanged:: 1.4.0 Zstandard support.\n",
      "\n",
      "thousands : str, optional\n",
      "    Thousands separator.\n",
      "decimal : str, default '.'\n",
      "    Character to recognize as decimal point (e.g. use ',' for European data).\n",
      "lineterminator : str (length 1), optional\n",
      "    Character to break file into lines. Only valid with C parser.\n",
      "quotechar : str (length 1), optional\n",
      "    The character used to denote the start and end of a quoted item. Quoted\n",
      "    items can include the delimiter and it will be ignored.\n",
      "quoting : int or csv.QUOTE_* instance, default 0\n",
      "    Control field quoting behavior per ``csv.QUOTE_*`` constants. Use one of\n",
      "    QUOTE_MINIMAL (0), QUOTE_ALL (1), QUOTE_NONNUMERIC (2) or QUOTE_NONE (3).\n",
      "doublequote : bool, default ``True``\n",
      "   When quotechar is specified and quoting is not ``QUOTE_NONE``, indicate\n",
      "   whether or not to interpret two consecutive quotechar elements INSIDE a\n",
      "   field as a single ``quotechar`` element.\n",
      "escapechar : str (length 1), optional\n",
      "    One-character string used to escape other characters.\n",
      "comment : str, optional\n",
      "    Indicates remainder of line should not be parsed. If found at the beginning\n",
      "    of a line, the line will be ignored altogether. This parameter must be a\n",
      "    single character. Like empty lines (as long as ``skip_blank_lines=True``),\n",
      "    fully commented lines are ignored by the parameter `header` but not by\n",
      "    `skiprows`. For example, if ``comment='#'``, parsing\n",
      "    ``#empty\\na,b,c\\n1,2,3`` with ``header=0`` will result in 'a,b,c' being\n",
      "    treated as the header.\n",
      "encoding : str, optional, default \"utf-8\"\n",
      "    Encoding to use for UTF when reading/writing (ex. 'utf-8'). `List of Python\n",
      "    standard encodings\n",
      "    <https://docs.python.org/3/library/codecs.html#standard-encodings>`_ .\n",
      "\n",
      "    .. versionchanged:: 1.2\n",
      "\n",
      "       When ``encoding`` is ``None``, ``errors=\"replace\"`` is passed to\n",
      "       ``open()``. Otherwise, ``errors=\"strict\"`` is passed to ``open()``.\n",
      "       This behavior was previously only the case for ``engine=\"python\"``.\n",
      "\n",
      "    .. versionchanged:: 1.3.0\n",
      "\n",
      "       ``encoding_errors`` is a new argument. ``encoding`` has no longer an\n",
      "       influence on how encoding errors are handled.\n",
      "\n",
      "encoding_errors : str, optional, default \"strict\"\n",
      "    How encoding errors are treated. `List of possible values\n",
      "    <https://docs.python.org/3/library/codecs.html#error-handlers>`_ .\n",
      "\n",
      "    .. versionadded:: 1.3.0\n",
      "\n",
      "dialect : str or csv.Dialect, optional\n",
      "    If provided, this parameter will override values (default or not) for the\n",
      "    following parameters: `delimiter`, `doublequote`, `escapechar`,\n",
      "    `skipinitialspace`, `quotechar`, and `quoting`. If it is necessary to\n",
      "    override values, a ParserWarning will be issued. See csv.Dialect\n",
      "    documentation for more details.\n",
      "on_bad_lines : {'error', 'warn', 'skip'} or callable, default 'error'\n",
      "    Specifies what to do upon encountering a bad line (a line with too many fields).\n",
      "    Allowed values are :\n",
      "\n",
      "        - 'error', raise an Exception when a bad line is encountered.\n",
      "        - 'warn', raise a warning when a bad line is encountered and skip that line.\n",
      "        - 'skip', skip bad lines without raising or warning when they are encountered.\n",
      "\n",
      "    .. versionadded:: 1.3.0\n",
      "\n",
      "    .. versionadded:: 1.4.0\n",
      "\n",
      "        - callable, function with signature\n",
      "          ``(bad_line: list[str]) -> list[str] | None`` that will process a single\n",
      "          bad line. ``bad_line`` is a list of strings split by the ``sep``.\n",
      "          If the function returns ``None``, the bad line will be ignored.\n",
      "          If the function returns a new list of strings with more elements than\n",
      "          expected, a ``ParserWarning`` will be emitted while dropping extra elements.\n",
      "          Only supported when ``engine=\"python\"``\n",
      "\n",
      "delim_whitespace : bool, default False\n",
      "    Specifies whether or not whitespace (e.g. ``' '`` or ``'    '``) will be\n",
      "    used as the sep. Equivalent to setting ``sep='\\s+'``. If this option\n",
      "    is set to True, nothing should be passed in for the ``delimiter``\n",
      "    parameter.\n",
      "low_memory : bool, default True\n",
      "    Internally process the file in chunks, resulting in lower memory use\n",
      "    while parsing, but possibly mixed type inference.  To ensure no mixed\n",
      "    types either set False, or specify the type with the `dtype` parameter.\n",
      "    Note that the entire file is read into a single DataFrame regardless,\n",
      "    use the `chunksize` or `iterator` parameter to return the data in chunks.\n",
      "    (Only valid with C parser).\n",
      "memory_map : bool, default False\n",
      "    If a filepath is provided for `filepath_or_buffer`, map the file object\n",
      "    directly onto memory and access the data directly from there. Using this\n",
      "    option can improve performance because there is no longer any I/O overhead.\n",
      "float_precision : str, optional\n",
      "    Specifies which converter the C engine should use for floating-point\n",
      "    values. The options are ``None`` or 'high' for the ordinary converter,\n",
      "    'legacy' for the original lower precision pandas converter, and\n",
      "    'round_trip' for the round-trip converter.\n",
      "\n",
      "    .. versionchanged:: 1.2\n",
      "\n",
      "storage_options : dict, optional\n",
      "    Extra options that make sense for a particular storage connection, e.g.\n",
      "    host, port, username, password, etc. For HTTP(S) URLs the key-value pairs\n",
      "    are forwarded to ``urllib.request.Request`` as header options. For other\n",
      "    URLs (e.g. starting with \"s3://\", and \"gcs://\") the key-value pairs are\n",
      "    forwarded to ``fsspec.open``. Please see ``fsspec`` and ``urllib`` for more\n",
      "    details, and for more examples on storage options refer `here\n",
      "    <https://pandas.pydata.org/docs/user_guide/io.html?\n",
      "    highlight=storage_options#reading-writing-remote-files>`_.\n",
      "\n",
      "    .. versionadded:: 1.2\n",
      "\n",
      "dtype_backend : {\"numpy_nullable\", \"pyarrow\"}, defaults to NumPy backed DataFrames\n",
      "    Which dtype_backend to use, e.g. whether a DataFrame should have NumPy\n",
      "    arrays, nullable dtypes are used for all dtypes that have a nullable\n",
      "    implementation when \"numpy_nullable\" is set, pyarrow is used for all\n",
      "    dtypes if \"pyarrow\" is set.\n",
      "\n",
      "    The dtype_backends are still experimential.\n",
      "\n",
      "    .. versionadded:: 2.0\n",
      "\n",
      "Returns\n",
      "-------\n",
      "DataFrame or TextFileReader\n",
      "    A comma-separated values (csv) file is returned as two-dimensional\n",
      "    data structure with labeled axes.\n",
      "\n",
      "See Also\n",
      "--------\n",
      "DataFrame.to_csv : Write DataFrame to a comma-separated values (csv) file.\n",
      "read_csv : Read a comma-separated values (csv) file into DataFrame.\n",
      "read_fwf : Read a table of fixed-width formatted lines into DataFrame.\n",
      "\n",
      "Examples\n",
      "--------\n",
      ">>> pd.read_csv('data.csv')  # doctest: +SKIP\n",
      "\u001b[0;31mFile:\u001b[0m      ~/anaconda3/envs/myenv_clone/lib/python3.11/site-packages/pandas/io/parsers/readers.py\n",
      "\u001b[0;31mType:\u001b[0m      function"
     ]
    }
   ],
   "source": [
    "#regarder l'aide :\n",
    "pd.read_csv?"
   ]
  },
  {
   "cell_type": "code",
   "execution_count": 5,
   "id": "e15323e0",
   "metadata": {},
   "outputs": [
    {
     "data": {
      "text/html": [
       "<div>\n",
       "<style scoped>\n",
       "    .dataframe tbody tr th:only-of-type {\n",
       "        vertical-align: middle;\n",
       "    }\n",
       "\n",
       "    .dataframe tbody tr th {\n",
       "        vertical-align: top;\n",
       "    }\n",
       "\n",
       "    .dataframe thead th {\n",
       "        text-align: right;\n",
       "    }\n",
       "</style>\n",
       "<table border=\"1\" class=\"dataframe\">\n",
       "  <thead>\n",
       "    <tr style=\"text-align: right;\">\n",
       "      <th></th>\n",
       "      <th>Sauriez-vous expliquer globalement quel est le rôle du disque dur, de la mémoire vive et d’un système d’exploitation sur un ordinateur ?</th>\n",
       "      <th>Savez-vous afficher le code source d’une page internet ?</th>\n",
       "      <th>Savez-vous ce qu’est un fichier de format CSV ?</th>\n",
       "      <th>Avez-vous déjà appris les bases d’un langage de programmation (R compris) ?</th>\n",
       "      <th>Savez-vous ce qu’est une boucle en programmation ?</th>\n",
       "      <th>Avez-vous déjà eu l’occasion d’utiliser de la programmation en pratique ?</th>\n",
       "      <th>Sauriez-vous reconnaître si un script est écrit en langage Python ?</th>\n",
       "      <th>Avez-vous déjà ouvert une console Python pour exécuter du code ?</th>\n",
       "      <th>Avez-vous déjà programmé un peu en Python ?</th>\n",
       "      <th>Avez-vous déjà écrit une fonction pour réaliser des traitements ?</th>\n",
       "      <th>Avez-vous déjà utilisé la bibliothèque Pandas ?</th>\n",
       "      <th>Savez-vous superposer deux graphiques ensemble ?</th>\n",
       "    </tr>\n",
       "  </thead>\n",
       "  <tbody>\n",
       "    <tr>\n",
       "      <th>0</th>\n",
       "      <td>Oui</td>\n",
       "      <td>Oui</td>\n",
       "      <td>Oui</td>\n",
       "      <td>Oui</td>\n",
       "      <td>Oui</td>\n",
       "      <td>Oui</td>\n",
       "      <td>Oui</td>\n",
       "      <td>Oui</td>\n",
       "      <td>Oui</td>\n",
       "      <td>Non</td>\n",
       "      <td>Non</td>\n",
       "      <td>Non</td>\n",
       "    </tr>\n",
       "    <tr>\n",
       "      <th>1</th>\n",
       "      <td>Non</td>\n",
       "      <td>Non</td>\n",
       "      <td>Non</td>\n",
       "      <td>Oui</td>\n",
       "      <td>Oui</td>\n",
       "      <td>Non</td>\n",
       "      <td>Non</td>\n",
       "      <td>Oui</td>\n",
       "      <td>Oui</td>\n",
       "      <td>Non</td>\n",
       "      <td>Non</td>\n",
       "      <td>Non</td>\n",
       "    </tr>\n",
       "    <tr>\n",
       "      <th>2</th>\n",
       "      <td>Non</td>\n",
       "      <td>Non</td>\n",
       "      <td>Oui</td>\n",
       "      <td>Oui</td>\n",
       "      <td>Oui</td>\n",
       "      <td>Oui</td>\n",
       "      <td>Non</td>\n",
       "      <td>Non</td>\n",
       "      <td>Non</td>\n",
       "      <td>Non</td>\n",
       "      <td>Non</td>\n",
       "      <td>Non</td>\n",
       "    </tr>\n",
       "    <tr>\n",
       "      <th>3</th>\n",
       "      <td>Non</td>\n",
       "      <td>Non</td>\n",
       "      <td>Oui</td>\n",
       "      <td>Oui</td>\n",
       "      <td>Non</td>\n",
       "      <td>Oui</td>\n",
       "      <td>Non</td>\n",
       "      <td>Oui</td>\n",
       "      <td>Non</td>\n",
       "      <td>Non</td>\n",
       "      <td>Non</td>\n",
       "      <td>Non</td>\n",
       "    </tr>\n",
       "    <tr>\n",
       "      <th>4</th>\n",
       "      <td>Oui</td>\n",
       "      <td>Non</td>\n",
       "      <td>Oui</td>\n",
       "      <td>Oui</td>\n",
       "      <td>Oui</td>\n",
       "      <td>Oui</td>\n",
       "      <td>Non</td>\n",
       "      <td>Non</td>\n",
       "      <td>Non</td>\n",
       "      <td>Non</td>\n",
       "      <td>Non</td>\n",
       "      <td>Non</td>\n",
       "    </tr>\n",
       "  </tbody>\n",
       "</table>\n",
       "</div>"
      ],
      "text/plain": [
       "  Sauriez-vous expliquer globalement quel est le rôle du disque dur, de la mémoire vive et d’un système d’exploitation sur un ordinateur ?  \\\n",
       "0                                                Oui                                                                                         \n",
       "1                                                Non                                                                                         \n",
       "2                                                Non                                                                                         \n",
       "3                                                Non                                                                                         \n",
       "4                                                Oui                                                                                         \n",
       "\n",
       "  Savez-vous afficher le code source d’une page internet ?  \\\n",
       "0                                                Oui         \n",
       "1                                                Non         \n",
       "2                                                Non         \n",
       "3                                                Non         \n",
       "4                                                Non         \n",
       "\n",
       "  Savez-vous ce qu’est un fichier de format CSV ?  \\\n",
       "0                                             Oui   \n",
       "1                                             Non   \n",
       "2                                             Oui   \n",
       "3                                             Oui   \n",
       "4                                             Oui   \n",
       "\n",
       "  Avez-vous déjà appris les bases d’un langage de programmation (R compris) ?  \\\n",
       "0                                                Oui                            \n",
       "1                                                Oui                            \n",
       "2                                                Oui                            \n",
       "3                                                Oui                            \n",
       "4                                                Oui                            \n",
       "\n",
       "  Savez-vous ce qu’est une boucle en programmation ?  \\\n",
       "0                                                Oui   \n",
       "1                                                Oui   \n",
       "2                                                Oui   \n",
       "3                                                Non   \n",
       "4                                                Oui   \n",
       "\n",
       "  Avez-vous déjà eu l’occasion d’utiliser de la programmation en pratique ?  \\\n",
       "0                                                Oui                          \n",
       "1                                                Non                          \n",
       "2                                                Oui                          \n",
       "3                                                Oui                          \n",
       "4                                                Oui                          \n",
       "\n",
       "  Sauriez-vous reconnaître si un script est écrit en langage Python ?  \\\n",
       "0                                                Oui                    \n",
       "1                                                Non                    \n",
       "2                                                Non                    \n",
       "3                                                Non                    \n",
       "4                                                Non                    \n",
       "\n",
       "  Avez-vous déjà ouvert une console Python pour exécuter du code ?  \\\n",
       "0                                                Oui                 \n",
       "1                                                Oui                 \n",
       "2                                                Non                 \n",
       "3                                                Oui                 \n",
       "4                                                Non                 \n",
       "\n",
       "  Avez-vous déjà programmé un peu en Python ?  \\\n",
       "0                                         Oui   \n",
       "1                                         Oui   \n",
       "2                                         Non   \n",
       "3                                         Non   \n",
       "4                                         Non   \n",
       "\n",
       "  Avez-vous déjà écrit une fonction pour réaliser des traitements ?  \\\n",
       "0                                                Non                  \n",
       "1                                                Non                  \n",
       "2                                                Non                  \n",
       "3                                                Non                  \n",
       "4                                                Non                  \n",
       "\n",
       "  Avez-vous déjà utilisé la bibliothèque Pandas ?  \\\n",
       "0                                             Non   \n",
       "1                                             Non   \n",
       "2                                             Non   \n",
       "3                                             Non   \n",
       "4                                             Non   \n",
       "\n",
       "  Savez-vous superposer deux graphiques ensemble ?  \n",
       "0                                              Non  \n",
       "1                                              Non  \n",
       "2                                              Non  \n",
       "3                                              Non  \n",
       "4                                              Non  "
      ]
     },
     "execution_count": 5,
     "metadata": {},
     "output_type": "execute_result"
    }
   ],
   "source": [
    "# on peut repérer skiprows qui permet de sauter les x premières lignes\n",
    "df = pd.read_csv('./questionnaire.csv', skiprows=2)\n",
    "df.head()"
   ]
  },
  {
   "cell_type": "code",
   "execution_count": 6,
   "id": "a5996075",
   "metadata": {},
   "outputs": [
    {
     "data": {
      "text/html": [
       "<div>\n",
       "<style scoped>\n",
       "    .dataframe tbody tr th:only-of-type {\n",
       "        vertical-align: middle;\n",
       "    }\n",
       "\n",
       "    .dataframe tbody tr th {\n",
       "        vertical-align: top;\n",
       "    }\n",
       "\n",
       "    .dataframe thead th {\n",
       "        text-align: right;\n",
       "    }\n",
       "</style>\n",
       "<table border=\"1\" class=\"dataframe\">\n",
       "  <thead>\n",
       "    <tr style=\"text-align: right;\">\n",
       "      <th></th>\n",
       "      <th>Sauriez-vous expliquer globalement quel est le rôle du disque dur, de la mémoire vive et d’un système d’exploitation sur un ordinateur ?</th>\n",
       "      <th>Savez-vous afficher le code source d’une page internet ?</th>\n",
       "      <th>Savez-vous ce qu’est un fichier de format CSV ?</th>\n",
       "      <th>Avez-vous déjà appris les bases d’un langage de programmation (R compris) ?</th>\n",
       "      <th>Savez-vous ce qu’est une boucle en programmation ?</th>\n",
       "      <th>Avez-vous déjà eu l’occasion d’utiliser de la programmation en pratique ?</th>\n",
       "      <th>Sauriez-vous reconnaître si un script est écrit en langage Python ?</th>\n",
       "      <th>Avez-vous déjà ouvert une console Python pour exécuter du code ?</th>\n",
       "      <th>Avez-vous déjà programmé un peu en Python ?</th>\n",
       "      <th>Avez-vous déjà écrit une fonction pour réaliser des traitements ?</th>\n",
       "      <th>Avez-vous déjà utilisé la bibliothèque Pandas ?</th>\n",
       "      <th>Savez-vous superposer deux graphiques ensemble ?</th>\n",
       "    </tr>\n",
       "  </thead>\n",
       "  <tbody>\n",
       "    <tr>\n",
       "      <th>0</th>\n",
       "      <td>Oui</td>\n",
       "      <td>Oui</td>\n",
       "      <td>Oui</td>\n",
       "      <td>Oui</td>\n",
       "      <td>Oui</td>\n",
       "      <td>Oui</td>\n",
       "      <td>Oui</td>\n",
       "      <td>Oui</td>\n",
       "      <td>Oui</td>\n",
       "      <td>Non</td>\n",
       "      <td>Non</td>\n",
       "      <td>Non</td>\n",
       "    </tr>\n",
       "    <tr>\n",
       "      <th>1</th>\n",
       "      <td>Non</td>\n",
       "      <td>Non</td>\n",
       "      <td>Non</td>\n",
       "      <td>Oui</td>\n",
       "      <td>Oui</td>\n",
       "      <td>Non</td>\n",
       "      <td>Non</td>\n",
       "      <td>Oui</td>\n",
       "      <td>Oui</td>\n",
       "      <td>Non</td>\n",
       "      <td>Non</td>\n",
       "      <td>Non</td>\n",
       "    </tr>\n",
       "    <tr>\n",
       "      <th>2</th>\n",
       "      <td>Non</td>\n",
       "      <td>Non</td>\n",
       "      <td>Oui</td>\n",
       "      <td>Oui</td>\n",
       "      <td>Oui</td>\n",
       "      <td>Oui</td>\n",
       "      <td>Non</td>\n",
       "      <td>Non</td>\n",
       "      <td>Non</td>\n",
       "      <td>Non</td>\n",
       "      <td>Non</td>\n",
       "      <td>Non</td>\n",
       "    </tr>\n",
       "    <tr>\n",
       "      <th>3</th>\n",
       "      <td>Non</td>\n",
       "      <td>Non</td>\n",
       "      <td>Oui</td>\n",
       "      <td>Oui</td>\n",
       "      <td>Non</td>\n",
       "      <td>Oui</td>\n",
       "      <td>Non</td>\n",
       "      <td>Oui</td>\n",
       "      <td>Non</td>\n",
       "      <td>Non</td>\n",
       "      <td>Non</td>\n",
       "      <td>Non</td>\n",
       "    </tr>\n",
       "    <tr>\n",
       "      <th>4</th>\n",
       "      <td>Oui</td>\n",
       "      <td>Non</td>\n",
       "      <td>Oui</td>\n",
       "      <td>Oui</td>\n",
       "      <td>Oui</td>\n",
       "      <td>Oui</td>\n",
       "      <td>Non</td>\n",
       "      <td>Non</td>\n",
       "      <td>Non</td>\n",
       "      <td>Non</td>\n",
       "      <td>Non</td>\n",
       "      <td>Non</td>\n",
       "    </tr>\n",
       "  </tbody>\n",
       "</table>\n",
       "</div>"
      ],
      "text/plain": [
       "  Sauriez-vous expliquer globalement quel est le rôle du disque dur, de la mémoire vive et d’un système d’exploitation sur un ordinateur ?  \\\n",
       "0                                                Oui                                                                                         \n",
       "1                                                Non                                                                                         \n",
       "2                                                Non                                                                                         \n",
       "3                                                Non                                                                                         \n",
       "4                                                Oui                                                                                         \n",
       "\n",
       "  Savez-vous afficher le code source d’une page internet ?  \\\n",
       "0                                                Oui         \n",
       "1                                                Non         \n",
       "2                                                Non         \n",
       "3                                                Non         \n",
       "4                                                Non         \n",
       "\n",
       "  Savez-vous ce qu’est un fichier de format CSV ?  \\\n",
       "0                                             Oui   \n",
       "1                                             Non   \n",
       "2                                             Oui   \n",
       "3                                             Oui   \n",
       "4                                             Oui   \n",
       "\n",
       "  Avez-vous déjà appris les bases d’un langage de programmation (R compris) ?  \\\n",
       "0                                                Oui                            \n",
       "1                                                Oui                            \n",
       "2                                                Oui                            \n",
       "3                                                Oui                            \n",
       "4                                                Oui                            \n",
       "\n",
       "  Savez-vous ce qu’est une boucle en programmation ?  \\\n",
       "0                                                Oui   \n",
       "1                                                Oui   \n",
       "2                                                Oui   \n",
       "3                                                Non   \n",
       "4                                                Oui   \n",
       "\n",
       "  Avez-vous déjà eu l’occasion d’utiliser de la programmation en pratique ?  \\\n",
       "0                                                Oui                          \n",
       "1                                                Non                          \n",
       "2                                                Oui                          \n",
       "3                                                Oui                          \n",
       "4                                                Oui                          \n",
       "\n",
       "  Sauriez-vous reconnaître si un script est écrit en langage Python ?  \\\n",
       "0                                                Oui                    \n",
       "1                                                Non                    \n",
       "2                                                Non                    \n",
       "3                                                Non                    \n",
       "4                                                Non                    \n",
       "\n",
       "  Avez-vous déjà ouvert une console Python pour exécuter du code ?  \\\n",
       "0                                                Oui                 \n",
       "1                                                Oui                 \n",
       "2                                                Non                 \n",
       "3                                                Oui                 \n",
       "4                                                Non                 \n",
       "\n",
       "  Avez-vous déjà programmé un peu en Python ?  \\\n",
       "0                                         Oui   \n",
       "1                                         Oui   \n",
       "2                                         Non   \n",
       "3                                         Non   \n",
       "4                                         Non   \n",
       "\n",
       "  Avez-vous déjà écrit une fonction pour réaliser des traitements ?  \\\n",
       "0                                                Non                  \n",
       "1                                                Non                  \n",
       "2                                                Non                  \n",
       "3                                                Non                  \n",
       "4                                                Non                  \n",
       "\n",
       "  Avez-vous déjà utilisé la bibliothèque Pandas ?  \\\n",
       "0                                             Non   \n",
       "1                                             Non   \n",
       "2                                             Non   \n",
       "3                                             Non   \n",
       "4                                             Non   \n",
       "\n",
       "  Savez-vous superposer deux graphiques ensemble ?  \n",
       "0                                              Non  \n",
       "1                                              Non  \n",
       "2                                              Non  \n",
       "3                                              Non  \n",
       "4                                              Non  "
      ]
     },
     "execution_count": 6,
     "metadata": {},
     "output_type": "execute_result"
    }
   ],
   "source": [
    "# si on veut préciser le header, on peut le faire avec header\n",
    "# s'il n'y en avait pas on aurait pu mettre header=None\n",
    "# ici mettre header=0 revient à dire que la première ligne est le header\n",
    "# ce qui ne change rien ici car c'est le comportement de base\n",
    "\n",
    "df = pd.read_csv('./questionnaire.csv', skiprows=2, header=0)\n",
    "df.head()"
   ]
  },
  {
   "cell_type": "code",
   "execution_count": 7,
   "id": "b19aebf8",
   "metadata": {},
   "outputs": [
    {
     "data": {
      "text/html": [
       "<div>\n",
       "<style scoped>\n",
       "    .dataframe tbody tr th:only-of-type {\n",
       "        vertical-align: middle;\n",
       "    }\n",
       "\n",
       "    .dataframe tbody tr th {\n",
       "        vertical-align: top;\n",
       "    }\n",
       "\n",
       "    .dataframe thead tr th {\n",
       "        text-align: left;\n",
       "    }\n",
       "</style>\n",
       "<table border=\"1\" class=\"dataframe\">\n",
       "  <thead>\n",
       "    <tr>\n",
       "      <th></th>\n",
       "      <th>Questions sur les bases informatiques</th>\n",
       "      <th>Unnamed: 1_level_0</th>\n",
       "      <th>Unnamed: 2_level_0</th>\n",
       "      <th>Questions sur les bases algorithmiques</th>\n",
       "      <th>Unnamed: 4_level_0</th>\n",
       "      <th>Unnamed: 5_level_0</th>\n",
       "      <th>Questions sur les bases de Python</th>\n",
       "      <th>Unnamed: 7_level_0</th>\n",
       "      <th>Unnamed: 8_level_0</th>\n",
       "      <th>Question sur les outils plus avancés sur Python</th>\n",
       "      <th>Unnamed: 10_level_0</th>\n",
       "      <th>Unnamed: 11_level_0</th>\n",
       "    </tr>\n",
       "    <tr>\n",
       "      <th></th>\n",
       "      <th>Sauriez-vous expliquer globalement quel est le rôle du disque dur, de la mémoire vive et d’un système d’exploitation sur un ordinateur ?</th>\n",
       "      <th>Savez-vous afficher le code source d’une page internet ?</th>\n",
       "      <th>Savez-vous ce qu’est un fichier de format CSV ?</th>\n",
       "      <th>Avez-vous déjà appris les bases d’un langage de programmation (R compris) ?</th>\n",
       "      <th>Savez-vous ce qu’est une boucle en programmation ?</th>\n",
       "      <th>Avez-vous déjà eu l’occasion d’utiliser de la programmation en pratique ?</th>\n",
       "      <th>Sauriez-vous reconnaître si un script est écrit en langage Python ?</th>\n",
       "      <th>Avez-vous déjà ouvert une console Python pour exécuter du code ?</th>\n",
       "      <th>Avez-vous déjà programmé un peu en Python ?</th>\n",
       "      <th>Avez-vous déjà écrit une fonction pour réaliser des traitements ?</th>\n",
       "      <th>Avez-vous déjà utilisé la bibliothèque Pandas ?</th>\n",
       "      <th>Savez-vous superposer deux graphiques ensemble ?</th>\n",
       "    </tr>\n",
       "  </thead>\n",
       "  <tbody>\n",
       "    <tr>\n",
       "      <th>0</th>\n",
       "      <td>Oui</td>\n",
       "      <td>Oui</td>\n",
       "      <td>Oui</td>\n",
       "      <td>Oui</td>\n",
       "      <td>Oui</td>\n",
       "      <td>Oui</td>\n",
       "      <td>Oui</td>\n",
       "      <td>Oui</td>\n",
       "      <td>Oui</td>\n",
       "      <td>Non</td>\n",
       "      <td>Non</td>\n",
       "      <td>Non</td>\n",
       "    </tr>\n",
       "    <tr>\n",
       "      <th>1</th>\n",
       "      <td>Non</td>\n",
       "      <td>Non</td>\n",
       "      <td>Non</td>\n",
       "      <td>Oui</td>\n",
       "      <td>Oui</td>\n",
       "      <td>Non</td>\n",
       "      <td>Non</td>\n",
       "      <td>Oui</td>\n",
       "      <td>Oui</td>\n",
       "      <td>Non</td>\n",
       "      <td>Non</td>\n",
       "      <td>Non</td>\n",
       "    </tr>\n",
       "    <tr>\n",
       "      <th>2</th>\n",
       "      <td>Non</td>\n",
       "      <td>Non</td>\n",
       "      <td>Oui</td>\n",
       "      <td>Oui</td>\n",
       "      <td>Oui</td>\n",
       "      <td>Oui</td>\n",
       "      <td>Non</td>\n",
       "      <td>Non</td>\n",
       "      <td>Non</td>\n",
       "      <td>Non</td>\n",
       "      <td>Non</td>\n",
       "      <td>Non</td>\n",
       "    </tr>\n",
       "    <tr>\n",
       "      <th>3</th>\n",
       "      <td>Non</td>\n",
       "      <td>Non</td>\n",
       "      <td>Oui</td>\n",
       "      <td>Oui</td>\n",
       "      <td>Non</td>\n",
       "      <td>Oui</td>\n",
       "      <td>Non</td>\n",
       "      <td>Oui</td>\n",
       "      <td>Non</td>\n",
       "      <td>Non</td>\n",
       "      <td>Non</td>\n",
       "      <td>Non</td>\n",
       "    </tr>\n",
       "    <tr>\n",
       "      <th>4</th>\n",
       "      <td>Oui</td>\n",
       "      <td>Non</td>\n",
       "      <td>Oui</td>\n",
       "      <td>Oui</td>\n",
       "      <td>Oui</td>\n",
       "      <td>Oui</td>\n",
       "      <td>Non</td>\n",
       "      <td>Non</td>\n",
       "      <td>Non</td>\n",
       "      <td>Non</td>\n",
       "      <td>Non</td>\n",
       "      <td>Non</td>\n",
       "    </tr>\n",
       "  </tbody>\n",
       "</table>\n",
       "</div>"
      ],
      "text/plain": [
       "                                                                                                     Questions sur les bases informatiques  \\\n",
       "  Sauriez-vous expliquer globalement quel est le rôle du disque dur, de la mémoire vive et d’un système d’exploitation sur un ordinateur ?   \n",
       "0                                                Oui                                                                                         \n",
       "1                                                Non                                                                                         \n",
       "2                                                Non                                                                                         \n",
       "3                                                Non                                                                                         \n",
       "4                                                Oui                                                                                         \n",
       "\n",
       "                                        Unnamed: 1_level_0  \\\n",
       "  Savez-vous afficher le code source d’une page internet ?   \n",
       "0                                                Oui         \n",
       "1                                                Non         \n",
       "2                                                Non         \n",
       "3                                                Non         \n",
       "4                                                Non         \n",
       "\n",
       "                               Unnamed: 2_level_0  \\\n",
       "  Savez-vous ce qu’est un fichier de format CSV ?   \n",
       "0                                             Oui   \n",
       "1                                             Non   \n",
       "2                                             Oui   \n",
       "3                                             Oui   \n",
       "4                                             Oui   \n",
       "\n",
       "                                       Questions sur les bases algorithmiques  \\\n",
       "  Avez-vous déjà appris les bases d’un langage de programmation (R compris) ?   \n",
       "0                                                Oui                            \n",
       "1                                                Oui                            \n",
       "2                                                Oui                            \n",
       "3                                                Oui                            \n",
       "4                                                Oui                            \n",
       "\n",
       "                                  Unnamed: 4_level_0  \\\n",
       "  Savez-vous ce qu’est une boucle en programmation ?   \n",
       "0                                                Oui   \n",
       "1                                                Oui   \n",
       "2                                                Oui   \n",
       "3                                                Non   \n",
       "4                                                Oui   \n",
       "\n",
       "                                                         Unnamed: 5_level_0  \\\n",
       "  Avez-vous déjà eu l’occasion d’utiliser de la programmation en pratique ?   \n",
       "0                                                Oui                          \n",
       "1                                                Non                          \n",
       "2                                                Oui                          \n",
       "3                                                Oui                          \n",
       "4                                                Oui                          \n",
       "\n",
       "                                    Questions sur les bases de Python  \\\n",
       "  Sauriez-vous reconnaître si un script est écrit en langage Python ?   \n",
       "0                                                Oui                    \n",
       "1                                                Non                    \n",
       "2                                                Non                    \n",
       "3                                                Non                    \n",
       "4                                                Non                    \n",
       "\n",
       "                                                Unnamed: 7_level_0  \\\n",
       "  Avez-vous déjà ouvert une console Python pour exécuter du code ?   \n",
       "0                                                Oui                 \n",
       "1                                                Oui                 \n",
       "2                                                Non                 \n",
       "3                                                Oui                 \n",
       "4                                                Non                 \n",
       "\n",
       "                           Unnamed: 8_level_0  \\\n",
       "  Avez-vous déjà programmé un peu en Python ?   \n",
       "0                                         Oui   \n",
       "1                                         Oui   \n",
       "2                                         Non   \n",
       "3                                         Non   \n",
       "4                                         Non   \n",
       "\n",
       "                    Question sur les outils plus avancés sur Python  \\\n",
       "  Avez-vous déjà écrit une fonction pour réaliser des traitements ?   \n",
       "0                                                Non                  \n",
       "1                                                Non                  \n",
       "2                                                Non                  \n",
       "3                                                Non                  \n",
       "4                                                Non                  \n",
       "\n",
       "                              Unnamed: 10_level_0  \\\n",
       "  Avez-vous déjà utilisé la bibliothèque Pandas ?   \n",
       "0                                             Non   \n",
       "1                                             Non   \n",
       "2                                             Non   \n",
       "3                                             Non   \n",
       "4                                             Non   \n",
       "\n",
       "                               Unnamed: 11_level_0  \n",
       "  Savez-vous superposer deux graphiques ensemble ?  \n",
       "0                                              Non  \n",
       "1                                              Non  \n",
       "2                                              Non  \n",
       "3                                              Non  \n",
       "4                                              Non  "
      ]
     },
     "execution_count": 7,
     "metadata": {},
     "output_type": "execute_result"
    }
   ],
   "source": [
    "# si les catégories étaient un peu plus propre on pourrait partir directement sur un multi-index\n",
    "# mais ici on a des colonnes vides donc pas sur que ça nous facilite la tâche\n",
    "df_multi = pd.read_csv('./questionnaire.csv', skiprows=1, header=[0, 1])\n",
    "df_multi.head()"
   ]
  },
  {
   "cell_type": "code",
   "execution_count": 8,
   "id": "d65425ba",
   "metadata": {},
   "outputs": [
    {
     "name": "stdout",
     "output_type": "stream",
     "text": [
      "\u001b[0;31mInit signature:\u001b[0m\n",
      "\u001b[0mpd\u001b[0m\u001b[0;34m.\u001b[0m\u001b[0mMultiIndex\u001b[0m\u001b[0;34m(\u001b[0m\u001b[0;34m\u001b[0m\n",
      "\u001b[0;34m\u001b[0m    \u001b[0mlevels\u001b[0m\u001b[0;34m=\u001b[0m\u001b[0;32mNone\u001b[0m\u001b[0;34m,\u001b[0m\u001b[0;34m\u001b[0m\n",
      "\u001b[0;34m\u001b[0m    \u001b[0mcodes\u001b[0m\u001b[0;34m=\u001b[0m\u001b[0;32mNone\u001b[0m\u001b[0;34m,\u001b[0m\u001b[0;34m\u001b[0m\n",
      "\u001b[0;34m\u001b[0m    \u001b[0msortorder\u001b[0m\u001b[0;34m=\u001b[0m\u001b[0;32mNone\u001b[0m\u001b[0;34m,\u001b[0m\u001b[0;34m\u001b[0m\n",
      "\u001b[0;34m\u001b[0m    \u001b[0mnames\u001b[0m\u001b[0;34m=\u001b[0m\u001b[0;32mNone\u001b[0m\u001b[0;34m,\u001b[0m\u001b[0;34m\u001b[0m\n",
      "\u001b[0;34m\u001b[0m    \u001b[0mdtype\u001b[0m\u001b[0;34m=\u001b[0m\u001b[0;32mNone\u001b[0m\u001b[0;34m,\u001b[0m\u001b[0;34m\u001b[0m\n",
      "\u001b[0;34m\u001b[0m    \u001b[0mcopy\u001b[0m\u001b[0;34m:\u001b[0m \u001b[0;34m'bool'\u001b[0m \u001b[0;34m=\u001b[0m \u001b[0;32mFalse\u001b[0m\u001b[0;34m,\u001b[0m\u001b[0;34m\u001b[0m\n",
      "\u001b[0;34m\u001b[0m    \u001b[0mname\u001b[0m\u001b[0;34m=\u001b[0m\u001b[0;32mNone\u001b[0m\u001b[0;34m,\u001b[0m\u001b[0;34m\u001b[0m\n",
      "\u001b[0;34m\u001b[0m    \u001b[0mverify_integrity\u001b[0m\u001b[0;34m:\u001b[0m \u001b[0;34m'bool'\u001b[0m \u001b[0;34m=\u001b[0m \u001b[0;32mTrue\u001b[0m\u001b[0;34m,\u001b[0m\u001b[0;34m\u001b[0m\n",
      "\u001b[0;34m\u001b[0m\u001b[0;34m)\u001b[0m \u001b[0;34m->\u001b[0m \u001b[0;34m'MultiIndex'\u001b[0m\u001b[0;34m\u001b[0m\u001b[0;34m\u001b[0m\u001b[0m\n",
      "\u001b[0;31mDocstring:\u001b[0m     \n",
      "A multi-level, or hierarchical, index object for pandas objects.\n",
      "\n",
      "Parameters\n",
      "----------\n",
      "levels : sequence of arrays\n",
      "    The unique labels for each level.\n",
      "codes : sequence of arrays\n",
      "    Integers for each level designating which label at each location.\n",
      "sortorder : optional int\n",
      "    Level of sortedness (must be lexicographically sorted by that\n",
      "    level).\n",
      "names : optional sequence of objects\n",
      "    Names for each of the index levels. (name is accepted for compat).\n",
      "copy : bool, default False\n",
      "    Copy the meta-data.\n",
      "verify_integrity : bool, default True\n",
      "    Check that the levels/codes are consistent and valid.\n",
      "\n",
      "Attributes\n",
      "----------\n",
      "names\n",
      "levels\n",
      "codes\n",
      "nlevels\n",
      "levshape\n",
      "dtypes\n",
      "\n",
      "Methods\n",
      "-------\n",
      "from_arrays\n",
      "from_tuples\n",
      "from_product\n",
      "from_frame\n",
      "set_levels\n",
      "set_codes\n",
      "to_frame\n",
      "to_flat_index\n",
      "sortlevel\n",
      "droplevel\n",
      "swaplevel\n",
      "reorder_levels\n",
      "remove_unused_levels\n",
      "get_level_values\n",
      "get_indexer\n",
      "get_loc\n",
      "get_locs\n",
      "get_loc_level\n",
      "drop\n",
      "\n",
      "See Also\n",
      "--------\n",
      "MultiIndex.from_arrays  : Convert list of arrays to MultiIndex.\n",
      "MultiIndex.from_product : Create a MultiIndex from the cartesian product\n",
      "                          of iterables.\n",
      "MultiIndex.from_tuples  : Convert list of tuples to a MultiIndex.\n",
      "MultiIndex.from_frame   : Make a MultiIndex from a DataFrame.\n",
      "Index : The base pandas Index type.\n",
      "\n",
      "Notes\n",
      "-----\n",
      "See the `user guide\n",
      "<https://pandas.pydata.org/pandas-docs/stable/user_guide/advanced.html>`__\n",
      "for more.\n",
      "\n",
      "Examples\n",
      "--------\n",
      "A new ``MultiIndex`` is typically constructed using one of the helper\n",
      "methods :meth:`MultiIndex.from_arrays`, :meth:`MultiIndex.from_product`\n",
      "and :meth:`MultiIndex.from_tuples`. For example (using ``.from_arrays``):\n",
      "\n",
      ">>> arrays = [[1, 1, 2, 2], ['red', 'blue', 'red', 'blue']]\n",
      ">>> pd.MultiIndex.from_arrays(arrays, names=('number', 'color'))\n",
      "MultiIndex([(1,  'red'),\n",
      "            (1, 'blue'),\n",
      "            (2,  'red'),\n",
      "            (2, 'blue')],\n",
      "           names=['number', 'color'])\n",
      "\n",
      "See further examples for how to construct a MultiIndex in the doc strings\n",
      "of the mentioned helper methods.\n",
      "\u001b[0;31mFile:\u001b[0m           ~/anaconda3/envs/myenv_clone/lib/python3.11/site-packages/pandas/core/indexes/multi.py\n",
      "\u001b[0;31mType:\u001b[0m           type\n",
      "\u001b[0;31mSubclasses:\u001b[0m     "
     ]
    }
   ],
   "source": [
    "# On peut l'ajouter après. Si jamais regarder l'aide :\n",
    "pd.MultiIndex?"
   ]
  },
  {
   "cell_type": "markdown",
   "id": "35152286",
   "metadata": {},
   "source": [
    "## 1.2 Recoder le nom des colonnes"
   ]
  },
  {
   "cell_type": "code",
   "execution_count": 9,
   "id": "43639a44",
   "metadata": {},
   "outputs": [
    {
     "data": {
      "text/plain": [
       "Index(['Sauriez-vous expliquer globalement quel est le rôle du disque dur, de la mémoire vive et d’un système d’exploitation sur un ordinateur ?',\n",
       "       'Savez-vous afficher le code source d’une page internet ?',\n",
       "       'Savez-vous ce qu’est un fichier de format CSV ?',\n",
       "       'Avez-vous déjà appris les bases d’un langage de programmation (R compris) ?',\n",
       "       'Savez-vous ce qu’est une boucle en programmation ?',\n",
       "       'Avez-vous déjà eu l’occasion d’utiliser de la programmation en pratique ?',\n",
       "       'Sauriez-vous reconnaître si un script est écrit en langage Python ?',\n",
       "       'Avez-vous déjà ouvert une console Python pour exécuter du code ?',\n",
       "       'Avez-vous déjà programmé un peu en Python ?',\n",
       "       'Avez-vous déjà écrit une fonction pour réaliser des traitements ?',\n",
       "       'Avez-vous déjà utilisé la bibliothèque Pandas ?',\n",
       "       'Savez-vous superposer deux graphiques ensemble ?'],\n",
       "      dtype='object')"
      ]
     },
     "execution_count": 9,
     "metadata": {},
     "output_type": "execute_result"
    }
   ],
   "source": [
    "# vérifier nos colonnes\n",
    "df.columns"
   ]
  },
  {
   "cell_type": "code",
   "execution_count": 10,
   "id": "32463959",
   "metadata": {},
   "outputs": [
    {
     "data": {
      "text/plain": [
       "['Sauriez-vous expliquer globalement quel est le rôle du disque dur, de la mémoire vive et d’un système d’exploitation sur un ordinateur ?',\n",
       " 'Savez-vous afficher le code source d’une page internet ?',\n",
       " 'Savez-vous ce qu’est un fichier de format CSV ?',\n",
       " 'Avez-vous déjà appris les bases d’un langage de programmation (R compris) ?',\n",
       " 'Savez-vous ce qu’est une boucle en programmation ?',\n",
       " 'Avez-vous déjà eu l’occasion d’utiliser de la programmation en pratique ?',\n",
       " 'Sauriez-vous reconnaître si un script est écrit en langage Python ?',\n",
       " 'Avez-vous déjà ouvert une console Python pour exécuter du code ?',\n",
       " 'Avez-vous déjà programmé un peu en Python ?',\n",
       " 'Avez-vous déjà écrit une fonction pour réaliser des traitements ?',\n",
       " 'Avez-vous déjà utilisé la bibliothèque Pandas ?',\n",
       " 'Savez-vous superposer deux graphiques ensemble ?']"
      ]
     },
     "execution_count": 10,
     "metadata": {},
     "output_type": "execute_result"
    }
   ],
   "source": [
    "df.columns.to_list()"
   ]
  },
  {
   "cell_type": "code",
   "execution_count": 11,
   "id": "e830a373",
   "metadata": {},
   "outputs": [],
   "source": [
    "# on peut préparer un dictionnaire pour renommer les colonnes\n",
    "rename_dict = {\n",
    "    'Sauriez-vous expliquer globalement quel est le rôle du disque dur, de la mémoire vive et d’un système d’exploitation sur un ordinateur ?': 'Role_Hardware_OS',\n",
    "    'Savez-vous afficher le code source d’une page internet ?': 'Afficher_Code_Source',\n",
    "    'Savez-vous ce qu’est un fichier de format CSV ?': 'Connaissance_CSV',\n",
    "    'Avez-vous déjà appris les bases d’un langage de programmation (R compris) ?': 'Bases_Programmation',\n",
    "    'Savez-vous ce qu’est une boucle en programmation ?': 'Connaissance_Boucle',\n",
    "    'Avez-vous déjà eu l’occasion d’utiliser de la programmation en pratique ?': 'Utilisation_Programmation',\n",
    "    'Sauriez-vous reconnaître si un script est écrit en langage Python ?': 'Reconnaissance_Python',\n",
    "    'Avez-vous déjà ouvert une console Python pour exécuter du code ?': 'Console_Python',\n",
    "    'Avez-vous déjà programmé un peu en Python ?': 'Programmation_Python',\n",
    "    'Avez-vous déjà écrit une fonction pour réaliser des traitements ?': 'Ecriture_Fonction',\n",
    "    'Avez-vous déjà utilisé la bibliothèque Pandas ?': 'Utilisation_Pandas',\n",
    "    'Savez-vous superposer deux graphiques ensemble ?': 'Superposer_Graphiques'\n",
    "}"
   ]
  },
  {
   "cell_type": "code",
   "execution_count": 12,
   "id": "698b98d5",
   "metadata": {},
   "outputs": [],
   "source": [
    "# et le passer comme nouveaux noms avec rename\n",
    "df.rename(columns=rename_dict, inplace=True)"
   ]
  },
  {
   "cell_type": "code",
   "execution_count": 13,
   "id": "d507ca2e",
   "metadata": {},
   "outputs": [
    {
     "data": {
      "text/html": [
       "<div>\n",
       "<style scoped>\n",
       "    .dataframe tbody tr th:only-of-type {\n",
       "        vertical-align: middle;\n",
       "    }\n",
       "\n",
       "    .dataframe tbody tr th {\n",
       "        vertical-align: top;\n",
       "    }\n",
       "\n",
       "    .dataframe thead th {\n",
       "        text-align: right;\n",
       "    }\n",
       "</style>\n",
       "<table border=\"1\" class=\"dataframe\">\n",
       "  <thead>\n",
       "    <tr style=\"text-align: right;\">\n",
       "      <th></th>\n",
       "      <th>Role_Hardware_OS</th>\n",
       "      <th>Afficher_Code_Source</th>\n",
       "      <th>Connaissance_CSV</th>\n",
       "      <th>Bases_Programmation</th>\n",
       "      <th>Connaissance_Boucle</th>\n",
       "      <th>Utilisation_Programmation</th>\n",
       "      <th>Reconnaissance_Python</th>\n",
       "      <th>Console_Python</th>\n",
       "      <th>Programmation_Python</th>\n",
       "      <th>Ecriture_Fonction</th>\n",
       "      <th>Utilisation_Pandas</th>\n",
       "      <th>Superposer_Graphiques</th>\n",
       "    </tr>\n",
       "  </thead>\n",
       "  <tbody>\n",
       "    <tr>\n",
       "      <th>0</th>\n",
       "      <td>Oui</td>\n",
       "      <td>Oui</td>\n",
       "      <td>Oui</td>\n",
       "      <td>Oui</td>\n",
       "      <td>Oui</td>\n",
       "      <td>Oui</td>\n",
       "      <td>Oui</td>\n",
       "      <td>Oui</td>\n",
       "      <td>Oui</td>\n",
       "      <td>Non</td>\n",
       "      <td>Non</td>\n",
       "      <td>Non</td>\n",
       "    </tr>\n",
       "    <tr>\n",
       "      <th>1</th>\n",
       "      <td>Non</td>\n",
       "      <td>Non</td>\n",
       "      <td>Non</td>\n",
       "      <td>Oui</td>\n",
       "      <td>Oui</td>\n",
       "      <td>Non</td>\n",
       "      <td>Non</td>\n",
       "      <td>Oui</td>\n",
       "      <td>Oui</td>\n",
       "      <td>Non</td>\n",
       "      <td>Non</td>\n",
       "      <td>Non</td>\n",
       "    </tr>\n",
       "    <tr>\n",
       "      <th>2</th>\n",
       "      <td>Non</td>\n",
       "      <td>Non</td>\n",
       "      <td>Oui</td>\n",
       "      <td>Oui</td>\n",
       "      <td>Oui</td>\n",
       "      <td>Oui</td>\n",
       "      <td>Non</td>\n",
       "      <td>Non</td>\n",
       "      <td>Non</td>\n",
       "      <td>Non</td>\n",
       "      <td>Non</td>\n",
       "      <td>Non</td>\n",
       "    </tr>\n",
       "    <tr>\n",
       "      <th>3</th>\n",
       "      <td>Non</td>\n",
       "      <td>Non</td>\n",
       "      <td>Oui</td>\n",
       "      <td>Oui</td>\n",
       "      <td>Non</td>\n",
       "      <td>Oui</td>\n",
       "      <td>Non</td>\n",
       "      <td>Oui</td>\n",
       "      <td>Non</td>\n",
       "      <td>Non</td>\n",
       "      <td>Non</td>\n",
       "      <td>Non</td>\n",
       "    </tr>\n",
       "    <tr>\n",
       "      <th>4</th>\n",
       "      <td>Oui</td>\n",
       "      <td>Non</td>\n",
       "      <td>Oui</td>\n",
       "      <td>Oui</td>\n",
       "      <td>Oui</td>\n",
       "      <td>Oui</td>\n",
       "      <td>Non</td>\n",
       "      <td>Non</td>\n",
       "      <td>Non</td>\n",
       "      <td>Non</td>\n",
       "      <td>Non</td>\n",
       "      <td>Non</td>\n",
       "    </tr>\n",
       "  </tbody>\n",
       "</table>\n",
       "</div>"
      ],
      "text/plain": [
       "  Role_Hardware_OS Afficher_Code_Source Connaissance_CSV Bases_Programmation  \\\n",
       "0              Oui                  Oui              Oui                 Oui   \n",
       "1              Non                  Non              Non                 Oui   \n",
       "2              Non                  Non              Oui                 Oui   \n",
       "3              Non                  Non              Oui                 Oui   \n",
       "4              Oui                  Non              Oui                 Oui   \n",
       "\n",
       "  Connaissance_Boucle Utilisation_Programmation Reconnaissance_Python  \\\n",
       "0                 Oui                       Oui                   Oui   \n",
       "1                 Oui                       Non                   Non   \n",
       "2                 Oui                       Oui                   Non   \n",
       "3                 Non                       Oui                   Non   \n",
       "4                 Oui                       Oui                   Non   \n",
       "\n",
       "  Console_Python Programmation_Python Ecriture_Fonction Utilisation_Pandas  \\\n",
       "0            Oui                  Oui               Non                Non   \n",
       "1            Oui                  Oui               Non                Non   \n",
       "2            Non                  Non               Non                Non   \n",
       "3            Oui                  Non               Non                Non   \n",
       "4            Non                  Non               Non                Non   \n",
       "\n",
       "  Superposer_Graphiques  \n",
       "0                   Non  \n",
       "1                   Non  \n",
       "2                   Non  \n",
       "3                   Non  \n",
       "4                   Non  "
      ]
     },
     "execution_count": 13,
     "metadata": {},
     "output_type": "execute_result"
    }
   ],
   "source": [
    "df.head()"
   ]
  },
  {
   "cell_type": "code",
   "execution_count": 14,
   "id": "a516da02",
   "metadata": {},
   "outputs": [
    {
     "data": {
      "text/plain": [
       "['Role_Hardware_OS',\n",
       " 'Afficher_Code_Source',\n",
       " 'Connaissance_CSV',\n",
       " 'Bases_Programmation',\n",
       " 'Connaissance_Boucle',\n",
       " 'Utilisation_Programmation',\n",
       " 'Reconnaissance_Python',\n",
       " 'Console_Python',\n",
       " 'Programmation_Python',\n",
       " 'Ecriture_Fonction',\n",
       " 'Utilisation_Pandas',\n",
       " 'Superposer_Graphiques']"
      ]
     },
     "execution_count": 14,
     "metadata": {},
     "output_type": "execute_result"
    }
   ],
   "source": [
    "# on aurait aussi pu utiliser directement une liste de noms de colonnes\n",
    "# mais il faut dans ce cas que la liste soit dans le bon ordre\n",
    "\n",
    "# Je vais pas tout retaper donc je repars des valeurs du dictionnaire pour recréer la liste\n",
    "liste = list(rename_dict.values())\n",
    "liste"
   ]
  },
  {
   "cell_type": "code",
   "execution_count": 15,
   "id": "75ca600a",
   "metadata": {},
   "outputs": [],
   "source": [
    "# et je fais la démo sur un df_bis\n",
    "df_bis = pd.read_csv('./questionnaire.csv', skiprows=2, header=0)"
   ]
  },
  {
   "cell_type": "code",
   "execution_count": 16,
   "id": "46a99e64",
   "metadata": {},
   "outputs": [],
   "source": [
    "# et ici je remplace les colonnes\n",
    "# Mais il faut que ce soit dans le bon ordre\n",
    "df_bis.columns = ['Role_Hardware_OS',\n",
    "                  'Afficher_Code_Source',\n",
    "                  'Connaissance_CSV',\n",
    "                  'Bases_Programmation',\n",
    "                  'Connaissance_Boucle',\n",
    "                  'Utilisation_Programmation',\n",
    "                  'Reconnaissance_Python',\n",
    "                  'Console_Python',\n",
    "                  'Programmation_Python',\n",
    "                  'Ecriture_Fonction',\n",
    "                  'Utilisation_Pandas',\n",
    "                  'Superposer_Graphiques']\n",
    "# idem que df_bis.columns = liste"
   ]
  },
  {
   "cell_type": "code",
   "execution_count": 17,
   "id": "0b74e427",
   "metadata": {},
   "outputs": [
    {
     "data": {
      "text/html": [
       "<div>\n",
       "<style scoped>\n",
       "    .dataframe tbody tr th:only-of-type {\n",
       "        vertical-align: middle;\n",
       "    }\n",
       "\n",
       "    .dataframe tbody tr th {\n",
       "        vertical-align: top;\n",
       "    }\n",
       "\n",
       "    .dataframe thead th {\n",
       "        text-align: right;\n",
       "    }\n",
       "</style>\n",
       "<table border=\"1\" class=\"dataframe\">\n",
       "  <thead>\n",
       "    <tr style=\"text-align: right;\">\n",
       "      <th></th>\n",
       "      <th>Role_Hardware_OS</th>\n",
       "      <th>Afficher_Code_Source</th>\n",
       "      <th>Connaissance_CSV</th>\n",
       "      <th>Bases_Programmation</th>\n",
       "      <th>Connaissance_Boucle</th>\n",
       "      <th>Utilisation_Programmation</th>\n",
       "      <th>Reconnaissance_Python</th>\n",
       "      <th>Console_Python</th>\n",
       "      <th>Programmation_Python</th>\n",
       "      <th>Ecriture_Fonction</th>\n",
       "      <th>Utilisation_Pandas</th>\n",
       "      <th>Superposer_Graphiques</th>\n",
       "    </tr>\n",
       "  </thead>\n",
       "  <tbody>\n",
       "    <tr>\n",
       "      <th>0</th>\n",
       "      <td>Oui</td>\n",
       "      <td>Oui</td>\n",
       "      <td>Oui</td>\n",
       "      <td>Oui</td>\n",
       "      <td>Oui</td>\n",
       "      <td>Oui</td>\n",
       "      <td>Oui</td>\n",
       "      <td>Oui</td>\n",
       "      <td>Oui</td>\n",
       "      <td>Non</td>\n",
       "      <td>Non</td>\n",
       "      <td>Non</td>\n",
       "    </tr>\n",
       "    <tr>\n",
       "      <th>1</th>\n",
       "      <td>Non</td>\n",
       "      <td>Non</td>\n",
       "      <td>Non</td>\n",
       "      <td>Oui</td>\n",
       "      <td>Oui</td>\n",
       "      <td>Non</td>\n",
       "      <td>Non</td>\n",
       "      <td>Oui</td>\n",
       "      <td>Oui</td>\n",
       "      <td>Non</td>\n",
       "      <td>Non</td>\n",
       "      <td>Non</td>\n",
       "    </tr>\n",
       "    <tr>\n",
       "      <th>2</th>\n",
       "      <td>Non</td>\n",
       "      <td>Non</td>\n",
       "      <td>Oui</td>\n",
       "      <td>Oui</td>\n",
       "      <td>Oui</td>\n",
       "      <td>Oui</td>\n",
       "      <td>Non</td>\n",
       "      <td>Non</td>\n",
       "      <td>Non</td>\n",
       "      <td>Non</td>\n",
       "      <td>Non</td>\n",
       "      <td>Non</td>\n",
       "    </tr>\n",
       "    <tr>\n",
       "      <th>3</th>\n",
       "      <td>Non</td>\n",
       "      <td>Non</td>\n",
       "      <td>Oui</td>\n",
       "      <td>Oui</td>\n",
       "      <td>Non</td>\n",
       "      <td>Oui</td>\n",
       "      <td>Non</td>\n",
       "      <td>Oui</td>\n",
       "      <td>Non</td>\n",
       "      <td>Non</td>\n",
       "      <td>Non</td>\n",
       "      <td>Non</td>\n",
       "    </tr>\n",
       "    <tr>\n",
       "      <th>4</th>\n",
       "      <td>Oui</td>\n",
       "      <td>Non</td>\n",
       "      <td>Oui</td>\n",
       "      <td>Oui</td>\n",
       "      <td>Oui</td>\n",
       "      <td>Oui</td>\n",
       "      <td>Non</td>\n",
       "      <td>Non</td>\n",
       "      <td>Non</td>\n",
       "      <td>Non</td>\n",
       "      <td>Non</td>\n",
       "      <td>Non</td>\n",
       "    </tr>\n",
       "  </tbody>\n",
       "</table>\n",
       "</div>"
      ],
      "text/plain": [
       "  Role_Hardware_OS Afficher_Code_Source Connaissance_CSV Bases_Programmation  \\\n",
       "0              Oui                  Oui              Oui                 Oui   \n",
       "1              Non                  Non              Non                 Oui   \n",
       "2              Non                  Non              Oui                 Oui   \n",
       "3              Non                  Non              Oui                 Oui   \n",
       "4              Oui                  Non              Oui                 Oui   \n",
       "\n",
       "  Connaissance_Boucle Utilisation_Programmation Reconnaissance_Python  \\\n",
       "0                 Oui                       Oui                   Oui   \n",
       "1                 Oui                       Non                   Non   \n",
       "2                 Oui                       Oui                   Non   \n",
       "3                 Non                       Oui                   Non   \n",
       "4                 Oui                       Oui                   Non   \n",
       "\n",
       "  Console_Python Programmation_Python Ecriture_Fonction Utilisation_Pandas  \\\n",
       "0            Oui                  Oui               Non                Non   \n",
       "1            Oui                  Oui               Non                Non   \n",
       "2            Non                  Non               Non                Non   \n",
       "3            Oui                  Non               Non                Non   \n",
       "4            Non                  Non               Non                Non   \n",
       "\n",
       "  Superposer_Graphiques  \n",
       "0                   Non  \n",
       "1                   Non  \n",
       "2                   Non  \n",
       "3                   Non  \n",
       "4                   Non  "
      ]
     },
     "execution_count": 17,
     "metadata": {},
     "output_type": "execute_result"
    }
   ],
   "source": [
    "#Voilà, ça marche, tout le monde est content\n",
    "df_bis.head()"
   ]
  },
  {
   "cell_type": "code",
   "execution_count": 18,
   "id": "d15051e8",
   "metadata": {},
   "outputs": [
    {
     "data": {
      "text/html": [
       "<div>\n",
       "<style scoped>\n",
       "    .dataframe tbody tr th:only-of-type {\n",
       "        vertical-align: middle;\n",
       "    }\n",
       "\n",
       "    .dataframe tbody tr th {\n",
       "        vertical-align: top;\n",
       "    }\n",
       "\n",
       "    .dataframe thead th {\n",
       "        text-align: right;\n",
       "    }\n",
       "</style>\n",
       "<table border=\"1\" class=\"dataframe\">\n",
       "  <thead>\n",
       "    <tr style=\"text-align: right;\">\n",
       "      <th></th>\n",
       "      <th>Role_Hardware_OS</th>\n",
       "      <th>Afficher_Code_Source</th>\n",
       "      <th>Connaissance_CSV</th>\n",
       "      <th>Bases_Programmation</th>\n",
       "      <th>Connaissance_Boucle</th>\n",
       "      <th>Utilisation_Programmation</th>\n",
       "      <th>Reconnaissance_Python</th>\n",
       "      <th>Console_Python</th>\n",
       "      <th>Programmation_Python</th>\n",
       "      <th>Ecriture_Fonction</th>\n",
       "      <th>Utilisation_Pandas</th>\n",
       "      <th>Superposer_Graphiques</th>\n",
       "    </tr>\n",
       "  </thead>\n",
       "  <tbody>\n",
       "    <tr>\n",
       "      <th>0</th>\n",
       "      <td>Oui</td>\n",
       "      <td>Oui</td>\n",
       "      <td>Oui</td>\n",
       "      <td>Oui</td>\n",
       "      <td>Oui</td>\n",
       "      <td>Oui</td>\n",
       "      <td>Oui</td>\n",
       "      <td>Oui</td>\n",
       "      <td>Oui</td>\n",
       "      <td>Non</td>\n",
       "      <td>Non</td>\n",
       "      <td>Non</td>\n",
       "    </tr>\n",
       "    <tr>\n",
       "      <th>1</th>\n",
       "      <td>Non</td>\n",
       "      <td>Non</td>\n",
       "      <td>Non</td>\n",
       "      <td>Oui</td>\n",
       "      <td>Oui</td>\n",
       "      <td>Non</td>\n",
       "      <td>Non</td>\n",
       "      <td>Oui</td>\n",
       "      <td>Oui</td>\n",
       "      <td>Non</td>\n",
       "      <td>Non</td>\n",
       "      <td>Non</td>\n",
       "    </tr>\n",
       "    <tr>\n",
       "      <th>2</th>\n",
       "      <td>Non</td>\n",
       "      <td>Non</td>\n",
       "      <td>Oui</td>\n",
       "      <td>Oui</td>\n",
       "      <td>Oui</td>\n",
       "      <td>Oui</td>\n",
       "      <td>Non</td>\n",
       "      <td>Non</td>\n",
       "      <td>Non</td>\n",
       "      <td>Non</td>\n",
       "      <td>Non</td>\n",
       "      <td>Non</td>\n",
       "    </tr>\n",
       "    <tr>\n",
       "      <th>3</th>\n",
       "      <td>Non</td>\n",
       "      <td>Non</td>\n",
       "      <td>Oui</td>\n",
       "      <td>Oui</td>\n",
       "      <td>Non</td>\n",
       "      <td>Oui</td>\n",
       "      <td>Non</td>\n",
       "      <td>Oui</td>\n",
       "      <td>Non</td>\n",
       "      <td>Non</td>\n",
       "      <td>Non</td>\n",
       "      <td>Non</td>\n",
       "    </tr>\n",
       "    <tr>\n",
       "      <th>4</th>\n",
       "      <td>Oui</td>\n",
       "      <td>Non</td>\n",
       "      <td>Oui</td>\n",
       "      <td>Oui</td>\n",
       "      <td>Oui</td>\n",
       "      <td>Oui</td>\n",
       "      <td>Non</td>\n",
       "      <td>Non</td>\n",
       "      <td>Non</td>\n",
       "      <td>Non</td>\n",
       "      <td>Non</td>\n",
       "      <td>Non</td>\n",
       "    </tr>\n",
       "  </tbody>\n",
       "</table>\n",
       "</div>"
      ],
      "text/plain": [
       "  Role_Hardware_OS Afficher_Code_Source Connaissance_CSV Bases_Programmation  \\\n",
       "0              Oui                  Oui              Oui                 Oui   \n",
       "1              Non                  Non              Non                 Oui   \n",
       "2              Non                  Non              Oui                 Oui   \n",
       "3              Non                  Non              Oui                 Oui   \n",
       "4              Oui                  Non              Oui                 Oui   \n",
       "\n",
       "  Connaissance_Boucle Utilisation_Programmation Reconnaissance_Python  \\\n",
       "0                 Oui                       Oui                   Oui   \n",
       "1                 Oui                       Non                   Non   \n",
       "2                 Oui                       Oui                   Non   \n",
       "3                 Non                       Oui                   Non   \n",
       "4                 Oui                       Oui                   Non   \n",
       "\n",
       "  Console_Python Programmation_Python Ecriture_Fonction Utilisation_Pandas  \\\n",
       "0            Oui                  Oui               Non                Non   \n",
       "1            Oui                  Oui               Non                Non   \n",
       "2            Non                  Non               Non                Non   \n",
       "3            Oui                  Non               Non                Non   \n",
       "4            Non                  Non               Non                Non   \n",
       "\n",
       "  Superposer_Graphiques  \n",
       "0                   Non  \n",
       "1                   Non  \n",
       "2                   Non  \n",
       "3                   Non  \n",
       "4                   Non  "
      ]
     },
     "execution_count": 18,
     "metadata": {},
     "output_type": "execute_result"
    }
   ],
   "source": [
    "# on peut même le mettre directement comme argument de read_csv\n",
    "# avec names= (ici liste puisque je l'ai déjà créée)\n",
    "df_ter = pd.read_csv('./questionnaire.csv', skiprows=2, header=0, names=liste)\n",
    "df_ter.head()"
   ]
  },
  {
   "cell_type": "markdown",
   "id": "cbb9cd8c",
   "metadata": {},
   "source": [
    "## 1.3 remplacer Oui par 1, et 0 par Non"
   ]
  },
  {
   "cell_type": "code",
   "execution_count": 19,
   "id": "573171b9",
   "metadata": {},
   "outputs": [
    {
     "data": {
      "text/html": [
       "<div>\n",
       "<style scoped>\n",
       "    .dataframe tbody tr th:only-of-type {\n",
       "        vertical-align: middle;\n",
       "    }\n",
       "\n",
       "    .dataframe tbody tr th {\n",
       "        vertical-align: top;\n",
       "    }\n",
       "\n",
       "    .dataframe thead th {\n",
       "        text-align: right;\n",
       "    }\n",
       "</style>\n",
       "<table border=\"1\" class=\"dataframe\">\n",
       "  <thead>\n",
       "    <tr style=\"text-align: right;\">\n",
       "      <th></th>\n",
       "      <th>Role_Hardware_OS</th>\n",
       "      <th>Afficher_Code_Source</th>\n",
       "      <th>Connaissance_CSV</th>\n",
       "      <th>Bases_Programmation</th>\n",
       "      <th>Connaissance_Boucle</th>\n",
       "      <th>Utilisation_Programmation</th>\n",
       "      <th>Reconnaissance_Python</th>\n",
       "      <th>Console_Python</th>\n",
       "      <th>Programmation_Python</th>\n",
       "      <th>Ecriture_Fonction</th>\n",
       "      <th>Utilisation_Pandas</th>\n",
       "      <th>Superposer_Graphiques</th>\n",
       "    </tr>\n",
       "  </thead>\n",
       "  <tbody>\n",
       "    <tr>\n",
       "      <th>0</th>\n",
       "      <td>1</td>\n",
       "      <td>1</td>\n",
       "      <td>1</td>\n",
       "      <td>1</td>\n",
       "      <td>1</td>\n",
       "      <td>1</td>\n",
       "      <td>1</td>\n",
       "      <td>1</td>\n",
       "      <td>1</td>\n",
       "      <td>0</td>\n",
       "      <td>0</td>\n",
       "      <td>0</td>\n",
       "    </tr>\n",
       "    <tr>\n",
       "      <th>1</th>\n",
       "      <td>0</td>\n",
       "      <td>0</td>\n",
       "      <td>0</td>\n",
       "      <td>1</td>\n",
       "      <td>1</td>\n",
       "      <td>0</td>\n",
       "      <td>0</td>\n",
       "      <td>1</td>\n",
       "      <td>1</td>\n",
       "      <td>0</td>\n",
       "      <td>0</td>\n",
       "      <td>0</td>\n",
       "    </tr>\n",
       "    <tr>\n",
       "      <th>2</th>\n",
       "      <td>0</td>\n",
       "      <td>0</td>\n",
       "      <td>1</td>\n",
       "      <td>1</td>\n",
       "      <td>1</td>\n",
       "      <td>1</td>\n",
       "      <td>0</td>\n",
       "      <td>0</td>\n",
       "      <td>0</td>\n",
       "      <td>0</td>\n",
       "      <td>0</td>\n",
       "      <td>0</td>\n",
       "    </tr>\n",
       "    <tr>\n",
       "      <th>3</th>\n",
       "      <td>0</td>\n",
       "      <td>0</td>\n",
       "      <td>1</td>\n",
       "      <td>1</td>\n",
       "      <td>0</td>\n",
       "      <td>1</td>\n",
       "      <td>0</td>\n",
       "      <td>1</td>\n",
       "      <td>0</td>\n",
       "      <td>0</td>\n",
       "      <td>0</td>\n",
       "      <td>0</td>\n",
       "    </tr>\n",
       "    <tr>\n",
       "      <th>4</th>\n",
       "      <td>1</td>\n",
       "      <td>0</td>\n",
       "      <td>1</td>\n",
       "      <td>1</td>\n",
       "      <td>1</td>\n",
       "      <td>1</td>\n",
       "      <td>0</td>\n",
       "      <td>0</td>\n",
       "      <td>0</td>\n",
       "      <td>0</td>\n",
       "      <td>0</td>\n",
       "      <td>0</td>\n",
       "    </tr>\n",
       "  </tbody>\n",
       "</table>\n",
       "</div>"
      ],
      "text/plain": [
       "   Role_Hardware_OS  Afficher_Code_Source  Connaissance_CSV  \\\n",
       "0                 1                     1                 1   \n",
       "1                 0                     0                 0   \n",
       "2                 0                     0                 1   \n",
       "3                 0                     0                 1   \n",
       "4                 1                     0                 1   \n",
       "\n",
       "   Bases_Programmation  Connaissance_Boucle  Utilisation_Programmation  \\\n",
       "0                    1                    1                          1   \n",
       "1                    1                    1                          0   \n",
       "2                    1                    1                          1   \n",
       "3                    1                    0                          1   \n",
       "4                    1                    1                          1   \n",
       "\n",
       "   Reconnaissance_Python  Console_Python  Programmation_Python  \\\n",
       "0                      1               1                     1   \n",
       "1                      0               1                     1   \n",
       "2                      0               0                     0   \n",
       "3                      0               1                     0   \n",
       "4                      0               0                     0   \n",
       "\n",
       "   Ecriture_Fonction  Utilisation_Pandas  Superposer_Graphiques  \n",
       "0                  0                   0                      0  \n",
       "1                  0                   0                      0  \n",
       "2                  0                   0                      0  \n",
       "3                  0                   0                      0  \n",
       "4                  0                   0                      0  "
      ]
     },
     "execution_count": 19,
     "metadata": {},
     "output_type": "execute_result"
    }
   ],
   "source": [
    "# on connait replace\n",
    "# ici tout notre df est composé de \"Oui\" et \"Non\" donc on peut directement remplacer sur tout le df\n",
    "df.replace({\"Oui\": 1, \"Non\": 0}, inplace=True)\n",
    "df.head()"
   ]
  },
  {
   "cell_type": "markdown",
   "id": "e0fbcdf0",
   "metadata": {},
   "source": [
    "## 1.4 calculer un indicateur par grande catégorie (somme des réponses divisée par le nombre de questions)\n"
   ]
  },
  {
   "cell_type": "code",
   "execution_count": 20,
   "id": "194589c8",
   "metadata": {},
   "outputs": [],
   "source": [
    "# ici un groupe de 0:2 ; 3:5 ; 6:8 ; 9:11"
   ]
  },
  {
   "cell_type": "code",
   "execution_count": 21,
   "id": "32566741",
   "metadata": {},
   "outputs": [
    {
     "data": {
      "text/plain": [
       "Index(['Role_Hardware_OS', 'Afficher_Code_Source', 'Connaissance_CSV',\n",
       "       'Bases_Programmation', 'Connaissance_Boucle',\n",
       "       'Utilisation_Programmation', 'Reconnaissance_Python', 'Console_Python',\n",
       "       'Programmation_Python', 'Ecriture_Fonction', 'Utilisation_Pandas',\n",
       "       'Superposer_Graphiques'],\n",
       "      dtype='object')"
      ]
     },
     "execution_count": 21,
     "metadata": {},
     "output_type": "execute_result"
    }
   ],
   "source": [
    "df.columns"
   ]
  },
  {
   "cell_type": "code",
   "execution_count": 22,
   "id": "7f549ddf",
   "metadata": {},
   "outputs": [],
   "source": [
    "# alors on peut y aller à la main avec le nom et tout et tout\n",
    "# c'est fastidieux mais ça marche\n",
    "# et ça a le mérite d'être clair\n",
    "\n",
    "# ici ça allait pour moi parce que l'autocomplétion de copilot est là\n",
    "# gogo gadgeto autocompletion avec copilot ici :\n",
    "score_info = (df[\"Role_Hardware_OS\"] + df[\"Afficher_Code_Source\"] + df[\"Connaissance_CSV\"]) / 3\n",
    "score_algo = (df[\"Bases_Programmation\"] + df[\"Connaissance_Boucle\"] + df[\"Utilisation_Programmation\"]) / 3\n",
    "score_base_python = (df[\"Reconnaissance_Python\"] + df[\"Console_Python\"] + df[\"Programmation_Python\"]) / 3\n",
    "score_avancé_python = (df[\"Ecriture_Fonction\"] + df[\"Utilisation_Pandas\"] + df[\"Superposer_Graphiques\"]) / 3"
   ]
  },
  {
   "cell_type": "code",
   "execution_count": 23,
   "id": "d935c8ca",
   "metadata": {},
   "outputs": [],
   "source": [
    "# # Ici j'ai volontairement créé les scores sans les passer comme de nouvelles colonnes\n",
    "# # on pourrait ajouter ces colonnes à notre df :\n",
    "\n",
    "# # soit dès la création\n",
    "# df[\"score_info\"] = (df[\"Role_Hardware_OS\"] + df[\"Afficher_Code_Source\"] + df[\"Connaissance_CSV\"]) / 3\n",
    "\n",
    "# # soit ici une fois que les scores existent :\n",
    "# df[\"score_info\"] = score_info\n",
    "\n"
   ]
  },
  {
   "cell_type": "markdown",
   "id": "7ae1cdeb",
   "metadata": {},
   "source": [
    "Autre possibilité :"
   ]
  },
  {
   "cell_type": "code",
   "execution_count": 24,
   "id": "60fc69d9",
   "metadata": {},
   "outputs": [],
   "source": [
    "# Autre option :\n",
    "# ou alors je repars de l'indexation des colonnes\n",
    "# et je fais la somme puis je divise\n",
    "info_bis = df[df.columns[0:3]].sum(axis=1) / 3\n",
    "algo_bis = df[df.columns[3:6]].sum(axis=1) / 3\n",
    "base_python_bis = df[df.columns[6:9]].sum(axis=1) / 3\n",
    "avancé_python_bis = df[df.columns[9:12]].sum(axis=1) / 3"
   ]
  },
  {
   "cell_type": "code",
   "execution_count": 25,
   "id": "774bb93d",
   "metadata": {},
   "outputs": [
    {
     "data": {
      "text/plain": [
       "True"
      ]
     },
     "execution_count": 25,
     "metadata": {},
     "output_type": "execute_result"
    }
   ],
   "source": [
    "# je peux même vérifier que les deux méthodes donnent le même résultat\n",
    "score_info.equals(info_bis)"
   ]
  },
  {
   "cell_type": "markdown",
   "id": "254190db",
   "metadata": {},
   "source": [
    "Détail de la logique si besoin :"
   ]
  },
  {
   "cell_type": "code",
   "execution_count": 26,
   "id": "553df47d",
   "metadata": {},
   "outputs": [
    {
     "data": {
      "text/html": [
       "<div>\n",
       "<style scoped>\n",
       "    .dataframe tbody tr th:only-of-type {\n",
       "        vertical-align: middle;\n",
       "    }\n",
       "\n",
       "    .dataframe tbody tr th {\n",
       "        vertical-align: top;\n",
       "    }\n",
       "\n",
       "    .dataframe thead th {\n",
       "        text-align: right;\n",
       "    }\n",
       "</style>\n",
       "<table border=\"1\" class=\"dataframe\">\n",
       "  <thead>\n",
       "    <tr style=\"text-align: right;\">\n",
       "      <th></th>\n",
       "      <th>Role_Hardware_OS</th>\n",
       "      <th>Afficher_Code_Source</th>\n",
       "      <th>Connaissance_CSV</th>\n",
       "    </tr>\n",
       "  </thead>\n",
       "  <tbody>\n",
       "    <tr>\n",
       "      <th>0</th>\n",
       "      <td>1</td>\n",
       "      <td>1</td>\n",
       "      <td>1</td>\n",
       "    </tr>\n",
       "    <tr>\n",
       "      <th>1</th>\n",
       "      <td>0</td>\n",
       "      <td>0</td>\n",
       "      <td>0</td>\n",
       "    </tr>\n",
       "    <tr>\n",
       "      <th>2</th>\n",
       "      <td>0</td>\n",
       "      <td>0</td>\n",
       "      <td>1</td>\n",
       "    </tr>\n",
       "    <tr>\n",
       "      <th>3</th>\n",
       "      <td>0</td>\n",
       "      <td>0</td>\n",
       "      <td>1</td>\n",
       "    </tr>\n",
       "    <tr>\n",
       "      <th>4</th>\n",
       "      <td>1</td>\n",
       "      <td>0</td>\n",
       "      <td>1</td>\n",
       "    </tr>\n",
       "  </tbody>\n",
       "</table>\n",
       "</div>"
      ],
      "text/plain": [
       "   Role_Hardware_OS  Afficher_Code_Source  Connaissance_CSV\n",
       "0                 1                     1                 1\n",
       "1                 0                     0                 0\n",
       "2                 0                     0                 1\n",
       "3                 0                     0                 1\n",
       "4                 1                     0                 1"
      ]
     },
     "execution_count": 26,
     "metadata": {},
     "output_type": "execute_result"
    }
   ],
   "source": [
    "# si besoin : détail de la logique\n",
    "# je peux faire une sélection des colonnes qui m'intéressent\n",
    "info = df[df.columns[0:3]]\n",
    "info.head()"
   ]
  },
  {
   "cell_type": "code",
   "execution_count": 27,
   "id": "8592392c",
   "metadata": {},
   "outputs": [
    {
     "data": {
      "text/plain": [
       "0     3\n",
       "1     0\n",
       "2     1\n",
       "3     1\n",
       "4     2\n",
       "5     1\n",
       "6     0\n",
       "7     1\n",
       "8     2\n",
       "9     1\n",
       "10    3\n",
       "11    2\n",
       "12    3\n",
       "13    3\n",
       "14    2\n",
       "15    3\n",
       "dtype: int64"
      ]
     },
     "execution_count": 27,
     "metadata": {},
     "output_type": "execute_result"
    }
   ],
   "source": [
    "# et adittionner les valeurs de chaque ligne\n",
    "# de base, sum() additionne sur l'axe des colonnes\n",
    "# donc en précisant que je veux une somme par ligne avec axis=1\n",
    "info.sum(axis=1)"
   ]
  },
  {
   "cell_type": "code",
   "execution_count": 28,
   "id": "58848314",
   "metadata": {},
   "outputs": [
    {
     "data": {
      "text/plain": [
       "0     1.000000\n",
       "1     0.000000\n",
       "2     0.333333\n",
       "3     0.333333\n",
       "4     0.666667\n",
       "5     0.333333\n",
       "6     0.000000\n",
       "7     0.333333\n",
       "8     0.666667\n",
       "9     0.333333\n",
       "10    1.000000\n",
       "11    0.666667\n",
       "12    1.000000\n",
       "13    1.000000\n",
       "14    0.666667\n",
       "15    1.000000\n",
       "dtype: float64"
      ]
     },
     "execution_count": 28,
     "metadata": {},
     "output_type": "execute_result"
    }
   ],
   "source": [
    "# reste à diviser par le nombre de colonnes\n",
    "tada = info.sum(axis=1)/3\n",
    "tada"
   ]
  },
  {
   "cell_type": "markdown",
   "id": "b2f65b97",
   "metadata": {},
   "source": [
    "## 1.5 calculer un indicateur général (idem)"
   ]
  },
  {
   "cell_type": "code",
   "execution_count": 29,
   "id": "6d320805",
   "metadata": {},
   "outputs": [
    {
     "data": {
      "text/plain": [
       "0     0.750000\n",
       "1     0.333333\n",
       "2     0.333333\n",
       "3     0.333333\n",
       "4     0.416667\n",
       "5     0.750000\n",
       "6     0.000000\n",
       "7     0.083333\n",
       "8     0.416667\n",
       "9     0.666667\n",
       "10    0.666667\n",
       "11    0.333333\n",
       "12    0.416667\n",
       "13    0.416667\n",
       "14    0.166667\n",
       "15    0.666667\n",
       "dtype: float64"
      ]
     },
     "execution_count": 29,
     "metadata": {},
     "output_type": "execute_result"
    }
   ],
   "source": [
    "score_tout = df.sum(axis=1)/len(df.columns) # si javais ajouté des colonnes, il faudrait changer le dénominateur et préciser les colonnes\n",
    "score_tout"
   ]
  },
  {
   "cell_type": "markdown",
   "id": "1a2c5a32-a990-428f-addd-5b06ff055408",
   "metadata": {},
   "source": [
    "## Exercice 2 : Visualiser\n",
    "\n",
    "- 2.1 Représenter l'histogramme\n",
    "  - division en 10 intervalles\n",
    "  - en orange\n",
    "  - mettre un titre, nom sur les axes des abscisses et ordonnées\n",
    "  - représenter la médiane et la moyenne sur le graphique\n",
    "\n",
    "- 2.2 Représenter l'histogramme de manière interractive avec plotly\n",
    "  - (rester sur la visualisation basique)\n",
    "\n",
    "- 2.3 Construire une figure qui permet de représenter l'ensemble des questions sous la forme d'un diagramme en barre pour chacune\n",
    "  - unifier l'axe des abscisses et ordonnées\n",
    "  - enlever la présence des axes"
   ]
  },
  {
   "cell_type": "markdown",
   "id": "a1bd020a",
   "metadata": {},
   "source": [
    "## 2.1 Représenter l'histogramme"
   ]
  },
  {
   "cell_type": "code",
   "execution_count": 30,
   "id": "3e209e06",
   "metadata": {},
   "outputs": [],
   "source": [
    "# commencer par importer matplotlib\n",
    "import matplotlib.pyplot as plt"
   ]
  },
  {
   "cell_type": "code",
   "execution_count": 31,
   "id": "98fe2ca3",
   "metadata": {},
   "outputs": [
    {
     "data": {
      "text/plain": [
       "<Axes: ylabel='Frequency'>"
      ]
     },
     "execution_count": 31,
     "metadata": {},
     "output_type": "execute_result"
    },
    {
     "data": {
      "image/png": "[encoded data removed]",
      "text/plain": [
       "<Figure size 640x480 with 1 Axes>"
      ]
     },
     "metadata": {},
     "output_type": "display_data"
    }
   ],
   "source": [
    "# On sait représenter l'histogramme avec pandas\n",
    "score_tout.plot(kind='hist')"
   ]
  },
  {
   "cell_type": "code",
   "execution_count": 32,
   "id": "41532de2",
   "metadata": {},
   "outputs": [
    {
     "data": {
      "image/png": "[encoded data removed]",
      "text/plain": [
       "<Figure size 800x600 with 1 Axes>"
      ]
     },
     "metadata": {},
     "output_type": "display_data"
    }
   ],
   "source": [
    "# On va faire l'équivalent avec matplotlib:\n",
    "\n",
    "# Création de l'histogramme\n",
    "plt.figure(figsize=(8, 6)) # pas obligatoire mais on peut préciser la taille\n",
    "plt.hist(score_tout) # créer l'histogramme\n",
    "plt.show() # afficher"
   ]
  },
  {
   "cell_type": "markdown",
   "id": "f14bb3c4",
   "metadata": {},
   "source": [
    "**Et maintenant on va ajouter ce qu'on veut.**\n",
    "  - division en 10 intervalles\n",
    "  - en orange\n",
    "  - mettre un titre, nom sur les axes des abscisses et ordonnées\n",
    "  - représenter la médiane et la moyenne sur le graphique\n",
    "\n",
    "**Nos outils** :\n",
    "- les options de `plt.hist()` (bins, color)\n",
    "- `plt.title()`\n",
    "- `plt.xlabel()`et `plt.ylabel()`\n",
    "- `plt.axvline()`"
   ]
  },
  {
   "cell_type": "code",
   "execution_count": 33,
   "id": "1900c687",
   "metadata": {},
   "outputs": [],
   "source": [
    "#plt.hist?"
   ]
  },
  {
   "cell_type": "code",
   "execution_count": 34,
   "id": "5a56f8f7",
   "metadata": {},
   "outputs": [
    {
     "data": {
      "image/png": "[encoded data removed]",
      "text/plain": [
       "<Figure size 800x600 with 1 Axes>"
      ]
     },
     "metadata": {},
     "output_type": "display_data"
    }
   ],
   "source": [
    "# initialiser la figure\n",
    "plt.figure(figsize=(8, 6)) # pas obligatoire mais on peut préciser la taille\n",
    "\n",
    "\n",
    "# ET ICI MODIFIER CE QUI DOIT L'ÊTRE :\n",
    "\n",
    "# créer l'histogramme\n",
    "plt.hist(score_tout,\n",
    "        #  bins,\n",
    "        #  color\n",
    "         ) \n",
    "\n",
    "# nommer les axes\n",
    "# plt.title\n",
    "# plt.xlabel\n",
    "# plt.ylabel\n",
    "\n",
    "# moyenne et mediane\n",
    "# plt.axvline\n",
    "# plt.axvline\n",
    "\n",
    "# Afficher\n",
    "plt.show() # afficher"
   ]
  },
  {
   "cell_type": "code",
   "execution_count": 35,
   "id": "551fd1fe",
   "metadata": {},
   "outputs": [
    {
     "data": {
      "image/png": "[encoded data removed]",
      "text/plain": [
       "<Figure size 800x600 with 1 Axes>"
      ]
     },
     "metadata": {},
     "output_type": "display_data"
    }
   ],
   "source": [
    "# BASIQUE\n",
    "\n",
    "# Création de la figure\n",
    "plt.figure(figsize=(8, 6)) # pas obligatoire mais on peut préciser la taille\n",
    "\n",
    "# Précisions pour l'histogramme \n",
    "plt.hist(score_tout,  # créer l'histogramme\n",
    "         bins=10,  # division en 10 intervalles\n",
    "         color=\"orange\", # en orange\n",
    "         )\n",
    "\n",
    "# Ajouter un titre et des labels pour les axes\n",
    "plt.title(\"Maitrise des outils avant la formation\") # ajouter un titre\n",
    "plt.xlabel(\"Score global\") # label pour l'axe des abscisses (x)\n",
    "plt.ylabel(\"Effectifs\") # label pour l'axe des ordonnées (y)\n",
    "\n",
    "# Ajouter la médiane et la moyenne\n",
    "plt.axvline(score_tout.mean(), color=\"blue\") # moyenne\n",
    "plt.axvline(score_tout.median(), color=\"red\") # médiane\n",
    "\n",
    "# Afficher\n",
    "plt.show() # afficher"
   ]
  },
  {
   "cell_type": "code",
   "execution_count": 36,
   "id": "1b2af00d",
   "metadata": {},
   "outputs": [
    {
     "data": {
      "image/png": "[encoded data removed]",
      "text/plain": [
       "<Figure size 1000x600 with 1 Axes>"
      ]
     },
     "metadata": {},
     "output_type": "display_data"
    }
   ],
   "source": [
    "# FIGNOLER\n",
    "\n",
    "# Création de la figure\n",
    "plt.figure(figsize=(10, 6)) # pas obligatoire mais on peut préciser la taille\n",
    "\n",
    "# Précisions pour l'histogramme \n",
    "plt.hist(score_tout,  # créer l'histogramme\n",
    "         bins=10,  # division en 10 intervalles\n",
    "         color=\"orange\", # en orange\n",
    "         edgecolor=\"black\", # bordure noire\n",
    "         alpha=0.90, # transparence\n",
    "         )\n",
    "\n",
    "# Ajouter un titre et des labels pour les axes\n",
    "plt.title(\"Maitrise des outils avant la formation\") # ajouter un titre\n",
    "plt.xlabel(\"Score global\") # label pour l'axe des abscisses (x)\n",
    "plt.ylabel(\"Effectifs\") # label pour l'axe des ordonnées (y)\n",
    "\n",
    "# Ajouter la médiane et la moyenne\n",
    "plt.axvline(score_tout.mean(), color=\"blue\", linestyle='dashed', linewidth=1, label=f'Moyenne: {score_tout.mean():.2f}') # moyenne\n",
    "plt.axvline(score_tout.median(), color=\"red\", linestyle='dashed', linewidth=1, label=f'Médiane: {score_tout.median():.2f}') # médiane\n",
    "\n",
    "# Ajouter la légende (si jamais on a ajouté des labels à nos lignes)\n",
    "plt.legend()\n",
    "\n",
    "# Afficher\n",
    "plt.show() # afficher"
   ]
  },
  {
   "cell_type": "markdown",
   "id": "7715edaa",
   "metadata": {},
   "source": [
    "## 2.2 Représenter l'histogramme de manière interractive avec plotly"
   ]
  },
  {
   "cell_type": "code",
   "execution_count": 37,
   "id": "429625cf",
   "metadata": {},
   "outputs": [
    {
     "data": {
      "application/vnd.plotly.v1+json": {
       "config": {
        "plotlyServerURL": "https://plot.ly"
       },
       "data": [
        {
         "alignmentgroup": "True",
         "bingroup": "x",
         "hovertemplate": "variable=0<br>value=%{x}<br>count=%{y}<extra></extra>",
         "legendgroup": "0",
         "marker": {
          "color": "#636efa",
          "pattern": {
           "shape": ""
          }
         },
         "name": "0",
         "offsetgroup": "0",
         "orientation": "v",
         "showlegend": true,
         "type": "histogram",
         "x": [
          0.75,
          0.3333333333333333,
          0.3333333333333333,
          0.3333333333333333,
          0.4166666666666667,
          0.75,
          0,
          0.08333333333333333,
          0.4166666666666667,
          0.6666666666666666,
          0.6666666666666666,
          0.3333333333333333,
          0.4166666666666667,
          0.4166666666666667,
          0.16666666666666666,
          0.6666666666666666
         ],
         "xaxis": "x",
         "yaxis": "y"
        }
       ],
       "layout": {
        "barmode": "relative",
        "legend": {
         "title": {
          "text": "variable"
         },
         "tracegroupgap": 0
        },
        "margin": {
         "t": 60
        },
        "template": {
         "data": {
          "bar": [
           {
            "error_x": {
             "color": "#2a3f5f"
            },
            "error_y": {
             "color": "#2a3f5f"
            },
            "marker": {
             "line": {
              "color": "#E5ECF6",
              "width": 0.5
             },
             "pattern": {
              "fillmode": "overlay",
              "size": 10,
              "solidity": 0.2
             }
            },
            "type": "bar"
           }
          ],
          "barpolar": [
           {
            "marker": {
             "line": {
              "color": "#E5ECF6",
              "width": 0.5
             },
             "pattern": {
              "fillmode": "overlay",
              "size": 10,
              "solidity": 0.2
             }
            },
            "type": "barpolar"
           }
          ],
          "carpet": [
           {
            "aaxis": {
             "endlinecolor": "#2a3f5f",
             "gridcolor": "white",
             "linecolor": "white",
             "minorgridcolor": "white",
             "startlinecolor": "#2a3f5f"
            },
            "baxis": {
             "endlinecolor": "#2a3f5f",
             "gridcolor": "white",
             "linecolor": "white",
             "minorgridcolor": "white",
             "startlinecolor": "#2a3f5f"
            },
            "type": "carpet"
           }
          ],
          "choropleth": [
           {
            "colorbar": {
             "outlinewidth": 0,
             "ticks": ""
            },
            "type": "choropleth"
           }
          ],
          "contour": [
           {
            "colorbar": {
             "outlinewidth": 0,
             "ticks": ""
            },
            "colorscale": [
             [
              0,
              "#0d0887"
             ],
             [
              0.1111111111111111,
              "#46039f"
             ],
             [
              0.2222222222222222,
              "#7201a8"
             ],
             [
              0.3333333333333333,
              "#9c179e"
             ],
             [
              0.4444444444444444,
              "#bd3786"
             ],
             [
              0.5555555555555556,
              "#d8576b"
             ],
             [
              0.6666666666666666,
              "#ed7953"
             ],
             [
              0.7777777777777778,
              "#fb9f3a"
             ],
             [
              0.8888888888888888,
              "#fdca26"
             ],
             [
              1,
              "#f0f921"
             ]
            ],
            "type": "contour"
           }
          ],
          "contourcarpet": [
           {
            "colorbar": {
             "outlinewidth": 0,
             "ticks": ""
            },
            "type": "contourcarpet"
           }
          ],
          "heatmap": [
           {
            "colorbar": {
             "outlinewidth": 0,
             "ticks": ""
            },
            "colorscale": [
             [
              0,
              "#0d0887"
             ],
             [
              0.1111111111111111,
              "#46039f"
             ],
             [
              0.2222222222222222,
              "#7201a8"
             ],
             [
              0.3333333333333333,
              "#9c179e"
             ],
             [
              0.4444444444444444,
              "#bd3786"
             ],
             [
              0.5555555555555556,
              "#d8576b"
             ],
             [
              0.6666666666666666,
              "#ed7953"
             ],
             [
              0.7777777777777778,
              "#fb9f3a"
             ],
             [
              0.8888888888888888,
              "#fdca26"
             ],
             [
              1,
              "#f0f921"
             ]
            ],
            "type": "heatmap"
           }
          ],
          "heatmapgl": [
           {
            "colorbar": {
             "outlinewidth": 0,
             "ticks": ""
            },
            "colorscale": [
             [
              0,
              "#0d0887"
             ],
             [
              0.1111111111111111,
              "#46039f"
             ],
             [
              0.2222222222222222,
              "#7201a8"
             ],
             [
              0.3333333333333333,
              "#9c179e"
             ],
             [
              0.4444444444444444,
              "#bd3786"
             ],
             [
              0.5555555555555556,
              "#d8576b"
             ],
             [
              0.6666666666666666,
              "#ed7953"
             ],
             [
              0.7777777777777778,
              "#fb9f3a"
             ],
             [
              0.8888888888888888,
              "#fdca26"
             ],
             [
              1,
              "#f0f921"
             ]
            ],
            "type": "heatmapgl"
           }
          ],
          "histogram": [
           {
            "marker": {
             "pattern": {
              "fillmode": "overlay",
              "size": 10,
              "solidity": 0.2
             }
            },
            "type": "histogram"
           }
          ],
          "histogram2d": [
           {
            "colorbar": {
             "outlinewidth": 0,
             "ticks": ""
            },
            "colorscale": [
             [
              0,
              "#0d0887"
             ],
             [
              0.1111111111111111,
              "#46039f"
             ],
             [
              0.2222222222222222,
              "#7201a8"
             ],
             [
              0.3333333333333333,
              "#9c179e"
             ],
             [
              0.4444444444444444,
              "#bd3786"
             ],
             [
              0.5555555555555556,
              "#d8576b"
             ],
             [
              0.6666666666666666,
              "#ed7953"
             ],
             [
              0.7777777777777778,
              "#fb9f3a"
             ],
             [
              0.8888888888888888,
              "#fdca26"
             ],
             [
              1,
              "#f0f921"
             ]
            ],
            "type": "histogram2d"
           }
          ],
          "histogram2dcontour": [
           {
            "colorbar": {
             "outlinewidth": 0,
             "ticks": ""
            },
            "colorscale": [
             [
              0,
              "#0d0887"
             ],
             [
              0.1111111111111111,
              "#46039f"
             ],
             [
              0.2222222222222222,
              "#7201a8"
             ],
             [
              0.3333333333333333,
              "#9c179e"
             ],
             [
              0.4444444444444444,
              "#bd3786"
             ],
             [
              0.5555555555555556,
              "#d8576b"
             ],
             [
              0.6666666666666666,
              "#ed7953"
             ],
             [
              0.7777777777777778,
              "#fb9f3a"
             ],
             [
              0.8888888888888888,
              "#fdca26"
             ],
             [
              1,
              "#f0f921"
             ]
            ],
            "type": "histogram2dcontour"
           }
          ],
          "mesh3d": [
           {
            "colorbar": {
             "outlinewidth": 0,
             "ticks": ""
            },
            "type": "mesh3d"
           }
          ],
          "parcoords": [
           {
            "line": {
             "colorbar": {
              "outlinewidth": 0,
              "ticks": ""
             }
            },
            "type": "parcoords"
           }
          ],
          "pie": [
           {
            "automargin": true,
            "type": "pie"
           }
          ],
          "scatter": [
           {
            "fillpattern": {
             "fillmode": "overlay",
             "size": 10,
             "solidity": 0.2
            },
            "type": "scatter"
           }
          ],
          "scatter3d": [
           {
            "line": {
             "colorbar": {
              "outlinewidth": 0,
              "ticks": ""
             }
            },
            "marker": {
             "colorbar": {
              "outlinewidth": 0,
              "ticks": ""
             }
            },
            "type": "scatter3d"
           }
          ],
          "scattercarpet": [
           {
            "marker": {
             "colorbar": {
              "outlinewidth": 0,
              "ticks": ""
             }
            },
            "type": "scattercarpet"
           }
          ],
          "scattergeo": [
           {
            "marker": {
             "colorbar": {
              "outlinewidth": 0,
              "ticks": ""
             }
            },
            "type": "scattergeo"
           }
          ],
          "scattergl": [
           {
            "marker": {
             "colorbar": {
              "outlinewidth": 0,
              "ticks": ""
             }
            },
            "type": "scattergl"
           }
          ],
          "scattermapbox": [
           {
            "marker": {
             "colorbar": {
              "outlinewidth": 0,
              "ticks": ""
             }
            },
            "type": "scattermapbox"
           }
          ],
          "scatterpolar": [
           {
            "marker": {
             "colorbar": {
              "outlinewidth": 0,
              "ticks": ""
             }
            },
            "type": "scatterpolar"
           }
          ],
          "scatterpolargl": [
           {
            "marker": {
             "colorbar": {
              "outlinewidth": 0,
              "ticks": ""
             }
            },
            "type": "scatterpolargl"
           }
          ],
          "scatterternary": [
           {
            "marker": {
             "colorbar": {
              "outlinewidth": 0,
              "ticks": ""
             }
            },
            "type": "scatterternary"
           }
          ],
          "surface": [
           {
            "colorbar": {
             "outlinewidth": 0,
             "ticks": ""
            },
            "colorscale": [
             [
              0,
              "#0d0887"
             ],
             [
              0.1111111111111111,
              "#46039f"
             ],
             [
              0.2222222222222222,
              "#7201a8"
             ],
             [
              0.3333333333333333,
              "#9c179e"
             ],
             [
              0.4444444444444444,
              "#bd3786"
             ],
             [
              0.5555555555555556,
              "#d8576b"
             ],
             [
              0.6666666666666666,
              "#ed7953"
             ],
             [
              0.7777777777777778,
              "#fb9f3a"
             ],
             [
              0.8888888888888888,
              "#fdca26"
             ],
             [
              1,
              "#f0f921"
             ]
            ],
            "type": "surface"
           }
          ],
          "table": [
           {
            "cells": {
             "fill": {
              "color": "#EBF0F8"
             },
             "line": {
              "color": "white"
             }
            },
            "header": {
             "fill": {
              "color": "#C8D4E3"
             },
             "line": {
              "color": "white"
             }
            },
            "type": "table"
           }
          ]
         },
         "layout": {
          "annotationdefaults": {
           "arrowcolor": "#2a3f5f",
           "arrowhead": 0,
           "arrowwidth": 1
          },
          "autotypenumbers": "strict",
          "coloraxis": {
           "colorbar": {
            "outlinewidth": 0,
            "ticks": ""
           }
          },
          "colorscale": {
           "diverging": [
            [
             0,
             "#8e0152"
            ],
            [
             0.1,
             "#c51b7d"
            ],
            [
             0.2,
             "#de77ae"
            ],
            [
             0.3,
             "#f1b6da"
            ],
            [
             0.4,
             "#fde0ef"
            ],
            [
             0.5,
             "#f7f7f7"
            ],
            [
             0.6,
             "#e6f5d0"
            ],
            [
             0.7,
             "#b8e186"
            ],
            [
             0.8,
             "#7fbc41"
            ],
            [
             0.9,
             "#4d9221"
            ],
            [
             1,
             "#276419"
            ]
           ],
           "sequential": [
            [
             0,
             "#0d0887"
            ],
            [
             0.1111111111111111,
             "#46039f"
            ],
            [
             0.2222222222222222,
             "#7201a8"
            ],
            [
             0.3333333333333333,
             "#9c179e"
            ],
            [
             0.4444444444444444,
             "#bd3786"
            ],
            [
             0.5555555555555556,
             "#d8576b"
            ],
            [
             0.6666666666666666,
             "#ed7953"
            ],
            [
             0.7777777777777778,
             "#fb9f3a"
            ],
            [
             0.8888888888888888,
             "#fdca26"
            ],
            [
             1,
             "#f0f921"
            ]
           ],
           "sequentialminus": [
            [
             0,
             "#0d0887"
            ],
            [
             0.1111111111111111,
             "#46039f"
            ],
            [
             0.2222222222222222,
             "#7201a8"
            ],
            [
             0.3333333333333333,
             "#9c179e"
            ],
            [
             0.4444444444444444,
             "#bd3786"
            ],
            [
             0.5555555555555556,
             "#d8576b"
            ],
            [
             0.6666666666666666,
             "#ed7953"
            ],
            [
             0.7777777777777778,
             "#fb9f3a"
            ],
            [
             0.8888888888888888,
             "#fdca26"
            ],
            [
             1,
             "#f0f921"
            ]
           ]
          },
          "colorway": [
           "#636efa",
           "#EF553B",
           "#00cc96",
           "#ab63fa",
           "#FFA15A",
           "#19d3f3",
           "#FF6692",
           "#B6E880",
           "#FF97FF",
           "#FECB52"
          ],
          "font": {
           "color": "#2a3f5f"
          },
          "geo": {
           "bgcolor": "white",
           "lakecolor": "white",
           "landcolor": "#E5ECF6",
           "showlakes": true,
           "showland": true,
           "subunitcolor": "white"
          },
          "hoverlabel": {
           "align": "left"
          },
          "hovermode": "closest",
          "mapbox": {
           "style": "light"
          },
          "paper_bgcolor": "white",
          "plot_bgcolor": "#E5ECF6",
          "polar": {
           "angularaxis": {
            "gridcolor": "white",
            "linecolor": "white",
            "ticks": ""
           },
           "bgcolor": "#E5ECF6",
           "radialaxis": {
            "gridcolor": "white",
            "linecolor": "white",
            "ticks": ""
           }
          },
          "scene": {
           "xaxis": {
            "backgroundcolor": "#E5ECF6",
            "gridcolor": "white",
            "gridwidth": 2,
            "linecolor": "white",
            "showbackground": true,
            "ticks": "",
            "zerolinecolor": "white"
           },
           "yaxis": {
            "backgroundcolor": "#E5ECF6",
            "gridcolor": "white",
            "gridwidth": 2,
            "linecolor": "white",
            "showbackground": true,
            "ticks": "",
            "zerolinecolor": "white"
           },
           "zaxis": {
            "backgroundcolor": "#E5ECF6",
            "gridcolor": "white",
            "gridwidth": 2,
            "linecolor": "white",
            "showbackground": true,
            "ticks": "",
            "zerolinecolor": "white"
           }
          },
          "shapedefaults": {
           "line": {
            "color": "#2a3f5f"
           }
          },
          "ternary": {
           "aaxis": {
            "gridcolor": "white",
            "linecolor": "white",
            "ticks": ""
           },
           "baxis": {
            "gridcolor": "white",
            "linecolor": "white",
            "ticks": ""
           },
           "bgcolor": "#E5ECF6",
           "caxis": {
            "gridcolor": "white",
            "linecolor": "white",
            "ticks": ""
           }
          },
          "title": {
           "x": 0.05
          },
          "xaxis": {
           "automargin": true,
           "gridcolor": "white",
           "linecolor": "white",
           "ticks": "",
           "title": {
            "standoff": 15
           },
           "zerolinecolor": "white",
           "zerolinewidth": 2
          },
          "yaxis": {
           "automargin": true,
           "gridcolor": "white",
           "linecolor": "white",
           "ticks": "",
           "title": {
            "standoff": 15
           },
           "zerolinecolor": "white",
           "zerolinewidth": 2
          }
         }
        },
        "xaxis": {
         "anchor": "y",
         "domain": [
          0,
          1
         ],
         "title": {
          "text": "value"
         }
        },
        "yaxis": {
         "anchor": "x",
         "domain": [
          0,
          1
         ],
         "title": {
          "text": "count"
         }
        }
       }
      }
     },
     "metadata": {},
     "output_type": "display_data"
    }
   ],
   "source": [
    "# importer plotly.express\n",
    "import plotly.express as px\n",
    "\n",
    "# représenter l'historgramme\n",
    "px.histogram(score_tout)"
   ]
  },
  {
   "cell_type": "markdown",
   "id": "dfec7b3f",
   "metadata": {},
   "source": [
    "## 2.3 Construire une figure qui permet de représenter l'ensemble des questions sous la forme d'un diagramme en barre pour chacune\n",
    "  - unifier l'axe des abscisses et ordonnées\n",
    "  - enlever la présence des axes"
   ]
  },
  {
   "cell_type": "code",
   "execution_count": 38,
   "id": "9adefac1",
   "metadata": {},
   "outputs": [
    {
     "data": {
      "text/plain": [
       "(16, 12)"
      ]
     },
     "execution_count": 38,
     "metadata": {},
     "output_type": "execute_result"
    }
   ],
   "source": [
    "# Ici on aura des choses différentes selon que l'on a ajouté des variables à notre df ou non\n",
    "df.shape"
   ]
  },
  {
   "cell_type": "code",
   "execution_count": 39,
   "id": "9d7754fb",
   "metadata": {},
   "outputs": [
    {
     "data": {
      "image/png": "[encoded data removed]",
      "text/plain": [
       "<Figure size 500x2400 with 12 Axes>"
      ]
     },
     "metadata": {},
     "output_type": "display_data"
    }
   ],
   "source": [
    "# Créer la figure\n",
    "fig, axes = plt.subplots(12, 1, figsize=(5, 2*12), sharex=True, sharey=True)\n",
    "\n",
    "# itérer sur chaque colonne du df\n",
    "for i, col in enumerate(df.columns):\n",
    "    # Obtenir les valeurs pour la colonne selectionnée\n",
    "    counts = df[col].value_counts().sort_index()\n",
    "    \n",
    "    # Tracer le diagramme en barres\n",
    "    axes[i].bar(counts.index, counts.values)\n",
    "    \n",
    "    # Ajouter le titre du subplot\n",
    "    axes[i].set_title(col)\n",
    "    \n",
    "    # Virer les axes\n",
    "    axes[i].set_axis_off()\n",
    "\n",
    "    # D'autres options si on veut gérer bordure par bordure :\n",
    "    # axes[i].spines['top'].set_visible(False)\n",
    "    # axes[i].spines['right'].set_visible(False)\n",
    "    # axes[i].spines['left'].set_visible(False)\n",
    "    # axes[i].spines['bottom'].set_visible(False)\n",
    "\n",
    "# Afficher la figure\n",
    "plt.tight_layout() # moyen que ce soit un peu plus joli\n",
    "plt.show()"
   ]
  },
  {
   "cell_type": "code",
   "execution_count": 40,
   "id": "84c7c03f",
   "metadata": {},
   "outputs": [
    {
     "data": {
      "image/png": "[encoded data removed]",
      "text/plain": [
       "<Figure size 900x1200 with 12 Axes>"
      ]
     },
     "metadata": {},
     "output_type": "display_data"
    }
   ],
   "source": [
    "# ET POUR AVOIR ÇA SUR PLUSIEURS COLONNES ET QUE CE SOIT MOINS BETE ?\n",
    "\n",
    "# Créer la figure mais sur plusieurs colonnes\n",
    "fig, axes = plt.subplots(4, 3, figsize=(9, 12), sharex=True, sharey=True)\n",
    "axes = axes.flatten() # pour pouvoir itérer sur chaque subplot\n",
    "\n",
    "# itérer sur chaque colonne du df\n",
    "for i, col in enumerate(df.columns):\n",
    "    # les counts pour la colonne selectionnée\n",
    "    counts = df[col].value_counts() # si besoin : .sort_index()\n",
    "    \n",
    "    # tracer\n",
    "    axes[i].bar(counts.index, counts.values)\n",
    "    \n",
    "    # titre du sublot\n",
    "    axes[i].set_title(col)\n",
    "    \n",
    "    # Enlever les axes : jouer avec ce qui est mieux\n",
    "    # axes[i].set_axis_off()\n",
    "    # axes[i].spines['top'].set_visible(False)\n",
    "    # axes[i].spines['right'].set_visible(False)\n",
    "    # axes[i].spines['left'].set_visible(False)\n",
    "    # axes[i].spines['bottom'].set_visible(False)\n",
    "    \n",
    "    # et/ou Enlever les ticks des axes\n",
    "    # axes[i].set_xticks([])\n",
    "    # axes[i].set_yticks([])\n",
    "\n",
    "# Afficher la figure\n",
    "plt.tight_layout() # moyen que ce soit un peu plus joli\n",
    "plt.show()"
   ]
  },
  {
   "cell_type": "code",
   "execution_count": 41,
   "id": "b53f6698",
   "metadata": {},
   "outputs": [
    {
     "data": {
      "image/png": "[encoded data removed]",
      "text/plain": [
       "<Figure size 1500x2000 with 12 Axes>"
      ]
     },
     "metadata": {},
     "output_type": "display_data"
    }
   ],
   "source": [
    "# On aurait aussi pu faire un truc du genre\n",
    "# Mais ça foire avec les axes partagés\n",
    "# cf. le sharex=True pose pb si on l'ajoute car la dernière variable n'a q'une modalité\n",
    "\n",
    "# Préparation des subplots\n",
    "fig, axes = plt.subplots(4, 3, figsize=(15, 20)) # si on veut tester : ajouter sharex=True\n",
    "axes = axes.flatten()\n",
    "\n",
    "# Créer un graphique pour chaque colonne\n",
    "for col in df.columns:\n",
    "    ax = axes[df.columns.get_loc(col)]  # Obtenir l'index basé sur la position de la colonne\n",
    "    df[col].value_counts().sort_index().plot(kind='bar', ax=ax, color='red')\n",
    "    ax.set_title(col)\n",
    "    ax.set_xticks([])  # enlever les ticks de l'axe des x\n",
    "    ax.set_yticks([])  # enlever les ticks de l'axe des y\n",
    "\n",
    "plt.tight_layout()\n",
    "plt.show()\n"
   ]
  },
  {
   "cell_type": "markdown",
   "id": "917de122-9180-4202-aa09-eeb744385508",
   "metadata": {},
   "source": [
    "## Exercice 3 : Statistiques\n",
    "\n",
    "- Calculer la corrélation linéaire entre toutes les questions uniques (regarder du côté de .corr())\n",
    "- Calculer la corrélation linéaire entre les indicateurs des groupes de questions\n",
    "- Proposer une représentation de cette corrélation (essayer `.plot`)"
   ]
  },
  {
   "cell_type": "markdown",
   "id": "4c27827f",
   "metadata": {},
   "source": [
    "## 3.1 Calculer la corrélation linéaire entre toutes les questions uniques (regarder du côté de .corr())\n"
   ]
  },
  {
   "cell_type": "code",
   "execution_count": 42,
   "id": "c68eb09b",
   "metadata": {},
   "outputs": [
    {
     "data": {
      "text/html": [
       "<div>\n",
       "<style scoped>\n",
       "    .dataframe tbody tr th:only-of-type {\n",
       "        vertical-align: middle;\n",
       "    }\n",
       "\n",
       "    .dataframe tbody tr th {\n",
       "        vertical-align: top;\n",
       "    }\n",
       "\n",
       "    .dataframe thead th {\n",
       "        text-align: right;\n",
       "    }\n",
       "</style>\n",
       "<table border=\"1\" class=\"dataframe\">\n",
       "  <thead>\n",
       "    <tr style=\"text-align: right;\">\n",
       "      <th></th>\n",
       "      <th>Role_Hardware_OS</th>\n",
       "      <th>Afficher_Code_Source</th>\n",
       "      <th>Connaissance_CSV</th>\n",
       "      <th>Bases_Programmation</th>\n",
       "      <th>Connaissance_Boucle</th>\n",
       "      <th>Utilisation_Programmation</th>\n",
       "      <th>Reconnaissance_Python</th>\n",
       "      <th>Console_Python</th>\n",
       "      <th>Programmation_Python</th>\n",
       "      <th>Ecriture_Fonction</th>\n",
       "      <th>Utilisation_Pandas</th>\n",
       "      <th>Superposer_Graphiques</th>\n",
       "    </tr>\n",
       "  </thead>\n",
       "  <tbody>\n",
       "    <tr>\n",
       "      <th>Role_Hardware_OS</th>\n",
       "      <td>1.000000</td>\n",
       "      <td>0.522233</td>\n",
       "      <td>0.289414</td>\n",
       "      <td>-0.041345</td>\n",
       "      <td>-0.162650</td>\n",
       "      <td>-0.162650</td>\n",
       "      <td>-0.149071</td>\n",
       "      <td>-0.162650</td>\n",
       "      <td>-0.200000</td>\n",
       "      <td>-0.333333</td>\n",
       "      <td>-0.487950</td>\n",
       "      <td>NaN</td>\n",
       "    </tr>\n",
       "    <tr>\n",
       "      <th>Afficher_Code_Source</th>\n",
       "      <td>0.522233</td>\n",
       "      <td>1.000000</td>\n",
       "      <td>0.323875</td>\n",
       "      <td>0.323875</td>\n",
       "      <td>0.050965</td>\n",
       "      <td>0.322777</td>\n",
       "      <td>0.233550</td>\n",
       "      <td>0.322777</td>\n",
       "      <td>0.034816</td>\n",
       "      <td>-0.174078</td>\n",
       "      <td>-0.254824</td>\n",
       "      <td>NaN</td>\n",
       "    </tr>\n",
       "    <tr>\n",
       "      <th>Connaissance_CSV</th>\n",
       "      <td>0.289414</td>\n",
       "      <td>0.323875</td>\n",
       "      <td>1.000000</td>\n",
       "      <td>0.589744</td>\n",
       "      <td>0.221917</td>\n",
       "      <td>0.544705</td>\n",
       "      <td>0.277350</td>\n",
       "      <td>0.221917</td>\n",
       "      <td>0.041345</td>\n",
       "      <td>0.124035</td>\n",
       "      <td>0.181568</td>\n",
       "      <td>NaN</td>\n",
       "    </tr>\n",
       "    <tr>\n",
       "      <th>Bases_Programmation</th>\n",
       "      <td>-0.041345</td>\n",
       "      <td>0.323875</td>\n",
       "      <td>0.589744</td>\n",
       "      <td>1.000000</td>\n",
       "      <td>0.544705</td>\n",
       "      <td>0.544705</td>\n",
       "      <td>0.277350</td>\n",
       "      <td>0.544705</td>\n",
       "      <td>0.372104</td>\n",
       "      <td>0.124035</td>\n",
       "      <td>0.181568</td>\n",
       "      <td>NaN</td>\n",
       "    </tr>\n",
       "    <tr>\n",
       "      <th>Connaissance_Boucle</th>\n",
       "      <td>-0.162650</td>\n",
       "      <td>0.050965</td>\n",
       "      <td>0.221917</td>\n",
       "      <td>0.544705</td>\n",
       "      <td>1.000000</td>\n",
       "      <td>0.492063</td>\n",
       "      <td>0.509175</td>\n",
       "      <td>0.238095</td>\n",
       "      <td>0.422890</td>\n",
       "      <td>0.227710</td>\n",
       "      <td>0.333333</td>\n",
       "      <td>NaN</td>\n",
       "    </tr>\n",
       "    <tr>\n",
       "      <th>Utilisation_Programmation</th>\n",
       "      <td>-0.162650</td>\n",
       "      <td>0.322777</td>\n",
       "      <td>0.544705</td>\n",
       "      <td>0.544705</td>\n",
       "      <td>0.492063</td>\n",
       "      <td>1.000000</td>\n",
       "      <td>0.509175</td>\n",
       "      <td>0.238095</td>\n",
       "      <td>0.162650</td>\n",
       "      <td>0.227710</td>\n",
       "      <td>0.333333</td>\n",
       "      <td>NaN</td>\n",
       "    </tr>\n",
       "    <tr>\n",
       "      <th>Reconnaissance_Python</th>\n",
       "      <td>-0.149071</td>\n",
       "      <td>0.233550</td>\n",
       "      <td>0.277350</td>\n",
       "      <td>0.277350</td>\n",
       "      <td>0.509175</td>\n",
       "      <td>0.509175</td>\n",
       "      <td>1.000000</td>\n",
       "      <td>0.509175</td>\n",
       "      <td>0.447214</td>\n",
       "      <td>0.447214</td>\n",
       "      <td>0.654654</td>\n",
       "      <td>NaN</td>\n",
       "    </tr>\n",
       "    <tr>\n",
       "      <th>Console_Python</th>\n",
       "      <td>-0.162650</td>\n",
       "      <td>0.322777</td>\n",
       "      <td>0.221917</td>\n",
       "      <td>0.544705</td>\n",
       "      <td>0.238095</td>\n",
       "      <td>0.238095</td>\n",
       "      <td>0.509175</td>\n",
       "      <td>1.000000</td>\n",
       "      <td>0.683130</td>\n",
       "      <td>0.227710</td>\n",
       "      <td>0.333333</td>\n",
       "      <td>NaN</td>\n",
       "    </tr>\n",
       "    <tr>\n",
       "      <th>Programmation_Python</th>\n",
       "      <td>-0.200000</td>\n",
       "      <td>0.034816</td>\n",
       "      <td>0.041345</td>\n",
       "      <td>0.372104</td>\n",
       "      <td>0.422890</td>\n",
       "      <td>0.162650</td>\n",
       "      <td>0.447214</td>\n",
       "      <td>0.683130</td>\n",
       "      <td>1.000000</td>\n",
       "      <td>0.333333</td>\n",
       "      <td>0.487950</td>\n",
       "      <td>NaN</td>\n",
       "    </tr>\n",
       "    <tr>\n",
       "      <th>Ecriture_Fonction</th>\n",
       "      <td>-0.333333</td>\n",
       "      <td>-0.174078</td>\n",
       "      <td>0.124035</td>\n",
       "      <td>0.124035</td>\n",
       "      <td>0.227710</td>\n",
       "      <td>0.227710</td>\n",
       "      <td>0.447214</td>\n",
       "      <td>0.227710</td>\n",
       "      <td>0.333333</td>\n",
       "      <td>1.000000</td>\n",
       "      <td>0.683130</td>\n",
       "      <td>NaN</td>\n",
       "    </tr>\n",
       "    <tr>\n",
       "      <th>Utilisation_Pandas</th>\n",
       "      <td>-0.487950</td>\n",
       "      <td>-0.254824</td>\n",
       "      <td>0.181568</td>\n",
       "      <td>0.181568</td>\n",
       "      <td>0.333333</td>\n",
       "      <td>0.333333</td>\n",
       "      <td>0.654654</td>\n",
       "      <td>0.333333</td>\n",
       "      <td>0.487950</td>\n",
       "      <td>0.683130</td>\n",
       "      <td>1.000000</td>\n",
       "      <td>NaN</td>\n",
       "    </tr>\n",
       "    <tr>\n",
       "      <th>Superposer_Graphiques</th>\n",
       "      <td>NaN</td>\n",
       "      <td>NaN</td>\n",
       "      <td>NaN</td>\n",
       "      <td>NaN</td>\n",
       "      <td>NaN</td>\n",
       "      <td>NaN</td>\n",
       "      <td>NaN</td>\n",
       "      <td>NaN</td>\n",
       "      <td>NaN</td>\n",
       "      <td>NaN</td>\n",
       "      <td>NaN</td>\n",
       "      <td>NaN</td>\n",
       "    </tr>\n",
       "  </tbody>\n",
       "</table>\n",
       "</div>"
      ],
      "text/plain": [
       "                           Role_Hardware_OS  Afficher_Code_Source  \\\n",
       "Role_Hardware_OS                   1.000000              0.522233   \n",
       "Afficher_Code_Source               0.522233              1.000000   \n",
       "Connaissance_CSV                   0.289414              0.323875   \n",
       "Bases_Programmation               -0.041345              0.323875   \n",
       "Connaissance_Boucle               -0.162650              0.050965   \n",
       "Utilisation_Programmation         -0.162650              0.322777   \n",
       "Reconnaissance_Python             -0.149071              0.233550   \n",
       "Console_Python                    -0.162650              0.322777   \n",
       "Programmation_Python              -0.200000              0.034816   \n",
       "Ecriture_Fonction                 -0.333333             -0.174078   \n",
       "Utilisation_Pandas                -0.487950             -0.254824   \n",
       "Superposer_Graphiques                   NaN                   NaN   \n",
       "\n",
       "                           Connaissance_CSV  Bases_Programmation  \\\n",
       "Role_Hardware_OS                   0.289414            -0.041345   \n",
       "Afficher_Code_Source               0.323875             0.323875   \n",
       "Connaissance_CSV                   1.000000             0.589744   \n",
       "Bases_Programmation                0.589744             1.000000   \n",
       "Connaissance_Boucle                0.221917             0.544705   \n",
       "Utilisation_Programmation          0.544705             0.544705   \n",
       "Reconnaissance_Python              0.277350             0.277350   \n",
       "Console_Python                     0.221917             0.544705   \n",
       "Programmation_Python               0.041345             0.372104   \n",
       "Ecriture_Fonction                  0.124035             0.124035   \n",
       "Utilisation_Pandas                 0.181568             0.181568   \n",
       "Superposer_Graphiques                   NaN                  NaN   \n",
       "\n",
       "                           Connaissance_Boucle  Utilisation_Programmation  \\\n",
       "Role_Hardware_OS                     -0.162650                  -0.162650   \n",
       "Afficher_Code_Source                  0.050965                   0.322777   \n",
       "Connaissance_CSV                      0.221917                   0.544705   \n",
       "Bases_Programmation                   0.544705                   0.544705   \n",
       "Connaissance_Boucle                   1.000000                   0.492063   \n",
       "Utilisation_Programmation             0.492063                   1.000000   \n",
       "Reconnaissance_Python                 0.509175                   0.509175   \n",
       "Console_Python                        0.238095                   0.238095   \n",
       "Programmation_Python                  0.422890                   0.162650   \n",
       "Ecriture_Fonction                     0.227710                   0.227710   \n",
       "Utilisation_Pandas                    0.333333                   0.333333   \n",
       "Superposer_Graphiques                      NaN                        NaN   \n",
       "\n",
       "                           Reconnaissance_Python  Console_Python  \\\n",
       "Role_Hardware_OS                       -0.149071       -0.162650   \n",
       "Afficher_Code_Source                    0.233550        0.322777   \n",
       "Connaissance_CSV                        0.277350        0.221917   \n",
       "Bases_Programmation                     0.277350        0.544705   \n",
       "Connaissance_Boucle                     0.509175        0.238095   \n",
       "Utilisation_Programmation               0.509175        0.238095   \n",
       "Reconnaissance_Python                   1.000000        0.509175   \n",
       "Console_Python                          0.509175        1.000000   \n",
       "Programmation_Python                    0.447214        0.683130   \n",
       "Ecriture_Fonction                       0.447214        0.227710   \n",
       "Utilisation_Pandas                      0.654654        0.333333   \n",
       "Superposer_Graphiques                        NaN             NaN   \n",
       "\n",
       "                           Programmation_Python  Ecriture_Fonction  \\\n",
       "Role_Hardware_OS                      -0.200000          -0.333333   \n",
       "Afficher_Code_Source                   0.034816          -0.174078   \n",
       "Connaissance_CSV                       0.041345           0.124035   \n",
       "Bases_Programmation                    0.372104           0.124035   \n",
       "Connaissance_Boucle                    0.422890           0.227710   \n",
       "Utilisation_Programmation              0.162650           0.227710   \n",
       "Reconnaissance_Python                  0.447214           0.447214   \n",
       "Console_Python                         0.683130           0.227710   \n",
       "Programmation_Python                   1.000000           0.333333   \n",
       "Ecriture_Fonction                      0.333333           1.000000   \n",
       "Utilisation_Pandas                     0.487950           0.683130   \n",
       "Superposer_Graphiques                       NaN                NaN   \n",
       "\n",
       "                           Utilisation_Pandas  Superposer_Graphiques  \n",
       "Role_Hardware_OS                    -0.487950                    NaN  \n",
       "Afficher_Code_Source                -0.254824                    NaN  \n",
       "Connaissance_CSV                     0.181568                    NaN  \n",
       "Bases_Programmation                  0.181568                    NaN  \n",
       "Connaissance_Boucle                  0.333333                    NaN  \n",
       "Utilisation_Programmation            0.333333                    NaN  \n",
       "Reconnaissance_Python                0.654654                    NaN  \n",
       "Console_Python                       0.333333                    NaN  \n",
       "Programmation_Python                 0.487950                    NaN  \n",
       "Ecriture_Fonction                    0.683130                    NaN  \n",
       "Utilisation_Pandas                   1.000000                    NaN  \n",
       "Superposer_Graphiques                     NaN                    NaN  "
      ]
     },
     "execution_count": 42,
     "metadata": {},
     "output_type": "execute_result"
    }
   ],
   "source": [
    "df.corr()"
   ]
  },
  {
   "cell_type": "markdown",
   "id": "1a0e2245",
   "metadata": {},
   "source": [
    "## 3.2 Calculer la corrélation linéaire entre les indicateurs des groupes de questions\n",
    "\n",
    "Il va donc nous falloir un df avec les scores\n"
   ]
  },
  {
   "cell_type": "code",
   "execution_count": 43,
   "id": "8adf6a97",
   "metadata": {},
   "outputs": [],
   "source": [
    "# Reminder : \n",
    "\n",
    "# score_info = (df[\"Role_Hardware_OS\"] + df[\"Afficher_Code_Source\"] + df[\"Connaissance_CSV\"]) / 3\n",
    "# score_algo = (df[\"Bases_Programmation\"] + df[\"Connaissance_Boucle\"] + df[\"Utilisation_Programmation\"]) / 3\n",
    "# score_base_python = (df[\"Reconnaissance_Python\"] + df[\"Console_Python\"] + df[\"Programmation_Python\"]) / 3\n",
    "# score_avancé_python = (df[\"Ecriture_Fonction\"] + df[\"Utilisation_Pandas\"] + df[\"Superposer_Graphiques\"]) / 3"
   ]
  },
  {
   "cell_type": "code",
   "execution_count": 44,
   "id": "f37cb760",
   "metadata": {},
   "outputs": [
    {
     "data": {
      "text/html": [
       "<div>\n",
       "<style scoped>\n",
       "    .dataframe tbody tr th:only-of-type {\n",
       "        vertical-align: middle;\n",
       "    }\n",
       "\n",
       "    .dataframe tbody tr th {\n",
       "        vertical-align: top;\n",
       "    }\n",
       "\n",
       "    .dataframe thead th {\n",
       "        text-align: right;\n",
       "    }\n",
       "</style>\n",
       "<table border=\"1\" class=\"dataframe\">\n",
       "  <thead>\n",
       "    <tr style=\"text-align: right;\">\n",
       "      <th></th>\n",
       "      <th>score_info</th>\n",
       "      <th>score_algo</th>\n",
       "      <th>score_base_python</th>\n",
       "      <th>score_avancé_python</th>\n",
       "      <th>score_tout</th>\n",
       "    </tr>\n",
       "  </thead>\n",
       "  <tbody>\n",
       "    <tr>\n",
       "      <th>0</th>\n",
       "      <td>1.000000</td>\n",
       "      <td>1.000000</td>\n",
       "      <td>1.000000</td>\n",
       "      <td>0.0</td>\n",
       "      <td>0.750000</td>\n",
       "    </tr>\n",
       "    <tr>\n",
       "      <th>1</th>\n",
       "      <td>0.000000</td>\n",
       "      <td>0.666667</td>\n",
       "      <td>0.666667</td>\n",
       "      <td>0.0</td>\n",
       "      <td>0.333333</td>\n",
       "    </tr>\n",
       "    <tr>\n",
       "      <th>2</th>\n",
       "      <td>0.333333</td>\n",
       "      <td>1.000000</td>\n",
       "      <td>0.000000</td>\n",
       "      <td>0.0</td>\n",
       "      <td>0.333333</td>\n",
       "    </tr>\n",
       "    <tr>\n",
       "      <th>3</th>\n",
       "      <td>0.333333</td>\n",
       "      <td>0.666667</td>\n",
       "      <td>0.333333</td>\n",
       "      <td>0.0</td>\n",
       "      <td>0.333333</td>\n",
       "    </tr>\n",
       "    <tr>\n",
       "      <th>4</th>\n",
       "      <td>0.666667</td>\n",
       "      <td>1.000000</td>\n",
       "      <td>0.000000</td>\n",
       "      <td>0.0</td>\n",
       "      <td>0.416667</td>\n",
       "    </tr>\n",
       "  </tbody>\n",
       "</table>\n",
       "</div>"
      ],
      "text/plain": [
       "   score_info  score_algo  score_base_python  score_avancé_python  score_tout\n",
       "0    1.000000    1.000000           1.000000                  0.0    0.750000\n",
       "1    0.000000    0.666667           0.666667                  0.0    0.333333\n",
       "2    0.333333    1.000000           0.000000                  0.0    0.333333\n",
       "3    0.333333    0.666667           0.333333                  0.0    0.333333\n",
       "4    0.666667    1.000000           0.000000                  0.0    0.416667"
      ]
     },
     "execution_count": 44,
     "metadata": {},
     "output_type": "execute_result"
    }
   ],
   "source": [
    "# créer un nouveau df avec les scores\n",
    "df_scores = pd.DataFrame({\n",
    "    \"score_info\": score_info,\n",
    "    \"score_algo\": score_algo,\n",
    "    \"score_base_python\": score_base_python,\n",
    "    \"score_avancé_python\": score_avancé_python,\n",
    "    \"score_tout\": score_tout\n",
    "})\n",
    "\n",
    "df_scores.head()"
   ]
  },
  {
   "cell_type": "code",
   "execution_count": 45,
   "id": "9766394b",
   "metadata": {},
   "outputs": [
    {
     "data": {
      "text/html": [
       "<div>\n",
       "<style scoped>\n",
       "    .dataframe tbody tr th:only-of-type {\n",
       "        vertical-align: middle;\n",
       "    }\n",
       "\n",
       "    .dataframe tbody tr th {\n",
       "        vertical-align: top;\n",
       "    }\n",
       "\n",
       "    .dataframe thead th {\n",
       "        text-align: right;\n",
       "    }\n",
       "</style>\n",
       "<table border=\"1\" class=\"dataframe\">\n",
       "  <thead>\n",
       "    <tr style=\"text-align: right;\">\n",
       "      <th></th>\n",
       "      <th>score_info</th>\n",
       "      <th>score_algo</th>\n",
       "      <th>score_base_python</th>\n",
       "      <th>score_avancé_python</th>\n",
       "      <th>score_tout</th>\n",
       "    </tr>\n",
       "  </thead>\n",
       "  <tbody>\n",
       "    <tr>\n",
       "      <th>score_info</th>\n",
       "      <td>1.000000</td>\n",
       "      <td>0.251772</td>\n",
       "      <td>0.089604</td>\n",
       "      <td>-0.259053</td>\n",
       "      <td>0.484971</td>\n",
       "    </tr>\n",
       "    <tr>\n",
       "      <th>score_algo</th>\n",
       "      <td>0.251772</td>\n",
       "      <td>1.000000</td>\n",
       "      <td>0.516159</td>\n",
       "      <td>0.330688</td>\n",
       "      <td>0.823866</td>\n",
       "    </tr>\n",
       "    <tr>\n",
       "      <th>score_base_python</th>\n",
       "      <td>0.089604</td>\n",
       "      <td>0.516159</td>\n",
       "      <td>1.000000</td>\n",
       "      <td>0.544933</td>\n",
       "      <td>0.810750</td>\n",
       "    </tr>\n",
       "    <tr>\n",
       "      <th>score_avancé_python</th>\n",
       "      <td>-0.259053</td>\n",
       "      <td>0.330688</td>\n",
       "      <td>0.544933</td>\n",
       "      <td>1.000000</td>\n",
       "      <td>0.482990</td>\n",
       "    </tr>\n",
       "    <tr>\n",
       "      <th>score_tout</th>\n",
       "      <td>0.484971</td>\n",
       "      <td>0.823866</td>\n",
       "      <td>0.810750</td>\n",
       "      <td>0.482990</td>\n",
       "      <td>1.000000</td>\n",
       "    </tr>\n",
       "  </tbody>\n",
       "</table>\n",
       "</div>"
      ],
      "text/plain": [
       "                     score_info  score_algo  score_base_python  \\\n",
       "score_info             1.000000    0.251772           0.089604   \n",
       "score_algo             0.251772    1.000000           0.516159   \n",
       "score_base_python      0.089604    0.516159           1.000000   \n",
       "score_avancé_python   -0.259053    0.330688           0.544933   \n",
       "score_tout             0.484971    0.823866           0.810750   \n",
       "\n",
       "                     score_avancé_python  score_tout  \n",
       "score_info                     -0.259053    0.484971  \n",
       "score_algo                      0.330688    0.823866  \n",
       "score_base_python               0.544933    0.810750  \n",
       "score_avancé_python             1.000000    0.482990  \n",
       "score_tout                      0.482990    1.000000  "
      ]
     },
     "execution_count": 45,
     "metadata": {},
     "output_type": "execute_result"
    }
   ],
   "source": [
    "# et on peut donc calculer la corrélation entre les scores des groupes\n",
    "df_scores.corr()"
   ]
  },
  {
   "cell_type": "markdown",
   "id": "83cb51f3",
   "metadata": {},
   "source": [
    "## 3.3 Proposer une représentation de cette corrélation (essayer `.plot`)"
   ]
  },
  {
   "cell_type": "markdown",
   "id": "8153a613",
   "metadata": {},
   "source": [
    "**on pourrait représenter le lien entre chaque variable :**"
   ]
  },
  {
   "cell_type": "code",
   "execution_count": 46,
   "id": "b289c4cb",
   "metadata": {},
   "outputs": [
    {
     "data": {
      "text/plain": [
       "<Axes: xlabel='score_info', ylabel='score_algo'>"
      ]
     },
     "execution_count": 46,
     "metadata": {},
     "output_type": "execute_result"
    },
    {
     "data": {
      "image/png": "[encoded data removed]",
      "text/plain": [
       "<Figure size 640x480 with 1 Axes>"
      ]
     },
     "metadata": {},
     "output_type": "display_data"
    }
   ],
   "source": [
    "df_scores.plot(kind=\"scatter\", x=\"score_info\", y=\"score_algo\")"
   ]
  },
  {
   "cell_type": "markdown",
   "id": "5d20232a",
   "metadata": {},
   "source": [
    "**Mais autant représenter les corrélations :**"
   ]
  },
  {
   "cell_type": "code",
   "execution_count": 47,
   "id": "eccb2cb6",
   "metadata": {},
   "outputs": [
    {
     "data": {
      "image/png": "[encoded data removed]",
      "text/plain": [
       "<Figure size 1200x1200 with 25 Axes>"
      ]
     },
     "metadata": {},
     "output_type": "display_data"
    }
   ],
   "source": [
    "pd.plotting.scatter_matrix(df_scores, figsize=(12, 12))\n",
    "plt.show()"
   ]
  },
  {
   "cell_type": "code",
   "execution_count": 48,
   "id": "e345b6e3",
   "metadata": {},
   "outputs": [
    {
     "data": {
      "text/plain": [
       "<matplotlib.image.AxesImage at 0x13aa35c90>"
      ]
     },
     "execution_count": 48,
     "metadata": {},
     "output_type": "execute_result"
    },
    {
     "data": {
      "image/png": "[encoded data removed]",
      "text/plain": [
       "<Figure size 480x480 with 1 Axes>"
      ]
     },
     "metadata": {},
     "output_type": "display_data"
    }
   ],
   "source": [
    "# df.corr() =  matrice de corrélation -> plt.matshow() ou imshow()\n",
    "plt.matshow(df_scores.corr())\n",
    "\n",
    "#plt.imshow(df_scores.corr())"
   ]
  },
  {
   "cell_type": "code",
   "execution_count": 49,
   "id": "705cbfc8",
   "metadata": {},
   "outputs": [
    {
     "data": {
      "text/plain": [
       "<Axes: >"
      ]
     },
     "execution_count": 49,
     "metadata": {},
     "output_type": "execute_result"
    },
    {
     "data": {
      "image/png": "[encoded data removed]",
      "text/plain": [
       "<Figure size 640x480 with 2 Axes>"
      ]
     },
     "metadata": {},
     "output_type": "display_data"
    }
   ],
   "source": [
    "# on peut aussi utiliser seaborn\n",
    "import seaborn as sns\n",
    "# représenter la heatmap\n",
    "sns.heatmap(df_scores.corr())\n",
    "\n",
    "# version plus fancy si jamais :\n",
    "#sns.heatmap(df_scores.corr(), annot=True, cmap='coolwarm')"
   ]
  },
  {
   "cell_type": "code",
   "execution_count": 50,
   "id": "56f80c41",
   "metadata": {},
   "outputs": [
    {
     "data": {
      "application/vnd.plotly.v1+json": {
       "config": {
        "plotlyServerURL": "https://plot.ly"
       },
       "data": [
        {
         "coloraxis": "coloraxis",
         "hovertemplate": "x: %{x}<br>y: %{y}<br>color: %{z}<extra></extra>",
         "name": "0",
         "type": "heatmap",
         "x": [
          "score_info",
          "score_algo",
          "score_base_python",
          "score_avancé_python",
          "score_tout"
         ],
         "xaxis": "x",
         "y": [
          "score_info",
          "score_algo",
          "score_base_python",
          "score_avancé_python",
          "score_tout"
         ],
         "yaxis": "y",
         "z": [
          [
           1,
           0.25177159820880907,
           0.08960378494381575,
           -0.2590531481265317,
           0.48497057458988274
          ],
          [
           0.25177159820880907,
           1,
           0.5161588797943301,
           0.33068812387857643,
           0.8238659418088619
          ],
          [
           0.08960378494381575,
           0.5161588797943301,
           1,
           0.5449326804218028,
           0.8107498569276794
          ],
          [
           -0.2590531481265317,
           0.33068812387857643,
           0.5449326804218028,
           1,
           0.4829896813033307
          ],
          [
           0.48497057458988274,
           0.8238659418088619,
           0.8107498569276794,
           0.4829896813033307,
           1
          ]
         ]
        }
       ],
       "layout": {
        "coloraxis": {
         "colorscale": [
          [
           0,
           "#0d0887"
          ],
          [
           0.1111111111111111,
           "#46039f"
          ],
          [
           0.2222222222222222,
           "#7201a8"
          ],
          [
           0.3333333333333333,
           "#9c179e"
          ],
          [
           0.4444444444444444,
           "#bd3786"
          ],
          [
           0.5555555555555556,
           "#d8576b"
          ],
          [
           0.6666666666666666,
           "#ed7953"
          ],
          [
           0.7777777777777778,
           "#fb9f3a"
          ],
          [
           0.8888888888888888,
           "#fdca26"
          ],
          [
           1,
           "#f0f921"
          ]
         ]
        },
        "margin": {
         "t": 60
        },
        "template": {
         "data": {
          "bar": [
           {
            "error_x": {
             "color": "#2a3f5f"
            },
            "error_y": {
             "color": "#2a3f5f"
            },
            "marker": {
             "line": {
              "color": "#E5ECF6",
              "width": 0.5
             },
             "pattern": {
              "fillmode": "overlay",
              "size": 10,
              "solidity": 0.2
             }
            },
            "type": "bar"
           }
          ],
          "barpolar": [
           {
            "marker": {
             "line": {
              "color": "#E5ECF6",
              "width": 0.5
             },
             "pattern": {
              "fillmode": "overlay",
              "size": 10,
              "solidity": 0.2
             }
            },
            "type": "barpolar"
           }
          ],
          "carpet": [
           {
            "aaxis": {
             "endlinecolor": "#2a3f5f",
             "gridcolor": "white",
             "linecolor": "white",
             "minorgridcolor": "white",
             "startlinecolor": "#2a3f5f"
            },
            "baxis": {
             "endlinecolor": "#2a3f5f",
             "gridcolor": "white",
             "linecolor": "white",
             "minorgridcolor": "white",
             "startlinecolor": "#2a3f5f"
            },
            "type": "carpet"
           }
          ],
          "choropleth": [
           {
            "colorbar": {
             "outlinewidth": 0,
             "ticks": ""
            },
            "type": "choropleth"
           }
          ],
          "contour": [
           {
            "colorbar": {
             "outlinewidth": 0,
             "ticks": ""
            },
            "colorscale": [
             [
              0,
              "#0d0887"
             ],
             [
              0.1111111111111111,
              "#46039f"
             ],
             [
              0.2222222222222222,
              "#7201a8"
             ],
             [
              0.3333333333333333,
              "#9c179e"
             ],
             [
              0.4444444444444444,
              "#bd3786"
             ],
             [
              0.5555555555555556,
              "#d8576b"
             ],
             [
              0.6666666666666666,
              "#ed7953"
             ],
             [
              0.7777777777777778,
              "#fb9f3a"
             ],
             [
              0.8888888888888888,
              "#fdca26"
             ],
             [
              1,
              "#f0f921"
             ]
            ],
            "type": "contour"
           }
          ],
          "contourcarpet": [
           {
            "colorbar": {
             "outlinewidth": 0,
             "ticks": ""
            },
            "type": "contourcarpet"
           }
          ],
          "heatmap": [
           {
            "colorbar": {
             "outlinewidth": 0,
             "ticks": ""
            },
            "colorscale": [
             [
              0,
              "#0d0887"
             ],
             [
              0.1111111111111111,
              "#46039f"
             ],
             [
              0.2222222222222222,
              "#7201a8"
             ],
             [
              0.3333333333333333,
              "#9c179e"
             ],
             [
              0.4444444444444444,
              "#bd3786"
             ],
             [
              0.5555555555555556,
              "#d8576b"
             ],
             [
              0.6666666666666666,
              "#ed7953"
             ],
             [
              0.7777777777777778,
              "#fb9f3a"
             ],
             [
              0.8888888888888888,
              "#fdca26"
             ],
             [
              1,
              "#f0f921"
             ]
            ],
            "type": "heatmap"
           }
          ],
          "heatmapgl": [
           {
            "colorbar": {
             "outlinewidth": 0,
             "ticks": ""
            },
            "colorscale": [
             [
              0,
              "#0d0887"
             ],
             [
              0.1111111111111111,
              "#46039f"
             ],
             [
              0.2222222222222222,
              "#7201a8"
             ],
             [
              0.3333333333333333,
              "#9c179e"
             ],
             [
              0.4444444444444444,
              "#bd3786"
             ],
             [
              0.5555555555555556,
              "#d8576b"
             ],
             [
              0.6666666666666666,
              "#ed7953"
             ],
             [
              0.7777777777777778,
              "#fb9f3a"
             ],
             [
              0.8888888888888888,
              "#fdca26"
             ],
             [
              1,
              "#f0f921"
             ]
            ],
            "type": "heatmapgl"
           }
          ],
          "histogram": [
           {
            "marker": {
             "pattern": {
              "fillmode": "overlay",
              "size": 10,
              "solidity": 0.2
             }
            },
            "type": "histogram"
           }
          ],
          "histogram2d": [
           {
            "colorbar": {
             "outlinewidth": 0,
             "ticks": ""
            },
            "colorscale": [
             [
              0,
              "#0d0887"
             ],
             [
              0.1111111111111111,
              "#46039f"
             ],
             [
              0.2222222222222222,
              "#7201a8"
             ],
             [
              0.3333333333333333,
              "#9c179e"
             ],
             [
              0.4444444444444444,
              "#bd3786"
             ],
             [
              0.5555555555555556,
              "#d8576b"
             ],
             [
              0.6666666666666666,
              "#ed7953"
             ],
             [
              0.7777777777777778,
              "#fb9f3a"
             ],
             [
              0.8888888888888888,
              "#fdca26"
             ],
             [
              1,
              "#f0f921"
             ]
            ],
            "type": "histogram2d"
           }
          ],
          "histogram2dcontour": [
           {
            "colorbar": {
             "outlinewidth": 0,
             "ticks": ""
            },
            "colorscale": [
             [
              0,
              "#0d0887"
             ],
             [
              0.1111111111111111,
              "#46039f"
             ],
             [
              0.2222222222222222,
              "#7201a8"
             ],
             [
              0.3333333333333333,
              "#9c179e"
             ],
             [
              0.4444444444444444,
              "#bd3786"
             ],
             [
              0.5555555555555556,
              "#d8576b"
             ],
             [
              0.6666666666666666,
              "#ed7953"
             ],
             [
              0.7777777777777778,
              "#fb9f3a"
             ],
             [
              0.8888888888888888,
              "#fdca26"
             ],
             [
              1,
              "#f0f921"
             ]
            ],
            "type": "histogram2dcontour"
           }
          ],
          "mesh3d": [
           {
            "colorbar": {
             "outlinewidth": 0,
             "ticks": ""
            },
            "type": "mesh3d"
           }
          ],
          "parcoords": [
           {
            "line": {
             "colorbar": {
              "outlinewidth": 0,
              "ticks": ""
             }
            },
            "type": "parcoords"
           }
          ],
          "pie": [
           {
            "automargin": true,
            "type": "pie"
           }
          ],
          "scatter": [
           {
            "fillpattern": {
             "fillmode": "overlay",
             "size": 10,
             "solidity": 0.2
            },
            "type": "scatter"
           }
          ],
          "scatter3d": [
           {
            "line": {
             "colorbar": {
              "outlinewidth": 0,
              "ticks": ""
             }
            },
            "marker": {
             "colorbar": {
              "outlinewidth": 0,
              "ticks": ""
             }
            },
            "type": "scatter3d"
           }
          ],
          "scattercarpet": [
           {
            "marker": {
             "colorbar": {
              "outlinewidth": 0,
              "ticks": ""
             }
            },
            "type": "scattercarpet"
           }
          ],
          "scattergeo": [
           {
            "marker": {
             "colorbar": {
              "outlinewidth": 0,
              "ticks": ""
             }
            },
            "type": "scattergeo"
           }
          ],
          "scattergl": [
           {
            "marker": {
             "colorbar": {
              "outlinewidth": 0,
              "ticks": ""
             }
            },
            "type": "scattergl"
           }
          ],
          "scattermapbox": [
           {
            "marker": {
             "colorbar": {
              "outlinewidth": 0,
              "ticks": ""
             }
            },
            "type": "scattermapbox"
           }
          ],
          "scatterpolar": [
           {
            "marker": {
             "colorbar": {
              "outlinewidth": 0,
              "ticks": ""
             }
            },
            "type": "scatterpolar"
           }
          ],
          "scatterpolargl": [
           {
            "marker": {
             "colorbar": {
              "outlinewidth": 0,
              "ticks": ""
             }
            },
            "type": "scatterpolargl"
           }
          ],
          "scatterternary": [
           {
            "marker": {
             "colorbar": {
              "outlinewidth": 0,
              "ticks": ""
             }
            },
            "type": "scatterternary"
           }
          ],
          "surface": [
           {
            "colorbar": {
             "outlinewidth": 0,
             "ticks": ""
            },
            "colorscale": [
             [
              0,
              "#0d0887"
             ],
             [
              0.1111111111111111,
              "#46039f"
             ],
             [
              0.2222222222222222,
              "#7201a8"
             ],
             [
              0.3333333333333333,
              "#9c179e"
             ],
             [
              0.4444444444444444,
              "#bd3786"
             ],
             [
              0.5555555555555556,
              "#d8576b"
             ],
             [
              0.6666666666666666,
              "#ed7953"
             ],
             [
              0.7777777777777778,
              "#fb9f3a"
             ],
             [
              0.8888888888888888,
              "#fdca26"
             ],
             [
              1,
              "#f0f921"
             ]
            ],
            "type": "surface"
           }
          ],
          "table": [
           {
            "cells": {
             "fill": {
              "color": "#EBF0F8"
             },
             "line": {
              "color": "white"
             }
            },
            "header": {
             "fill": {
              "color": "#C8D4E3"
             },
             "line": {
              "color": "white"
             }
            },
            "type": "table"
           }
          ]
         },
         "layout": {
          "annotationdefaults": {
           "arrowcolor": "#2a3f5f",
           "arrowhead": 0,
           "arrowwidth": 1
          },
          "autotypenumbers": "strict",
          "coloraxis": {
           "colorbar": {
            "outlinewidth": 0,
            "ticks": ""
           }
          },
          "colorscale": {
           "diverging": [
            [
             0,
             "#8e0152"
            ],
            [
             0.1,
             "#c51b7d"
            ],
            [
             0.2,
             "#de77ae"
            ],
            [
             0.3,
             "#f1b6da"
            ],
            [
             0.4,
             "#fde0ef"
            ],
            [
             0.5,
             "#f7f7f7"
            ],
            [
             0.6,
             "#e6f5d0"
            ],
            [
             0.7,
             "#b8e186"
            ],
            [
             0.8,
             "#7fbc41"
            ],
            [
             0.9,
             "#4d9221"
            ],
            [
             1,
             "#276419"
            ]
           ],
           "sequential": [
            [
             0,
             "#0d0887"
            ],
            [
             0.1111111111111111,
             "#46039f"
            ],
            [
             0.2222222222222222,
             "#7201a8"
            ],
            [
             0.3333333333333333,
             "#9c179e"
            ],
            [
             0.4444444444444444,
             "#bd3786"
            ],
            [
             0.5555555555555556,
             "#d8576b"
            ],
            [
             0.6666666666666666,
             "#ed7953"
            ],
            [
             0.7777777777777778,
             "#fb9f3a"
            ],
            [
             0.8888888888888888,
             "#fdca26"
            ],
            [
             1,
             "#f0f921"
            ]
           ],
           "sequentialminus": [
            [
             0,
             "#0d0887"
            ],
            [
             0.1111111111111111,
             "#46039f"
            ],
            [
             0.2222222222222222,
             "#7201a8"
            ],
            [
             0.3333333333333333,
             "#9c179e"
            ],
            [
             0.4444444444444444,
             "#bd3786"
            ],
            [
             0.5555555555555556,
             "#d8576b"
            ],
            [
             0.6666666666666666,
             "#ed7953"
            ],
            [
             0.7777777777777778,
             "#fb9f3a"
            ],
            [
             0.8888888888888888,
             "#fdca26"
            ],
            [
             1,
             "#f0f921"
            ]
           ]
          },
          "colorway": [
           "#636efa",
           "#EF553B",
           "#00cc96",
           "#ab63fa",
           "#FFA15A",
           "#19d3f3",
           "#FF6692",
           "#B6E880",
           "#FF97FF",
           "#FECB52"
          ],
          "font": {
           "color": "#2a3f5f"
          },
          "geo": {
           "bgcolor": "white",
           "lakecolor": "white",
           "landcolor": "#E5ECF6",
           "showlakes": true,
           "showland": true,
           "subunitcolor": "white"
          },
          "hoverlabel": {
           "align": "left"
          },
          "hovermode": "closest",
          "mapbox": {
           "style": "light"
          },
          "paper_bgcolor": "white",
          "plot_bgcolor": "#E5ECF6",
          "polar": {
           "angularaxis": {
            "gridcolor": "white",
            "linecolor": "white",
            "ticks": ""
           },
           "bgcolor": "#E5ECF6",
           "radialaxis": {
            "gridcolor": "white",
            "linecolor": "white",
            "ticks": ""
           }
          },
          "scene": {
           "xaxis": {
            "backgroundcolor": "#E5ECF6",
            "gridcolor": "white",
            "gridwidth": 2,
            "linecolor": "white",
            "showbackground": true,
            "ticks": "",
            "zerolinecolor": "white"
           },
           "yaxis": {
            "backgroundcolor": "#E5ECF6",
            "gridcolor": "white",
            "gridwidth": 2,
            "linecolor": "white",
            "showbackground": true,
            "ticks": "",
            "zerolinecolor": "white"
           },
           "zaxis": {
            "backgroundcolor": "#E5ECF6",
            "gridcolor": "white",
            "gridwidth": 2,
            "linecolor": "white",
            "showbackground": true,
            "ticks": "",
            "zerolinecolor": "white"
           }
          },
          "shapedefaults": {
           "line": {
            "color": "#2a3f5f"
           }
          },
          "ternary": {
           "aaxis": {
            "gridcolor": "white",
            "linecolor": "white",
            "ticks": ""
           },
           "baxis": {
            "gridcolor": "white",
            "linecolor": "white",
            "ticks": ""
           },
           "bgcolor": "#E5ECF6",
           "caxis": {
            "gridcolor": "white",
            "linecolor": "white",
            "ticks": ""
           }
          },
          "title": {
           "x": 0.05
          },
          "xaxis": {
           "automargin": true,
           "gridcolor": "white",
           "linecolor": "white",
           "ticks": "",
           "title": {
            "standoff": 15
           },
           "zerolinecolor": "white",
           "zerolinewidth": 2
          },
          "yaxis": {
           "automargin": true,
           "gridcolor": "white",
           "linecolor": "white",
           "ticks": "",
           "title": {
            "standoff": 15
           },
           "zerolinecolor": "white",
           "zerolinewidth": 2
          }
         }
        },
        "xaxis": {
         "anchor": "y",
         "constrain": "domain",
         "domain": [
          0,
          1
         ],
         "scaleanchor": "y"
        },
        "yaxis": {
         "anchor": "x",
         "autorange": "reversed",
         "constrain": "domain",
         "domain": [
          0,
          1
         ]
        }
       }
      }
     },
     "metadata": {},
     "output_type": "display_data"
    }
   ],
   "source": [
    "# ou encore plotly\n",
    "import plotly.express as px\n",
    "# on peut représenter une heatmap avec imshow\n",
    "px.imshow(df_scores.corr())"
   ]
  },
  {
   "cell_type": "code",
   "execution_count": 51,
   "id": "1febb8df",
   "metadata": {},
   "outputs": [
    {
     "data": {
      "application/vnd.plotly.v1+json": {
       "config": {
        "plotlyServerURL": "https://plot.ly"
       },
       "data": [
        {
         "coloraxis": "coloraxis",
         "hovertemplate": "x: %{x}<br>y: %{y}<br>Corrélation: %{z}<extra></extra>",
         "name": "0",
         "texttemplate": "%{z}",
         "type": "heatmap",
         "x": [
          "score_info",
          "score_algo",
          "score_base_python",
          "score_avancé_python",
          "score_tout"
         ],
         "xaxis": "x",
         "y": [
          "score_info",
          "score_algo",
          "score_base_python",
          "score_avancé_python",
          "score_tout"
         ],
         "yaxis": "y",
         "z": [
          [
           1,
           0.25,
           0.09,
           -0.26,
           0.48
          ],
          [
           0.25,
           1,
           0.52,
           0.33,
           0.82
          ],
          [
           0.09,
           0.52,
           1,
           0.54,
           0.81
          ],
          [
           -0.26,
           0.33,
           0.54,
           1,
           0.48
          ],
          [
           0.48,
           0.82,
           0.81,
           0.48,
           1
          ]
         ]
        }
       ],
       "layout": {
        "coloraxis": {
         "colorbar": {
          "title": {
           "text": "Corrélation"
          }
         },
         "colorscale": [
          [
           0,
           "rgb(5,48,97)"
          ],
          [
           0.1,
           "rgb(33,102,172)"
          ],
          [
           0.2,
           "rgb(67,147,195)"
          ],
          [
           0.3,
           "rgb(146,197,222)"
          ],
          [
           0.4,
           "rgb(209,229,240)"
          ],
          [
           0.5,
           "rgb(247,247,247)"
          ],
          [
           0.6,
           "rgb(253,219,199)"
          ],
          [
           0.7,
           "rgb(244,165,130)"
          ],
          [
           0.8,
           "rgb(214,96,77)"
          ],
          [
           0.9,
           "rgb(178,24,43)"
          ],
          [
           1,
           "rgb(103,0,31)"
          ]
         ]
        },
        "template": {
         "data": {
          "bar": [
           {
            "error_x": {
             "color": "#2a3f5f"
            },
            "error_y": {
             "color": "#2a3f5f"
            },
            "marker": {
             "line": {
              "color": "#E5ECF6",
              "width": 0.5
             },
             "pattern": {
              "fillmode": "overlay",
              "size": 10,
              "solidity": 0.2
             }
            },
            "type": "bar"
           }
          ],
          "barpolar": [
           {
            "marker": {
             "line": {
              "color": "#E5ECF6",
              "width": 0.5
             },
             "pattern": {
              "fillmode": "overlay",
              "size": 10,
              "solidity": 0.2
             }
            },
            "type": "barpolar"
           }
          ],
          "carpet": [
           {
            "aaxis": {
             "endlinecolor": "#2a3f5f",
             "gridcolor": "white",
             "linecolor": "white",
             "minorgridcolor": "white",
             "startlinecolor": "#2a3f5f"
            },
            "baxis": {
             "endlinecolor": "#2a3f5f",
             "gridcolor": "white",
             "linecolor": "white",
             "minorgridcolor": "white",
             "startlinecolor": "#2a3f5f"
            },
            "type": "carpet"
           }
          ],
          "choropleth": [
           {
            "colorbar": {
             "outlinewidth": 0,
             "ticks": ""
            },
            "type": "choropleth"
           }
          ],
          "contour": [
           {
            "colorbar": {
             "outlinewidth": 0,
             "ticks": ""
            },
            "colorscale": [
             [
              0,
              "#0d0887"
             ],
             [
              0.1111111111111111,
              "#46039f"
             ],
             [
              0.2222222222222222,
              "#7201a8"
             ],
             [
              0.3333333333333333,
              "#9c179e"
             ],
             [
              0.4444444444444444,
              "#bd3786"
             ],
             [
              0.5555555555555556,
              "#d8576b"
             ],
             [
              0.6666666666666666,
              "#ed7953"
             ],
             [
              0.7777777777777778,
              "#fb9f3a"
             ],
             [
              0.8888888888888888,
              "#fdca26"
             ],
             [
              1,
              "#f0f921"
             ]
            ],
            "type": "contour"
           }
          ],
          "contourcarpet": [
           {
            "colorbar": {
             "outlinewidth": 0,
             "ticks": ""
            },
            "type": "contourcarpet"
           }
          ],
          "heatmap": [
           {
            "colorbar": {
             "outlinewidth": 0,
             "ticks": ""
            },
            "colorscale": [
             [
              0,
              "#0d0887"
             ],
             [
              0.1111111111111111,
              "#46039f"
             ],
             [
              0.2222222222222222,
              "#7201a8"
             ],
             [
              0.3333333333333333,
              "#9c179e"
             ],
             [
              0.4444444444444444,
              "#bd3786"
             ],
             [
              0.5555555555555556,
              "#d8576b"
             ],
             [
              0.6666666666666666,
              "#ed7953"
             ],
             [
              0.7777777777777778,
              "#fb9f3a"
             ],
             [
              0.8888888888888888,
              "#fdca26"
             ],
             [
              1,
              "#f0f921"
             ]
            ],
            "type": "heatmap"
           }
          ],
          "heatmapgl": [
           {
            "colorbar": {
             "outlinewidth": 0,
             "ticks": ""
            },
            "colorscale": [
             [
              0,
              "#0d0887"
             ],
             [
              0.1111111111111111,
              "#46039f"
             ],
             [
              0.2222222222222222,
              "#7201a8"
             ],
             [
              0.3333333333333333,
              "#9c179e"
             ],
             [
              0.4444444444444444,
              "#bd3786"
             ],
             [
              0.5555555555555556,
              "#d8576b"
             ],
             [
              0.6666666666666666,
              "#ed7953"
             ],
             [
              0.7777777777777778,
              "#fb9f3a"
             ],
             [
              0.8888888888888888,
              "#fdca26"
             ],
             [
              1,
              "#f0f921"
             ]
            ],
            "type": "heatmapgl"
           }
          ],
          "histogram": [
           {
            "marker": {
             "pattern": {
              "fillmode": "overlay",
              "size": 10,
              "solidity": 0.2
             }
            },
            "type": "histogram"
           }
          ],
          "histogram2d": [
           {
            "colorbar": {
             "outlinewidth": 0,
             "ticks": ""
            },
            "colorscale": [
             [
              0,
              "#0d0887"
             ],
             [
              0.1111111111111111,
              "#46039f"
             ],
             [
              0.2222222222222222,
              "#7201a8"
             ],
             [
              0.3333333333333333,
              "#9c179e"
             ],
             [
              0.4444444444444444,
              "#bd3786"
             ],
             [
              0.5555555555555556,
              "#d8576b"
             ],
             [
              0.6666666666666666,
              "#ed7953"
             ],
             [
              0.7777777777777778,
              "#fb9f3a"
             ],
             [
              0.8888888888888888,
              "#fdca26"
             ],
             [
              1,
              "#f0f921"
             ]
            ],
            "type": "histogram2d"
           }
          ],
          "histogram2dcontour": [
           {
            "colorbar": {
             "outlinewidth": 0,
             "ticks": ""
            },
            "colorscale": [
             [
              0,
              "#0d0887"
             ],
             [
              0.1111111111111111,
              "#46039f"
             ],
             [
              0.2222222222222222,
              "#7201a8"
             ],
             [
              0.3333333333333333,
              "#9c179e"
             ],
             [
              0.4444444444444444,
              "#bd3786"
             ],
             [
              0.5555555555555556,
              "#d8576b"
             ],
             [
              0.6666666666666666,
              "#ed7953"
             ],
             [
              0.7777777777777778,
              "#fb9f3a"
             ],
             [
              0.8888888888888888,
              "#fdca26"
             ],
             [
              1,
              "#f0f921"
             ]
            ],
            "type": "histogram2dcontour"
           }
          ],
          "mesh3d": [
           {
            "colorbar": {
             "outlinewidth": 0,
             "ticks": ""
            },
            "type": "mesh3d"
           }
          ],
          "parcoords": [
           {
            "line": {
             "colorbar": {
              "outlinewidth": 0,
              "ticks": ""
             }
            },
            "type": "parcoords"
           }
          ],
          "pie": [
           {
            "automargin": true,
            "type": "pie"
           }
          ],
          "scatter": [
           {
            "fillpattern": {
             "fillmode": "overlay",
             "size": 10,
             "solidity": 0.2
            },
            "type": "scatter"
           }
          ],
          "scatter3d": [
           {
            "line": {
             "colorbar": {
              "outlinewidth": 0,
              "ticks": ""
             }
            },
            "marker": {
             "colorbar": {
              "outlinewidth": 0,
              "ticks": ""
             }
            },
            "type": "scatter3d"
           }
          ],
          "scattercarpet": [
           {
            "marker": {
             "colorbar": {
              "outlinewidth": 0,
              "ticks": ""
             }
            },
            "type": "scattercarpet"
           }
          ],
          "scattergeo": [
           {
            "marker": {
             "colorbar": {
              "outlinewidth": 0,
              "ticks": ""
             }
            },
            "type": "scattergeo"
           }
          ],
          "scattergl": [
           {
            "marker": {
             "colorbar": {
              "outlinewidth": 0,
              "ticks": ""
             }
            },
            "type": "scattergl"
           }
          ],
          "scattermapbox": [
           {
            "marker": {
             "colorbar": {
              "outlinewidth": 0,
              "ticks": ""
             }
            },
            "type": "scattermapbox"
           }
          ],
          "scatterpolar": [
           {
            "marker": {
             "colorbar": {
              "outlinewidth": 0,
              "ticks": ""
             }
            },
            "type": "scatterpolar"
           }
          ],
          "scatterpolargl": [
           {
            "marker": {
             "colorbar": {
              "outlinewidth": 0,
              "ticks": ""
             }
            },
            "type": "scatterpolargl"
           }
          ],
          "scatterternary": [
           {
            "marker": {
             "colorbar": {
              "outlinewidth": 0,
              "ticks": ""
             }
            },
            "type": "scatterternary"
           }
          ],
          "surface": [
           {
            "colorbar": {
             "outlinewidth": 0,
             "ticks": ""
            },
            "colorscale": [
             [
              0,
              "#0d0887"
             ],
             [
              0.1111111111111111,
              "#46039f"
             ],
             [
              0.2222222222222222,
              "#7201a8"
             ],
             [
              0.3333333333333333,
              "#9c179e"
             ],
             [
              0.4444444444444444,
              "#bd3786"
             ],
             [
              0.5555555555555556,
              "#d8576b"
             ],
             [
              0.6666666666666666,
              "#ed7953"
             ],
             [
              0.7777777777777778,
              "#fb9f3a"
             ],
             [
              0.8888888888888888,
              "#fdca26"
             ],
             [
              1,
              "#f0f921"
             ]
            ],
            "type": "surface"
           }
          ],
          "table": [
           {
            "cells": {
             "fill": {
              "color": "#EBF0F8"
             },
             "line": {
              "color": "white"
             }
            },
            "header": {
             "fill": {
              "color": "#C8D4E3"
             },
             "line": {
              "color": "white"
             }
            },
            "type": "table"
           }
          ]
         },
         "layout": {
          "annotationdefaults": {
           "arrowcolor": "#2a3f5f",
           "arrowhead": 0,
           "arrowwidth": 1
          },
          "autotypenumbers": "strict",
          "coloraxis": {
           "colorbar": {
            "outlinewidth": 0,
            "ticks": ""
           }
          },
          "colorscale": {
           "diverging": [
            [
             0,
             "#8e0152"
            ],
            [
             0.1,
             "#c51b7d"
            ],
            [
             0.2,
             "#de77ae"
            ],
            [
             0.3,
             "#f1b6da"
            ],
            [
             0.4,
             "#fde0ef"
            ],
            [
             0.5,
             "#f7f7f7"
            ],
            [
             0.6,
             "#e6f5d0"
            ],
            [
             0.7,
             "#b8e186"
            ],
            [
             0.8,
             "#7fbc41"
            ],
            [
             0.9,
             "#4d9221"
            ],
            [
             1,
             "#276419"
            ]
           ],
           "sequential": [
            [
             0,
             "#0d0887"
            ],
            [
             0.1111111111111111,
             "#46039f"
            ],
            [
             0.2222222222222222,
             "#7201a8"
            ],
            [
             0.3333333333333333,
             "#9c179e"
            ],
            [
             0.4444444444444444,
             "#bd3786"
            ],
            [
             0.5555555555555556,
             "#d8576b"
            ],
            [
             0.6666666666666666,
             "#ed7953"
            ],
            [
             0.7777777777777778,
             "#fb9f3a"
            ],
            [
             0.8888888888888888,
             "#fdca26"
            ],
            [
             1,
             "#f0f921"
            ]
           ],
           "sequentialminus": [
            [
             0,
             "#0d0887"
            ],
            [
             0.1111111111111111,
             "#46039f"
            ],
            [
             0.2222222222222222,
             "#7201a8"
            ],
            [
             0.3333333333333333,
             "#9c179e"
            ],
            [
             0.4444444444444444,
             "#bd3786"
            ],
            [
             0.5555555555555556,
             "#d8576b"
            ],
            [
             0.6666666666666666,
             "#ed7953"
            ],
            [
             0.7777777777777778,
             "#fb9f3a"
            ],
            [
             0.8888888888888888,
             "#fdca26"
            ],
            [
             1,
             "#f0f921"
            ]
           ]
          },
          "colorway": [
           "#636efa",
           "#EF553B",
           "#00cc96",
           "#ab63fa",
           "#FFA15A",
           "#19d3f3",
           "#FF6692",
           "#B6E880",
           "#FF97FF",
           "#FECB52"
          ],
          "font": {
           "color": "#2a3f5f"
          },
          "geo": {
           "bgcolor": "white",
           "lakecolor": "white",
           "landcolor": "#E5ECF6",
           "showlakes": true,
           "showland": true,
           "subunitcolor": "white"
          },
          "hoverlabel": {
           "align": "left"
          },
          "hovermode": "closest",
          "mapbox": {
           "style": "light"
          },
          "paper_bgcolor": "white",
          "plot_bgcolor": "#E5ECF6",
          "polar": {
           "angularaxis": {
            "gridcolor": "white",
            "linecolor": "white",
            "ticks": ""
           },
           "bgcolor": "#E5ECF6",
           "radialaxis": {
            "gridcolor": "white",
            "linecolor": "white",
            "ticks": ""
           }
          },
          "scene": {
           "xaxis": {
            "backgroundcolor": "#E5ECF6",
            "gridcolor": "white",
            "gridwidth": 2,
            "linecolor": "white",
            "showbackground": true,
            "ticks": "",
            "zerolinecolor": "white"
           },
           "yaxis": {
            "backgroundcolor": "#E5ECF6",
            "gridcolor": "white",
            "gridwidth": 2,
            "linecolor": "white",
            "showbackground": true,
            "ticks": "",
            "zerolinecolor": "white"
           },
           "zaxis": {
            "backgroundcolor": "#E5ECF6",
            "gridcolor": "white",
            "gridwidth": 2,
            "linecolor": "white",
            "showbackground": true,
            "ticks": "",
            "zerolinecolor": "white"
           }
          },
          "shapedefaults": {
           "line": {
            "color": "#2a3f5f"
           }
          },
          "ternary": {
           "aaxis": {
            "gridcolor": "white",
            "linecolor": "white",
            "ticks": ""
           },
           "baxis": {
            "gridcolor": "white",
            "linecolor": "white",
            "ticks": ""
           },
           "bgcolor": "#E5ECF6",
           "caxis": {
            "gridcolor": "white",
            "linecolor": "white",
            "ticks": ""
           }
          },
          "title": {
           "x": 0.05
          },
          "xaxis": {
           "automargin": true,
           "gridcolor": "white",
           "linecolor": "white",
           "ticks": "",
           "title": {
            "standoff": 15
           },
           "zerolinecolor": "white",
           "zerolinewidth": 2
          },
          "yaxis": {
           "automargin": true,
           "gridcolor": "white",
           "linecolor": "white",
           "ticks": "",
           "title": {
            "standoff": 15
           },
           "zerolinecolor": "white",
           "zerolinewidth": 2
          }
         }
        },
        "title": {
         "text": "Corrélation entre les scores des groupes"
        },
        "xaxis": {
         "anchor": "y",
         "constrain": "domain",
         "domain": [
          0,
          1
         ],
         "scaleanchor": "y"
        },
        "yaxis": {
         "anchor": "x",
         "autorange": "reversed",
         "constrain": "domain",
         "domain": [
          0,
          1
         ]
        }
       }
      }
     },
     "metadata": {},
     "output_type": "display_data"
    }
   ],
   "source": [
    "# améliorer le rendu\n",
    "px.imshow(df_scores.corr().round(2),\n",
    "          text_auto=True,\n",
    "          labels=dict(color=\"Corrélation\"),\n",
    "          color_continuous_scale='RdBu_r',\n",
    "          title=\"Corrélation entre les scores des groupes\")"
   ]
  },
  {
   "cell_type": "code",
   "execution_count": 52,
   "id": "1f70aefc",
   "metadata": {},
   "outputs": [
    {
     "data": {
      "text/html": [
       "<style type=\"text/css\">\n",
       "#T_e6ffd_row0_col0, #T_e6ffd_row1_col1, #T_e6ffd_row2_col2, #T_e6ffd_row3_col3, #T_e6ffd_row4_col4 {\n",
       "  background-color: #b40426;\n",
       "  color: #f1f1f1;\n",
       "}\n",
       "#T_e6ffd_row0_col1, #T_e6ffd_row0_col2, #T_e6ffd_row0_col3, #T_e6ffd_row0_col4, #T_e6ffd_row3_col0, #T_e6ffd_row3_col4 {\n",
       "  background-color: #3b4cc0;\n",
       "  color: #f1f1f1;\n",
       "}\n",
       "#T_e6ffd_row1_col0 {\n",
       "  background-color: #c1d4f4;\n",
       "  color: #000000;\n",
       "}\n",
       "#T_e6ffd_row1_col2, #T_e6ffd_row1_col3 {\n",
       "  background-color: #d4dbe6;\n",
       "  color: #000000;\n",
       "}\n",
       "#T_e6ffd_row1_col4 {\n",
       "  background-color: #f7ba9f;\n",
       "  color: #000000;\n",
       "}\n",
       "#T_e6ffd_row2_col0 {\n",
       "  background-color: #96b7ff;\n",
       "  color: #000000;\n",
       "}\n",
       "#T_e6ffd_row2_col1 {\n",
       "  background-color: #b1cbfc;\n",
       "  color: #000000;\n",
       "}\n",
       "#T_e6ffd_row2_col3 {\n",
       "  background-color: #f5c0a7;\n",
       "  color: #000000;\n",
       "}\n",
       "#T_e6ffd_row2_col4 {\n",
       "  background-color: #f5c1a9;\n",
       "  color: #000000;\n",
       "}\n",
       "#T_e6ffd_row3_col1 {\n",
       "  background-color: #5b7ae5;\n",
       "  color: #f1f1f1;\n",
       "}\n",
       "#T_e6ffd_row3_col2 {\n",
       "  background-color: #dddcdc;\n",
       "  color: #000000;\n",
       "}\n",
       "#T_e6ffd_row4_col0 {\n",
       "  background-color: #f1cdba;\n",
       "  color: #000000;\n",
       "}\n",
       "#T_e6ffd_row4_col1 {\n",
       "  background-color: #f39475;\n",
       "  color: #000000;\n",
       "}\n",
       "#T_e6ffd_row4_col2 {\n",
       "  background-color: #ef886b;\n",
       "  color: #f1f1f1;\n",
       "}\n",
       "#T_e6ffd_row4_col3 {\n",
       "  background-color: #f0cdbb;\n",
       "  color: #000000;\n",
       "}\n",
       "</style>\n",
       "<table id=\"T_e6ffd\">\n",
       "  <thead>\n",
       "    <tr>\n",
       "      <th class=\"blank level0\" >&nbsp;</th>\n",
       "      <th id=\"T_e6ffd_level0_col0\" class=\"col_heading level0 col0\" >score_info</th>\n",
       "      <th id=\"T_e6ffd_level0_col1\" class=\"col_heading level0 col1\" >score_algo</th>\n",
       "      <th id=\"T_e6ffd_level0_col2\" class=\"col_heading level0 col2\" >score_base_python</th>\n",
       "      <th id=\"T_e6ffd_level0_col3\" class=\"col_heading level0 col3\" >score_avancé_python</th>\n",
       "      <th id=\"T_e6ffd_level0_col4\" class=\"col_heading level0 col4\" >score_tout</th>\n",
       "    </tr>\n",
       "  </thead>\n",
       "  <tbody>\n",
       "    <tr>\n",
       "      <th id=\"T_e6ffd_level0_row0\" class=\"row_heading level0 row0\" >score_info</th>\n",
       "      <td id=\"T_e6ffd_row0_col0\" class=\"data row0 col0\" >1.000000</td>\n",
       "      <td id=\"T_e6ffd_row0_col1\" class=\"data row0 col1\" >0.251772</td>\n",
       "      <td id=\"T_e6ffd_row0_col2\" class=\"data row0 col2\" >0.089604</td>\n",
       "      <td id=\"T_e6ffd_row0_col3\" class=\"data row0 col3\" >-0.259053</td>\n",
       "      <td id=\"T_e6ffd_row0_col4\" class=\"data row0 col4\" >0.484971</td>\n",
       "    </tr>\n",
       "    <tr>\n",
       "      <th id=\"T_e6ffd_level0_row1\" class=\"row_heading level0 row1\" >score_algo</th>\n",
       "      <td id=\"T_e6ffd_row1_col0\" class=\"data row1 col0\" >0.251772</td>\n",
       "      <td id=\"T_e6ffd_row1_col1\" class=\"data row1 col1\" >1.000000</td>\n",
       "      <td id=\"T_e6ffd_row1_col2\" class=\"data row1 col2\" >0.516159</td>\n",
       "      <td id=\"T_e6ffd_row1_col3\" class=\"data row1 col3\" >0.330688</td>\n",
       "      <td id=\"T_e6ffd_row1_col4\" class=\"data row1 col4\" >0.823866</td>\n",
       "    </tr>\n",
       "    <tr>\n",
       "      <th id=\"T_e6ffd_level0_row2\" class=\"row_heading level0 row2\" >score_base_python</th>\n",
       "      <td id=\"T_e6ffd_row2_col0\" class=\"data row2 col0\" >0.089604</td>\n",
       "      <td id=\"T_e6ffd_row2_col1\" class=\"data row2 col1\" >0.516159</td>\n",
       "      <td id=\"T_e6ffd_row2_col2\" class=\"data row2 col2\" >1.000000</td>\n",
       "      <td id=\"T_e6ffd_row2_col3\" class=\"data row2 col3\" >0.544933</td>\n",
       "      <td id=\"T_e6ffd_row2_col4\" class=\"data row2 col4\" >0.810750</td>\n",
       "    </tr>\n",
       "    <tr>\n",
       "      <th id=\"T_e6ffd_level0_row3\" class=\"row_heading level0 row3\" >score_avancé_python</th>\n",
       "      <td id=\"T_e6ffd_row3_col0\" class=\"data row3 col0\" >-0.259053</td>\n",
       "      <td id=\"T_e6ffd_row3_col1\" class=\"data row3 col1\" >0.330688</td>\n",
       "      <td id=\"T_e6ffd_row3_col2\" class=\"data row3 col2\" >0.544933</td>\n",
       "      <td id=\"T_e6ffd_row3_col3\" class=\"data row3 col3\" >1.000000</td>\n",
       "      <td id=\"T_e6ffd_row3_col4\" class=\"data row3 col4\" >0.482990</td>\n",
       "    </tr>\n",
       "    <tr>\n",
       "      <th id=\"T_e6ffd_level0_row4\" class=\"row_heading level0 row4\" >score_tout</th>\n",
       "      <td id=\"T_e6ffd_row4_col0\" class=\"data row4 col0\" >0.484971</td>\n",
       "      <td id=\"T_e6ffd_row4_col1\" class=\"data row4 col1\" >0.823866</td>\n",
       "      <td id=\"T_e6ffd_row4_col2\" class=\"data row4 col2\" >0.810750</td>\n",
       "      <td id=\"T_e6ffd_row4_col3\" class=\"data row4 col3\" >0.482990</td>\n",
       "      <td id=\"T_e6ffd_row4_col4\" class=\"data row4 col4\" >1.000000</td>\n",
       "    </tr>\n",
       "  </tbody>\n",
       "</table>\n"
      ],
      "text/plain": [
       "<pandas.io.formats.style.Styler at 0x12f70ba10>"
      ]
     },
     "execution_count": 52,
     "metadata": {},
     "output_type": "execute_result"
    }
   ],
   "source": [
    "# Sinon on peu aussi modifier l'affichage de notre tableau de corrélation pour le rendre plus lisible\n",
    "df_scores.corr().style.background_gradient(cmap='coolwarm')"
   ]
  }
 ],
 "metadata": {
  "kernelspec": {
   "display_name": "Python 3 (ipykernel)",
   "language": "python",
   "name": "python3"
  },
  "language_info": {
   "codemirror_mode": {
    "name": "ipython",
    "version": 3
   },
   "file_extension": ".py",
   "mimetype": "text/x-python",
   "name": "python",
   "nbconvert_exporter": "python",
   "pygments_lexer": "ipython3",
   "version": "3.11.5"
  }
 },
 "nbformat": 4,
 "nbformat_minor": 5
}
