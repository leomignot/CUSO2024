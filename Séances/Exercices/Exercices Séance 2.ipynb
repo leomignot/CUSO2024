{
 "cells": [
  {
   "cell_type": "markdown",
   "id": "53bc79f8",
   "metadata": {},
   "source": [
    "# Petits exercices d'application de la séance 2"
   ]
  },
  {
   "cell_type": "markdown",
   "id": "c2a02e63",
   "metadata": {},
   "source": [
    "## Exercice d'application\n",
    "\n",
    "- quel est le type de la variable v si `v = 1.1` ?\n",
    "- pourquoi a-t-on une erreur si on fait `10 + \"vingt\"` ?\n",
    "- est-ce que `variable1` et `Variable1` sont la même variable ?"
   ]
  },
  {
   "cell_type": "code",
   "execution_count": null,
   "id": "b8ff5e75-76fe-4af8-89ab-22547820d8c9",
   "metadata": {},
   "outputs": [],
   "source": [
    "f\"{phrase1} {phrase2}\""
   ]
  },
  {
   "cell_type": "code",
   "execution_count": 1,
   "id": "264ca0a6-5639-41fd-b59c-199729ce26fb",
   "metadata": {},
   "outputs": [
    {
     "data": {
      "text/plain": [
       "2"
      ]
     },
     "execution_count": 1,
     "metadata": {},
     "output_type": "execute_result"
    }
   ],
   "source": [
    "\"test test test\".count(\" \")"
   ]
  },
  {
   "cell_type": "markdown",
   "id": "fc28f934",
   "metadata": {},
   "source": [
    "## Conseil\n",
    "Les exercices suivants sont réalisables en repartant/s'inspirant du script vu durant dans la séance et en conservant/modifiant les blocs appropriés."
   ]
  },
  {
   "cell_type": "markdown",
   "id": "8df5ffc1-c514-47be-8317-54c831920d96",
   "metadata": {},
   "source": [
    "## Exercice 1\n",
    "\n",
    "- Créer une variable qui contient une chaîne de caractères (une phrase par exemple)\n",
    "- Compter le nombre de fois où la lettre \"a\" est présente dans la chaîne de caractères\n",
    "- Afficher le résultat"
   ]
  },
  {
   "cell_type": "markdown",
   "id": "968e1796",
   "metadata": {},
   "source": [
    "## Exercice 2\n",
    "\n",
    "Faire un petit script qui demande une phrase à l'utilisateur et affiche le nombre de mots de la phrase (pour l'affichage avec print)"
   ]
  },
  {
   "cell_type": "markdown",
   "id": "ca774c7f",
   "metadata": {},
   "source": [
    "## Exercice 3\n",
    "\n",
    "Faire un petit script qui demande une phrase à l'utilisateur et affiche le dernier mot de la phrase (indice : on peut trouver le dernier élément d'une liste avec `ma_liste[-1]`)"
   ]
  },
  {
   "cell_type": "markdown",
   "id": "c2a43a17",
   "metadata": {},
   "source": [
    "## Exercice 4\n",
    "\n",
    "Créer un petit script qui demande deux phrases successivement et affiche les deux phrases concaténées."
   ]
  },
  {
   "cell_type": "markdown",
   "id": "2d9eafaf",
   "metadata": {},
   "source": [
    "## Exercice 5\n",
    "\n",
    "Comprendre ce que fait la méthode capitalize des chaines de caractères (indice : https://docs.python.org/3/library/stdtypes.html#string-methods)"
   ]
  }
 ],
 "metadata": {
  "kernelspec": {
   "display_name": "Python 3 (ipykernel)",
   "language": "python",
   "name": "python3"
  },
  "language_info": {
   "codemirror_mode": {
    "name": "ipython",
    "version": 3
   },
   "file_extension": ".py",
   "mimetype": "text/x-python",
   "name": "python",
   "nbconvert_exporter": "python",
   "pygments_lexer": "ipython3",
   "version": "3.11.7"
  }
 },
 "nbformat": 4,
 "nbformat_minor": 5
}
