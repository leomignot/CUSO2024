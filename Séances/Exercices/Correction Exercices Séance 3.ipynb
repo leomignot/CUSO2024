{
 "cells": [
  {
   "cell_type": "markdown",
   "id": "76178dff-9423-4160-9bc5-7e58fee7afe9",
   "metadata": {},
   "source": [
    "# Exercices Séance 3"
   ]
  },
  {
   "cell_type": "markdown",
   "id": "77fb86f3-6e43-4d24-93c8-aafee65705f6",
   "metadata": {},
   "source": [
    "## Exercice 1\n",
    "\n",
    "Ecrire une fonction qui renvoie Vrai (True) si un texte contient \"science ouverte\" ou \"open science\""
   ]
  },
  {
   "cell_type": "code",
   "execution_count": 6,
   "id": "76e2b945-7358-47b0-8859-f82ff106d6ee",
   "metadata": {},
   "outputs": [],
   "source": [
    "def contient_os(texte):\n",
    "    \"\"\"\n",
    "    Détecte la présence d'une chaine de caractère\n",
    "    \"\"\"\n",
    "    if texte.count(\"science ouverte\")>0:\n",
    "        return True\n",
    "    if texte.count(\"open science\")>0:\n",
    "        return True\n",
    "    return False"
   ]
  },
  {
   "cell_type": "code",
   "execution_count": 8,
   "id": "90cd6372-b100-400c-b1b1-3142b3c8b8dc",
   "metadata": {},
   "outputs": [
    {
     "data": {
      "text/plain": [
       "True"
      ]
     },
     "execution_count": 8,
     "metadata": {},
     "output_type": "execute_result"
    }
   ],
   "source": [
    "contient_os(\"Ceci est un texte sur la science ouverte\")"
   ]
  },
  {
   "cell_type": "markdown",
   "id": "012f172b-b37f-4c4e-bb2f-d17cff775962",
   "metadata": {},
   "source": [
    "Plusieurs façons de faire"
   ]
  },
  {
   "cell_type": "code",
   "execution_count": 9,
   "id": "37c56339-1511-42f0-9daa-888fd41b857d",
   "metadata": {},
   "outputs": [],
   "source": [
    "def contient_os2(texte):\n",
    "    \"\"\"\n",
    "    Détecte la présence d'une chaine de caractère\n",
    "    \"\"\"\n",
    "    if (texte.count(\"science ouverte\")>0) or (texte.count(\"open science\")>0):\n",
    "        return True\n",
    "    return False"
   ]
  },
  {
   "cell_type": "code",
   "execution_count": 11,
   "id": "06280bad-59f9-462d-89a4-89939d92952f",
   "metadata": {},
   "outputs": [],
   "source": [
    "def contient_os3(texte):\n",
    "    \"\"\"\n",
    "    Détecte la présence d'une chaine de caractère\n",
    "    \"\"\"\n",
    "    if (\"science ouverte\" in texte) or (\"open science\" in texte):\n",
    "        return True\n",
    "    return False"
   ]
  },
  {
   "cell_type": "markdown",
   "id": "5a728148-cdee-4cb2-aff4-301a35553b04",
   "metadata": {},
   "source": [
    "Si on veut améliorer la fonction"
   ]
  },
  {
   "cell_type": "code",
   "execution_count": 12,
   "id": "5861f08e-e6d5-480a-9f4f-fbd09d9707b2",
   "metadata": {},
   "outputs": [],
   "source": [
    "def contient_os4(texte):\n",
    "    \"\"\"\n",
    "    Détecte la présence d'une chaine de caractère\n",
    "    quel que soit la casse\n",
    "    \"\"\"\n",
    "    texte = texte.lower()\n",
    "    if (\"science ouverte\" in texte) or (\"open science\" in texte):\n",
    "        return True\n",
    "    return False"
   ]
  },
  {
   "cell_type": "markdown",
   "id": "d3fa9f9d-499c-40ac-a248-9a0d5a239fd2",
   "metadata": {},
   "source": [
    "## Exercice 2\n",
    "\n",
    "Récupérer la page web de son université et regarder si elle contient le terme \"science ouverte\" ou \"open science\""
   ]
  },
  {
   "cell_type": "code",
   "execution_count": 17,
   "id": "2b8f6aac-abf6-4331-a17a-e5f96c8f2325",
   "metadata": {},
   "outputs": [],
   "source": [
    "url = \"http://crest.science\""
   ]
  },
  {
   "cell_type": "code",
   "execution_count": 15,
   "id": "1e5fb2b6-ce3f-427c-a4d4-2a92ed8d8d0e",
   "metadata": {},
   "outputs": [],
   "source": [
    "#pip install requests\n",
    "import requests"
   ]
  },
  {
   "cell_type": "code",
   "execution_count": 18,
   "id": "4b65daac-1531-4eaa-a35e-90fb70c20094",
   "metadata": {},
   "outputs": [],
   "source": [
    "page = requests.get(url)"
   ]
  },
  {
   "cell_type": "code",
   "execution_count": 19,
   "id": "a86a183e-73b3-4028-b9ec-d552cf059e69",
   "metadata": {},
   "outputs": [
    {
     "data": {
      "text/plain": [
       "requests.models.Response"
      ]
     },
     "execution_count": 19,
     "metadata": {},
     "output_type": "execute_result"
    }
   ],
   "source": [
    "type(page)"
   ]
  },
  {
   "cell_type": "code",
   "execution_count": 24,
   "id": "7b517c79-1cd4-4ff7-a485-92f62ee27628",
   "metadata": {},
   "outputs": [
    {
     "data": {
      "text/plain": [
       "False"
      ]
     },
     "execution_count": 24,
     "metadata": {},
     "output_type": "execute_result"
    }
   ],
   "source": [
    "contient_os4(page.text)"
   ]
  },
  {
   "cell_type": "markdown",
   "id": "86763ebf-43a5-4737-a16b-f3ffef453826",
   "metadata": {},
   "source": [
    "On pourrait faire plus court"
   ]
  },
  {
   "cell_type": "code",
   "execution_count": 25,
   "id": "ceef4d43-01d7-487d-a9df-1dbe8f3fea3e",
   "metadata": {},
   "outputs": [
    {
     "data": {
      "text/plain": [
       "False"
      ]
     },
     "execution_count": 25,
     "metadata": {},
     "output_type": "execute_result"
    }
   ],
   "source": [
    "contient_os(requests.get(\"http://crest.science\").text)"
   ]
  },
  {
   "cell_type": "markdown",
   "id": "a9c30ea2-95a0-4cf2-a6d1-2e4a9effc5cb",
   "metadata": {},
   "source": [
    "## Exercice 3"
   ]
  },
  {
   "cell_type": "markdown",
   "id": "8bd09d2d-4024-4941-bfb1-6302682c22c2",
   "metadata": {},
   "source": [
    "Quelle page la plus proche (en termes de proximité de lien : si le terme est dans la page, la distance est de 0, si le terme est dans une page dont le lien est présent sur la page, la distance est de 1, etc.) de la page open science contient le terme Python https://en.wikipedia.org/wiki/Open_science\n",
    "\n",
    "Indice :\n",
    "- utiliser la bibliothèque wikipedia (ou plus roots, requests + beautifulsoup :)"
   ]
  },
  {
   "cell_type": "markdown",
   "id": "3bf05c59-ecd4-4c37-9723-f0a5ff3b7a45",
   "metadata": {},
   "source": [
    "### Plan de bataille\n",
    "\n",
    "- url de départ\n",
    "- on teste\n",
    "- si c'est négatif\n",
    "- récupère les liens de la page\n",
    "- et on teste pour chacun des liens\n",
    "- si c'est positif on arrête\n",
    "- sinon on recommence"
   ]
  },
  {
   "cell_type": "code",
   "execution_count": 28,
   "id": "bb0d0556-1caa-43ef-838a-6b7cd2a079ec",
   "metadata": {},
   "outputs": [],
   "source": [
    "#!pip install wikipedia"
   ]
  },
  {
   "cell_type": "code",
   "execution_count": 1,
   "id": "1c045b91-2c16-461c-af75-2a029fd27457",
   "metadata": {},
   "outputs": [],
   "source": [
    "import wikipedia\n",
    "wikipedia.set_lang(\"fr\")\n",
    "os = wikipedia.page(\"Open Science\")"
   ]
  },
  {
   "cell_type": "code",
   "execution_count": 35,
   "id": "49425efa-0cf9-4175-bd78-8acfab459808",
   "metadata": {},
   "outputs": [
    {
     "data": {
      "text/plain": [
       "False"
      ]
     },
     "execution_count": 35,
     "metadata": {},
     "output_type": "execute_result"
    }
   ],
   "source": [
    "\"python\" in os.content.lower()"
   ]
  },
  {
   "cell_type": "code",
   "execution_count": 36,
   "id": "c43eea06-279f-4b0c-ac45-87feacbf08f0",
   "metadata": {},
   "outputs": [
    {
     "data": {
      "text/plain": [
       "148"
      ]
     },
     "execution_count": 36,
     "metadata": {},
     "output_type": "execute_result"
    }
   ],
   "source": [
    "len(os.links)"
   ]
  },
  {
   "cell_type": "markdown",
   "id": "93fb4671-d353-446d-ad06-e011c5bf0b9e",
   "metadata": {},
   "source": [
    "Faire une boucle qui test les différents liens"
   ]
  },
  {
   "cell_type": "code",
   "execution_count": 2,
   "id": "45e4d6f6-1542-45b6-91bd-73c9ce883d01",
   "metadata": {
    "scrolled": true
   },
   "outputs": [
    {
     "name": "stdout",
     "output_type": "stream",
     "text": [
      "test\n",
      "test\n",
      "test\n",
      "test\n",
      "test\n",
      "test\n",
      "test\n",
      "test\n",
      "test\n",
      "test\n",
      "error Association of American Publishers\n",
      "test\n",
      "test\n",
      "test\n",
      "test\n",
      "test\n",
      "test\n",
      "test\n",
      "test\n",
      "error Bioethics International\n",
      "test\n",
      "test\n",
      "test\n",
      "test\n",
      "test\n",
      "test\n",
      "test\n",
      "test\n",
      "test\n",
      "test\n",
      "test\n",
      "test\n",
      "test\n",
      "test\n",
      "test\n",
      "test\n",
      "test\n",
      "test\n",
      "test\n",
      "test\n",
      "test\n",
      "test\n",
      "test\n",
      "test\n",
      "test\n",
      "test\n",
      "test\n",
      "test\n",
      "test\n",
      "test\n",
      "test\n",
      "test\n",
      "test\n",
      "test\n",
      "test\n",
      "test\n",
      "test\n",
      "test\n",
      "test\n",
      "error Laboratoire virtuel\n",
      "test\n",
      "test\n",
      "test\n",
      "test\n",
      "test\n",
      "Logiciels libres\n",
      "test\n",
      "test\n",
      "test\n",
      "test\n",
      "test\n",
      "test\n",
      "test\n",
      "test\n",
      "test\n",
      "test\n",
      "test\n",
      "test\n",
      "test\n",
      "test\n",
      "test\n",
      "test\n",
      "test\n",
      "test\n",
      "test\n",
      "test\n",
      "test\n",
      "error Open Notebook Science\n",
      "test\n",
      "test\n",
      "test\n",
      "test\n",
      "test\n",
      "test\n",
      "test\n",
      "test\n",
      "test\n",
      "test\n",
      "test\n",
      "test\n",
      "test\n",
      "test\n",
      "test\n",
      "test\n",
      "test\n",
      "test\n",
      "test\n",
      "test\n",
      "test\n",
      "test\n",
      "test\n",
      "test\n",
      "test\n",
      "test\n",
      "test\n",
      "test\n",
      "error Savoirs autochtones\n",
      "test\n",
      "test\n",
      "test\n",
      "test\n",
      "test\n",
      "test\n",
      "test\n",
      "test\n",
      "test\n",
      "test\n",
      "test\n",
      "test\n",
      "test\n",
      "test\n",
      "test\n",
      "error The Open Research Society\n",
      "test\n",
      "test\n",
      "test\n",
      "test\n",
      "test\n",
      "test\n",
      "test\n",
      "test\n",
      "Web social\n",
      "test\n",
      "test\n",
      "test\n",
      "test\n",
      "test\n",
      "test\n",
      "test\n",
      "test\n",
      "test\n",
      "test\n",
      "test\n",
      "test\n",
      "test\n",
      "test\n"
     ]
    }
   ],
   "source": [
    "for lien in os.links:\n",
    "    print(\"test\")\n",
    "    try:\n",
    "        page = wikipedia.page(lien, auto_suggest=False)\n",
    "        if \"python\" in page.content.lower():\n",
    "            print(lien)\n",
    "    except:\n",
    "        print(\"error\", lien)"
   ]
  },
  {
   "cell_type": "code",
   "execution_count": null,
   "id": "e1357f27-5cb5-46c0-bb07-a35671ee4b72",
   "metadata": {},
   "outputs": [],
   "source": []
  },
  {
   "cell_type": "code",
   "execution_count": 3,
   "id": "c1640a75",
   "metadata": {},
   "outputs": [],
   "source": []
  },
  {
   "cell_type": "code",
   "execution_count": 7,
   "id": "83774950",
   "metadata": {},
   "outputs": [
    {
     "data": {
      "text/plain": [
       "False"
      ]
     },
     "execution_count": 7,
     "metadata": {},
     "output_type": "execute_result"
    }
   ],
   "source": [
    "\"python\" in os.content"
   ]
  },
  {
   "cell_type": "code",
   "execution_count": 10,
   "id": "8bf21ed6",
   "metadata": {},
   "outputs": [],
   "source": [
    "for p in os.links[0:10]:\n",
    "    g = wikipedia.page(p)\n",
    "    if \"python\" in g.content.lower():\n",
    "        print(p)"
   ]
  }
 ],
 "metadata": {
  "kernelspec": {
   "display_name": "Python 3 (ipykernel)",
   "language": "python",
   "name": "python3"
  },
  "language_info": {
   "codemirror_mode": {
    "name": "ipython",
    "version": 3
   },
   "file_extension": ".py",
   "mimetype": "text/x-python",
   "name": "python",
   "nbconvert_exporter": "python",
   "pygments_lexer": "ipython3",
   "version": "3.11.7"
  }
 },
 "nbformat": 4,
 "nbformat_minor": 5
}
