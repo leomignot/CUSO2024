{
 "cells": [
  {
   "cell_type": "markdown",
   "id": "76178dff-9423-4160-9bc5-7e58fee7afe9",
   "metadata": {},
   "source": [
    "# Exercices Séance 3"
   ]
  },
  {
   "cell_type": "markdown",
   "id": "77fb86f3-6e43-4d24-93c8-aafee65705f6",
   "metadata": {},
   "source": [
    "## Exercice 1\n",
    "\n",
    "Ecrire une fonction qui renvoie Vrai (True) si un texte contient \"science ouverte\" ou \"open science\""
   ]
  },
  {
   "cell_type": "markdown",
   "id": "d3fa9f9d-499c-40ac-a248-9a0d5a239fd2",
   "metadata": {},
   "source": [
    "## Exercice 2\n",
    "\n",
    "Récupérer la page web de son université et regarder si elle contient le terme \"science ouverte\" ou \"open science\""
   ]
  },
  {
   "cell_type": "markdown",
   "id": "a9c30ea2-95a0-4cf2-a6d1-2e4a9effc5cb",
   "metadata": {},
   "source": [
    "## Exercice 3"
   ]
  },
  {
   "cell_type": "markdown",
   "id": "8bd09d2d-4024-4941-bfb1-6302682c22c2",
   "metadata": {},
   "source": [
    "Quelle page la plus proche (en termes de proximité de lien : si le terme est dans la page, la distance est de 0, si le terme est dans une page dont le lien est présent sur la page, la distance est de 1, etc.) de la page open science contient le terme Python https://en.wikipedia.org/wiki/Open_science\n",
    "\n",
    "Indice :\n",
    "- utiliser la bibliothèque wikipedia (ou plus roots, requests + beautifulsoup :)"
   ]
  }
 ],
 "metadata": {
  "kernelspec": {
   "display_name": "Python 3 (ipykernel)",
   "language": "python",
   "name": "python3"
  },
  "language_info": {
   "codemirror_mode": {
    "name": "ipython",
    "version": 3
   },
   "file_extension": ".py",
   "mimetype": "text/x-python",
   "name": "python",
   "nbconvert_exporter": "python",
   "pygments_lexer": "ipython3",
   "version": "3.11.7"
  }
 },
 "nbformat": 4,
 "nbformat_minor": 5
}
