{
 "cells": [
  {
   "cell_type": "markdown",
   "id": "53bc79f8",
   "metadata": {},
   "source": [
    "# Petits exercices d'application de la séance 2"
   ]
  },
  {
   "cell_type": "markdown",
   "id": "c2a02e63",
   "metadata": {},
   "source": [
    "## Exercice d'application\n",
    "\n",
    "- quel est le type de la variable v si `v = 1.1` ?\n",
    "- pourquoi a-t-on une erreur si on fait `10 + \"vingt\"` ?\n",
    "- est-ce que `variable1` et `Variable1` sont la même variable ?"
   ]
  },
  {
   "cell_type": "code",
   "execution_count": 1,
   "id": "b5a8c180",
   "metadata": {},
   "outputs": [
    {
     "data": {
      "text/plain": [
       "float"
      ]
     },
     "execution_count": 1,
     "metadata": {},
     "output_type": "execute_result"
    }
   ],
   "source": [
    "# Je stocke 1.1 dans v\n",
    "# 1.1 est un nombre \"à virgule\"\n",
    "# donc nombres flottants\n",
    "# le type devrait donc être \"float\"\n",
    "\n",
    "#je vérifie facilement avec type()\n",
    "v = 1.1\n",
    "type(v)"
   ]
  },
  {
   "cell_type": "code",
   "execution_count": 2,
   "id": "cd1a2077",
   "metadata": {},
   "outputs": [
    {
     "ename": "TypeError",
     "evalue": "unsupported operand type(s) for +: 'int' and 'str'",
     "output_type": "error",
     "traceback": [
      "\u001b[0;31m---------------------------------------------------------------------------\u001b[0m",
      "\u001b[0;31mTypeError\u001b[0m                                 Traceback (most recent call last)",
      "Cell \u001b[0;32mIn[2], line 4\u001b[0m\n\u001b[1;32m      1\u001b[0m \u001b[38;5;66;03m# Si je demande à python de faire 10 + \"vingt\"\u001b[39;00m\n\u001b[1;32m      2\u001b[0m \u001b[38;5;66;03m# Je lui demande d'additionner un entier et une chaine de caractères\u001b[39;00m\n\u001b[1;32m      3\u001b[0m \u001b[38;5;66;03m# Ce qui est un peu pas très malin, et pas très faisable\u001b[39;00m\n\u001b[0;32m----> 4\u001b[0m \u001b[38;5;241m10\u001b[39m \u001b[38;5;241m+\u001b[39m \u001b[38;5;124m\"\u001b[39m\u001b[38;5;124mvingt\u001b[39m\u001b[38;5;124m\"\u001b[39m\n",
      "\u001b[0;31mTypeError\u001b[0m: unsupported operand type(s) for +: 'int' and 'str'"
     ]
    }
   ],
   "source": [
    "# Si je demande à python de faire 10 + \"vingt\"\n",
    "# Je lui demande d'additionner un entier et une chaine de caractères\n",
    "# Ce qui est un peu pas très malin, et pas très faisable\n",
    "10 + \"vingt\""
   ]
  },
  {
   "cell_type": "code",
   "execution_count": 3,
   "id": "fdd7ef21",
   "metadata": {},
   "outputs": [
    {
     "data": {
      "text/plain": [
       "'vingtvingtvingtvingtvingtvingtvingtvingtvingtvingt'"
      ]
     },
     "execution_count": 3,
     "metadata": {},
     "output_type": "execute_result"
    }
   ],
   "source": [
    "# Par contre (y a des feintes) il accepte de le \"multiplier\"\n",
    "# En réalité ce qu'il accepte de faire c'est de répéter la chaine de caratères\n",
    "10 * \"vingt\""
   ]
  },
  {
   "cell_type": "code",
   "execution_count": 4,
   "id": "c4e3c267",
   "metadata": {},
   "outputs": [
    {
     "data": {
      "text/plain": [
       "\"Je dois copier mes lignes car l'école a des idées de punitions épanouissantes. Je dois copier mes lignes car l'école a des idées de punitions épanouissantes. Je dois copier mes lignes car l'école a des idées de punitions épanouissantes. Je dois copier mes lignes car l'école a des idées de punitions épanouissantes. Je dois copier mes lignes car l'école a des idées de punitions épanouissantes. Je dois copier mes lignes car l'école a des idées de punitions épanouissantes. Je dois copier mes lignes car l'école a des idées de punitions épanouissantes. Je dois copier mes lignes car l'école a des idées de punitions épanouissantes. Je dois copier mes lignes car l'école a des idées de punitions épanouissantes. Je dois copier mes lignes car l'école a des idées de punitions épanouissantes. \""
      ]
     },
     "execution_count": 4,
     "metadata": {},
     "output_type": "execute_result"
    }
   ],
   "source": [
    "\"Je dois copier mes lignes car l'école a des idées de punitions épanouissantes. \" * 10"
   ]
  },
  {
   "cell_type": "code",
   "execution_count": 5,
   "id": "8cb0dfba",
   "metadata": {},
   "outputs": [
    {
     "ename": "NameError",
     "evalue": "name 'Variable1' is not defined",
     "output_type": "error",
     "traceback": [
      "\u001b[0;31m---------------------------------------------------------------------------\u001b[0m",
      "\u001b[0;31mNameError\u001b[0m                                 Traceback (most recent call last)",
      "Cell \u001b[0;32mIn[5], line 5\u001b[0m\n\u001b[1;32m      1\u001b[0m \u001b[38;5;66;03m# variable1 et Variable1\u001b[39;00m\n\u001b[1;32m      2\u001b[0m \u001b[38;5;66;03m# Émilien est joueur : python est sensible à la casse\u001b[39;00m\n\u001b[1;32m      3\u001b[0m \u001b[38;5;66;03m# et comme on a une majuscule, on se fait parfois avoir\u001b[39;00m\n\u001b[1;32m      4\u001b[0m variable1 \u001b[38;5;241m=\u001b[39m \u001b[38;5;124m\"\u001b[39m\u001b[38;5;124my a un piège\u001b[39m\u001b[38;5;124m\"\u001b[39m\n\u001b[0;32m----> 5\u001b[0m Variable1\n",
      "\u001b[0;31mNameError\u001b[0m: name 'Variable1' is not defined"
     ]
    }
   ],
   "source": [
    "# variable1 et Variable1\n",
    "# Émilien est joueur : python est sensible à la casse\n",
    "# et comme on a une majuscule, on se fait parfois avoir\n",
    "variable1 = \"y a un piège\"\n",
    "Variable1"
   ]
  },
  {
   "cell_type": "markdown",
   "id": "fc28f934",
   "metadata": {},
   "source": [
    "## Conseil\n",
    "Les exercices suivants sont réalisables en repartant/s'inspirant du script vu durant dans la séance et en conservant/modifiant les blocs appropriés."
   ]
  },
  {
   "cell_type": "code",
   "execution_count": null,
   "id": "fa315911",
   "metadata": {},
   "outputs": [],
   "source": [
    "sortie_fichier = True\n",
    "nombre_min_lettres = 4\n",
    "phrase = input(\"Écrivez une phrase: \")\n",
    "liste_mots = phrase.split(\" \")\n",
    "nombre_mots = len(liste_mots)\n",
    "if len(phrase) == 0:\n",
    "    print(\"Vous n'avez rien écrit\")\n",
    "else:\n",
    "    compteur = 0\n",
    "    for i in liste_mots:\n",
    "        if len(i) >= nombre_min_lettres:\n",
    "            compteur+=1\n",
    "    proportion = round(100*compteur/nombre_mots,2)\n",
    "    informations = {\"Total\":compteur,\"Proportion\":proportion,\n",
    "                   \"Phrase\":phrase,\"Seuil\":nombre_min_lettres}\n",
    "    sortie = f\"Proportion de mots avec {nombre_min_lettres} lettres ou plus : {proportion}\"\n",
    "    print(sortie)\n",
    "    if sortie_fichier:\n",
    "        with open(\"resultat.txt\",\"w\") as f:\n",
    "            f.write(str(informations))"
   ]
  },
  {
   "cell_type": "markdown",
   "id": "2227e962",
   "metadata": {},
   "source": [
    "## Exercice 1\n",
    "\n",
    "- Créer une variable qui contient une chaîne de caractères (une phrase par exemple)\n",
    "- Compter le nombre de fois où la lettre \"a\" est présente dans la chaîne de caractères\n",
    "- Afficher le résultat"
   ]
  },
  {
   "cell_type": "code",
   "execution_count": 7,
   "id": "f0f6b566",
   "metadata": {},
   "outputs": [
    {
     "name": "stdout",
     "output_type": "stream",
     "text": [
      "3\n"
     ]
    }
   ],
   "source": [
    "# on peut repartir de ce qu'on avait vu : un compteur, on incrémente, etc.\n",
    "chaine = \"Nanananère\"\n",
    "compteur = 0\n",
    "for lettre in chaine:\n",
    "    if lettre == \"a\":\n",
    "        compteur+=1\n",
    "print(compteur)"
   ]
  },
  {
   "cell_type": "code",
   "execution_count": 8,
   "id": "0b4d83be",
   "metadata": {},
   "outputs": [
    {
     "data": {
      "text/plain": [
       "3"
      ]
     },
     "execution_count": 8,
     "metadata": {},
     "output_type": "execute_result"
    }
   ],
   "source": [
    "# ou alors on se dit que y a des gens qui ont déjà eu ce problème\n",
    "# et donc un machin doit exister\n",
    "#count()\n",
    "chaine.count(\"a\")"
   ]
  },
  {
   "cell_type": "code",
   "execution_count": 9,
   "id": "46413fd7",
   "metadata": {},
   "outputs": [
    {
     "name": "stdout",
     "output_type": "stream",
     "text": [
      "\u001b[0;31mDocstring:\u001b[0m\n",
      "S.count(sub[, start[, end]]) -> int\n",
      "\n",
      "Return the number of non-overlapping occurrences of substring sub in\n",
      "string S[start:end].  Optional arguments start and end are\n",
      "interpreted as in slice notation.\n",
      "\u001b[0;31mType:\u001b[0m      method_descriptor"
     ]
    }
   ],
   "source": [
    "?str.count"
   ]
  },
  {
   "cell_type": "markdown",
   "id": "968e1796",
   "metadata": {},
   "source": [
    "## Exercice 2\n",
    "\n",
    "Faire un petit script qui demande une phrase à l'utilisateur et affiche le nombre de mots de la phrase (pour l'affichage avec print)"
   ]
  },
  {
   "cell_type": "code",
   "execution_count": null,
   "id": "3dce4581",
   "metadata": {},
   "outputs": [],
   "source": [
    "phrase = input(\"Écrivez une phrase: \")\n",
    "liste_mots = phrase.split(\" \") #si on laisse vide il utilise l'espace par défaut\n",
    "nombre_mots = len(liste_mots)\n",
    "print(nombre_mots)\n",
    "\n",
    "# si besoin d'illustrer : plusieurs façon d'imprimer :\n",
    "#print(f\"Le nombre de mots est de : {nombre_mots}\")\n",
    "#print(\"Mais aussi le nombre de mots est de : \", nombre_mots)\n",
    "#print(\"Mais encore le nombre de mots est : \" + str(nombre_mots))"
   ]
  },
  {
   "cell_type": "markdown",
   "id": "ca774c7f",
   "metadata": {},
   "source": [
    "## Exercice 3\n",
    "\n",
    "Faire un petit script qui demande une phrase à l'utilisateur et affiche le dernier mot de la phrase (indice : on peut trouver le dernier élément d'une liste avec `ma_liste[-1]`)"
   ]
  },
  {
   "cell_type": "code",
   "execution_count": null,
   "id": "e2c62b6f",
   "metadata": {},
   "outputs": [],
   "source": [
    "phrase = input(\"Écrivez une phrase: \")\n",
    "liste_mots = phrase.split(\" \")\n",
    "dernier_mot = liste_mots[-1]\n",
    "print(dernier_mot)"
   ]
  },
  {
   "cell_type": "code",
   "execution_count": null,
   "id": "70d3fffa",
   "metadata": {},
   "outputs": [],
   "source": [
    "# On peut condenser, mais ça peut vite devenir illisible/ peu clair\n",
    "phrase = input(\"Écrivez une phrase: \")\n",
    "print(phrase.split(\" \")[-1])"
   ]
  },
  {
   "cell_type": "markdown",
   "id": "c2a43a17",
   "metadata": {},
   "source": [
    "## Exercice 4\n",
    "\n",
    "Créer un petit script qui demande deux phrases successivement et affiche les deux phrases concaténées."
   ]
  },
  {
   "cell_type": "code",
   "execution_count": null,
   "id": "7890bc6c",
   "metadata": {},
   "outputs": [],
   "source": [
    "phrase1 = input(\"Écrivez une première phrase: \")\n",
    "phrase2 = input(\"Écrivez une deuxième phrase: \")\n",
    "print(phrase1 + \" \" + phrase2)"
   ]
  },
  {
   "cell_type": "markdown",
   "id": "2d9eafaf",
   "metadata": {},
   "source": [
    "## Exercice 5\n",
    "\n",
    "Comprendre ce que fait la méthode capitalize des chaines de caractères (indice : https://docs.python.org/3/library/stdtypes.html#string-methods)"
   ]
  },
  {
   "cell_type": "code",
   "execution_count": 13,
   "id": "a88cef94",
   "metadata": {},
   "outputs": [],
   "source": [
    "# par déduction :\n",
    "# Elle détermine la capitale des pays ? mmmmeeeehhhhhhhhh\n",
    "# ou alors elle met les capitales en début de phrases ? plus plausible"
   ]
  },
  {
   "cell_type": "code",
   "execution_count": 14,
   "id": "82586d0c",
   "metadata": {},
   "outputs": [],
   "source": [
    "# en allant lire la doc (cf. le lien ci-dessus) :"
   ]
  },
  {
   "cell_type": "markdown",
   "id": "004cd13c",
   "metadata": {},
   "source": [
    "````\n",
    "str.capitalize()¶\n",
    "\n",
    "    Return a copy of the string with its first character capitalized and the rest lowercased.\n",
    "\n",
    "    Changed in version 3.8: The first character is now put into titlecase rather than uppercase. This means that characters like digraphs will only have their first letter capitalized, instead of the full character.\n",
    "````\n"
   ]
  },
  {
   "cell_type": "code",
   "execution_count": 15,
   "id": "c5eaa26a",
   "metadata": {},
   "outputs": [],
   "source": [
    "# Ou accéder à l'aide : help / ?"
   ]
  },
  {
   "cell_type": "code",
   "execution_count": 16,
   "id": "62fbb328",
   "metadata": {},
   "outputs": [
    {
     "name": "stdout",
     "output_type": "stream",
     "text": [
      "Help on method_descriptor:\n",
      "\n",
      "capitalize(self, /)\n",
      "    Return a capitalized version of the string.\n",
      "    \n",
      "    More specifically, make the first character have upper case and the rest lower\n",
      "    case.\n",
      "\n"
     ]
    }
   ],
   "source": [
    "help(str.capitalize)"
   ]
  },
  {
   "cell_type": "code",
   "execution_count": 17,
   "id": "9e1914bc",
   "metadata": {},
   "outputs": [
    {
     "name": "stdout",
     "output_type": "stream",
     "text": [
      "\u001b[0;31mSignature:\u001b[0m \u001b[0mstr\u001b[0m\u001b[0;34m.\u001b[0m\u001b[0mcapitalize\u001b[0m\u001b[0;34m(\u001b[0m\u001b[0mself\u001b[0m\u001b[0;34m,\u001b[0m \u001b[0;34m/\u001b[0m\u001b[0;34m)\u001b[0m\u001b[0;34m\u001b[0m\u001b[0;34m\u001b[0m\u001b[0m\n",
      "\u001b[0;31mDocstring:\u001b[0m\n",
      "Return a capitalized version of the string.\n",
      "\n",
      "More specifically, make the first character have upper case and the rest lower\n",
      "case.\n",
      "\u001b[0;31mType:\u001b[0m      method_descriptor"
     ]
    }
   ],
   "source": [
    "# sans les parenthèses (ça me rend fou perso le nombre de fois où je me vautre)\n",
    "?str.capitalize"
   ]
  },
  {
   "cell_type": "code",
   "execution_count": 18,
   "id": "8bc492e3",
   "metadata": {},
   "outputs": [
    {
     "name": "stdout",
     "output_type": "stream",
     "text": [
      "\u001b[0;31mSignature:\u001b[0m \u001b[0mstr\u001b[0m\u001b[0;34m.\u001b[0m\u001b[0mcapitalize\u001b[0m\u001b[0;34m(\u001b[0m\u001b[0mself\u001b[0m\u001b[0;34m,\u001b[0m \u001b[0;34m/\u001b[0m\u001b[0;34m)\u001b[0m\u001b[0;34m\u001b[0m\u001b[0;34m\u001b[0m\u001b[0m\n",
      "\u001b[0;31mDocstring:\u001b[0m\n",
      "Return a capitalized version of the string.\n",
      "\n",
      "More specifically, make the first character have upper case and the rest lower\n",
      "case.\n",
      "\u001b[0;31mType:\u001b[0m      method_descriptor"
     ]
    }
   ],
   "source": [
    "str.capitalize?"
   ]
  },
  {
   "cell_type": "code",
   "execution_count": 19,
   "id": "0f48f148",
   "metadata": {},
   "outputs": [],
   "source": [
    "# test"
   ]
  },
  {
   "cell_type": "code",
   "execution_count": 20,
   "id": "32243e32",
   "metadata": {},
   "outputs": [
    {
     "data": {
      "text/plain": [
       "\"Les capitales c'est important\""
      ]
     },
     "execution_count": 20,
     "metadata": {},
     "output_type": "execute_result"
    }
   ],
   "source": [
    "phrase = \"les capitales c'est important\"\n",
    "phrase.capitalize()"
   ]
  },
  {
   "cell_type": "code",
   "execution_count": 21,
   "id": "213f292d",
   "metadata": {},
   "outputs": [
    {
     "data": {
      "text/plain": [
       "\"Les capitales c'est important\""
      ]
     },
     "execution_count": 21,
     "metadata": {},
     "output_type": "execute_result"
    }
   ],
   "source": [
    "# attention : \"More specifically, make the first character have upper case and the rest lower\"\n",
    "feinte = \"les CAPITALES c'est important\"\n",
    "feinte.capitalize()"
   ]
  },
  {
   "cell_type": "code",
   "execution_count": 22,
   "id": "7accfbc5",
   "metadata": {},
   "outputs": [
    {
     "data": {
      "text/plain": [
       "'JE SUIS ÉNERVÉ'"
      ]
     },
     "execution_count": 22,
     "metadata": {},
     "output_type": "execute_result"
    }
   ],
   "source": [
    "# Des pratiques pas recommandables mais qui marchent :\n",
    "\"je suis énervé\".upper()"
   ]
  },
  {
   "cell_type": "code",
   "execution_count": null,
   "id": "5bc2efdf",
   "metadata": {},
   "outputs": [],
   "source": []
  }
 ],
 "metadata": {
  "kernelspec": {
   "display_name": "Python 3 (ipykernel)",
   "language": "python",
   "name": "python3"
  },
  "language_info": {
   "codemirror_mode": {
    "name": "ipython",
    "version": 3
   },
   "file_extension": ".py",
   "mimetype": "text/x-python",
   "name": "python",
   "nbconvert_exporter": "python",
   "pygments_lexer": "ipython3",
   "version": "3.11.5"
  }
 },
 "nbformat": 4,
 "nbformat_minor": 5
}
