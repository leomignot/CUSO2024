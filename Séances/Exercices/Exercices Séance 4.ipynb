{
 "cells": [
  {
   "cell_type": "markdown",
   "id": "5beaccb8-e8f8-43d7-8860-b9751bd30397",
   "metadata": {},
   "source": [
    "## Exercice séance 4\n",
    "\n",
    "Tous les exercices sont sur les données du tableau de presse tableau.csv (dans data.zip).\n",
    "\n",
    "Ces données représentent tous les articles de presse nationale française qui mentionnent `suisse` sur le dernier mois.\n",
    "\n",
    "La question est : comment parle-t-on de la Suisse..."
   ]
  },
  {
   "cell_type": "markdown",
   "id": "9c9fe060-90d8-4da2-97b0-b4b5c3679286",
   "metadata": {},
   "source": [
    "## Exercice 1\n",
    "\n",
    "- Quelle est la distribution des journaux du dataset en pourcentages\n",
    "- Renommer la catégotie `Aujourd'hui en France                Edition Principale` pour la rendre plus courte"
   ]
  },
  {
   "cell_type": "markdown",
   "id": "32f7127a-5cc4-4768-8d54-bb94efede2bb",
   "metadata": {},
   "source": [
    "## Exercice 2\n",
    "\n",
    "- Ajouter une colonne qui correspond au nombre de mots de chaque article\n",
    "- Calculer le nombre de mots moyens et la variance par journal\n",
    "- Quel est le journal qui a le plus de mots, le moins de mots ?"
   ]
  },
  {
   "cell_type": "markdown",
   "id": "abeb4e1c-3004-422f-b4e5-c14768ee4277",
   "metadata": {},
   "source": [
    "## Exercice 3\n",
    "\n",
    "- Ajouter une colonne qui correspond au nombre de fois où le mot `Suisse` est utilisé par article\n",
    "- Ajouter une colonne qui contient la densité du mot par article (occurence / nombre total de mots)\n",
    "- Représenter l'histogramme de cette distribution (utiliser `kind=\"hist\"`)"
   ]
  },
  {
   "cell_type": "markdown",
   "id": "05c27b84-43e2-4a3d-a52a-28b6c5966329",
   "metadata": {},
   "source": [
    "## Exercice 4\n",
    "\n",
    "- Découper la densité en quartiles avec la méthode `quantile`\n",
    "- Faire le tableau croisé entre les journaux et la densité en quartiles\n",
    "- Quel est l'article qui a la densité la plus forte ?"
   ]
  },
  {
   "cell_type": "markdown",
   "id": "fb28a0cc-a6a1-4cb3-b461-d0c867a86912",
   "metadata": {},
   "source": [
    "## Exercice 5\n",
    "\n",
    "- Construire une nouvelle colonne qui contient uniquement les phrases des articles qui mentionnent le terme `Suisse`\n",
    "- Transformer chaque phrase en une liste de mots en ne garant que les mots de plus de 5 lettres\n",
    "- Faire la distribution des mots sur l'ensemble du corpus"
   ]
  }
 ],
 "metadata": {
  "kernelspec": {
   "display_name": "Python 3 (ipykernel)",
   "language": "python",
   "name": "python3"
  },
  "language_info": {
   "codemirror_mode": {
    "name": "ipython",
    "version": 3
   },
   "file_extension": ".py",
   "mimetype": "text/x-python",
   "name": "python",
   "nbconvert_exporter": "python",
   "pygments_lexer": "ipython3",
   "version": "3.11.7"
  }
 },
 "nbformat": 4,
 "nbformat_minor": 5
}
