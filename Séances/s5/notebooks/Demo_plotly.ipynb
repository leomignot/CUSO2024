{
 "cells": [
  {
   "cell_type": "markdown",
   "metadata": {},
   "source": [
    "# Présentation Plotly"
   ]
  },
  {
   "cell_type": "code",
   "execution_count": null,
   "metadata": {},
   "outputs": [],
   "source": [
    "#pip install plotly\n",
    "#conda install -c plotly plotly"
   ]
  },
  {
   "cell_type": "markdown",
   "metadata": {},
   "source": [
    "#### Liens utiles :\n",
    "- Site : https://plotly.com/python/\n",
    "- figure reference : https://plotly.com/python/reference/index/\n",
    "- API : https://plotly.com/python-api-reference/index.html\n",
    "- px : https://plotly.com/python-api-reference/plotly.express.html\n",
    "\n",
    "### Plusieurs \"niveaux\" dans Plotly :\n",
    "Des submlodules :\n",
    "- plotly.express\n",
    "- plotly.graph_objects\n",
    "- plotly.subplots\n",
    "- plotly.figure_factory\n",
    "- plotly.io"
   ]
  },
  {
   "cell_type": "markdown",
   "metadata": {},
   "source": [
    "# Demo"
   ]
  },
  {
   "cell_type": "code",
   "execution_count": null,
   "metadata": {},
   "outputs": [],
   "source": [
    "import pandas as pd\n",
    "import plotly.express as px"
   ]
  },
  {
   "cell_type": "markdown",
   "metadata": {},
   "source": [
    "## Reprise des exemples en ligne :\n",
    "https://plotly.com/python/plotly-express/"
   ]
  },
  {
   "cell_type": "code",
   "execution_count": null,
   "metadata": {},
   "outputs": [],
   "source": [
    "import plotly.express as px\n",
    "df = px.data.iris()\n",
    "fig = px.scatter(df, x=\"sepal_width\", y=\"sepal_length\", color=\"species\")\n",
    "fig.show()"
   ]
  },
  {
   "cell_type": "code",
   "execution_count": null,
   "metadata": {},
   "outputs": [],
   "source": [
    "## Autre exemple si besoin :\n",
    "# import plotly.express as px\n",
    "# df = px.data.iris()\n",
    "# fig = px.scatter(df, x=\"sepal_width\", y=\"sepal_length\", color=\"species\", marginal_y=\"violin\",\n",
    "#            marginal_x=\"box\", trendline=\"ols\", template=\"simple_white\")\n",
    "# fig.show()"
   ]
  },
  {
   "cell_type": "code",
   "execution_count": null,
   "metadata": {},
   "outputs": [],
   "source": [
    "poke = pd.read_csv(\"../data/pokemon_data.csv\")"
   ]
  },
  {
   "cell_type": "code",
   "execution_count": null,
   "metadata": {},
   "outputs": [],
   "source": [
    "# Recréer la figure mais avec des pokemons.\n",
    "# Croiser \"HP\" et \"Attack\n",
    "# Séparer par le fait que le pokemon soit legendaire ou non\n",
    "\n",
    "\n",
    "\n"
   ]
  },
  {
   "cell_type": "code",
   "execution_count": null,
   "metadata": {},
   "outputs": [],
   "source": []
  },
  {
   "cell_type": "code",
   "execution_count": null,
   "metadata": {},
   "outputs": [],
   "source": [
    "## La solution si jamais :\n",
    "# import plotly.express as px\n",
    "# fig = px.scatter(poke, x=\"HP\", y=\"Attack\", color=\"Legendary\")\n",
    "# fig.show()"
   ]
  },
  {
   "cell_type": "markdown",
   "metadata": {},
   "source": [
    "## Toute première démo de la séance 1 :"
   ]
  },
  {
   "cell_type": "markdown",
   "metadata": {},
   "source": [
    "#### Dynamique temporelle"
   ]
  },
  {
   "cell_type": "code",
   "execution_count": null,
   "metadata": {},
   "outputs": [],
   "source": [
    "# charger les données\n",
    "df = pd.read_csv(\"../data/data_tweets.csv\")"
   ]
  },
  {
   "cell_type": "code",
   "execution_count": null,
   "metadata": {},
   "outputs": [],
   "source": [
    "## Regarder les infos sur resample :\n",
    "# df.resample?"
   ]
  },
  {
   "cell_type": "code",
   "execution_count": null,
   "metadata": {},
   "outputs": [],
   "source": [
    "# le souci c'est que la date n'est pas un datetime :\n",
    "df[\"date\"].dtype"
   ]
  },
  {
   "cell_type": "code",
   "execution_count": null,
   "metadata": {},
   "outputs": [],
   "source": [
    "## si on tente ça, ça foire en raison du format:\n",
    "#df.resample('W', on='date').size()"
   ]
  },
  {
   "cell_type": "code",
   "execution_count": null,
   "metadata": {},
   "outputs": [],
   "source": [
    "# Passer la date au bon format\n",
    "df['date_format'] = pd.to_datetime(df['date'])"
   ]
  },
  {
   "cell_type": "code",
   "execution_count": null,
   "metadata": {},
   "outputs": [],
   "source": [
    "df[\"date_format\"].dtype"
   ]
  },
  {
   "cell_type": "code",
   "execution_count": null,
   "metadata": {},
   "outputs": [],
   "source": [
    "# On peut maintenant resampler\n",
    "df.resample('W', on='date_format').size()"
   ]
  },
  {
   "cell_type": "code",
   "execution_count": null,
   "metadata": {},
   "outputs": [],
   "source": [
    "# et on peut représenter ça graphiquement\n",
    "fig = px.bar(df.resample('W', on='date_format').size()) # regrouper par semaine et comptez le nombre de tweets\n",
    "\n",
    "fig.show() # Afficher le graphique"
   ]
  },
  {
   "cell_type": "code",
   "execution_count": null,
   "metadata": {},
   "outputs": [],
   "source": [
    "# l'help de px.bar\n",
    "px.bar?"
   ]
  },
  {
   "cell_type": "markdown",
   "metadata": {},
   "source": [
    "## Customiser"
   ]
  },
  {
   "cell_type": "code",
   "execution_count": null,
   "metadata": {},
   "outputs": [],
   "source": [
    "# soit on ajoute directement des éléments lors de la création :\n",
    "fig_test = px.bar(df.resample('W', on='date_format').size(),\n",
    "       labels={'value': 'nombre de tweets', 'date': 'date'},\n",
    "       range_x=['2023-02', '2023-06'])\n",
    "fig_test.show()"
   ]
  },
  {
   "cell_type": "code",
   "execution_count": null,
   "metadata": {},
   "outputs": [],
   "source": [
    "# Ou alors on peut faire un .update_layout() après la création du graphique :\n",
    "\n",
    "# Si on est d'humeur fancy et que l'on veut améliorer le graphique\n",
    "fig.update_layout(title='Nombre de tweets par semaine', # ajouter un titre\n",
    "                  xaxis_title='Date', yaxis_title='Nombre de tweets', # renommer les étiquettes d'axes\n",
    "                  template='plotly_white', # changer le style du graphique\n",
    "                  showlegend=False) # masquer la légende\n",
    "\n",
    "# Afficher le graphique\n",
    "fig.show()"
   ]
  },
  {
   "cell_type": "markdown",
   "metadata": {},
   "source": [
    "## Enregistrer"
   ]
  },
  {
   "cell_type": "markdown",
   "metadata": {},
   "source": [
    "### En image fixe :\n",
    "Normalement nécessaire d'installer kaleido si il ne l'est pas déjà."
   ]
  },
  {
   "cell_type": "code",
   "execution_count": null,
   "metadata": {},
   "outputs": [],
   "source": [
    "## cf. la doc :\n",
    "## The kaleido package has no dependencies and can be installed using pip...\n",
    "\n",
    "#pip install -U kaleido\n",
    "\n",
    "## or conda.\n",
    "\n",
    "#conda install -c conda-forge python-kaleido\n"
   ]
  },
  {
   "cell_type": "code",
   "execution_count": null,
   "metadata": {},
   "outputs": [],
   "source": [
    "#fig.write_image(\"fig1.png\")"
   ]
  },
  {
   "cell_type": "markdown",
   "metadata": {},
   "source": [
    "Souvent le résultat brut est un peu moche :  \n",
    "ajouter quelques paramètrès permet d'améliorer le rendu.\n",
    "- scale (qualité de l'image)\n",
    "- width\n",
    "- height"
   ]
  },
  {
   "cell_type": "code",
   "execution_count": null,
   "metadata": {},
   "outputs": [],
   "source": [
    "# fig.write_image(\"fig2.png\",\n",
    "#                 width=800,\n",
    "#                 height=450,\n",
    "#                 scale=4\n",
    "#                )"
   ]
  },
  {
   "cell_type": "markdown",
   "metadata": {},
   "source": [
    "### En html :"
   ]
  },
  {
   "cell_type": "code",
   "execution_count": null,
   "metadata": {},
   "outputs": [],
   "source": [
    "#fig.write_html(\"file.html\")"
   ]
  }
 ],
 "metadata": {
  "kernelspec": {
   "display_name": "myenv_clone",
   "language": "python",
   "name": "python3"
  },
  "language_info": {
   "codemirror_mode": {
    "name": "ipython",
    "version": 3
   },
   "file_extension": ".py",
   "mimetype": "text/x-python",
   "name": "python",
   "nbconvert_exporter": "python",
   "pygments_lexer": "ipython3",
   "version": "3.11.5"
  }
 },
 "nbformat": 4,
 "nbformat_minor": 2
}
